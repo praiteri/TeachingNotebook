{
 "cells": [
  {
   "cell_type": "markdown",
   "metadata": {},
   "source": [
    "# Chemical Energetics and Kinetics - Problems\n",
    "\n",
    "Copyright **Jacob Martin and Paolo Raiteri**, January 2021\n",
    "\n",
    "This web page will remain active for the entire semester and you can access it at your convenience from home. \n",
    "Moreover, every time you start one of the problems the data set that you will generate will be different so you can solve the same problem multiple time. \n",
    "The solution procedure won't change, but in some cases the answer will. \n",
    "A good way to verify whether you've solved the problem correctly is to predict the result of an experiment at a different condition that was not in your initial data set and perform that one extra measurement, to check whether your prediction is correct, like you would do in the lab.\n",
    "\n",
    "\n",
    "##  Kinetics problems\n",
    "\n",
    "- [Exercise #1](kinetics_01.ipynb): Reaction of nitrogen oxide, nitrogen dioxide and oxygen\n",
    "- [Exercise #2](kinetics_02.ipynb): Absorbance\n",
    "- [Exercise #3](kinetics_03.ipynb): Decomposition reaction\n",
    "- [Exercise #4](kinetics_04.ipynb): Gas phase decomposition\n",
    "- [Exercise #5](kinetics_05.ipynb): Decomposition reaction\n",
    "- [Exercise #6](kinetics_06.ipynb): Decomposition of benzene diazonium chloride\n",
    "- [Exercise #7](kinetics_07.ipynb): Activation Energy\n",
    "- [Exercise #8](kinetics_08.ipynb): Activation energy\n",
    "\n",
    "## Chemical equilibriumproblems\n",
    "\n",
    "- [Exercise #1](equilibrium_01.ipynb): Ideal chemical equilibrium\n",
    "- [Exercise #2](equilibrium_02.ipynb): Non-ideal behaviour\n",
    "- [Exercise #3](equilibrium_03.ipynb): Enzyme kinetics\n",
    "- [Exercise #4](equilibrium_04.ipynb): Enzyme inhibition\n",
    "\n",
    "\n",
    "## Minimisation Problems\n",
    "\n",
    "- [Exercise #1](w4_01.ipynb): Reaching equilibrium \n",
    "- [Exercise #2](w4_02.ipynb): Common ion equilibrium\n",
    "- [Exercise #3](w4_03.ipynb): Acetic acid/acetate speciation\n",
    "- [Exercise #4](w4_04.ipynb): Tri-hydrogen phosphate speciation\n",
    "\n",
    "## Oscillating reactions\n",
    "- [lotka_volterra](lotka_volterra.ipynb): Example of oscillating behaviour\n"
   ]
  },
  {
   "cell_type": "code",
   "execution_count": null,
   "metadata": {},
   "outputs": [],
   "source": []
  }
 ],
 "metadata": {
  "kernelspec": {
   "display_name": "Python 3 (ipykernel)",
   "language": "python",
   "name": "python3"
  },
  "language_info": {
   "codemirror_mode": {
    "name": "ipython",
    "version": 3
   },
   "file_extension": ".py",
   "mimetype": "text/x-python",
   "name": "python",
   "nbconvert_exporter": "python",
   "pygments_lexer": "ipython3",
   "version": "3.9.7"
  }
 },
 "nbformat": 4,
 "nbformat_minor": 4
}
