{
 "cells": [
  {
   "cell_type": "markdown",
   "id": "7f7be3a6",
   "metadata": {},
   "source": [
    "# Assignment \n",
    "\n",
    "For the assessment of this part of NPSC2001 unit, you will have to prepare a report by performing a series of activities and then answering some questions.\n",
    "Each activity/question is written in a Markdown cell and you can add your working/answer within the same cell or in any number cells that you may want to add before the next activity/question. \n",
    "Note that any python code has to be written in appropriate _code_ cell.\n",
    "\n",
    "Alternatively, you can copy the questions in a Word document and write your report _as usual_.\n",
    "\n",
    "The dotted lists can be removed and replaced with text, tables or graphs as appropriate.\n",
    "\n",
    "The report will have two parts, one for the simulation of the mixing/demixing of simple fluids and one about the phase diagram of one of the noble gases.\n",
    "\n",
    "**Each table or figure produced must have a meaningful caption**\n",
    "\n",
    "-----------------"
   ]
  },
  {
   "cell_type": "markdown",
   "id": "776e5c70",
   "metadata": {},
   "source": [
    "## Part 1 - Mixing\n",
    "\n",
    "In this experience we will use a simple soft-sphere model to run molecular dynamics simulations of mixing/demixing and discuss how the intermolecular interaction define whether two substances will mix or not, and how this behaviour changes with temperature.\n",
    "The soft-spheres interact with the well-known Lennard Jones potential and the total energy of the system can be written as\n",
    "\n",
    "\\begin{equation}\n",
    "U= \\sum_{i<j}4\\varepsilon_{ij}\\Big[ \\Big(\\frac{\\sigma_{ij}}{r_{ij}}\\Big)^{12} - \\Big(\\frac{\\sigma_{ij}}{r_{ij}}\\Big)^6 \\Big]\n",
    "\\end{equation}\n",
    "\n",
    "where $r_{ij}$ are the interatomic distances and the sum is done in such a way to avoid any __double counting__.\n",
    "\n",
    "Several simulations have already been run before this lab and you can just visualise them to do the first few tasks.\n",
    "All the simulations can be found the inside the preLabRun folder. \n",
    "Here you can see two folders, _layered_ and _random_, which correspond to two different starting configurations, where the two fluids are separated in a layered structure and where the fluids are fully mixed. Inside those two folders there are the individual simulations is stored in a folders named **TTT_EII_EIJ_EJJ** where:\n",
    "- **TTT** is the temperature at which the simulation has been run \n",
    "- **EII** is the $\\varepsilon_{ij}$ parameter (A-A interactions) in kJ/mol\n",
    "- **EIJ** is the $\\varepsilon_{ij}$ parameter (A-B interactions) in kJ/mol\n",
    "- **EJJ** is the $\\varepsilon_{jj}$ parameter (B-B interactions) in kJ/mol\n",
    "\n",
    "Moreover, in those simulations the two \"fluids\" have the same _size_, $\\sigma_{ii}=\\sigma_{jj}$.\n",
    "\n",
    "Here below there is a self-contained python script that you can use to visualise the trajectories. You can also find a notebook in the NPSC2001 folder named _visualisationOnly.ipynb_ with these commands. The only thing you have to change is the value of the variable runDir.\n",
    "\n",
    "```python\n",
    "import MDAnalysis as md\n",
    "import nglview as ng\n",
    "\n",
    "rootDir=\"./preLabRuns/mix/\"\n",
    "runDir=\"110_1.0_1.2/\"\n",
    "sys = md.Universe(rootDir+runDir+\"mix.pdb\", rootDir+runDir+\"trajectory.0.dcd\")\n",
    "\n",
    "view = ng.show_mdanalysis(sys, gui=True)\n",
    "view.center()\n",
    "view.representations = [{\"type\": \"spacefill\", \"params\": {\"sele\": \"all\"}}]\n",
    "view.camera = 'orthographic'\n",
    "view\n",
    "```\n",
    "\n",
    "----------------------"
   ]
  },
  {
   "cell_type": "markdown",
   "id": "82e53092",
   "metadata": {},
   "source": [
    "### What is the physical meaning of the $\\sigma$ and $\\varepsilon$ parameters?"
   ]
  },
  {
   "cell_type": "markdown",
   "id": "6f0dd045",
   "metadata": {},
   "source": [
    "### First have a look at the trajectories obtained from a fictitious mixture of two identical fluids, where the cross-interactions are also equal to the same-same interactions, this would correspond to a mixture of two different isotopes of the same species, $\\varepsilon_{ii}=\\varepsilon_{ij}=\\varepsilon_{jj}=1.2\\ kJ/mol$.\n",
    "\n",
    "- Are the two fluids completely mixed/separated at all temperatures?\n",
    "- Does the final state depend on the initial configuration (layer/random)\n",
    "- What is the driving force that drives the mixing/separation in those simulations?"
   ]
  },
  {
   "cell_type": "markdown",
   "id": "9fb5ee55",
   "metadata": {},
   "source": [
    "### Let's now consider the case where the two fluids are still identical ($\\varepsilon_{ii}=\\varepsilon_{jj}=1.2$ kJ/mol) but the cross interactions are different ($\\varepsilon_{ij}=0.7\\ kJ/mol$) \n",
    "\n",
    "- Do you expect the fluids to be miscible?\n",
    "- What happens to the solubilities O into N and N into O when the temperature increases?\n",
    "- Do you expect the phase diagram of this simple model would show a miscibility gap?\n",
    "- In your opinion, how weaker would the cross-interaction need to be for that to happen? Look at the other simulations to see whether your prediction is correct."
   ]
  },
  {
   "cell_type": "markdown",
   "id": "5a3e55f0",
   "metadata": {},
   "source": [
    "### Does this make sense thermodynamically, let's make a back of the envelope calculation using a python notebook...\n",
    "The free energy of mixing is\n",
    "\n",
    "\\begin{equation}\n",
    "\\Delta G_{mix} = \\Delta H_{mix} - T\\Delta S_{mix}\n",
    "\\end{equation}\n",
    "where entropy of mixing is the well known term\n",
    "\\begin{equation}\n",
    "\\Delta S= -R\\big[ x_1\\ln x_1 +x_2\\ln x_2 \\big]\n",
    "\\end{equation}\n",
    "\n",
    "Computing the enthalpy of mixing is a bit more complicated, but for the purpose of this exercise we can assume that:\n",
    "- the particles interact only with their nearest neighbours (12 in this model)\n",
    "- the interaction energy between two particles is equal to $\\varepsilon_{xx}$,\n",
    "- in a completely disordered system half of each particle's neighbours are from the opposite species\n",
    "\n",
    "This means that in a completely unmixed system we only have A-A and B-B interactions, while in a completely mixed system half of those interactions are of type A-B.\n",
    "\n",
    "The short piece of code below is designed to perform such a calculation. The variable _dEpsilon_ represent the change in the interaction energy when a A-A (or B-B) interaction is replaced with an A-B interaction,  and _dNeigh_ is the number of neighbours that have changed to be of the other species.\n",
    "The parameters currently defined in the code work for the case where $\\varepsilon_{ii}=\\varepsilon_{ij}=\\varepsilon_{jj}$\n",
    "and therefore there change in type of neighbours is irrelevant and was set to zero.\n",
    "Mind the double counting of the interactions and the units."
   ]
  },
  {
   "cell_type": "code",
   "execution_count": null,
   "id": "f2f5acf7",
   "metadata": {},
   "outputs": [],
   "source": [
    "import numpy as np\n",
    "import matplotlib.pyplot as plt\n",
    "\n",
    "dEpsilon = 0 # <- replace this with actual value(s)\n",
    "dNeigh = 0 # <- replace this with the correct number for this system\n",
    "\n",
    "dS = -8.314 * (0.5*np.log(0.5) + 0.5*np.log(0.5)) # in J/mol/K\n",
    "dH = dEpsilon * dNeigh\n",
    "\n",
    "x=[]\n",
    "y=[]\n",
    "for T in range(80,130):\n",
    "    x.append(T)\n",
    "    y.append(dH - T*dS)\n",
    "    \n",
    "fig=plt.figure()\n",
    "ax = fig.gca()\n",
    "ax.scatter(x,y,color=\"red\")\n",
    "ax.axhline(0,linestyle = 'dashed')\n",
    "ax.set(xlabel=\"Temperature (K)\")\n",
    "ax.set(ylabel=\"$\\Delta G_{mix}$\")\n",
    "plt.show()"
   ]
  },
  {
   "cell_type": "markdown",
   "id": "3326ccb0",
   "metadata": {},
   "source": [
    "### For which value of $\\varepsilon$ would you expect the fluids to by miscible at low temperature and miscible at high temperatures. How does this compare with the simulations' results?"
   ]
  },
  {
   "cell_type": "markdown",
   "id": "d604cc04",
   "metadata": {},
   "source": [
    "### So far we have only discussed the effect of the intermolecular forces on the mixing/demixing properties of a solution. As a take-home exercise, choose one set of interaction parameters for which you would expect to observe a miscibility gap, double the size of either \"O\" or \"N\" in the runOpenMM.py input file and run the simulations. This simulation would be representative of a mixture of spherical colloidal particles of different sizes.\n",
    "\n",
    "- Analyse the simulation and take some screen shots to support your observations\n",
    "- This could also be a group activity where each of you runs a few different simulations with different values for $\\sigma_{ii}$ and $\\sigma_{jj}$\n",
    "- Comment on the results"
   ]
  },
  {
   "cell_type": "markdown",
   "id": "55de1c74",
   "metadata": {},
   "source": [
    "-----------------"
   ]
  },
  {
   "cell_type": "markdown",
   "id": "1bb14b0e",
   "metadata": {},
   "source": [
    "\n",
    "## Part 2 - Phase diagram\n",
    "\n",
    "This experience will walk you through all the steps required to compute the phase diagram of a material using molecular dynamics simulations. These procedure is general and can be applied to any material, but the computational tile will significantly increase with the complexity of the system.\n",
    "\n",
    "You will have to run a series of simulations starting from different configurations (you can use the provided ones or create your own) and compute various properties of the system, which will allow you to build the phase diagram of the material. \n",
    "\n",
    "The provided Jupyter notebook for this activity allows you to choose which ideal gas you want to compute the phase diagram for between:\n",
    "- [Ne](https://encyclopedia.airliquide.com/neon#properties)\n",
    "- [Ar](https://encyclopedia.airliquide.com/argon#properties)\n",
    "- [Kr](https://encyclopedia.airliquide.com/krypton#properties)\n",
    "- [Xe](https://encyclopedia.airliquide.com/xenon#properties)\n",
    "\n",
    "Follow the links for the properties of the material."
   ]
  },
  {
   "cell_type": "markdown",
   "id": "fbffcc63",
   "metadata": {},
   "source": [
    "### What are the experimental thermo-physical properties of the material\n",
    "- Melting temperature\n",
    "- Critical temperature \n",
    "- Triple point of the material\n",
    "- Molar enthalpy of fusion and vaporisation\n",
    "- Molar volume of fusion and vaporisation"
   ]
  },
  {
   "cell_type": "markdown",
   "id": "13292335",
   "metadata": {},
   "source": [
    "### Determine the melting temperature of the material by running a series of simulations at increasing temperature starting from its crystalline structure (fcc.pdb)\n",
    "\n",
    "- Choose a suitable range of temperatures around the experimental melting temperature, +/- 50 K\n",
    "- Use increments of 5 or 10 degrees\n",
    "- Each simulation should be at least 500 ps long\n",
    "- Set the ensemble to NPT_iso\n",
    "- Prepare a plot of the average potential energy in each run computed from the portion of simulation that is at equilibrium"
   ]
  },
  {
   "cell_type": "markdown",
   "id": "9402f8d8",
   "metadata": {},
   "source": [
    "### Determine the melting temperature of the material by running a series of simulations at decreasing temperature starting from its liquid configuration (liquid.pdb)\n",
    "\n",
    "- Use the same temperatures that you chose in the previous step\n",
    "- Each simulation should be least 500 ps long\n",
    "- Set the ensemble to NPT_iso\n",
    "- Prepare a plot of the average potential energy in each run computed from the portion of simulation that is at equilibrium"
   ]
  },
  {
   "cell_type": "markdown",
   "id": "c61af4f4",
   "metadata": {},
   "source": [
    "### Determine the melting temperature of the material by running a series of simulations at increasing temperature starting from its the solid/liquid interface configuration (interface.pdb)\n",
    "\n",
    "- Use the same temperatures that you chose in the previous step\n",
    "- Each simulation should be least 500 ps long\n",
    "- Set the ensemble to NPT_ortho\n",
    "- Prepare a plot of the average potential energy in each run computed from the portion of simulation that is at equilibrium"
   ]
  },
  {
   "cell_type": "markdown",
   "id": "372bd00f",
   "metadata": {},
   "source": [
    "### Plot the average potential energies obtained for the three runs in one graph and discuss whether the three methods give you the same melting temperature and if not explain which method is more accurate and why"
   ]
  },
  {
   "cell_type": "markdown",
   "id": "67475357",
   "metadata": {},
   "source": [
    "### Using the data from the most accurate method, plot the average volume _vs_ temperature"
   ]
  },
  {
   "cell_type": "markdown",
   "id": "6ad4e371",
   "metadata": {},
   "source": [
    "### Compute the molar enthalpy of fusion and molar enthalpy of vaporisation\n",
    "- Assume that enthalpy and potential energy are equivalent at ambient conditions $\\approx 0$"
   ]
  },
  {
   "cell_type": "markdown",
   "id": "4576e582",
   "metadata": {},
   "source": [
    "### Run a series of simulations at increasing temperature starting from its the liquid/vapour configuration\n",
    "- Choose a suitable range of temperatures starting from the triple point up to just above the critical temperature\n",
    "- Use increments of 5 or 10 degrees \n",
    "- Each simulation should be least 500 ps long\n",
    "- Set the ensemble to NVT, _i.e._ the NPT flags should be false\n",
    "- Compute and plot the average density profile from the simulation output and extract the density of the gas at each temperature."
   ]
  },
  {
   "cell_type": "markdown",
   "id": "946258ee",
   "metadata": {},
   "source": [
    "### Compute the vapour pressure of the gas using the ideal gas law and build the liquid/vapour phase boundary"
   ]
  },
  {
   "cell_type": "markdown",
   "id": "7f700e87",
   "metadata": {},
   "source": [
    "### Compute the molar enthalpy and molar volume of vaporisation of the material using the Clausius-Clapeyron equation"
   ]
  },
  {
   "cell_type": "markdown",
   "id": "02ff9da6",
   "metadata": {},
   "source": [
    "### Compute the solid/liquid phase boundary using the Clapeyron equation and add it to the liquid/vapour phase boundary"
   ]
  },
  {
   "cell_type": "markdown",
   "id": "7d7dc6d9",
   "metadata": {},
   "source": [
    "### Locate the triple point of on the phase diagram"
   ]
  },
  {
   "cell_type": "markdown",
   "id": "49bc2254",
   "metadata": {},
   "source": [
    "### Assuming the the molar enthalpy of sublimation is the sum the enthalpies of fusion and evaporation, compute the solid/liquid branch of the phase diagram"
   ]
  },
  {
   "cell_type": "markdown",
   "id": "f0d440d3",
   "metadata": {},
   "source": [
    "### Overlay the experimental phase diagram with the one you have computed"
   ]
  },
  {
   "cell_type": "markdown",
   "id": "b149c059",
   "metadata": {},
   "source": [
    "### Compare your phase diagram and all the thermo-physical properties that you have computed in this experience with the experimental ones. What are the likely sources of the discrepancies?"
   ]
  }
 ],
 "metadata": {
  "kernelspec": {
   "display_name": "Python 3 (ipykernel)",
   "language": "python",
   "name": "python3"
  },
  "language_info": {
   "codemirror_mode": {
    "name": "ipython",
    "version": 3
   },
   "file_extension": ".py",
   "mimetype": "text/x-python",
   "name": "python",
   "nbconvert_exporter": "python",
   "pygments_lexer": "ipython3",
   "version": "3.9.12"
  }
 },
 "nbformat": 4,
 "nbformat_minor": 5
}
