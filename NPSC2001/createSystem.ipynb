{
 "cells": [
  {
   "cell_type": "markdown",
   "id": "023ce558",
   "metadata": {},
   "source": [
    "# Creating a new system\n",
    "This notebook shows how we can generate the atomic coordinates for a simple crystalline or liquid Ar system, which can be used to start MD simulations using openMM"
   ]
  },
  {
   "cell_type": "code",
   "execution_count": null,
   "id": "b12b8139",
   "metadata": {},
   "outputs": [],
   "source": [
    "import time\n",
    "import random\n",
    "\n",
    "import numpy as np\n",
    "import MDAnalysis as md\n",
    "import nglview as ng\n",
    "\n",
    "t = int( time.time() * 1000.0 )\n",
    "# random.seed(123456) # <- use this for reproducibility\n",
    "random.seed(int(time.time()))"
   ]
  },
  {
   "cell_type": "markdown",
   "id": "287b289e",
   "metadata": {},
   "source": [
    "We define some variables that may come in handy to improve the readability of the code later."
   ]
  },
  {
   "cell_type": "code",
   "execution_count": null,
   "id": "19d52f56",
   "metadata": {},
   "outputs": [],
   "source": [
    "X = 0\n",
    "Y = 1\n",
    "Z = 2\n",
    "\n",
    "# Cartesian vectors\n",
    "xVec = np.array([[1.0 , 0.0 , 0.0]])\n",
    "yVec = np.array([[0.0 , 1.0 , 0.0]])\n",
    "zVec = np.array([[0.0 , 0.0 , 1.0]])"
   ]
  },
  {
   "cell_type": "markdown",
   "id": "5f935364",
   "metadata": {},
   "source": [
    "We then define a function that will write the atomic coordinates in PDB format, which has some very strict requirements"
   ]
  },
  {
   "cell_type": "code",
   "execution_count": null,
   "id": "1a71eecb",
   "metadata": {},
   "outputs": [],
   "source": [
    "def writeCoordinatesPDB(filename):\n",
    "    n_residues = numberOfAtoms\n",
    "\n",
    "    # create resindex list\n",
    "    resindices = np.repeat(range(n_residues), 1)\n",
    "    assert len(resindices) == numberOfAtoms\n",
    "\n",
    "    # all water molecules belong to 1 segment\n",
    "    segindices = [0] * n_residues\n",
    "\n",
    "    u = md.Universe.empty(numberOfAtoms,\n",
    "                             n_residues=n_residues,\n",
    "                             atom_resindex=resindices,\n",
    "                             residue_segindex=segindices,\n",
    "                             trajectory=True) # necessary for adding coordinates\n",
    "\n",
    "    # cell\n",
    "    u.dimensions = [systemSize[X],systemSize[Y],systemSize[Z], 90, 90, 90]\n",
    "\n",
    "    # names\n",
    "    u.add_TopologyAttr('record_types', ['HETATM']*numberOfAtoms)\n",
    "    u.add_TopologyAttr('name', ['Ar']*numberOfAtoms)\n",
    "    u.add_TopologyAttr('element', ['Ar']*numberOfAtoms)\n",
    "\n",
    "    # positions\n",
    "    u.atoms.positions = positions\n",
    "\n",
    "    # resname\n",
    "    u.add_TopologyAttr('resname', ['UNK']*n_residues)\n",
    "\n",
    "    # res IDs\n",
    "    u.add_TopologyAttr('resid', list(range(1, n_residues+1)))\n",
    "\n",
    "    u.add_TopologyAttr('segid', [' '])\n",
    "    u.add_TopologyAttr('occupancies', [1.0]*numberOfAtoms)\n",
    "    u.add_TopologyAttr('tempfactors', [1.0]*numberOfAtoms)\n",
    "    u.add_TopologyAttr('chainIDs', ['X']*n_residues)\n",
    "    u.add_TopologyAttr('altLocs', [\" \"]*n_residues)\n",
    "    u.add_TopologyAttr('icodes', [\" \"]*n_residues)\n",
    "    \n",
    "    system = u.select_atoms(\"all\")\n",
    "    system.write(filename)"
   ]
  },
  {
   "cell_type": "markdown",
   "id": "186e1dd7",
   "metadata": {},
   "source": [
    "The following function creates a random distribution of 1000 atoms in 3D.\n",
    "The first line defined the size of the simulation cell.\n",
    "The function returns the number of atoms added, the system size and the atoms' positions"
   ]
  },
  {
   "cell_type": "code",
   "execution_count": null,
   "id": "f19b278e",
   "metadata": {},
   "outputs": [],
   "source": [
    "def createLiquid():\n",
    "    systemSize = np.array([40. , 40. , 40.])\n",
    "\n",
    "    numberOfAtoms = 1000\n",
    "    pos = np.zeros((numberOfAtoms,3))\n",
    "    \n",
    "    for i in range(numberOfAtoms):\n",
    "        pos[i,:] = [random.random(),random.random(),random.random()] * systemSize\n",
    "        \n",
    "    return numberOfAtoms, systemSize , pos"
   ]
  },
  {
   "cell_type": "markdown",
   "id": "53ea0fc9",
   "metadata": {},
   "source": [
    "The following function creates an FCC crystal or Argon.\n",
    "The first line defines the size of the unit cell, and then we define the positions of the atoms in the unit cell using fractional coordinates. Finally we set the number of repeats of the unit cell that we want to create in each Cartesian direction.\n",
    "The function returns the number of atoms added, the system size and the atoms' positions"
   ]
  },
  {
   "cell_type": "code",
   "execution_count": null,
   "id": "723f23e0",
   "metadata": {},
   "outputs": [],
   "source": [
    "def createCrystalFCC():\n",
    "    unitCell = np.array([5.51 , 5.51 , 5.51])\n",
    "\n",
    "    nUnit = 4\n",
    "    refPos = np.array([[0.0,0.0,0.0],\n",
    "                       [0.0,0.5,0.5],\n",
    "                       [0.5,0.0,0.5],\n",
    "                       [0.5,0.5,0.0]])\n",
    "\n",
    "    nrepl = np.array([6,6,6])\n",
    "\n",
    "    systemSize = unitCell * nrepl\n",
    "    numberOfAtoms = nUnit*np.product(nrepl)\n",
    "    pos = np.zeros((numberOfAtoms,3))\n",
    "    n = 0\n",
    "    for ix in range(0,nrepl[X]):\n",
    "        for iy in range(0,nrepl[Y]):\n",
    "            for iz in range(0,nrepl[Z]):\n",
    "                for i in range(0,nUnit):\n",
    "                    pos[n,:] = (refPos[i,:] + ix*xVec + iy*yVec + iz*zVec) * unitCell\n",
    "                    n += 1\n",
    "\n",
    "    return numberOfAtoms, systemSize , pos"
   ]
  },
  {
   "cell_type": "markdown",
   "id": "8d6c33a1",
   "metadata": {},
   "source": [
    "We finally write out the coordinates"
   ]
  },
  {
   "cell_type": "code",
   "execution_count": null,
   "id": "8b9784e7",
   "metadata": {},
   "outputs": [],
   "source": [
    "numberOfAtoms , systemSize, positions = createLiquid()\n",
    "# numberOfAtoms , systemSize, positions = createCrystalFCC()\n",
    "\n",
    "pdbFile = \"coord.pdb\"\n",
    "writeCoordinatesPDB(pdbFile)"
   ]
  },
  {
   "cell_type": "markdown",
   "id": "3e9141b5",
   "metadata": {},
   "source": [
    "We can make sure that everything worked by loading up the file we have just written and visualise it using nglview."
   ]
  },
  {
   "cell_type": "code",
   "execution_count": null,
   "id": "c388953f-954e-486d-b587-b05cb360b5c4",
   "metadata": {},
   "outputs": [],
   "source": [
    "sys = md.Universe(pdbFile)\n",
    "view = ng.show_mdanalysis(sys, gui=True)\n",
    "view.center()\n",
    "view.representations = [\n",
    "    {\"type\": \"spacefill\", \"params\": {\"sele\": \"all\"}},\n",
    "    {\"type\": \"unitcell\", \"params\": {\"sele\": \"all\"}}\n",
    "]\n",
    "view.camera = 'orthographic'\n",
    "view\n"
   ]
  }
 ],
 "metadata": {
  "kernelspec": {
   "display_name": "Python 3 (ipykernel)",
   "language": "python",
   "name": "python3"
  },
  "language_info": {
   "codemirror_mode": {
    "name": "ipython",
    "version": 3
   },
   "file_extension": ".py",
   "mimetype": "text/x-python",
   "name": "python",
   "nbconvert_exporter": "python",
   "pygments_lexer": "ipython3",
   "version": "3.9.7"
  }
 },
 "nbformat": 4,
 "nbformat_minor": 5
}
