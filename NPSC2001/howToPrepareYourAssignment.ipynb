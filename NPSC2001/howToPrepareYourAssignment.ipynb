{
 "cells": [
  {
   "cell_type": "markdown",
   "id": "d5ed9e01",
   "metadata": {},
   "source": [
    "# NPSC 2001 - How to prepare your assignment \n",
    "\n",
    "In this unit I would like to trial a new way of preparing assignments' reports using Jupyter Notebooks and Markdown text editor embedded in it. Unlike MS Word, which is a WYSIWYG, Markdown and Latex require special characters to be embedded within the text to change the format of the text.\n",
    "You can double click on any cells that contain text to see to Markdown code used to generate them.\n",
    "\n",
    "There are many tutorials available online, for example:\n",
    "1. [https://www.markdownguide.org](https://www.markdownguide.org/getting-started)\n",
    "2. [https://markdown-editor.github.io](https://markdown-editor.github.io)\n",
    "3. [https://medium.com](https://medium.com/analytics-vidhya/the-ultimate-markdown-guide-for-jupyter-notebook-d5e5abf728fd)\n",
    "\n",
    "In particular, the second one is a nice simple graphical interface with the usual text-formatting buttons that will show you how to achieve the same result with the Markdown syntax.\n",
    "\n",
    "All the text in the notebooks that you've seen in CEK, and in this document, has been written using _Markdown_. In my opinion, the advantages of this approach, if that we can produce good quality documents with embedded python codes for the processing of the data, including any graphs that we make.\n",
    "Another advantage of using Markdown cells inside Jupyter Notebooks is that we can easily include equations and special symbols using LaTeX commands, in-line $f(x)=mx+q$, or standalone on a new line using an equation block\n",
    "\n",
    "\\begin{equation}\n",
    "f(x) = mx + q\n",
    "\\end{equation}\n",
    "\n",
    "Text formatting using Markdown somewhat limited and it is sometimes difficult to achieve high-end customisation of the documents. For example I find tables created using Markdown do not always render well, and it is sometimes easier to simply produce nicely formatted outputs from python.\n",
    "\n",
    "Colons can be used to align columns.\n",
    "\n",
    "| Tables        | Are           | Cool    |\n",
    "| ------------- |:-------------:| -------:|\n",
    "| col 3 is      | right-aligned | \\\\$1600 |\n",
    "| col 2 is      | centered      |   \\\\$12 |\n",
    "| zebra stripes | are neat      |    \\\\$1 |\n",
    "\n",
    "There must be at least 3 dashes separating each header cell.\n",
    "The outer pipes (|) are optional, and you don't need to make the \n",
    "raw Markdown line up prettily. You can also use in-line Markdown.\n",
    "\n",
    "Markdown | Less | Pretty\n",
    "--- | --- | ---\n",
    "*Still* | `renders` | **nicely**\n",
    "1 | 2 |3\n",
    "\n",
    "Let's make a simple example; we're going to download some data and make a figure, and we'll insert Markdown cells throughout the code to explain what we're doing, like you would do in your report.\n",
    "In order to improve readability, it is advisable to give __meaningful__ names to the variables used in the code, and also add small comments inside the code using the \"#\" command\n",
    "\n",
    "------------"
   ]
  },
  {
   "cell_type": "code",
   "execution_count": null,
   "id": "b0e902e6",
   "metadata": {},
   "outputs": [],
   "source": [
    "import pandas as pd\n",
    "import numpy as np\n",
    "import matplotlib.pyplot as plt\n",
    "from scipy.optimize import curve_fit "
   ]
  },
  {
   "cell_type": "markdown",
   "id": "f43fff23",
   "metadata": {},
   "source": [
    "In the next cell we download a data set containing the hydration free energy of Na$^+$ as a function of temperature. The file contains 4 columns, the temperature and the hydration free energy computed from different sources. All the energies are in kJ/mol."
   ]
  },
  {
   "cell_type": "code",
   "execution_count": null,
   "id": "b551aae5",
   "metadata": {},
   "outputs": [],
   "source": [
    "data = pd.read_csv(\"../miscData/writingWorshopData.csv\")\n",
    "data.columns = (\"T\",\"A\",\"B\",\"E\")"
   ]
  },
  {
   "cell_type": "markdown",
   "id": "dab6000d",
   "metadata": {},
   "source": [
    "We will now fit the experimental hydration free energies, column **E**, to compute the enthalpy and entropy of hydration. The free energy changes linearly with temperature and the gradient of the line corresponds to the _entropy_ of hydration and y-axis intercept is the _enthalpy_ of hydration\n",
    "\n",
    "\\begin{equation}\n",
    "\\Delta G = \\Delta H - T\\Delta S\n",
    "\\end{equation}"
   ]
  },
  {
   "cell_type": "code",
   "execution_count": null,
   "id": "b946a76e",
   "metadata": {},
   "outputs": [],
   "source": [
    "def deltaG(x,dH,dS):\n",
    "    return dH - x * dS\n",
    "\n",
    "# least square fitting using curve_fit\n",
    "popt, pcov = curve_fit(deltaG, data[\"T\"], data[\"E\"])\n",
    "\n",
    "# error on the fitted parameters using the covariance matrix\n",
    "pError = np.sqrt(np.diag(pcov))"
   ]
  },
  {
   "cell_type": "markdown",
   "id": "9da9d3df",
   "metadata": {},
   "source": [
    "There are many different ways to produce formatted output in python, the cell belows shows one of them."
   ]
  },
  {
   "cell_type": "code",
   "execution_count": null,
   "id": "fe226d02",
   "metadata": {},
   "outputs": [],
   "source": [
    "print(\"Enthalpy of hydration (kJ/mol) = %8.3f +/- %.3f\" % (popt[0],pError[0]))\n",
    "print(\"Entropy of hydration (J/mol/K) = %8.3f +/- %.3f\" % (popt[1]*1000,pError[1]*1000))"
   ]
  },
  {
   "cell_type": "markdown",
   "id": "6b6fd738",
   "metadata": {},
   "source": [
    "In the figure below we show the imported data and the fitting line used to compute the _entropy_ and _enthalpy_ of hydration."
   ]
  },
  {
   "cell_type": "code",
   "execution_count": null,
   "id": "52c20eec",
   "metadata": {},
   "outputs": [],
   "source": [
    "# Define the figure's parameters\n",
    "# plt.rcParams.keys() # for the complete list\n",
    "fontsize=28\n",
    "figureParameters = {'figure.figsize' : (12,8),\n",
    "                    'legend.fontsize': fontsize*0.7,\n",
    "                    'axes.labelsize' : fontsize,\n",
    "                    'axes.titlesize' : fontsize,\n",
    "                    'xtick.labelsize': fontsize*0.8,\n",
    "                    'ytick.labelsize': fontsize*0.8,\n",
    "                    'xtick.direction': \"out\", # tick marks inside the frame\n",
    "                    'ytick.direction': \"out\", # tick marks outside the frame\n",
    "                    'axes.linewidth' : 3,\n",
    "                    'axes.titlepad'  : 25,\n",
    "                    'xtick.major.size' : 12, \n",
    "                    'ytick.major.size' : 12,\n",
    "                    'xtick.major.width' : 3,\n",
    "                    'ytick.major.width' : 3,\n",
    "                   }\n",
    "plt.rcParams.update(figureParameters)\n",
    "\n",
    "# fitting line\n",
    "fit = deltaG(data[\"T\"], *popt)\n",
    "\n",
    "# create the figure object\n",
    "fig = plt.figure(figsize=(12,6))\n",
    "ax = fig.gca()\n",
    "\n",
    "ax.plot(data[\"T\"], fit, color='red', label=\"Fit\")\n",
    "ax.scatter(data[\"T\"],data[\"A\"],label=\"Experiment\",s=100)\n",
    "\n",
    "ax.set(xlabel=\"Temperature (K)\")\n",
    "ax.set(ylabel=\"$\\Delta G_{hyd}$ (kJ/mol)\")\n",
    "\n",
    "ax.legend(loc=\"upper left\")\n",
    "\n",
    "plt.xlim([288,332])\n",
    "plt.ylim([-343,-331])\n",
    "\n",
    "# you can save the figure by uncommenting he following line\n",
    "# plt.savefig(\"myfigure.pdf\")\n",
    "plt.show()"
   ]
  },
  {
   "cell_type": "markdown",
   "id": "a687c135",
   "metadata": {},
   "source": [
    "__Figure 1:__ Experimental hydration free energy of the Na$^+$ ion as a function of temperature (circles) and the best fitting line used to compute the hydration $\\Delta H$ and $\\Delta S$.\n",
    "\n",
    "______________\n",
    "\n",
    "Now that we have finished the data analysis and produced figures with appropriate captions, we can export the document as a PDF, using the pdfLaTex exporter embedded in the notebook. "
   ]
  },
  {
   "cell_type": "markdown",
   "id": "1518ff40",
   "metadata": {},
   "source": [
    "<div class=\"alert alert-block alert-warning\">\n",
    "<b>Note:</b> \n",
    "you have to run the entire notebook if you want the output of the python cells to be displayed correctly\n",
    "</div>"
   ]
  },
  {
   "cell_type": "markdown",
   "id": "91f9575f",
   "metadata": {},
   "source": [
    "![ScreenSchot](screenShot.png) "
   ]
  },
  {
   "cell_type": "markdown",
   "id": "44dcfdee",
   "metadata": {},
   "source": [
    "Unfortunately there seems to be no easy way to resize the image while maintaining the full functionality of the pdfLaTeX exporter. Indeed one can easily import figures with a one line HTML syntax, but they won't appear in the exported PDF. There are several workarounds, but they are all a bit fiddly.\n",
    "\n",
    "Another way of producing a PDF of the document, albeit with hidden code, is to switch to __appmode__ and then save the content of the new window using the **print** function of your browser. However, that may results in having figures cut across different pages."
   ]
  },
  {
   "cell_type": "code",
   "execution_count": null,
   "id": "3e5460bb",
   "metadata": {},
   "outputs": [],
   "source": []
  }
 ],
 "metadata": {
  "kernelspec": {
   "display_name": "Python 3 (ipykernel)",
   "language": "python",
   "name": "python3"
  },
  "language_info": {
   "codemirror_mode": {
    "name": "ipython",
    "version": 3
   },
   "file_extension": ".py",
   "mimetype": "text/x-python",
   "name": "python",
   "nbconvert_exporter": "python",
   "pygments_lexer": "ipython3",
   "version": "3.9.12"
  }
 },
 "nbformat": 4,
 "nbformat_minor": 5
}
