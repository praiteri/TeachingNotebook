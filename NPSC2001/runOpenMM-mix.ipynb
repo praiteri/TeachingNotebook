{
 "cells": [
  {
   "cell_type": "code",
   "execution_count": null,
   "id": "fe35d959",
   "metadata": {},
   "outputs": [],
   "source": [
    "%%javascript\n",
    "IPython.OutputArea.prototype._should_scroll = function(lines) {\n",
    "    return false\n",
    "}"
   ]
  },
  {
   "cell_type": "markdown",
   "id": "2895b243",
   "metadata": {},
   "source": [
    "# MD with openMM - python API\n",
    "This jupyter notebook shows how to run a Molecular dynamics (MD) simulations using the openMM python package. First of all we import the openMM packages that we need for the simulations, plus some general one for handling the output."
   ]
  },
  {
   "cell_type": "code",
   "execution_count": null,
   "id": "e2b05b19",
   "metadata": {},
   "outputs": [],
   "source": [
    "########################## import openMM ###############################\n",
    "import openmm as mm\n",
    "from openmm.app import *\n",
    "from openmm.unit import *\n",
    "from openmmtools import integrators\n",
    "from openmmtools import integrators as mmt\n",
    "    \n",
    "########################## File handling libraries #####################\n",
    "import subprocess\n",
    "from sys import stdout\n",
    "import numpy as np\n",
    "\n",
    "########################## Initialise random seeds #####################\n",
    "import time\n",
    "import random\n",
    "# random.seed(123456) # <- use this for reproducibility\n",
    "random.seed(int(time.time()))"
   ]
  },
  {
   "cell_type": "markdown",
   "id": "6438ec8f",
   "metadata": {},
   "source": [
    "We can now create our __system__. The dimensions of the system and atoms' coordinates are read from a _PDB_ file. In this case all the atoms are Argon atoms, so we can easily add them to the __system__"
   ]
  },
  {
   "cell_type": "code",
   "execution_count": null,
   "id": "37894d99",
   "metadata": {},
   "outputs": [],
   "source": [
    "pdb    = PDBFile('mix.pdb')\n",
    "box    = pdb.topology.getPeriodicBoxVectors()\n",
    "\n",
    "system = mm.System()\n",
    "system.setDefaultPeriodicBoxVectors(*box)"
   ]
  },
  {
   "cell_type": "markdown",
   "id": "f7990015",
   "metadata": {},
   "source": [
    "## Model binary mixture\n",
    "In this example we want to simulate a binary mixture _soft-spheres_, which can illustrate how intermolecular forces determine the mixing behaviour of simple fluid. Soft-spheres can also provide a realistic representation of colloidal particles in solution.\n",
    "\n",
    "The interaction energy between _soft-spheres_ is normally described using the Lennard-Jones function\n",
    "\n",
    "\\begin{equation}\n",
    "U_{ij}(r) = 4\\varepsilon_{ij}\\Big[ \\Big(\\frac{\\sigma_{ij}}{r}\\Big)^{12} - \\Big(\\frac{\\sigma_{ij}}{r}\\Big)^6 \\Big]\n",
    "\\end{equation}\n",
    "\n",
    "where $i$ and $j$ indicate the particle types, $r_{ij}$ is their distance, $\\varepsilon_{ij}$ and $\\sigma_{ij}$ are parameters that define the strength of the interaction.\n",
    "$\\varepsilon_{ij}$ is the depth of the energy well and $\\sigma_{ij}$ is related to the size of the particles.\n",
    "\n",
    "Although these particles are not representative of atomic systems, for visualisation purposes it is convenient to give name them after some elements. In this way our spherical particles will also be automatically coloured and assigned a size. It is also convenient to define the interaction parameters that are representative of a real system, which would allow us to make a simple connection between the simulation results and the _real_ time, energy and temperature scales. In this case we chose the interaction parameters for Argon, but we called the atoms \"Nitrogen\" and \"Oxygen\", which are normally coloured in blue and red, respectively."
   ]
  },
  {
   "cell_type": "code",
   "execution_count": null,
   "id": "126f840a",
   "metadata": {},
   "outputs": [],
   "source": [
    "atomForceField = []\n",
    "atomForceField.append({\n",
    "    \"type\" : \"N\",\n",
    "    \"mass\" : 30. * amu,\n",
    "    \"sigma\" :  0.340,\n",
    "    \"epsilon\" : 1.0,\n",
    "})\n",
    "atomForceField.append({\n",
    "    \"type\" : \"O\",\n",
    "    \"mass\" : 30. * amu,\n",
    "    \"sigma\" :  0.340,\n",
    "    \"epsilon\" : 1.0,\n",
    "})\n",
    "numAtomTypes = len(atomForceField)"
   ]
  },
  {
   "cell_type": "markdown",
   "id": "e07dcc5f",
   "metadata": {},
   "source": [
    "OpenMM has some optimised functions that can be used to define custom interactions between particles. The class __CustomNonbondedForce__ takes one argument, which contains the expression for the energy and the _rules_ to compute the interaction parameters between the particles.\n",
    "Normally this is done using the Lorentz-Berthelot mixing rules, but it is also possible to define $(N \\times N)$ interaction matrices for the parameters, where $N$ is the number of unique elements in the system."
   ]
  },
  {
   "cell_type": "code",
   "execution_count": null,
   "id": "17753e2e",
   "metadata": {},
   "outputs": [],
   "source": [
    "expression = '4*eps*( (sig/r)^12 - (sig/r)^6 ); \\\n",
    "              eps=epsilon(type1, type2); \\\n",
    "              sig=sigma(type1, type2)'"
   ]
  },
  {
   "cell_type": "markdown",
   "id": "abcc75eb",
   "metadata": {},
   "source": [
    "We can now build the interaction matrices for the $\\varepsilon$ and $\\sigma$ parameters, using the Lorentz-Berthelot mixing rules."
   ]
  },
  {
   "cell_type": "code",
   "execution_count": null,
   "id": "6ba5b7a2",
   "metadata": {},
   "outputs": [],
   "source": [
    "eii = atomForceField[0][\"epsilon\"]\n",
    "sii = atomForceField[0][\"sigma\"]\n",
    "ejj = atomForceField[1][\"epsilon\"]\n",
    "sjj = atomForceField[1][\"sigma\"]\n",
    "\n",
    "eij = 1.0\n",
    "sij = 0.5 * (sii + sjj)\n",
    "\n",
    "# Interaction matrices\n",
    "epsilon_r = np.array([ [eii, eij], \n",
    "                       [eij, ejj], ], dtype=\"float64\")\n",
    "sigma_r = np.array([ [sii, sij],\n",
    "                     [sij, sjj], ], dtype=\"float64\")\n",
    "\n",
    "# The matrices are not converted to list to be fed to openMM\n",
    "epsilonLST_r = (epsilon_r).ravel().tolist()\n",
    "sigmaLST_r   = (sigma_r).ravel().tolist()"
   ]
  },
  {
   "cell_type": "markdown",
   "id": "a8f76745",
   "metadata": {},
   "source": [
    "We can now create the __CustomNonbondedForce__ object."
   ]
  },
  {
   "cell_type": "code",
   "execution_count": null,
   "id": "f5cd4ca0",
   "metadata": {},
   "outputs": [],
   "source": [
    "# Creation of the force object\n",
    "LJ = mm.CustomNonbondedForce(expression)\n",
    "LJ.setNonbondedMethod(mm.NonbondedForce.CutoffPeriodic)\n",
    "LJ.setCutoffDistance(1.5*nanometer)\n",
    "\n",
    "# Function for the interaction matrices for the parameters\n",
    "LJ.addTabulatedFunction(\n",
    "    'epsilon', mm.Discrete2DFunction(numAtomTypes, numAtomTypes, epsilonLST_r))\n",
    "LJ.addTabulatedFunction(\n",
    "    'sigma', mm.Discrete2DFunction(numAtomTypes, numAtomTypes, sigmaLST_r))\n",
    "\n",
    "# Only one paramaters per particle is required since the actual\n",
    "# values of epsilon and sigma are taken from the matrices\n",
    "_ = LJ.addPerParticleParameter('type')"
   ]
  },
  {
   "cell_type": "markdown",
   "id": "36763a2e",
   "metadata": {},
   "source": [
    "We now add the particles from the PDB file into the __system__ and add them to the __CustomNonbondedForce__ object."
   ]
  },
  {
   "cell_type": "code",
   "execution_count": null,
   "id": "a759e315",
   "metadata": {},
   "outputs": [],
   "source": [
    "numAtoms = system.getNumParticles()\n",
    "for i in pdb.topology.atoms():\n",
    "    iType = next(\n",
    "        (t for t,d in enumerate(atomForceField) if d['type'] == i.name), None)\n",
    "    mass = atomForceField[iType][\"mass\"]\n",
    "    system.addParticle( mass )\n",
    "    LJ.addParticle( [iType] )\n",
    "\n",
    "LJ.setForceGroup(system.getNumForces()+1)\n",
    "_ = system.addForce(LJ)"
   ]
  },
  {
   "cell_type": "markdown",
   "id": "226c9548",
   "metadata": {},
   "source": [
    "Now that we have created a system with the particles and their interactions, we can start working on defining the simulation that we want to run by setting the thermodynamic ensemble.\n",
    "\n",
    "1. NVE - microcanonical, _i.e._ constant number of atoms (N), Volume and Energy\n",
    "2. NVT - canonical,  _i.e._ constant number of atoms (N), Volume and Temperature\n",
    "3. NPH - isobaric-isoenthalpic, _i.e._ constant number of atoms (N), Pressure and entHalpy\n",
    "4. NPT - isothermal-isobaric,  _i.e._ constant number of atoms (N), Pressure and Temperature\n",
    "\n",
    "For the constant pressure simulations there are also various options for how to control the shape of the simulation cell. In this case we can choose between isotropic or orthorhombic deformations of the system.\n",
    "\n",
    "We also need to define the simulation temperature and pressure, the timestep and a few other parameters."
   ]
  },
  {
   "cell_type": "code",
   "execution_count": null,
   "id": "c1924139",
   "metadata": {},
   "outputs": [],
   "source": [
    "########################## Simulation parameters ##########################\n",
    "minimise    = False             # <-- perform energy minimisation\n",
    "NVE         = False             # <-- MD with no thermostat (NVE)\n",
    "NPT_iso     = True              # <-- montecarlo barostat isotropic\n",
    "NPT_ort     = False             # <-- montecarlo barostat orthorhombic\n",
    "\n",
    "timestep    = 0.005*picoseconds # <-- MD timestep\n",
    "nsteps      = 2000              # <-- total number of timesteps\n",
    "ntraj       = 100               # <-- frequency of trajectory output\n",
    "nthermo     = 100               # <-- frequency of data output\n",
    "\n",
    "temperature = 80*kelvin        # <-- temperature\n",
    "pressure    = 1*atmosphere      # <-- external pressure\n",
    "\n",
    "trel        = 1/picoseconds     # <-- thermostat relaxation time\n",
    "nupdt       = 25                # <-- how often the volume is updated"
   ]
  },
  {
   "cell_type": "markdown",
   "id": "cff3e5dd",
   "metadata": {},
   "source": [
    "According to the ensemble chosen, we add different integrators to the __system__."
   ]
  },
  {
   "cell_type": "code",
   "execution_count": null,
   "id": "30197bc1",
   "metadata": {},
   "outputs": [],
   "source": [
    "########################## Set integrator #################################\n",
    "if NVE:\n",
    "    integrator = mmt.VelocityVerletIntegrator( timestep )\n",
    "else:\n",
    "    integrator = mmt.LangevinIntegrator( temperature , trel , timestep )\n",
    "\n",
    "# Barostat\n",
    "if NPT_iso:\n",
    "    system.addForce(mm.MonteCarloBarostat( pressure , temperature , nupdt ))\n",
    "if NPT_ort:\n",
    "    system.addForce(mm.MonteCarloAnisotropicBarostat(\n",
    "        (pressure, pressure, pressure), temperature,  False, False, True))"
   ]
  },
  {
   "cell_type": "markdown",
   "id": "d4c2ea35",
   "metadata": {},
   "source": [
    "The next thing we have to do is to choose the device we want to use for our simulation. In this case we select __OpenCL__."
   ]
  },
  {
   "cell_type": "code",
   "execution_count": null,
   "id": "58e366a8",
   "metadata": {},
   "outputs": [],
   "source": [
    "########################## Initialise GPU / CUDA / OpenCL #################\n",
    "platform = mm.Platform.getPlatformByName('OpenCL')\n",
    "properties = {'Precision': 'mixed'} # <-- use double for energy conservation\n",
    "\n",
    "# platform = mm.Platform.getPlatformByName('CUDA')\n",
    "# properties = {'Precision' : 'mixed' , \n",
    "#               'DeviceIndex' : '0' , \n",
    "#               'CudaCompiler' : '/usr/bin/nvcc'}\n",
    "\n",
    "# platform = mm.Platform.getPlatformByName('CPU')\n",
    "# properties = { 'Threads' : '1' }"
   ]
  },
  {
   "cell_type": "markdown",
   "id": "9e96d61a",
   "metadata": {},
   "source": [
    "We can now create the __simulation__ object."
   ]
  },
  {
   "cell_type": "code",
   "execution_count": null,
   "id": "8a85f5c1",
   "metadata": {},
   "outputs": [],
   "source": [
    "########################## Create simulation object #######################\n",
    "simulation = mm.app.Simulation(\n",
    "    pdb.topology, system, integrator, platform)"
   ]
  },
  {
   "cell_type": "markdown",
   "id": "0229b633",
   "metadata": {},
   "source": [
    "We then add the atoms' coordinates and generate their initial velocities."
   ]
  },
  {
   "cell_type": "code",
   "execution_count": null,
   "id": "cb67c218",
   "metadata": {},
   "outputs": [],
   "source": [
    "########################## Initialise positions and velocities ############\n",
    "simulation.context.setPositions(pdb.positions)\n",
    "simulation.context.setVelocitiesToTemperature(\n",
    "    temperature , random.randrange(99999) )"
   ]
  },
  {
   "cell_type": "markdown",
   "id": "6d671e76",
   "metadata": {},
   "source": [
    "In some instances it is good to start the simulations by doing an energy minimisation, to remove unphysical close contacts between the particles."
   ]
  },
  {
   "cell_type": "code",
   "execution_count": null,
   "id": "e9f95506",
   "metadata": {},
   "outputs": [],
   "source": [
    "########################## Energy minimisation ############################\n",
    "if minimise:\n",
    "    simulation.minimizeEnergy()"
   ]
  },
  {
   "cell_type": "markdown",
   "id": "4cfb9281",
   "metadata": {},
   "source": [
    "We now customise the output of out simulation. We set both a screen output and a file output.\n",
    "\n",
    "In order to avoid overwriting the output files, we set a convention for the file names and count how many simulations we have already run in the current folder."
   ]
  },
  {
   "cell_type": "code",
   "execution_count": null,
   "id": "75616e24",
   "metadata": {},
   "outputs": [],
   "source": [
    "########################## Output files ################################\n",
    "nn = subprocess.getoutput(\"ls output.*.dat 2> /dev/null | wc -l\")\n",
    "ftraj   = 'trajectory.' + nn.strip() + '.dcd'    # <-- trajectory output file\n",
    "fthermo = 'output.' + nn.strip() + '.dat'  # <-- output data filename\n",
    "\n",
    "########################## Initialise the outputs #########################\n",
    "# Screen output\n",
    "simulation.reporters.append(\n",
    "    StateDataReporter( \n",
    "        sys.stdout, int(nsteps/100), totalSteps = nsteps, separator= \"\\t\", \n",
    "        step=False, time=True, potentialEnergy=False, kineticEnergy=False, \n",
    "        totalEnergy=False, temperature=True, volume=False, density=False, \n",
    "        progress=True, remainingTime=True, speed=True, elapsedTime=False\n",
    "    )\n",
    ")\n",
    "\n",
    "# File output\n",
    "simulation.reporters.append(\n",
    "    StateDataReporter(\n",
    "        fthermo , nthermo, separator= \"\\t\",\n",
    "        step=False, time=True, potentialEnergy=True, kineticEnergy=False, \n",
    "        totalEnergy=False, temperature=True, volume=True, density=True, \n",
    "        progress=False, remainingTime=False, speed=False, elapsedTime=False\n",
    "    )\n",
    ")\n",
    "\n",
    "# Trajectory\n",
    "simulation.reporters.append(\n",
    "    DCDReporter( ftraj , ntraj )\n",
    ")"
   ]
  },
  {
   "cell_type": "markdown",
   "id": "dd77f0ba",
   "metadata": {},
   "source": [
    "We're finally ready to run our MD simulations"
   ]
  },
  {
   "cell_type": "code",
   "execution_count": null,
   "id": "af69ba04",
   "metadata": {},
   "outputs": [],
   "source": [
    "simulation.step( nsteps )"
   ]
  }
 ],
 "metadata": {
  "kernelspec": {
   "display_name": "Python 3 (ipykernel)",
   "language": "python",
   "name": "python3"
  },
  "language_info": {
   "codemirror_mode": {
    "name": "ipython",
    "version": 3
   },
   "file_extension": ".py",
   "mimetype": "text/x-python",
   "name": "python",
   "nbconvert_exporter": "python",
   "pygments_lexer": "ipython3",
   "version": "3.9.7"
  }
 },
 "nbformat": 4,
 "nbformat_minor": 5
}
