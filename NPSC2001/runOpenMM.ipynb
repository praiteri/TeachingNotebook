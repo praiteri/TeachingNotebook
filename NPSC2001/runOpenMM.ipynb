{
 "cells": [
  {
   "cell_type": "code",
   "execution_count": null,
   "id": "fe35d959",
   "metadata": {},
   "outputs": [],
   "source": [
    "%%javascript\n",
    "IPython.OutputArea.prototype._should_scroll = function(lines) {\n",
    "    return false\n",
    "}"
   ]
  },
  {
   "cell_type": "markdown",
   "id": "2895b243",
   "metadata": {},
   "source": [
    "# MD with openMM - python API\n",
    "This jupyter notebook shows how to run a Molecular dynamics (MD) simulations using the openMM python package. First of all we import the openMM packages that we need for the simulations, plus some general one for handling the output."
   ]
  },
  {
   "cell_type": "code",
   "execution_count": null,
   "id": "e2b05b19",
   "metadata": {},
   "outputs": [],
   "source": [
    "########################## import openMM ###############################\n",
    "import openmm as mm\n",
    "from openmm.app import *\n",
    "from openmm.unit import *\n",
    "from openmmtools import integrators as mmt\n",
    "\n",
    "########################## File handling libraries #####################\n",
    "import subprocess\n",
    "from sys import stdout\n",
    "\n",
    "########################## Initialise random seeds #####################\n",
    "import time\n",
    "import random\n",
    "# random.seed(123456) # <- use this for reproducibility\n",
    "random.seed(int(time.time()))"
   ]
  },
  {
   "cell_type": "markdown",
   "id": "6438ec8f",
   "metadata": {},
   "source": [
    "First of all we read the size and the atomic coordinates of the system we want to simulate."
   ]
  },
  {
   "cell_type": "code",
   "execution_count": 41,
   "id": "3ec94cd8",
   "metadata": {},
   "outputs": [
    {
     "name": "stdout",
     "output_type": "stream",
     "text": [
      "Number of atoms in the system   : 2048 \n",
      "Simulation cell dimensions [nm] :    4.371    4.371    4.371\n"
     ]
    }
   ],
   "source": [
    "pdb    = PDBFile('Coordinates/fcc.pdb')\n",
    "box    = pdb.topology.getPeriodicBoxVectors()\n",
    "print(\"Number of atoms in the system   : %i \" % pdb.topology.getNumAtoms())\n",
    "print(\"Simulation cell dimensions [nm] : %8.3f %8.3f %8.3f\" % \n",
    "      (box[0][0].value_in_unit(nanometer),\n",
    "       box[1][1].value_in_unit(nanometer),\n",
    "       box[2][2].value_in_unit(nanometer))\n",
    "     )"
   ]
  },
  {
   "cell_type": "markdown",
   "id": "f7bdbed2",
   "metadata": {},
   "source": [
    "We can now create our __system__ by adding the dimensions of the simulation cell that was in the PDB file."
   ]
  },
  {
   "cell_type": "code",
   "execution_count": null,
   "id": "37894d99",
   "metadata": {},
   "outputs": [],
   "source": [
    "system = mm.System()\n",
    "system.setDefaultPeriodicBoxVectors(box[0],box[1],box[2])"
   ]
  },
  {
   "cell_type": "markdown",
   "id": "abcc75eb",
   "metadata": {},
   "source": [
    "We then define how the atoms interact. OpenMM has some optimised built is force fields that we can readily use, or define our own custom interactions. The class __NonbondedForce__ describes the interactions between particles as the sum of the _Coulomb_ and _van der Waals_ forces. The energy terms associated with these forces are well known terms\n",
    "\n",
    "\\begin{equation}\n",
    "U_{ij}(r) = \\frac{1}{4\\pi\\epsilon_0} \\frac{q_iq_j}{r} + 4\\varepsilon_{ij}\\Big[ \\Big(\\frac{\\sigma_{ij}}{r}\\Big)^{12} - \\Big(\\frac{\\sigma_{ij}}{r}\\Big)^6 \\Big]\n",
    "\\end{equation}\n",
    "\n",
    "where $\\varepsilon_{ij}$ and $\\sigma_{ij}$ are parameters specific to the interacting atoms, and $q_i$ and $q_j$ are their charges."
   ]
  },
  {
   "cell_type": "code",
   "execution_count": null,
   "id": "e4c6706b",
   "metadata": {},
   "outputs": [],
   "source": [
    "atomForceField = []\n",
    "atomForceField.append({\n",
    "    \"type\" : \"Ne\", \n",
    "    \"mass\" : 20.180 * amu,\n",
    "    \"sigma\" :  2.72 * angstrom,\n",
    "    \"epsilon\" : 0.390764250 * kilojoule_per_mole,\n",
    "})\n",
    "atomForceField.append({\n",
    "    \"type\" : \"Ar\",\n",
    "    \"mass\" : 39.948 * amu,\n",
    "    \"sigma\" :  3.40 * angstrom,\n",
    "    \"epsilon\" : 0.996014655 * kilojoule_per_mole,\n",
    "})\n",
    "atomForceField.append({\n",
    "    \"type\" : \"Kr\",\n",
    "    \"mass\" : 83.798 * amu,\n",
    "    \"sigma\" :  3.67 * angstrom,\n",
    "    \"epsilon\" : 1.388419150 * kilojoule_per_mole,\n",
    "})\n",
    "atomForceField.append({\n",
    "    \"type\" : \"Xe\",\n",
    "    \"mass\" : 131.29 * amu,\n",
    "    \"sigma\" :  3.92 * angstrom,\n",
    "    \"epsilon\" : 2.140037300 * kilojoule_per_mole,\n",
    "})"
   ]
  },
  {
   "cell_type": "markdown",
   "id": "99a0a694",
   "metadata": {},
   "source": [
    "We now create the system and add the atoms with their interactions.\n",
    "In this cases all the charges are zero.\n",
    "Note that if the system has more than one atom type the cross terms of the force field are computed using __mixing rules__.\n",
    "\n",
    "\\begin{eqnarray}\n",
    "\\sigma_{ij} &=& (\\sigma_i + \\sigma_j) / 2 \\\\ \n",
    "\\epsilon_{ij} &=& \\sqrt{\\epsilon_i + \\epsilon_j}\n",
    "\\end{eqnarray}"
   ]
  },
  {
   "cell_type": "code",
   "execution_count": null,
   "id": "a759e315",
   "metadata": {},
   "outputs": [],
   "source": [
    "charge = 0.0\n",
    "\n",
    "force = mm.NonbondedForce()\n",
    "force.setNonbondedMethod(mm.NonbondedForce.CutoffPeriodic)\n",
    "force.setCutoffDistance(1.5*nanometer)\n",
    "force.setUseDispersionCorrection(True)\n",
    "\n",
    "for i in pdb.topology.atoms():\n",
    "    iType = next(\n",
    "        (t for t,d in enumerate(atomForceField) if d['type'] == i.name), None)\n",
    "    mass = atomForceField[iType][\"mass\"]\n",
    "    sigma = atomForceField[iType][\"sigma\"]\n",
    "    epsilon = atomForceField[iType][\"epsilon\"]\n",
    "    \n",
    "    system.addParticle(mass)\n",
    "    force.addParticle(charge, sigma , epsilon)\n",
    "\n",
    "_ = system.addForce(force)"
   ]
  },
  {
   "cell_type": "markdown",
   "id": "226c9548",
   "metadata": {},
   "source": [
    "We can then set the ensemble for the simulation. \n",
    "1. NVE - microcanonical, _i.e._ constant number of atoms (N), Volume and Energy\n",
    "2. NVT - canonical,  _i.e._ constant number of atoms (N), Volume and Temperature\n",
    "3. NPH - isobaric-isoenthalpic, _i.e._ constant number of atoms (N), Pressure and entHalpy\n",
    "4. NPT - isothermal-isobaric,  _i.e._ constant number of atoms (N), Pressure and Temperature\n",
    "\n",
    "For the constant pressure simulations there are also various options for how to control the shape of the simulation cell. In this case we can choose between isotropic or orthorhombic deformations of the system.\n",
    "\n",
    "We also need to define the simulation temperature and pressure, the timestep and a few other parameters."
   ]
  },
  {
   "cell_type": "code",
   "execution_count": null,
   "id": "c1924139",
   "metadata": {},
   "outputs": [],
   "source": [
    "########################## Simulation parameters ##########################\n",
    "minimise    = False             # <-- perform energy minimisation\n",
    "NVE         = False             # <-- MD with no thermostat (VV)\n",
    "NPT_iso     = True              # <-- montecarlo barostat isotropic\n",
    "NPT_ort     = False             # <-- montecarlo barostat orthorhombic\n",
    "\n",
    "timestep    = 0.002*picoseconds # <-- MD timestep\n",
    "nsteps      = 20000             # <-- total number of timesteps\n",
    "ntraj       = 1000              # <-- frequency of trajectory output\n",
    "nthermo     = 1000              # <-- frequency of data output\n",
    "\n",
    "temperature = 100*kelvin        # <-- temperature\n",
    "pressure    = 1*atmosphere      # <-- external pressure\n",
    "\n",
    "trel        = 1/picoseconds     # <-- thermostat relaxation time\n",
    "nupdt       = 25                # <-- how often the volume is updated"
   ]
  },
  {
   "cell_type": "markdown",
   "id": "a19a11c6",
   "metadata": {},
   "source": [
    "According to the ensemble chosen, we add different integrators to the __system__."
   ]
  },
  {
   "cell_type": "code",
   "execution_count": null,
   "id": "30197bc1",
   "metadata": {},
   "outputs": [],
   "source": [
    "########################## Set integrator #################################\n",
    "if NVE:\n",
    "    integrator = mmt.VelocityVerletIntegrator( timestep )\n",
    "else:\n",
    "    integrator = mmt.LangevinIntegrator( temperature , trel , timestep )\n",
    "\n",
    "# Barostat\n",
    "if NPT_iso:\n",
    "    system.addForce(mm.MonteCarloBarostat( pressure , temperature , nupdt ))\n",
    "if NPT_ort:\n",
    "    system.addForce(mm.MonteCarloAnisotropicBarostat(\n",
    "        (pressure, pressure, pressure), temperature,  False, False, True))"
   ]
  },
  {
   "cell_type": "markdown",
   "id": "d4c2ea35",
   "metadata": {},
   "source": [
    "The next thing we have to do is to choose the device we want to use for our simulation. In this case we select __OpenCL__."
   ]
  },
  {
   "cell_type": "code",
   "execution_count": null,
   "id": "58e366a8",
   "metadata": {},
   "outputs": [],
   "source": [
    "########################## Initialise GPU / CUDA / OpenCL #################\n",
    "platform = mm.Platform.getPlatformByName('OpenCL')\n",
    "properties = {'Precision': 'mixed'} # <-- use double for energy conservation\n",
    "\n",
    "# platform = mm.Platform.getPlatformByName('CUDA')\n",
    "# properties = {'Precision' : 'mixed' , \n",
    "#               'DeviceIndex' : '0' , \n",
    "#               'CudaCompiler' : '/usr/bin/nvcc'}\n",
    "\n",
    "# platform = mm.Platform.getPlatformByName('CPU')\n",
    "# properties = { 'Threads' : '1' }"
   ]
  },
  {
   "cell_type": "markdown",
   "id": "9e96d61a",
   "metadata": {},
   "source": [
    "We can now create the __simulation__ object."
   ]
  },
  {
   "cell_type": "code",
   "execution_count": null,
   "id": "8a85f5c1",
   "metadata": {},
   "outputs": [],
   "source": [
    "########################## Create simulation object #######################\n",
    "simulation = mm.app.Simulation(\n",
    "    pdb.topology, system, integrator, platform)"
   ]
  },
  {
   "cell_type": "markdown",
   "id": "0229b633",
   "metadata": {},
   "source": [
    "We then add the atoms' coordinates and generate their initial velocities."
   ]
  },
  {
   "cell_type": "code",
   "execution_count": null,
   "id": "cb67c218",
   "metadata": {},
   "outputs": [],
   "source": [
    "########################## Initialise positions and velocities ############\n",
    "simulation.context.setPositions(pdb.positions)\n",
    "simulation.context.setVelocitiesToTemperature(temperature , \n",
    "                                              random.randrange(99999) )"
   ]
  },
  {
   "cell_type": "markdown",
   "id": "6d671e76",
   "metadata": {},
   "source": [
    "In some instances it is good to start the simulations by doing an energy minimisation, to remove unphysical close contacts between the particles."
   ]
  },
  {
   "cell_type": "code",
   "execution_count": null,
   "id": "e9f95506",
   "metadata": {},
   "outputs": [],
   "source": [
    "########################## Energy minimisation ############################\n",
    "if minimise:\n",
    "    simulation.minimizeEnergy()"
   ]
  },
  {
   "cell_type": "markdown",
   "id": "4cfb9281",
   "metadata": {},
   "source": [
    "We now customise the output of out simulation. We set both a screen output and a file output.\n",
    "\n",
    "In order to avoid overwriting the output files, we set a convention for the file names and count how many simulations we have already run in the current folder."
   ]
  },
  {
   "cell_type": "code",
   "execution_count": null,
   "id": "75616e24",
   "metadata": {},
   "outputs": [],
   "source": [
    "########################## Output files ################################\n",
    "nn = subprocess.getoutput(\"ls output.*.dat 2> /dev/null | wc -l\")\n",
    "ftraj   = 'trajectory.' + nn.strip() + '.dcd'    # <-- trajectory output file\n",
    "fthermo = 'output.' + nn.strip() + '.dat'  # <-- output data filename\n",
    "\n",
    "########################## Initialise the outputs #########################\n",
    "# Screen output\n",
    "simulation.reporters.append(\n",
    "    StateDataReporter( \n",
    "        sys.stdout, int(nsteps/20), totalSteps = nsteps, separator= \"\\t\", \n",
    "        step=False, time=True, potentialEnergy=False, kineticEnergy=False, \n",
    "        totalEnergy=False, temperature=False, volume=False, density=False, \n",
    "        progress=True, remainingTime=True, speed=True, elapsedTime=False\n",
    "    )\n",
    ")\n",
    "\n",
    "\n",
    "# File output\n",
    "simulation.reporters.append(\n",
    "    StateDataReporter(\n",
    "        fthermo , nthermo, separator= \"\\t\",\n",
    "        step=False, time=True, potentialEnergy=True, kineticEnergy=False, \n",
    "        totalEnergy=False, temperature=True, volume=True, density=True, \n",
    "        progress=False, remainingTime=False, speed=False, elapsedTime=False\n",
    "    )\n",
    ")\n",
    "\n",
    "\n",
    "\n",
    "# Trajectory\n",
    "simulation.reporters.append(\n",
    "    DCDReporter( ftraj , ntraj )\n",
    ")"
   ]
  },
  {
   "cell_type": "markdown",
   "id": "dd77f0ba",
   "metadata": {},
   "source": [
    "We're finally ready to run out MD simulations"
   ]
  },
  {
   "cell_type": "code",
   "execution_count": null,
   "id": "af69ba04",
   "metadata": {},
   "outputs": [],
   "source": [
    "simulation.step( nsteps )"
   ]
  }
 ],
 "metadata": {
  "kernelspec": {
   "display_name": "Python 3 (ipykernel)",
   "language": "python",
   "name": "python3"
  },
  "language_info": {
   "codemirror_mode": {
    "name": "ipython",
    "version": 3
   },
   "file_extension": ".py",
   "mimetype": "text/x-python",
   "name": "python",
   "nbconvert_exporter": "python",
   "pygments_lexer": "ipython3",
   "version": "3.9.12"
  }
 },
 "nbformat": 4,
 "nbformat_minor": 5
}
