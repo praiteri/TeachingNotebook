{
 "cells": [
  {
   "cell_type": "code",
   "execution_count": null,
   "id": "6f73cebe",
   "metadata": {},
   "outputs": [],
   "source": [
    "import MDAnalysis as md\n",
    "import nglview as ng\n",
    "\n",
    "rootDir=\"test\"\n",
    "runDir=\"/\"\n",
    "sys = md.Universe(rootDir+runDir+\"mix.pdb\", rootDir+runDir+\"trajectory.0.dcd\")\n",
    "\n",
    "view = ng.show_mdanalysis(sys, gui=True)\n",
    "view.center()\n",
    "view.representations = [\n",
    "    {\"type\": \"spacefill\", \"params\": {\"sele\": \"all\"}}\n",
    "]\n",
    "view.camera = 'orthographic'\n",
    "view"
   ]
  }
 ],
 "metadata": {
  "kernelspec": {
   "display_name": "Python 3 (ipykernel)",
   "language": "python",
   "name": "python3"
  },
  "language_info": {
   "codemirror_mode": {
    "name": "ipython",
    "version": 3
   },
   "file_extension": ".py",
   "mimetype": "text/x-python",
   "name": "python",
   "nbconvert_exporter": "python",
   "pygments_lexer": "ipython3",
   "version": "3.9.12"
  }
 },
 "nbformat": 4,
 "nbformat_minor": 5
}
