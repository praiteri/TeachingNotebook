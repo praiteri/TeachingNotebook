{
 "cells": [
  {
   "cell_type": "markdown",
   "metadata": {},
   "source": [
    "# ORCA QUANTUM CHEMISTRY INTERFACE\n",
    "\n",
    "ORCA is a computational chemistry software that allows for molecules electronic structure to be solved using gaussian basis functions.\n",
    "\n",
    "This interface allows you to provide input files for the software ORCA that will then be calculated on a supercomputer and then the output will be provided for visusalisation. \n",
    "\n",
    "In order to start you need to prepare an input file. We recommend using the software Avogadro to build the molecule and generate the input file. \n",
    "\n",
    "The video below shows you how to build a molecule run ORCA on your computer (this will be done through this interface) and then view the output using the software Avogadro."
   ]
  },
  {
   "cell_type": "code",
   "execution_count": null,
   "metadata": {},
   "outputs": [],
   "source": [
    "from IPython.lib.display import YouTubeVideo\n",
    "YouTubeVideo('Y1l1PK45Rsg')"
   ]
  },
  {
   "cell_type": "markdown",
   "metadata": {},
   "source": [
    "## Upload the file to the server"
   ]
  },
  {
   "cell_type": "code",
   "execution_count": 3,
   "metadata": {},
   "outputs": [
    {
     "name": "stdout",
     "output_type": "stream",
     "text": [
      "# Basis set and Exchange/Correlation functional\n",
      "! B3LYP def2-TZVP def2/J def2-TZVP/C TightSCF\n",
      "\n",
      "# Geometry optimisation\n",
      "! TightOpt\n",
      "\n",
      "# Initial coordinates\n",
      "* xyzfile 0 1 coord.xyz\n",
      "\n"
     ]
    }
   ],
   "source": [
    "from ipywidgets import FileUpload, Button, Output, VBox\n",
    "from IPython.display import display, Markdown, clear_output\n",
    "upload = FileUpload()\n",
    "\n",
    "def on_upload_change(change):\n",
    "    # \"linking function with output\"\n",
    "    clear_output()\n",
    "    with open(\"input.inp\", \"w+b\") as i:\n",
    "       i.write(upload.data[0])\n",
    "    with open('input.inp') as f: \n",
    "        for line in f: \n",
    "            print(line.strip()) \n",
    "            \n",
    "upload.observe(on_upload_change, names='_counter')\n",
    "upload"
   ]
  },
  {
   "cell_type": "markdown",
   "metadata": {},
   "source": [
    "## Run the ORCA job"
   ]
  },
  {
   "cell_type": "code",
   "execution_count": null,
   "metadata": {
    "scrolled": true
   },
   "outputs": [],
   "source": [
    "import subprocess\n",
    "import os\n",
    "\n",
    "button = Button(description='Run ORCA Job')\n",
    "out = Output()\n",
    "def on_button_clicked(_):\n",
    "    # \"linking function with output\"\n",
    "    with out:\n",
    "        # what happens when we press the button\n",
    "        clear_output()\n",
    "        p = subprocess.Popen(['PATH=$PATH:/usr/local/orca_code && LD_LIBRARY_PATH=$LD_LIBRARY_PATH:/usr/local/orca_code export PATH LD_LIBRARY_PATH && /usr/local/orca_code/orca input.inp'], stdout=subprocess.PIPE, shell=True)\n",
    "        #p = subprocess.Popen([r\"C:\\Users\\JacobLaptop\\ORCA\\orca.exe\",\"input.inp\"], stdout=subprocess.PIPE )\n",
    "        print('Job is running please wait for it to complete')\n",
    "        #stdout = p.communicate()[0].decode(\"utf-8\")\n",
    "        stdout = str(p.communicate()[0],\"utf-8\")\n",
    "        print(\"Job Finished printing file to jupyter\")\n",
    "        print(stdout)\n",
    "        print('Writing file to output.out')\n",
    "        output_file = open(\"output.out\", \"w\")\n",
    "        output_file.write(stdout)\n",
    "        output_file.close()\n",
    "        \n",
    "# linking button and function together using a button's method\n",
    "stdout = button.on_click(on_button_clicked)\n",
    "# displaying button and its output together\n",
    "VBox([button,out])"
   ]
  },
  {
   "cell_type": "code",
   "execution_count": null,
   "metadata": {},
   "outputs": [],
   "source": [
    "print(\"Generating download link\")\n",
    "from IPython.display import FileLink, FileLinks\n",
    "\n",
    "FileLink('output.out')"
   ]
  },
  {
   "cell_type": "code",
   "execution_count": null,
   "metadata": {},
   "outputs": [],
   "source": [
    "#https://adreasnow.com/Cheat%20Sheets/Python/Psi4Interactive/\n",
    "#https://nbviewer.org/github/3dmol/3Dmol.js/blob/master/py3Dmol/examples.ipynb\n",
    "#https://birdlet.github.io/2019/10/02/py3dmol_example/\n",
    "import cclib\n",
    "filename = \"output.out\"\n",
    "parser = cclib.io.ccopen(filename)\n",
    "data = parser.parse()\n",
    "#print(\"There are %i atoms and %i MOs\" % (data.natom, data.nmo))\n",
    "\n",
    "data.writexyz(\"output.xyz\")\n",
    "structure = open(\"output.xyz\")\n",
    "\n",
    "import py3Dmol\n",
    "xyzview = py3Dmol.view(width=400,height=400)\n",
    "xyzview.addModel(structure.read(),'xyz')\n",
    "xyzview.setStyle({'stick':{}})\n",
    "xyzview.setBackgroundColor('0xeeeeee')\n",
    "xyzview.animate({'loop': 'backAndForth'})\n",
    "xyzview.zoomTo()\n",
    "xyzview.show()"
   ]
  },
  {
   "cell_type": "code",
   "execution_count": null,
   "metadata": {},
   "outputs": [],
   "source": []
  }
 ],
 "metadata": {
  "kernelspec": {
   "display_name": "Python 3 (ipykernel)",
   "language": "python",
   "name": "python3"
  },
  "language_info": {
   "codemirror_mode": {
    "name": "ipython",
    "version": 3
   },
   "file_extension": ".py",
   "mimetype": "text/x-python",
   "name": "python",
   "nbconvert_exporter": "python",
   "pygments_lexer": "ipython3",
   "version": "3.9.7"
  }
 },
 "nbformat": 4,
 "nbformat_minor": 4
}
