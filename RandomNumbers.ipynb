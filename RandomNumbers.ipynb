{
 "cells": [
  {
   "cell_type": "code",
   "execution_count": null,
   "id": "6051128b",
   "metadata": {},
   "outputs": [],
   "source": [
    "import numpy as np\n",
    "import matplotlib.pyplot as plt\n",
    "\n",
    "rng = np.random.default_rng()\n",
    "v = rng.standard_normal(100000)\n",
    "\n",
    "sigma = np.std(v)\n",
    "mu = np.mean(v)\n",
    "x = np.linspace(-3, 3, 100)\n",
    "gaussian = (1 / (sigma * np.sqrt(2 * np.pi))) * np.exp(-(x - mu)**2 / (2 * sigma**2))\n",
    "\n",
    "fix,ax = plt.subplots()\n",
    "plt.hist(v, bins=50, density=True, alpha=0.6, color='b', label='Histogram')\n",
    "ax.plot(x,gaussian)\n",
    "plt.show()"
   ]
  },
  {
   "cell_type": "code",
   "execution_count": null,
   "id": "56bd6be7",
   "metadata": {},
   "outputs": [],
   "source": [
    "noise = rng.normal(1,0.2,size=100000)\n",
    "# noise = 1 + rng.random(100000)/10\n",
    "print(np.mean(noise),np.std(noise))\n",
    "d = v * noise\n",
    "\n",
    "fix,ax = plt.subplots()\n",
    "# plt.hist(d, bins=50, density=True, alpha=0.6, color='b', label='Histogram')\n",
    "\n",
    "sigma = np.std(d)\n",
    "mu = np.mean(d)\n",
    "gaussian2 = (1 / (sigma * np.sqrt(2 * np.pi))) * np.exp(-(x - mu)**2 / (2 * sigma**2))\n",
    "\n",
    "ax.plot(x,gaussian)\n",
    "ax.plot(x,gaussian2)\n",
    "plt.show()"
   ]
  }
 ],
 "metadata": {
  "kernelspec": {
   "display_name": "Python 3 (ipykernel)",
   "language": "python",
   "name": "python3"
  },
  "language_info": {
   "codemirror_mode": {
    "name": "ipython",
    "version": 3
   },
   "file_extension": ".py",
   "mimetype": "text/x-python",
   "name": "python",
   "nbconvert_exporter": "python",
   "pygments_lexer": "ipython3",
   "version": "3.11.7"
  }
 },
 "nbformat": 4,
 "nbformat_minor": 5
}
