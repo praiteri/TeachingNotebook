{
 "cells": [
  {
   "cell_type": "markdown",
   "id": "9da83ddc",
   "metadata": {},
   "source": [
    "# Report for Bomb Calorimetry\n",
    "\n",
    "## Student Name: _______________\n",
    "\n",
    "## Student ID: _______________"
   ]
  },
  {
   "cell_type": "code",
   "execution_count": null,
   "id": "49fb3e30",
   "metadata": {},
   "outputs": [],
   "source": [
    "# Import the required python packages here\n",
    "import pandas as pd                  # Dataframes and reading CSV files\n",
    "import numpy as np                   # Numerical libraries\n",
    "import matplotlib.pyplot as plt      # Plotting library\n",
    "from lmfit import Model              # Curve fitting library\n",
    "from scipy.optimize import curve_fit # Curve fitting library\n",
    "from sklearn.metrics import r2_score # function to compute the R^2 score\n",
    "from IPython.display import Image"
   ]
  },
  {
   "cell_type": "markdown",
   "id": "b0b85bc6",
   "metadata": {},
   "source": [
    "# Task 1\n",
    "\n",
    "## Prepare a tablet of benzoic acid and run the virtual experiment; make at least 5 samples."
   ]
  },
  {
   "cell_type": "markdown",
   "id": "dcfcb560",
   "metadata": {},
   "source": [
    "## Load all the data and define python lists for the relevant experimental quantities (or make a suitable table if you are using Excel)"
   ]
  },
  {
   "cell_type": "markdown",
   "id": "cf193a2a",
   "metadata": {},
   "source": [
    "## Make a figure of the calorimeter temperature _vs_ time (with caption) with all the data."
   ]
  },
  {
   "cell_type": "markdown",
   "id": "42447a6c",
   "metadata": {},
   "source": [
    "## Fit the temperature before and after the combustion reaction, compute the temperature change, and replot the data including the best fitting lines."
   ]
  },
  {
   "cell_type": "markdown",
   "id": "f755b4a7",
   "metadata": {},
   "source": [
    "## Compute the heat capacity of the calorimeter. Show the balanced combustion reactions and all the equations used for the calculations"
   ]
  },
  {
   "cell_type": "markdown",
   "id": "0084ad97",
   "metadata": {},
   "source": [
    "___\n",
    "\n",
    "# Task 2\n",
    "\n",
    "## Prepare 5 tablets of sucrose and run the virtual experiment."
   ]
  },
  {
   "cell_type": "markdown",
   "id": "3c04ba8d",
   "metadata": {},
   "source": [
    "## Plot and fit the data as per Task 1 and, using the heat capacity of the calorimeter, compute the combustion enthalpy of sucrose."
   ]
  },
  {
   "cell_type": "markdown",
   "id": "e3ec69b8",
   "metadata": {},
   "source": [
    "___\n",
    "\n",
    "# Task 3\n",
    "\n",
    "## Repeat Task 2 using naphtalene."
   ]
  },
  {
   "cell_type": "markdown",
   "id": "d699390b",
   "metadata": {},
   "source": [
    "___\n",
    "\n",
    "# Task 4\n",
    "\n",
    "## Make a table with the combustion enthalpies that you have computed and compare them with experimental values. "
   ]
  },
  {
   "attachments": {},
   "cell_type": "markdown",
   "id": "1cc3dd98",
   "metadata": {},
   "source": [
    "# Discussion\n",
    "\n",
    "1. Obtain from literature the standard enthalpies of formation of $O_2$, $H_2O$, $CO_2$, sucrose and naphtalene.\n",
    "2. Write the balances combustion reactions for benzoic acid, sucrose and naphtalene\n",
    "3. Calculate the expected combustion enthalpy of sucrose and naphtalene\n",
    "4. Use the given combustion enthalpy of benzoic acid to \"calibrate the instrument\"; what is the heat capacity of the bomb calorimeter?\n",
    "5. Calculate the combustion and formation enthalpies ($\\Delta H_c$ \\& $\\Delta H_f$) of sucrose and naphtalene. Compare with the literature values obtained in the pre-lab."
   ]
  },
  {
   "cell_type": "markdown",
   "id": "2c11514a",
   "metadata": {},
   "source": []
  }
 ],
 "metadata": {
  "kernelspec": {
   "display_name": "Python 3 (ipykernel)",
   "language": "python",
   "name": "python3"
  },
  "language_info": {
   "codemirror_mode": {
    "name": "ipython",
    "version": 3
   },
   "file_extension": ".py",
   "mimetype": "text/x-python",
   "name": "python",
   "nbconvert_exporter": "python",
   "pygments_lexer": "ipython3",
   "version": "3.9.13"
  }
 },
 "nbformat": 4,
 "nbformat_minor": 5
}
