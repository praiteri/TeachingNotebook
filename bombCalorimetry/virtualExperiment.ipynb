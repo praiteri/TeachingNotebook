{
 "cells": [
  {
   "cell_type": "code",
   "execution_count": 1,
   "metadata": {},
   "outputs": [],
   "source": [
    "import cekNotebooks as cek"
   ]
  },
  {
   "cell_type": "markdown",
   "metadata": {},
   "source": [
    "# Bomb Calorimetry Virtual Experiment\n",
    "\n",
    "## Procedure\n",
    "In this virtual lab instead you will have to\n",
    "1. Choose your sample (Benzoic acid)\n",
    "2. Create a tablet for you sample \n",
    "3. \"Perform\" the experiment (obtain temperature inside the bomb calorimeter vs time)\n",
    "4. Fit the temperature profile before and after the experiment to obtain the temperature change\n",
    "5. Determine the calorimeter heat capacity of the bomb calorimeter to calibrate the instrument\n",
    "6. Repeat 1 to 5 to obtain an average value for the heat capacity of the bomb calorimeter\n",
    "7. Repeat 1 to 4 for sucrose and naphtalene\n",
    "8. Determine the combustion enthalpy and formation enthalpy of Sucrose and Napthalene\n",
    "\n",
    "#### Assume the wire described in the video releases a negligible amount of heat"
   ]
  },
  {
   "cell_type": "code",
   "execution_count": 2,
   "metadata": {},
   "outputs": [
    {
     "data": {
      "application/vnd.jupyter.widget-view+json": {
       "model_id": "057a1e02fe0e46ff89bfd40758c7fcb8",
       "version_major": 2,
       "version_minor": 0
      },
      "text/plain": [
       "VBox(children=(HBox(children=(Label(value='Output filename : ', layout=Layout(width='300px')), Text(value='res…"
      ]
     },
     "metadata": {},
     "output_type": "display_data"
    }
   ],
   "source": [
    "cek.bombCalorimetryLab()"
   ]
  },
  {
   "cell_type": "markdown",
   "metadata": {},
   "source": [
    "# Working notebooks"
   ]
  },
  {
   "cell_type": "code",
   "execution_count": 3,
   "metadata": {},
   "outputs": [
    {
     "data": {
      "application/vnd.jupyter.widget-view+json": {
       "model_id": "2352bbc77f394bd997d9e1429fa7c552",
       "version_major": 2,
       "version_minor": 0
      },
      "text/plain": [
       "VBox(children=(HBox(children=(Button(description='Create a new notebook', layout=Layout(width='300px'), style=…"
      ]
     },
     "metadata": {},
     "output_type": "display_data"
    }
   ],
   "source": [
    "cek.launchNotebooks()"
   ]
  }
 ],
 "metadata": {
  "kernelspec": {
   "display_name": "Python 3 (ipykernel)",
   "language": "python",
   "name": "python3"
  },
  "language_info": {
   "codemirror_mode": {
    "name": "ipython",
    "version": 3
   },
   "file_extension": ".py",
   "mimetype": "text/x-python",
   "name": "python",
   "nbconvert_exporter": "python",
   "pygments_lexer": "ipython3",
   "version": "3.9.13"
  }
 },
 "nbformat": 4,
 "nbformat_minor": 4
}
