{
 "cells": [
  {
   "cell_type": "code",
   "execution_count": 1,
   "metadata": {},
   "outputs": [
    {
     "name": "stderr",
     "output_type": "stream",
     "text": [
      "Warning: importing 'simtk.openmm' is deprecated.  Import 'openmm' instead.\n",
      "/Users/paolo/opt/miniconda3/envs/work/lib/python3.9/site-packages/MDAnalysis/coordinates/chemfiles.py:108: DeprecationWarning: distutils Version classes are deprecated. Use packaging.version instead.\n",
      "  MIN_CHEMFILES_VERSION = LooseVersion(\"0.9\")\n",
      "/Users/paolo/opt/miniconda3/envs/work/lib/python3.9/site-packages/MDAnalysis/coordinates/TRJ.py:1209: DeprecationWarning: Please use `netcdf_file` from the `scipy.io` namespace, the `scipy.io.netcdf` namespace is deprecated.\n",
      "  class NCDFPicklable(scipy.io.netcdf.netcdf_file):\n"
     ]
    },
    {
     "data": {
      "application/vnd.jupyter.widget-view+json": {
       "model_id": "4efe5cceb654447bb78716e413f9fda9",
       "version_major": 2,
       "version_minor": 0
      },
      "text/plain": []
     },
     "metadata": {},
     "output_type": "display_data"
    }
   ],
   "source": [
    "import cekComputerLabs as cek"
   ]
  },
  {
   "cell_type": "markdown",
   "metadata": {},
   "source": [
    "# Bomb Calorimetry Virtual Experiment\n",
    "\n",
    "## Procedure\n",
    "In this virtual lab instead you will have to\n",
    "1. Choose your sample (Benzoic acid)\n",
    "2. Create a tablet for you sample \n",
    "3. \"Perform\" the experiment (obtain temperature inside the bomb calorimeter vs time)\n",
    "4. Fit the temperature profile before and after the experiment to obtain the temperature change\n",
    "5. Determine the calorimeter heat capacity of the bomb calorimeter to calibrate the instrument\n",
    "6. Repeat 1 to 5 to obtain an average value for the heat capacity of the bomb calorimeter\n",
    "7. Repeat 1 to 4 for sucrose and naphtalene\n",
    "8. Determine the combustion enthalpy and formation enthalpy of Sucrose and Napthalene\n",
    "\n",
    "#### Assume the wire described in the video releases a negligible amount of heat"
   ]
  },
  {
   "cell_type": "code",
   "execution_count": 2,
   "metadata": {},
   "outputs": [
    {
     "data": {
      "application/vnd.jupyter.widget-view+json": {
       "model_id": "07252f562b864cc3ab4bb70085323dc5",
       "version_major": 2,
       "version_minor": 0
      },
      "text/plain": [
       "VBox(children=(HBox(children=(Label(value='Output filename : ', layout=Layout(width='300px')), Text(value='res…"
      ]
     },
     "metadata": {},
     "output_type": "display_data"
    }
   ],
   "source": [
    "cek.bombCalorimetryLab()"
   ]
  },
  {
   "cell_type": "markdown",
   "metadata": {},
   "source": [
    "# Working notebooks"
   ]
  },
  {
   "cell_type": "code",
   "execution_count": 3,
   "metadata": {},
   "outputs": [
    {
     "data": {
      "application/vnd.jupyter.widget-view+json": {
       "model_id": "434eea236b29426f92ae90d20b54e2a4",
       "version_major": 2,
       "version_minor": 0
      },
      "text/plain": [
       "VBox(children=(HBox(children=(Button(description='Create a new notebook', layout=Layout(width='300px'), style=…"
      ]
     },
     "metadata": {},
     "output_type": "display_data"
    },
    {
     "data": {
      "application/javascript": [
       "   var name_of_the_notebook = 'Empty.ipynb'\n",
       "        var url = window.location.href.split('/')\n",
       "        var newurl = url[0] + '//'\n",
       "        for (var i = 1; i < url.length - 1; i++) {\n",
       "            console.log(url[i], newurl)\n",
       "            newurl += url[i] + '/'\n",
       "        }\n",
       "        newurl += name_of_the_notebook\n",
       "        window.open(newurl)\n",
       "        "
      ],
      "text/plain": [
       "<IPython.core.display.Javascript object>"
      ]
     },
     "metadata": {},
     "output_type": "display_data"
    }
   ],
   "source": [
    "cek.launchNotebooks()"
   ]
  }
 ],
 "metadata": {
  "kernelspec": {
   "display_name": "Python 3 (ipykernel)",
   "language": "python",
   "name": "python3"
  },
  "language_info": {
   "codemirror_mode": {
    "name": "ipython",
    "version": 3
   },
   "file_extension": ".py",
   "mimetype": "text/x-python",
   "name": "python",
   "nbconvert_exporter": "python",
   "pygments_lexer": "ipython3",
   "version": "3.9.15"
  }
 },
 "nbformat": 4,
 "nbformat_minor": 4
}
