{
 "cells": [
  {
   "cell_type": "code",
   "execution_count": 1,
   "metadata": {},
   "outputs": [],
   "source": [
    "import ipywidgets as ipw\n",
    "import json\n",
    "import random\n",
    "import time\n",
    "import pandas as pd\n",
    "import os\n",
    "import webbrowser\n",
    "import math\n",
    "from IPython.display import display, Markdown"
   ]
  },
  {
   "cell_type": "markdown",
   "metadata": {},
   "source": [
    "# Bomb Calorimetry - numerical lab\n",
    "\n",
    "## Introduction to the experiment\n",
    "\n",
    "**Calorimetry** derives from the Latin word calor meaning heat, and the Greek metry meaning to measure (Harper 2000). Thus, it is the science of measuring amounts of heat. \n",
    "All calorimetric techniques are based on the measurement of heat generated or consumed by a sample, depending on whether exothermic or endothermic processes are involved.\n",
    "A calorimeter can be a simple Styrofoam cup, because it is a container with insulated walls that prevents heat exchange with the environment. \n",
    "In order to measure heats of reactions, we enclose reactants in a calorimeter, allow the reaction to proceed, and measure the temperature change (∆T). Then the heat released or adsorbed in the reaction can be calculated.\n",
    "A calorimeter may be used under constant pressure (atmospheric), or constant volume, but its heat capacity must be measured. \n",
    "The heat capacity is the amount of heat required to raise the temperature of the entire calorimeter by 1 K, and it is usually determined experimentally just before or after the actual measurement of the heats of reaction. \n",
    "This is done by transferring a known amount of heat into the calorimeter and measuring its temperature increase. \n",
    "Because the temperature differences are often very small, sensitive thermometers are preferred for these measurements.\n",
    "\n",
    "## Theory\n",
    "The investigation of thermodynamics leads to two fundamental definitions: the system and the surroundings. \n",
    "The system is that which is being measured, observed and investigated while the surroundings are everything else.\n",
    "An isolated system is referred to as adiabatic, as there is no exchange of matter or energy between the system and its surroundings. The energy considerations of a reaction include heat (denoted q), which is the energy absorbed by the system, and the work done on the system (denoted w).\n",
    "As heat is transferred into or out of a system this leads to a change in temperature, and the quantity of energy that causes a temperature change is determined with this equation\n",
    "\n",
    "\\begin{equation}\n",
    "q = \\sum c_p(T_f-T_i)\n",
    "\\end{equation}\n",
    "\n",
    "Where q is the heat of the process, cp is the heat capacity of the system at constant pressure, Tf is the final temperature and Ti is the initial temperature. \n",
    "The enthalpy of any process is the heat absorbed by the system at constant pressure.\n",
    "\n",
    "### Obtaining an Isothermal Enthalpy\n",
    "The enthalpy of a reaction under isothermal conditions can be determined by conducting the experiment adiabatically, and then measuring the temperature change that occurs in the reaction vessel.\n",
    "The isothermal reaction at temperature Ti can be expressed as follows:\n",
    "\n",
    "\\begin{equation}\n",
    "\\mathrm{A(T_i)} + \\mathrm{B(T_i)} \\xrightarrow{\\Delta H} \\mathrm{C(T_i)} + \\mathrm{D(T_i)} \n",
    "\\end{equation}\n",
    "\n",
    "Where $\\Delta H$ is the enthalpy of the isothermal reaction for each mole of reaction as written.\n",
    "In a calorimeter the system is insulated, and therefore no energy is lost to the surroundings.\n",
    "This is known as an adiabatic system and therefore in the calorimeter the energy of the\n",
    "reaction is used to heat the system with no loss.\n",
    "The adiabatic reaction can be expressed as follows:\n",
    "\n",
    "\\begin{equation}\n",
    "\\mathrm{A(T_i)} + \\mathrm{B(T_i)} + \\mathrm{S(T_i)}\\xrightarrow{\\Delta H_I} \\mathrm{C(T_f)} + \\mathrm{D(T_f)} + \\mathrm{S(T_f)}\n",
    "\\end{equation}\n",
    "\n",
    "Where $\\Delta H_I$ is the enthalpy of the adiabatic reaction. \n",
    "A, B, C and D continue to be the reactants and products respectively and S is the parts of the system (thermometer, solvent, reaction vessel walls etc.) that maintain the same temperature as the reactants and products because of the insulated system.\n",
    "Enthalpy however is a state function, and therefore independent of the steps taken to get to the final stage. Thus, the enthalpy of the isothermal reaction will be the sum of the enthalpy of any steps that start and finish in the same state.\n",
    "Therefore in order to finish the adiabatic reaction under the same conditions as the isothermal reaction, the system merely needs to be cooled to the initial temperature.\n",
    "\n",
    "\\begin{equation}\n",
    "\\mathrm{A(T_f)} + \\mathrm{B(T_f)} + \\mathrm{S(T_f)}\\xrightarrow{\\Delta H_{II}} \\mathrm{C(T_i)} + \\mathrm{D(T_i)} + \\mathrm{S(T_i)}\n",
    "\\end{equation}\n",
    "\n",
    "$\\Delta H_{I}$ and $\\Delta H_{II}$ are the enthalpies of the alternate steps taken to go from the initial stage to the final stage of the isothermal reaction, and therefore, as shown in the figure below, the enthalpy of the isothermal reaction is the sum of these two values.\n",
    "\n",
    "\n",
    "\\begin{equation}\n",
    "\\Delta H = \\Delta H_{I} + \\Delta H_{II}\n",
    "\\end{equation}\n"
   ]
  },
  {
   "cell_type": "markdown",
   "metadata": {},
   "source": [
    "<img src=\"Figure_1.png\" alt=\"fishy\" class=\"bg-primary mb-1\" width=\"400px\">"
   ]
  },
  {
   "cell_type": "markdown",
   "metadata": {},
   "source": [
    "As stated previously an adiabatic reaction is a reaction contained in an isolated system, i.e. no energy is transferred out of the system. \n",
    "This means that the heat of the adiabatic step is 0, and therefore $\\Delta H_{I}$ is also 0. \n",
    "The cooling step indicated in Figure 1 need not be performed, but rather the heat of Step II can be calculated as\n",
    "\n",
    "\\begin{equation}\n",
    "\\Delta H_{II} = \\sum cp (T_f − T_i )\n",
    "\\end{equation}"
   ]
  },
  {
   "cell_type": "markdown",
   "metadata": {},
   "source": [
    "### Reaction Enthalpy Under Standard Conditions\n",
    "Just as an isothermal enthalpy can be calculated from results that take a different series of steps, the enthalpy of a reaction under standard conditions can be determined from any isothermal energy of that reaction.\n",
    "An alternative series of steps for the standard reaction to occur is: i) changing the system temperature from standard conditions to the experimental temperature, ii) proceeding with the reaction, iii) changing the temperature back to standard temperature.\n",
    "As these three steps start with the reactants under standard conditions and finish with the products under standard conditions the sum of the enthalpies of these steps is equivalent to the enthalpy of the reaction proceeding under standard conditions. This is presented as"
   ]
  },
  {
   "cell_type": "markdown",
   "metadata": {},
   "source": [
    "<img src=\"Figure_2.png\" alt=\"fishy\" class=\"bg-primary mb-1\" width=\"400px\">"
   ]
  },
  {
   "cell_type": "markdown",
   "metadata": {},
   "source": [
    "### Experimental Factors\n",
    "No experimental configuration is truly adiabatic, and in this case the stirrer adds energy to the system while the thermometer and non-ideal insulation allows heat to escape from the system. These factors produce fairly linear changes in temperature before and after the reaction occurs. In order to accurately account for these effects, the temperature must be measured for a period of time before the reactants are combined and for a period of time after the reaction has proceeded. Plotting this data and recording the relative time the reactants were combined allows the change in temperature to be more accurately determined as shown in the figure below."
   ]
  },
  {
   "cell_type": "markdown",
   "metadata": {},
   "source": [
    "<img src=\"Figure_3.png\" alt=\"fishy\" class=\"bg-primary mb-1\" width=\"800px\">"
   ]
  },
  {
   "cell_type": "markdown",
   "metadata": {},
   "source": [
    "#### Experimental Procedure\n",
    "The first part of the experiment would be to determine the heat capacity of the calorimeter (i.e. calibrate your thermos):\n",
    "1. Use a beaker to add 100 g of 1.500 molal NaOH solution into the calorimeter. Weigh the beaker, weigh in 100 g of solution and pour the solution into the calorimeter. Reweigh the beaker to determine the mass of residual solution.\n",
    "2. Place a stirring bar in the calorimeter, and place it on a magnetic stirrer. Set for gentle agitation.\n",
    "3. Set the calorimeter lid in place. Ensure the digital temperature probe is in the solution. The probe should not touch the calorimeter.\n",
    "4. Calculate the precise mass of 1.500 molal HCl solution required to neutralise the mass of NaOH solution in the calorimeter.\n",
    "5. Weigh this mass of HCl solution into a clean beaker as per step 1. Add a small excess (~1 gram) to ensure NaOH is the limiting reagent. Do not pour this into the calorimeter yet.\n",
    "6. Record the temperature of the calorimeter contents every thirty seconds.\n",
    "7. Check the temperature of the two solutions. Use warm and cold water to adjust the temperature of the HCl in the beaker to match that of the NaOH solution in the calorimeter by $\\pm 0.5^\\circ$C.\n",
    "8. When calorimeter temperature has been monitored over four minutes, add the HCl solution to the calorimeter. Accurately record the time of addition of reagent and continue with thirty-second temperature recordings for at least 5 minutes.\n",
    "9. Reweigh the beaker to determine the exact mass of HCl solution added.\n",
    "10. Repeat to obtain an accurate value for the calorimeter constant.\n",
    "\n",
    "\n",
    "The enthalpy of this reaction is the same as that for the $\\mathrm{H^+(aq)} + \\mathrm{OH^-(aq)} \\xrightarrow[]{} \\mathrm{H_2O(l)}$ reaction for which you should have a value from your pre-lab. Thus, we can use the temperature change, the known enthalpy value and the heat capacity of aqueous NaCl to determine our calorimeter constant. \n",
    "Firstly, determine how many moles of base you have (this will be the same number of moles of acid, neglect the small additional amount you added since the number of moles will be determined from the limiting reagent).\n",
    "\n",
    "The heat (q) released by the reaction is equal to the negative of the heat absorbed by the calorimeter and is equal to:\n",
    "\n",
    "\\begin{equation}\n",
    "( C_\\mathrm{NaCl(aq)} + C_{calorimeter} ) \\times (T_{final} – T_{initial}) = -q\n",
    "\\end{equation}\n",
    "\n",
    "where C is the heat capacity and T is temperature (K). The heat capacity of the formed NaCl in solution can be calculated from the specific heat capacity. \n",
    "If the specific heat capacity of aqueous NaCl is 4.096 J/(g K), how would you determine the heat capacity? \n",
    "What mass would you use?\n"
   ]
  },
  {
   "cell_type": "markdown",
   "metadata": {},
   "source": [
    "## Numerical skills \n",
    "\n",
    "1. fitting of portions of data\n",
    "2. error analysis"
   ]
  },
  {
   "cell_type": "markdown",
   "metadata": {},
   "source": [
    "## Question to be answered in the lab report\n",
    "\n",
    "1. What are the specific heat capacities of water and aqueous NaCl ?\n",
    "2. What is the average value of your calorimeter heat capacity and what is the error?"
   ]
  },
  {
   "cell_type": "code",
   "execution_count": null,
   "metadata": {},
   "outputs": [],
   "source": [
    "t = int( time.time() * 1000.0 )\n",
    "random.seed( ((t & 0xff000000) >> 24) +\n",
    "             ((t & 0x00ff0000) >>  8) +\n",
    "             ((t & 0x0000ff00) <<  8) +\n",
    "             ((t & 0x000000ff) << 24)   )\n",
    "\n",
    "params[\"nTime\"] = 50\n",
    "params[\"relaxTime\"] = 3\n",
    "params[\"mixTime\"] = 20\n",
    "params[\"roomT\"] = random.gauss(298,2)\n",
    "params[\"slope\"] = (2*random.random()-1) / params[\"nTime\"]\n",
    "params[\"error\"] = 0.5"
   ]
  },
  {
   "cell_type": "code",
   "execution_count": null,
   "metadata": {},
   "outputs": [],
   "source": [
    "with open(\".lab.json\") as infile:\n",
    "    jsdata = json.load(infile)\n",
    "\n",
    "params = jsdata[\"cal1\"]"
   ]
  },
  {
   "cell_type": "code",
   "execution_count": 3,
   "metadata": {},
   "outputs": [
    {
     "data": {
      "application/vnd.jupyter.widget-view+json": {
       "model_id": "",
       "version_major": 2,
       "version_minor": 0
      },
      "text/plain": [
       "VBox(children=(HBox(children=(Label(value='Heat capacity of calorimeter  :  '), Text(value='1000'))), HBox(chi…"
      ]
     },
     "metadata": {},
     "output_type": "display_data"
    },
    {
     "ename": "NameError",
     "evalue": "name 'params' is not defined",
     "output_type": "error",
     "traceback": [
      "\u001b[0;31m---------------------------------------------------------------------------\u001b[0m",
      "\u001b[0;31mNameError\u001b[0m                                 Traceback (most recent call last)",
      "\u001b[0;32m~/tmp/ipykernel_9115/405730635.py\u001b[0m in \u001b[0;36mcalc\u001b[0;34m(btn)\u001b[0m\n\u001b[1;32m     25\u001b[0m \u001b[0;34m\u001b[0m\u001b[0m\n\u001b[1;32m     26\u001b[0m     \u001b[0;31m# Measurement result\u001b[0m\u001b[0;34m\u001b[0m\u001b[0;34m\u001b[0m\u001b[0m\n\u001b[0;32m---> 27\u001b[0;31m     deltaT = measure(\n\u001b[0m\u001b[1;32m     28\u001b[0m         \u001b[0mfloat\u001b[0m\u001b[0;34m(\u001b[0m\u001b[0mmassA\u001b[0m\u001b[0;34m.\u001b[0m\u001b[0mvalue\u001b[0m\u001b[0;34m)\u001b[0m\u001b[0;34m,\u001b[0m\u001b[0;34m\u001b[0m\u001b[0;34m\u001b[0m\u001b[0m\n\u001b[1;32m     29\u001b[0m         \u001b[0mfloat\u001b[0m\u001b[0;34m(\u001b[0m\u001b[0mmassB\u001b[0m\u001b[0;34m.\u001b[0m\u001b[0mvalue\u001b[0m\u001b[0;34m)\u001b[0m\u001b[0;34m,\u001b[0m\u001b[0;34m\u001b[0m\u001b[0;34m\u001b[0m\u001b[0m\n",
      "\u001b[0;32m~/tmp/ipykernel_9115/405730635.py\u001b[0m in \u001b[0;36mmeasure\u001b[0;34m(mA, mB, CalCp, SaltCp)\u001b[0m\n\u001b[1;32m      9\u001b[0m \u001b[0;32mdef\u001b[0m \u001b[0mmeasure\u001b[0m\u001b[0;34m(\u001b[0m\u001b[0mmA\u001b[0m\u001b[0;34m,\u001b[0m\u001b[0mmB\u001b[0m\u001b[0;34m,\u001b[0m\u001b[0mCalCp\u001b[0m\u001b[0;34m,\u001b[0m\u001b[0mSaltCp\u001b[0m\u001b[0;34m)\u001b[0m\u001b[0;34m:\u001b[0m\u001b[0;34m\u001b[0m\u001b[0;34m\u001b[0m\u001b[0m\n\u001b[1;32m     10\u001b[0m \u001b[0;34m\u001b[0m\u001b[0m\n\u001b[0;32m---> 11\u001b[0;31m     \u001b[0mmolesA\u001b[0m \u001b[0;34m=\u001b[0m \u001b[0mmA\u001b[0m \u001b[0;34m*\u001b[0m \u001b[0mparams\u001b[0m\u001b[0;34m[\u001b[0m\u001b[0;34m\"molAcid\"\u001b[0m\u001b[0;34m]\u001b[0m \u001b[0;34m/\u001b[0m \u001b[0;36m1000\u001b[0m\u001b[0;34m\u001b[0m\u001b[0;34m\u001b[0m\u001b[0m\n\u001b[0m\u001b[1;32m     12\u001b[0m     \u001b[0mmolesB\u001b[0m \u001b[0;34m=\u001b[0m \u001b[0mmB\u001b[0m \u001b[0;34m*\u001b[0m \u001b[0mparams\u001b[0m\u001b[0;34m[\u001b[0m\u001b[0;34m\"molBase\"\u001b[0m\u001b[0;34m]\u001b[0m \u001b[0;34m/\u001b[0m \u001b[0;36m1000\u001b[0m\u001b[0;34m\u001b[0m\u001b[0;34m\u001b[0m\u001b[0m\n\u001b[1;32m     13\u001b[0m     \u001b[0mmolesFormed\u001b[0m \u001b[0;34m=\u001b[0m \u001b[0mmin\u001b[0m\u001b[0;34m(\u001b[0m\u001b[0mmolesA\u001b[0m\u001b[0;34m,\u001b[0m\u001b[0mmolesB\u001b[0m\u001b[0;34m)\u001b[0m\u001b[0;34m\u001b[0m\u001b[0;34m\u001b[0m\u001b[0m\n",
      "\u001b[0;31mNameError\u001b[0m: name 'params' is not defined"
     ]
    }
   ],
   "source": [
    "respath = os.path.join(os.getcwd(),\"results.csv\")\n",
    "\n",
    "out_P = ipw.Output()\n",
    "out_L = ipw.Output()\n",
    "\n",
    "with out_L:\n",
    "    display(Markdown(\"[Download CSV](results.csv)\"))\n",
    "\n",
    "def measure(mA,mB,CalCp,SaltCp):\n",
    "\n",
    "    molesA = mA * params[\"molAcid\"] / 1000\n",
    "    molesB = mB * params[\"molBase\"] / 1000\n",
    "    molesFormed = min(molesA,molesB)\n",
    "    negHeat = params[\"deltaHf\"] * molesFormed\n",
    "    \n",
    "    totalMass = mA + mB\n",
    "    heatCapacitySolution = totalMass * SaltCp\n",
    "    \n",
    "    deltaT =  negHeat / (heatCapacitySolution + CalCp)\n",
    "    \n",
    "    return deltaT\n",
    "    \n",
    "def calc(btn):\n",
    "    out_P.clear_output()\n",
    "    \n",
    "    # Measurement result\n",
    "    deltaT = measure(\n",
    "        float(massA.value),\n",
    "        float(massB.value),\n",
    "        float(CalCp.value),\n",
    "        float(SaltCp.value))\n",
    "    \n",
    "    res = pd.DataFrame(columns=[\"Time [min]\" , \"T [K]\"])\n",
    "\n",
    "    for i in range(0, params[\"nTime\"]):\n",
    "        var_list = []\n",
    "        var_list.append(i)\n",
    "        tempOut = params[\"roomT\"] + random.gauss(0,params[\"error\"]) + params[\"slope\"] * i\n",
    "        if (i > params[\"mixTime\"]):\n",
    "            tempOut = tempOut + deltaT * (1-math.exp(-(i-params[\"mixTime\"])/params[\"relaxTime\"] ))\n",
    "            \n",
    "        var_list.append(tempOut)\n",
    "        res.loc[len(res)] = var_list\n",
    "    \n",
    "    res.to_csv(respath, index=False)\n",
    "    with out_P:\n",
    "        display(res.tail(50))\n",
    "\n",
    "def reset(btn):\n",
    "    if os.path.exists(respath):\n",
    "        os.remove(respath)\n",
    "    \n",
    "    with out_P:\n",
    "        out_P.clear_output()\n",
    "\n",
    "# interactive buttons ---\n",
    "btn_calc = ipw.Button(description=\"Perform Experiment\", layout=ipw.Layout(width=\"150px\"))\n",
    "btn_calc.on_click(calc)\n",
    "\n",
    "btn_reset = ipw.Button(description=\"Reset Experiment\", layout=ipw.Layout(width=\"150px\"))\n",
    "btn_reset.on_click(reset)\n",
    "\n",
    "# ---\n",
    "reset(btn_reset)\n",
    "\n",
    "# --- create the boxes and sliders\n",
    "rows = []\n",
    "\n",
    "CalCp = ipw.Text(\"1000\")\n",
    "rows.append(ipw.HBox([ipw.Label('Heat capacity of calorimeter  :  '),CalCp]))\n",
    "\n",
    "SaltCp = ipw.Text(\"0.1\")\n",
    "rows.append(ipw.HBox([ipw.Label('Specific heat capacity of the salt  :  '),SaltCp]))\n",
    "\n",
    "massA = ipw.FloatLogSlider(value=1, min=-4, max=3)\n",
    "massB = ipw.FloatLogSlider(value=1, min=-4, max=3)\n",
    "rows.append(ipw.HBox([ipw.Label(value=\"Mass of acid solution [g]\", layout=ipw.Layout(width=\"250px\")), massA]))\n",
    "rows.append(ipw.HBox([ipw.Label(value=\"Mass of base solution [g]\", layout=ipw.Layout(width=\"250px\")), massB]))\n",
    "\n",
    "rows.append(ipw.HBox([btn_reset]))\n",
    "rows.append(ipw.HBox([btn_calc]))\n",
    "rows.append(ipw.HBox([out_L]))\n",
    "rows.append(ipw.HBox([out_P]))\n",
    "\n",
    "ipw.VBox(rows)"
   ]
  },
  {
   "cell_type": "code",
   "execution_count": null,
   "metadata": {},
   "outputs": [],
   "source": []
  }
 ],
 "metadata": {
  "kernelspec": {
   "display_name": "Python 3 (ipykernel)",
   "language": "python",
   "name": "python3"
  },
  "language_info": {
   "codemirror_mode": {
    "name": "ipython",
    "version": 3
   },
   "file_extension": ".py",
   "mimetype": "text/x-python",
   "name": "python",
   "nbconvert_exporter": "python",
   "pygments_lexer": "ipython3",
   "version": "3.9.7"
  }
 },
 "nbformat": 4,
 "nbformat_minor": 1
}
