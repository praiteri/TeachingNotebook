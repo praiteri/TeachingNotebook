{
 "cells": [
  {
   "cell_type": "code",
   "execution_count": null,
   "metadata": {},
   "outputs": [],
   "source": [
    "import cekComputerLabs as cek\n",
    "cek.checkGitRepo()"
   ]
  },
  {
   "cell_type": "markdown",
   "metadata": {},
   "source": [
    "# Chemical Energetics and Kinetics Virtual Notebook\n",
    "\n",
    "This web page and those linked below have been created with Python using Jupyter Notebooks and will be used to develop important skills in data analysis, data processing, and computing using simulated experimental results and computational chemistry software. There is also a collection of *standard* physical chemistry problems that can be readily solved numerically or analytically.\n",
    "\n",
    "Although this may sound daunting to some, most of the numerical labs in this unit can also be solved using simple Excel spreadsheets or even by hand with some algebra and a pocket calculator. During the numerical labs, your lab demonstrator will show you how Python notebooks can be used to solve these problems, which you may have already used in the first year. However, all the data will be available in CSV files, which can be readily imported into Excel. We would, however, encourage you to use Python notebooks for processing the laboratory data, as this is a sought-after skill by many employers. The assesment of the reports does not focus on the programming skills, but rather on the data analysis and data presentation. The reports, can be prepared both using the Jupyter Notebooks or MS Wors, with templated provided in the activities.\n",
    "\n",
    "The links below will take you to a series of experiences that will be done in the corresponding week. We will start with two labs to refresh sam basic statistics concepts and familiarize ourselves with Python, if you choose to do the laboratories activities in that way.\n",
    "We will then have two thermodynamics \"labs,\" one kinetics \"lab,\" one \"lab\" about chemical equilibrium, and the last four labs about \"computational chemistry.\" All the labs focus on physical chemistry concepts that you have already seen in the first year (*e.g.*, calorimetry, equilibrium, kinetics) or will be covered in the lectures during the semester (e.g., quantum chemistry).\n",
    "\n",
    "Although these numerical labs cover a variety of different topics in Thermodynamics and Kinetics, the problems proposed here share some common features:\n",
    "\n",
    "1. They have been designed to mimic \"real\" experiments, to a certain extent. This means that you often have the choice of setting the conditions of the experiment (*i.e.*, the temperature) and then \"perform\" the measurement by clicking a button.\n",
    "2. The results of all measurements come with some random noise, designed to mimic the experimental uncertainty of the instruments and user errors. This means that if you perform the same measurement 10 times under the same conditions, you will obtain 10 different values.\n",
    "3. Often the initial conditions can be set using sliding bars, designed to be difficult to set to nice round numbers, and the measurements will give results with lots of decimal places. It will be left to you to decide how many digits are significant and worth reporting.\n",
    "4. At the end of the \"virtual\" experiments, all the data collected can be exported as a Comma Separated Values (CSV) file that can be directly imported into Excel or read by Python and R.\n",
    "5. In most cases, the data obtained during the virtual experiment should be comparable to real experimental data.\n",
    "\n",
    "In the first workshop, you will do a short refresher of some basic statistics concepts: average, standard deviation, standard error, and linear regression. In the following two workshops, we will tackle some kinetics and thermodynamics problems, which mimic the experiments that were part of the CHEM2000 wet chemistry laboratory. In the last workshops, we will instead focus on using numerical methods to answer physical chemistry questions, such as using a minimization procedure to solve multiple equilibrium problems or doing energy minimization procedures to compute the stable structure of molecules.\n",
    "\n",
    "You don't need to solve all the problems during the workshop. This web page will remain active for the entire semester, and you can easily access it from home."
   ]
  },
  {
   "cell_type": "markdown",
   "metadata": {},
   "source": [
    "## Virtual Laboratories\n",
    "\n",
    "- [**Intro to python**](virtualLabs/0_introductionToPython/introductionToPython.ipynb)\n",
    "- [**Averages and linear regression**](virtualLabs/1_statsAndPlots/statsAndPlots.ipynb)\n",
    "    * [Launch stats laboratory](virtualLabs/1_statsAndPlots/virtualLaboratory.ipynb)\n",
    "- [**Bomb Calorimetry**](virtualLabs/2_bombCalorimetry/bombCalorimetry.ipynb)\n",
    "    * [Launch bomb calorimetry laboratory](virtualLabs/2_bombCalorimetry/virtualExperiment.ipynb) \n",
    "- [**Surface adsorption**](virtualLabs/3_surfaceAdsorption/langmuir.ipynb)\n",
    "    * [Launch surface adsorption laboratory](virtualLabs/3_surfaceAdsorption/virtualExperiment.ipynb) \n",
    "- [**Kinetics laboratory**](virtualLabs/4_crystalViolet/crystalViolet.ipynb)\n",
    "    * [Launch crystal violet laboratory](virtualLabs/4_crystalViolet/virtualExperiment.ipynb)\n",
    "    \n",
    "--- \n",
    "- [**Molecular mechanics #1**](virtualLabs/6_molecularMechanics1/MolecularMechanics1.ipynb)\n",
    "- [**Molecular mechanics #2**](virtualLabs/7_molecularMechanics2/MolecularMechanics2.ipynb)\n",
    "- [**Quantum Chemistry #1**](virtualLabs/8_quantumChemistry1/QuantumChemistry1.ipynb) \n",
    "- [**Quantum Chemistry #2**](virtualLabs/9_quantumChemistry2/QuantumChemistry2.ipynb)\n",
    "\n",
    "## Further activities [Optional]\n",
    "- **Chemical Equilibrium**\n",
    "    * [Equilibrium lab](virtualLabs/5_chemicalEquilibrium/equilibrium.ipynb)\n",
    "- **Molecular dynamics**\n",
    "    * [Water density](virtualLabs/x1_molecularDynamics/waterDensity.ipynb)\n",
    "        * [Run Molecular Dynamics](virtualLabs/x1_molecularDynamics/templateMD.ipynb)\n",
    "- **Quantum mechanics**\n",
    "    * [Molecular orbitals](virtualLabs/x2_quantumChemistry3/runORCA.ipynb)"
   ]
  },
  {
   "cell_type": "markdown",
   "metadata": {},
   "source": [
    "# Open any lab notebook "
   ]
  },
  {
   "cell_type": "code",
   "execution_count": null,
   "metadata": {},
   "outputs": [],
   "source": [
    "cek.openNotebook()"
   ]
  },
  {
   "cell_type": "markdown",
   "metadata": {},
   "source": [
    "# Convert any lab notebook to PDF or MS Word"
   ]
  },
  {
   "cell_type": "code",
   "execution_count": null,
   "metadata": {},
   "outputs": [],
   "source": [
    "cek.convertNotebook()"
   ]
  },
  {
   "cell_type": "markdown",
   "metadata": {},
   "source": [
    "## Mardown resources\n",
    "1. [Mardown sample text](codeSnippets/MarkdownExamples.ipynb)\n",
    "2. [Markdown table builder](https://www.tablesgenerator.com/markdown_tables)\n",
    "\n",
    "## Examples of Jupyter Notebooks\n",
    "Here below you can find some snippets of code that can help you getting started with Python. \n",
    "This Jupyter Notebooks contain piece of code that you can extract and adapt to solve the first three numerical laboratories (Bomb calorimetry, Langmuir Isotherm and Crystal Violet), they also provide the foundation for the other numerical laboratories. \n",
    "\n",
    "1. [Computing averages and histograms](codeSnippets/1_averageAndHistogram.ipynb)\n",
    "2. [Average of subset of data](codeSnippets/2_averageChunkOfData.ipynb)\n",
    "3. [Convergence of the average, standard deviation and standard error](codeSnippets/3_progressiveAverage.ipynb)\n",
    "4. [Moving average](codeSnippets/4_movingAverage.ipynb)\n",
    "5. [Handling multiple files](codeSnippets/5_multiFileAverage.ipynb)\n",
    "6. [Linear fit (scipy)](codeSnippets/6_linearFit.ipynb)\n",
    "7. [Exponential fit (scipy and lmfit)](codeSnippets/7_fittingArrhenius.ipynb)\n",
    "8. [Making professional figures](codeSnippets/8_prettyFigure.ipynb)\n"
   ]
  }
 ],
 "metadata": {
  "kernelspec": {
   "display_name": "Python 3 (ipykernel)",
   "language": "python",
   "name": "python3"
  },
  "language_info": {
   "codemirror_mode": {
    "name": "ipython",
    "version": 3
   },
   "file_extension": ".py",
   "mimetype": "text/x-python",
   "name": "python",
   "nbconvert_exporter": "python",
   "pygments_lexer": "ipython3",
   "version": "3.11.6"
  }
 },
 "nbformat": 4,
 "nbformat_minor": 4
}
