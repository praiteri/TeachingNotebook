{
 "cells": [
  {
   "cell_type": "markdown",
   "id": "9da83ddc",
   "metadata": {},
   "source": [
    "# Report for Chemical Equilibrium\n",
    "\n",
    "## Student Name: _______________\n",
    "\n",
    "## Student ID: _______________"
   ]
  },
  {
   "cell_type": "code",
   "execution_count": 1,
   "id": "49fb3e30",
   "metadata": {},
   "outputs": [],
   "source": [
    "# Import the required python packages here\n",
    "import pandas as pd                  # Dataframes and reading CSV files\n",
    "import numpy as np                   # Numerical libraries\n",
    "import matplotlib.pyplot as plt      # Plotting library\n",
    "from scipy.optimize import curve_fit # Curve fitting library\n",
    "from sklearn.metrics import r2_score # function to compute the R^2 score"
   ]
  },
  {
   "attachments": {},
   "cell_type": "markdown",
   "id": "3fad1a43",
   "metadata": {},
   "source": [
    "# Introduction"
   ]
  },
  {
   "cell_type": "markdown",
   "id": "fbf26df4",
   "metadata": {},
   "source": []
  },
  {
   "cell_type": "markdown",
   "id": "42447a6c",
   "metadata": {},
   "source": [
    "# Task 1\n",
    "\n",
    "## Solve the equilibrium problem for a dimerisation reaction numerically (will do this in class together)."
   ]
  },
  {
   "attachments": {},
   "cell_type": "markdown",
   "id": "e3d78fcd",
   "metadata": {},
   "source": [
    "___\n",
    "\n",
    "# Task 2\n",
    "\n",
    "## Solve the equilibrium problem for the dissociation of a acetic acid using an initial concentration of $0.15 M$ of acid."
   ]
  },
  {
   "cell_type": "markdown",
   "id": "08a2bbf3",
   "metadata": {},
   "source": [
    "## Write the balanced chemical reaction and equilibrium constant for the reaction."
   ]
  },
  {
   "cell_type": "markdown",
   "id": "a23e5072",
   "metadata": {},
   "source": [
    "## Show graphically the convergence of the calculation."
   ]
  },
  {
   "cell_type": "markdown",
   "id": "3133291c",
   "metadata": {},
   "source": [
    "## Assume that the pH of the solution is kept at 2, 4, 6 and 9; adapt the numerical solution written above to account for this and determine the equibrium concentration of acetic acid and acetate at those conditions (see critical thinking question 5) for the solution of the problem at ph 9."
   ]
  },
  {
   "cell_type": "markdown",
   "id": "06898de5",
   "metadata": {},
   "source": [
    "## Solve the equilibrium problem analytically and compare it with the numerical solution."
   ]
  },
  {
   "attachments": {},
   "cell_type": "markdown",
   "id": "8dc5cedc",
   "metadata": {},
   "source": [
    "___\n",
    "\n",
    "# Task 3\n",
    "\n",
    "## Solve the equilibrium problem for two coupled reactions, such as the dissociation of oxalic acid. Assume having 18g of oxalic acid in 1L of water."
   ]
  },
  {
   "attachments": {},
   "cell_type": "markdown",
   "id": "2b6bc1e3",
   "metadata": {},
   "source": [
    "## Write code to solve the problem numerically and determine:\n",
    "\n",
    "1. The pH of the equilibrium solution.\n",
    "2. The concentration of oxalate and h-oxalate if the pH of the solution is maintaned at values of 2, 4 and 6."
   ]
  },
  {
   "attachments": {},
   "cell_type": "markdown",
   "id": "51e17940",
   "metadata": {},
   "source": [
    "# Conclusion/critical thinking"
   ]
  },
  {
   "cell_type": "markdown",
   "id": "3f8cf9ef",
   "metadata": {},
   "source": []
  }
 ],
 "metadata": {
  "kernelspec": {
   "display_name": "Python 3 (ipykernel)",
   "language": "python",
   "name": "python3"
  },
  "language_info": {
   "codemirror_mode": {
    "name": "ipython",
    "version": 3
   },
   "file_extension": ".py",
   "mimetype": "text/x-python",
   "name": "python",
   "nbconvert_exporter": "python",
   "pygments_lexer": "ipython3",
   "version": "3.9.13"
  }
 },
 "nbformat": 4,
 "nbformat_minor": 5
}
