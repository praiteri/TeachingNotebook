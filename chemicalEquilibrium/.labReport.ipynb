{
 "cells": [
  {
   "cell_type": "markdown",
   "id": "9da83ddc",
   "metadata": {},
   "source": [
    "# Report for Chemical Equilibrium\n",
    "\n",
    "## Student Name: _______________\n",
    "\n",
    "## Student ID: _______________"
   ]
  },
  {
   "cell_type": "code",
   "execution_count": null,
   "id": "49fb3e30",
   "metadata": {},
   "outputs": [],
   "source": [
    "# Import the required python packages here\n",
    "import pandas as pd                  # Dataframes and reading CSV files\n",
    "import numpy as np                   # Numerical libraries\n",
    "import matplotlib.pyplot as plt      # Plotting library\n",
    "from lmfit import Model              # Curve fitting library\n",
    "from scipy.optimize import curve_fit # Curve fitting library\n",
    "from sklearn.metrics import r2_score # function to compute the R^2 score"
   ]
  },
  {
   "cell_type": "markdown",
   "id": "3fad1a43",
   "metadata": {},
   "source": [
    "# Introduction"
   ]
  },
  {
   "cell_type": "markdown",
   "id": "fbf26df4",
   "metadata": {},
   "source": [
    "Explain the working principle of this numerical procedure to solve chemical equilibrium problems\n",
    "1. Start from the definition of progress of a reaction and the change in free energy using the chemical potential\n",
    "2. Define the driving force\n",
    "3. Explain the procedure using a \"pseudo code\"/dot points"
   ]
  },
  {
   "cell_type": "markdown",
   "id": "42447a6c",
   "metadata": {},
   "source": [
    "# Task 1\n",
    "\n",
    "## Solve the equilibrium problem for a dimerisation reaction numerically (will do this in class together)."
   ]
  },
  {
   "cell_type": "markdown",
   "id": "e3d78fcd",
   "metadata": {},
   "source": [
    "___\n",
    "\n",
    "# Task 2\n",
    "\n",
    "## Dissociation of a acetic acid using an initial concentration of $0.15 M$ of acid."
   ]
  },
  {
   "cell_type": "markdown",
   "id": "08a2bbf3",
   "metadata": {},
   "source": [
    "## Write the balanced chemical reaction and definition of the equilibrium constant for this reaction."
   ]
  },
  {
   "cell_type": "markdown",
   "id": "b6ad3127",
   "metadata": {},
   "source": [
    "## Solve the problem numerically"
   ]
  },
  {
   "cell_type": "markdown",
   "id": "a23e5072",
   "metadata": {},
   "source": [
    "## Show graphically the convergence of the calculation."
   ]
  },
  {
   "cell_type": "markdown",
   "id": "3133291c",
   "metadata": {},
   "source": [
    "## Assume that the pH of the solution is kept at 2, 4, 6 and 9 via external titration. Adapt the numerical solution done previously to account for this and determine the equilibrium concentration of acetic acid and acetate at those conditions (see critical thinking question 5) for the solution of the problem at pH 9."
   ]
  },
  {
   "cell_type": "markdown",
   "id": "06898de5",
   "metadata": {},
   "source": [
    "## Solve the equilibrium problem analytically and compare it with the numerical solution."
   ]
  },
  {
   "cell_type": "markdown",
   "id": "9c9d244e",
   "metadata": {},
   "source": [
    "## Verify that the final equilibrium concentrations are independent of the starting conditions, provided that the initial mass is not altered."
   ]
  },
  {
   "cell_type": "markdown",
   "id": "8dc5cedc",
   "metadata": {},
   "source": [
    "___\n",
    "\n",
    "# Task 3\n",
    "\n",
    "## Solve the equilibrium problem for two coupled reactions, such as the dissociation of oxalic acid. Assume having 18g of oxalic acid in 1L of water."
   ]
  },
  {
   "cell_type": "markdown",
   "id": "2b6bc1e3",
   "metadata": {},
   "source": [
    "## Write a code to solve the problem numerically and determine:\n",
    "\n",
    "1. The pH of the equilibrium solution.\n",
    "2. The concentration of oxalate and h-oxalate if the pH of the solution is maintained at values of 2, 4 and 6."
   ]
  },
  {
   "cell_type": "markdown",
   "id": "df077a81",
   "metadata": {},
   "source": [
    "## Show graphically the convergence of the calculation."
   ]
  },
  {
   "cell_type": "markdown",
   "id": "51e17940",
   "metadata": {},
   "source": [
    "# Conclusion/critical thinking"
   ]
  },
  {
   "cell_type": "markdown",
   "id": "78ab41b5",
   "metadata": {},
   "source": [
    "1. Verify that the final equilibrium concentrations are independent of the starting conditions, provided that the initial mass is not altered for either task 2 or 3. Can you explain why that is?\n",
    "2. What is the effect of changing the values of $\\delta c$ or the number of cycles?\n",
    "3. Is the value of RT important?\n",
    "4. In some cases, it is possible that the concentration of one (or more) species becomes negative, this could be due to the fact that the starting conditions are too far from equilibrium and/or $\\delta c$ is too large. Can you think of how this problem can be fixed automatically in the implementation of these algorithms."
   ]
  }
 ],
 "metadata": {
  "kernelspec": {
   "display_name": "Python 3 (ipykernel)",
   "language": "python",
   "name": "python3"
  },
  "language_info": {
   "codemirror_mode": {
    "name": "ipython",
    "version": 3
   },
   "file_extension": ".py",
   "mimetype": "text/x-python",
   "name": "python",
   "nbconvert_exporter": "python",
   "pygments_lexer": "ipython3",
   "version": "3.9.13"
  }
 },
 "nbformat": 4,
 "nbformat_minor": 5
}
