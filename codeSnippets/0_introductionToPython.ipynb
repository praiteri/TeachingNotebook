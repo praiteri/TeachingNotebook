{
 "cells": [
  {
   "cell_type": "markdown",
   "id": "27e36903",
   "metadata": {},
   "source": [
    "# Click \"Edit App\" to see the code\n",
    "\n",
    "Python is a very powerful object oriented programming language, which is used in most fields of science both for computing and for data analysis.\n",
    "This document is a very simplistic introduction to Python written by a non-Python expert, and is designed to be a quick introduction to Python for CHEM2000 students.\n",
    "In many places the nomenclature is likely to be inaccurate and you are encouraged to consult more rigorous resources developed by real Python programmers.\n",
    "\n",
    "This document is aimed at providing enough knowledge to solve all the numerical laboratories that are part of the CHEM2000 unit using Python, but it is far from comprehensive. There are many different ways to solve problems numerically, different libraries/packages can be used and here we are providing only one (or a few) possible way of doing things.\n",
    "\n",
    "The entire document and the examples therein have been developed using a **Jupyter Notebook**, and work best there.\n",
    "\n",
    "A Jupyter notebook consists of a series of cells that can be either _text_ or _code_, the cell can then be _executed_ by pressing the **run** button or _Shift+Return_ (if you want to look like a pro). If things go pear-shaped, restarting the kernel and rerunning all the cells may help; this can be done by pressing the _fast forward_ button.\n",
    "\n",
    "Text cells accept _Markdown_ syntax and once executed will render the text. Markdown provides a simple way of producing formatted text and it accept _LaTeX_ commands for equations, which look much nicer that those made with the equation editor in MS Word. For a Markdown tutorial click [here](https://www.markdowntutorial.com)\n",
    "\n",
    "The code cells contain Python 3 commands. Note that some Python 3 is different from Python 2, _e.g._ the **print** command works differently."
   ]
  },
  {
   "cell_type": "markdown",
   "id": "89aeff2f",
   "metadata": {},
   "source": [
    "# My first Jupyter Notebook\n",
    "In general you would use the first _code_ cell to import all the packages that we need to use in the remainder of the code. We can import entire packages, part of the packages and assign aliases to the package name, _e.g._"
   ]
  },
  {
   "cell_type": "code",
   "execution_count": null,
   "id": "d891b488",
   "metadata": {},
   "outputs": [],
   "source": [
    "# python packages\n",
    "import pandas as pd # Dataframes and reading CSV files\n",
    "import numpy as np # Numerical libraries\n",
    "import matplotlib.pyplot as plt # Plotting library\n",
    "from lmfit import Model # Least squares fitting library"
   ]
  },
  {
   "cell_type": "markdown",
   "id": "ba2a9d91",
   "metadata": {},
   "source": [
    "this is particularly important because it ensures that if we define a variable that has the same name of a function belonging to that package there is no confusion about what the code does.\n",
    "```python\n",
    "# This is a variable\n",
    "mean = 10 \n",
    "\n",
    "# This is the NumPy function to compute the mean of an array of numbers\n",
    "np.mean([1,2,3])\n",
    "```\n",
    "\n",
    "Things to keep in mind when programming in Pythons are\n",
    "\n",
    "1. It is Case sensitivE\n",
    "\n",
    "```python\n",
    "average = 0\n",
    "```\n",
    "is different from\n",
    "```python\n",
    "aVeRagE = 0\n",
    "```"
   ]
  },
  {
   "cell_type": "markdown",
   "id": "e5873086",
   "metadata": {},
   "source": [
    "2. Variables' names cannot have spaces. This line would give you a _syntax error_\n",
    "```ptyhon\n",
    "number of values = 10\n",
    "```\n",
    "\n",
    "3. Spaces between operators are ignored, _1+2_ is the same as _1 + 2_"
   ]
  },
  {
   "cell_type": "code",
   "execution_count": null,
   "id": "fe123b14",
   "metadata": {},
   "outputs": [],
   "source": [
    "print(1 + 2)\n",
    "print(1+2)"
   ]
  },
  {
   "cell_type": "markdown",
   "id": "5def35ed",
   "metadata": {},
   "source": [
    "4. \\# is a comment and everything on its right is ignored"
   ]
  },
  {
   "cell_type": "code",
   "execution_count": null,
   "id": "d8a0f442",
   "metadata": {},
   "outputs": [],
   "source": [
    "# This is a comment\n",
    "print(\"Hello world\") # This is also a comment"
   ]
  },
  {
   "cell_type": "markdown",
   "id": "8266ac24",
   "metadata": {},
   "source": [
    "5. A single command can spread over multiple lines. If we split the line between variables no continuation line character is required. Otherwise we can use the \"\\\" character. Note the different results of the two commands below."
   ]
  },
  {
   "cell_type": "code",
   "execution_count": null,
   "id": "e974c8b8",
   "metadata": {},
   "outputs": [],
   "source": [
    "print(\"Hello\", \n",
    "      \"world\")\n",
    "print(\"Hello \\\n",
    "       world\")"
   ]
  },
  {
   "cell_type": "markdown",
   "id": "0b8af921",
   "metadata": {},
   "source": [
    "6. Indentation matters! Indentation is used to define the content of loops, functions... This will be more clear when we start using functions."
   ]
  },
  {
   "cell_type": "markdown",
   "id": "40835605",
   "metadata": {},
   "source": [
    "# Good programming practices\n",
    "\n",
    "1. Use meaningful name for your variables so that you know what's inside, there is no character limit.\n",
    "2. Use a consistent style and convention for your variables, the code will look neater. I like to use the _camel case_ style (numberOfValues) that allows me to have separation between words without using spaces. Alternatively you can use the _Pascal case_ style (NumberOfValues) or use the underscore character to separate words (number_of_variables) or create your own style.\n",
    "3. Comment your code well, it may be obvious what it does when you write it, but it won't be so obvious after a year or more.\n",
    "\n",
    "# Python as a simple calculator\n",
    "\n",
    "Let's start by doing some simple mathematical operations using this Jupyter Notebook; addition, multiplication, division $\\dots$, just to get familiar with the Jupyter Notebook."
   ]
  },
  {
   "cell_type": "code",
   "execution_count": null,
   "id": "4411c685",
   "metadata": {},
   "outputs": [],
   "source": [
    "2 + 3"
   ]
  },
  {
   "cell_type": "code",
   "execution_count": null,
   "id": "b2378f18",
   "metadata": {},
   "outputs": [],
   "source": [
    "4 * 3"
   ]
  },
  {
   "cell_type": "code",
   "execution_count": null,
   "id": "b9ddbd5b",
   "metadata": {},
   "outputs": [],
   "source": [
    "12 / 3"
   ]
  },
  {
   "cell_type": "code",
   "execution_count": null,
   "id": "2b6b64e8",
   "metadata": {},
   "outputs": [],
   "source": [
    "2**3"
   ]
  },
  {
   "cell_type": "markdown",
   "id": "6221321f",
   "metadata": {},
   "source": [
    "The same operations can be done using variables. We can first define two variables _a_ and _b_ and then use them in in the following cells"
   ]
  },
  {
   "cell_type": "code",
   "execution_count": null,
   "id": "8cd8e8b4",
   "metadata": {},
   "outputs": [],
   "source": [
    "a = 12\n",
    "b = 3\n",
    "a + b"
   ]
  },
  {
   "cell_type": "markdown",
   "id": "55fb687b",
   "metadata": {},
   "source": [
    "This is not a very efficient way of working because the result of the operation is not available to the rest of the code after the cell has been executed. Typically, we want to create new variables and than write the result using the _print_ command."
   ]
  },
  {
   "cell_type": "code",
   "execution_count": null,
   "id": "aa0a0776",
   "metadata": {},
   "outputs": [],
   "source": [
    "a = 10\n",
    "b = 20\n",
    "c = a + b\n",
    "print(\"Result :\",c)"
   ]
  },
  {
   "cell_type": "markdown",
   "id": "79e78fee",
   "metadata": {},
   "source": [
    "# Python as a scientific calculator\n",
    "Not all scientific operators are natively available in Python, but they can be accessed through optional packages that are loaded at the beginning of your notebook, _e.g._ **NumPy**.\n",
    "NumPy is one of the most commonly used Python libraries, it contains all the operators for square root, logarithm, exponential, the trigonometric function, a suite of constants and much more. \n",
    "For more information see [https://numpy.org](https://numpy.org).\n",
    "\n",
    "In the examples below we show how to use NumPy to access some of these functions.\n",
    "* Note that we access the NumPy function through using the _np_ prefix because of the way we imported the NumPy library at the beginning of this notebook."
   ]
  },
  {
   "cell_type": "code",
   "execution_count": null,
   "id": "77dd7348",
   "metadata": {},
   "outputs": [],
   "source": [
    "print(\"The approximate value of pi is                     :\",np.pi)\n",
    "print(\"The approximate value of the Euler constant (e) is :\",np.e)\n",
    "print(\"The square root of two is                          :\",np.sqrt(2))\n",
    "print(\"The natural logarithm of two is                    :\",np.log(2))\n",
    "print(\"The logarithm base 10 of two is                    :\",np.log10(2))\n",
    "print(\"The sine of pi is                                  :\",np.sin(np.pi))\n",
    "print(\"The cosine of pi is                                :\",np.cos(np.pi))"
   ]
  },
  {
   "cell_type": "markdown",
   "id": "2650074e",
   "metadata": {},
   "source": [
    "Even more useful than variables are arrays, which allow us to store many values in one place. Arrays can be created by hand or be the output of other Python functions.\n",
    "They can contain numbers, strings or other variables, or mixed types"
   ]
  },
  {
   "cell_type": "code",
   "execution_count": null,
   "id": "271dc38f",
   "metadata": {},
   "outputs": [],
   "source": [
    "arrayOfNumbers = [300, 2, 3.2]\n",
    "print(\"Three dimensional array of numbers :\",arrayOfNumbers)\n",
    "arrayOfStrings = [\"Temperature\" , \"Pressure\" , \"Volume\"]\n",
    "print(\"Three dimensional array of strings :\",arrayOfStrings)\n",
    "mixedArray = [\"temperature\" , 300]\n",
    "print(\"The mixed array is                 :\",mixedArray)"
   ]
  },
  {
   "cell_type": "markdown",
   "id": "588b11d0",
   "metadata": {},
   "source": [
    "We can easily access one of the elements of the array, by specifying its location in the array.\n",
    "* Note that Python starts counting from zero!"
   ]
  },
  {
   "cell_type": "code",
   "execution_count": null,
   "id": "0fced018",
   "metadata": {},
   "outputs": [],
   "source": [
    "print(\"Second element of the array of numbers :\",arrayOfNumbers[1])\n",
    "print(\"Second element of the array of strings :\",arrayOfStrings[1])"
   ]
  },
  {
   "cell_type": "markdown",
   "id": "054d2eae",
   "metadata": {},
   "source": [
    "We can also construct a loop to cycle over the elements of the array.\n",
    "If we are interested in cycling over one array only we can use the **in** operator.\n",
    "* It's important to note here that the indentation of the code determines where the loop finished"
   ]
  },
  {
   "cell_type": "code",
   "execution_count": null,
   "id": "8bccd512",
   "metadata": {},
   "outputs": [],
   "source": [
    "for value in arrayOfNumbers:\n",
    "    print(\"--- This is inside the loop ----\",value)\n",
    "print(\"--- This is outside the loop ---\")"
   ]
  },
  {
   "cell_type": "markdown",
   "id": "5e8937cc",
   "metadata": {},
   "source": [
    "Alternatively we can create a loop over the indices of the array using the **range** iterator.\n",
    "* Note the use of the function **len** to compute the size of the array!\n",
    "* Note that the upper limit of the **range** iterator is not included!"
   ]
  },
  {
   "cell_type": "code",
   "execution_count": null,
   "id": "0f911987",
   "metadata": {},
   "outputs": [],
   "source": [
    "numberOfElements = len(arrayOfNumbers)\n",
    "print(\"Number of elements :\",numberOfElements)\n",
    "for index in range(0,numberOfElements):\n",
    "    print(index,                   # index\n",
    "          arrayOfStrings[index],   # sting\n",
    "          arrayOfNumbers[index])   # number"
   ]
  },
  {
   "cell_type": "markdown",
   "id": "38307344",
   "metadata": {},
   "source": [
    "**range** is a special thing of python 3, and it produces a list of indices only when part of a loop. This is at variance with the NumPy **arange** function, which instead will produce an array that we can use normally.\n",
    "Both the **range** and **arange** function typically take three arguments, the lower limit of the range (included) the upper limit of the range (not included) and the step. The main difference is that **range** being an iterator works only with integer numbers, while **arange** can also work with floating point numbers. \n",
    "If the step is omitted, one is assumed.\n",
    "Let's have a look at a couple of examples."
   ]
  },
  {
   "cell_type": "code",
   "execution_count": null,
   "id": "85c09ecb",
   "metadata": {},
   "outputs": [],
   "source": [
    "for i in range(0,4):\n",
    "    print(i)"
   ]
  },
  {
   "cell_type": "code",
   "execution_count": null,
   "id": "ed8b92dc",
   "metadata": {},
   "outputs": [],
   "source": [
    "for i in range(0,4,2):\n",
    "    print(i)"
   ]
  },
  {
   "cell_type": "code",
   "execution_count": null,
   "id": "22e61897",
   "metadata": {},
   "outputs": [],
   "source": [
    "for i in np.arange(0,4,2):\n",
    "    print(i)"
   ]
  },
  {
   "cell_type": "code",
   "execution_count": null,
   "id": "8fa02594",
   "metadata": {},
   "outputs": [],
   "source": [
    "for i in np.arange(0,4,0.5):\n",
    "    print(i)"
   ]
  },
  {
   "cell_type": "markdown",
   "id": "1dd69d0c",
   "metadata": {},
   "source": [
    "Let's now see how we can use the **range** iterator and the **np.arange** function to generate arrays of equally spaced values. While this is straightforward with the NumPy function, it is more complicated with **range** iterator, and we need to _recast_ the output into a list."
   ]
  },
  {
   "cell_type": "code",
   "execution_count": null,
   "id": "7d8c235a",
   "metadata": {},
   "outputs": [],
   "source": [
    "values = np.arange(1.1,4,0.7)\n",
    "print(values)\n",
    "\n",
    "values = list(range(0,5,2))\n",
    "print(values)"
   ]
  },
  {
   "cell_type": "markdown",
   "id": "8730e667",
   "metadata": {},
   "source": [
    "# Operations with arrays\n",
    "As an illustrative example of using arrays and variables we can now compute the sum and average of all the elements in an array of numbers. In order to do that we initialise a variable to zero, and progressively add the array elemnts to it.\n",
    "* Note how we can increment the value of the variable using the += operator. These two commands are equivalent\n",
    "```python\n",
    "summ += value\n",
    "summ = summ + value\n",
    "```\n",
    "Those two line are also equivalent to the following, where we use a temporary variable, to explicitly show what the code does\n",
    "```python\n",
    "tmp = summ + value\n",
    "summ = tmp\n",
    "```\n",
    "The operators -=, \\*= and /= have analogous meanings."
   ]
  },
  {
   "cell_type": "code",
   "execution_count": null,
   "id": "2252b3ef",
   "metadata": {},
   "outputs": [],
   "source": [
    "summ = 0.\n",
    "for value in arrayOfNumbers:\n",
    "    summ += value \n",
    "\n",
    "print(\"Result of += :\",summ)"
   ]
  },
  {
   "cell_type": "markdown",
   "id": "3b6c066a",
   "metadata": {},
   "source": [
    "The average can then be computed directly inside the print statement."
   ]
  },
  {
   "cell_type": "code",
   "execution_count": null,
   "id": "94cd4cd9",
   "metadata": {},
   "outputs": [],
   "source": [
    "print(\"Average :\",summ/len(arrayOfNumbers))"
   ]
  },
  {
   "cell_type": "markdown",
   "id": "415e2e50",
   "metadata": {},
   "source": [
    "Many simple operations on arrays can however be more efficiently performed using libraries such as NumPy, _e.g._ summation, average, standard deviation, etc.\n",
    "Using these function will also make your code slimmer and easier to read."
   ]
  },
  {
   "cell_type": "code",
   "execution_count": null,
   "id": "30138a69",
   "metadata": {},
   "outputs": [],
   "source": [
    "tally = np.sum(arrayOfNumbers)\n",
    "average = np.mean(arrayOfNumbers)\n",
    "StDev = np.std(arrayOfNumbers)\n",
    "\n",
    "print(\"Sum :\",tally)\n",
    "print(\"Average :\",average)\n",
    "print(\"Standard Deviation :\",StDev)"
   ]
  },
  {
   "cell_type": "markdown",
   "id": "dac07f0a",
   "metadata": {},
   "source": [
    "Unfortunately there is no NumPy function for computing the standard error, but we can easily compute that from its definition\n",
    "\n",
    "\\begin{equation}\n",
    "StdErr = \\frac{\\sigma}{\\sqrt{N}}\n",
    "\\end{equation}\n",
    "where $\\sigma$ is the standard deviation and $N$ the number of values used in the calculation."
   ]
  },
  {
   "cell_type": "code",
   "execution_count": null,
   "id": "905dd419",
   "metadata": {},
   "outputs": [],
   "source": [
    "print(\"Standard Error :\",StDev/np.sqrt(len(arrayOfNumbers)))"
   ]
  },
  {
   "cell_type": "markdown",
   "id": "1e3392d3",
   "metadata": {},
   "source": [
    "# Using DataFrames\n",
    "Dataframes are powerful objects that are part of the _pandas_ package. The most simplistic description of a dataframe is that it is a multi-dimension mixed array. Dataframes are more than that, as they also include functions that operate on the DataFrame content.\n",
    "This definition of DataFrames would probably horrify a Python programmer, but it would suffice for the purpose of this course.\n",
    "\n",
    "Dataframes can be defined by hand, or created by other functions, _e.g._ by reading a Comma Separated Values file (.csv). Let's see first how we can create a an empty DataFrame, with three columns named \"Temperature\", \"Volume\" and \"Pressure\"; with their units."
   ]
  },
  {
   "cell_type": "code",
   "execution_count": null,
   "id": "b4eedd80",
   "metadata": {},
   "outputs": [],
   "source": [
    "# This array is used to define the names of the columns\n",
    "header = [\"Temperature (K)\" , \"Volume (L)\" , \"Pressure (bar)\"] \n",
    "\n",
    "# This is our new dataframe\n",
    "df = pd.DataFrame(data=None, columns=header)\n",
    "print(df)"
   ]
  },
  {
   "cell_type": "markdown",
   "id": "7f0c9da2",
   "metadata": {},
   "source": [
    "Let's now fill the dataframe using the ideal gas law\n",
    "\n",
    "\\begin{equation}\n",
    "pV = nRT\n",
    "\\end{equation}\n",
    "\n",
    "where $p$ is the pressure, $V$ the volume, $T$ the temperature and $R=8.314\\ J/mol/K$ is the ideal gas constant, each expressed with the units specified in the header of the dataframe.\n",
    "\n",
    "Let's compute the volume of an ideal gas at different pressures and temperatures.\n",
    "\n",
    "For simplicity we fix the number of moles to 1.\n",
    "* Note how we use the **range** function to create an array of integers and the NumPy **arange** function to create a an array of _floating point numbers_.\n",
    "* The variable _index_ is used to count the number of elements that we already have in the DataFrame, and to add the next one. This works because Python starts counting from zero.\n",
    "* Note we used the **loc** function to added an array to the DataFrame at a specific position.\n",
    "* Note how we also created an array to store all the temperatures we generate, the array is created empty using **= []** and then we append elements to it using the **.append()** function"
   ]
  },
  {
   "cell_type": "code",
   "execution_count": null,
   "id": "91295336",
   "metadata": {},
   "outputs": [],
   "source": [
    "R = 8.314 # kJ/mol\n",
    "n = 1\n",
    "# Conversion factor between J/bar to litre\n",
    "conversionFactor = 0.01 \n",
    "\n",
    "listOfTemperatures = []\n",
    "for T in range(100,301,50):\n",
    "    listOfTemperatures.append(T)\n",
    "    \n",
    "    for p in np.arange(0.1,1,0.02):\n",
    "        V = (n * R * T / p) * conversionFactor      \n",
    "        index = len(df.index)\n",
    "        df.loc[index]  = [T , V , p] # a vector is added to the DataFrame\n",
    "        \n",
    "print(df)"
   ]
  },
  {
   "cell_type": "markdown",
   "id": "e3186e53",
   "metadata": {},
   "source": [
    "There are many ways to access the data in a DataFrame. Here we'll show you two; one to quickly get an entire column of the array, and one to get selected chunks of data using the **iloc** function."
   ]
  },
  {
   "cell_type": "code",
   "execution_count": null,
   "id": "73b9de31",
   "metadata": {},
   "outputs": [],
   "source": [
    "print(df[\"Temperature (K)\"])"
   ]
  },
  {
   "cell_type": "markdown",
   "id": "607c3039",
   "metadata": {},
   "source": [
    "For the DataFrame that we have, the **iloc** function takes two arguments, the row and columns indices."
   ]
  },
  {
   "cell_type": "code",
   "execution_count": null,
   "id": "98ec4640",
   "metadata": {},
   "outputs": [],
   "source": [
    "print(df.iloc[0,1])"
   ]
  },
  {
   "cell_type": "markdown",
   "id": "32b410c3",
   "metadata": {},
   "source": [
    "We can then use \"**:**\" to specify a range of elements that we want to use.\n",
    "* Note that the lower limit of the range is included while the upper limit is not !\n",
    "* Note that if one limit of the range is missing, the start/end of the array is assumed\n",
    "* Note how we have used **.values** to cast the output data in an array."
   ]
  },
  {
   "cell_type": "code",
   "execution_count": null,
   "id": "3954e25c",
   "metadata": {},
   "outputs": [],
   "source": [
    "print(df.iloc[0:3 , 1  ].values) # the first three volumes\n",
    "print(df.iloc[0   , 0:3].values) # the first row\n",
    "print(df.iloc[0   ,  : ].values) # the first row\n",
    "print(df.iloc[0   , 1: ].values) # the last two elements of the first row\n",
    "print(df.iloc[0   ,  :2].values) # the first two elements of the first row"
   ]
  },
  {
   "cell_type": "markdown",
   "id": "10f711e7",
   "metadata": {},
   "source": [
    "# Making a graph\n",
    "Let's now make a graph with these data using the **mathplotlib** library. \n",
    "As a start we can make a plot of the entire DataFrame.\n",
    "\n",
    "The **subplots** function creates two objects, the _figure_ and the _axes_ of the figure itself.\n",
    "Each of those objects contain functions that we can use to customise the final plot. More in another tutorial."
   ]
  },
  {
   "cell_type": "code",
   "execution_count": null,
   "id": "b359be4e",
   "metadata": {},
   "outputs": [],
   "source": [
    "# Create the figure and axes objects\n",
    "fig , ax = plt.subplots()\n",
    "# Add the data to the plot from the DataFrame\n",
    "ax.scatter(df[\"Pressure (bar)\"] , df[\"Volume (L)\"])\n",
    "# Diplay the figure\n",
    "plt.show()"
   ]
  },
  {
   "cell_type": "markdown",
   "id": "a18acbdb",
   "metadata": {},
   "source": [
    "Let's now do some data manipulation to make a better plot, using a line for each isotherm.\n",
    "There are many ways of doing this, but here we'll take an educational approach and use _conditional_ statements to select parts of the dataframe, add them to arrays and plot them.\n",
    "\n",
    "What we are going to do is to choose a temperature, _e.g._ 100K, and create two arrays (p,v) with the corresponding pressures and volumes, than we will use them for plotting.\n",
    "* Note that we used the **scatter** and **plot** functions to plot the data as circles with a line overlaid.\n",
    "* Note that we set the **set** function for to add the labels to the axes (_ax_)"
   ]
  },
  {
   "cell_type": "code",
   "execution_count": null,
   "id": "82af9a2d",
   "metadata": {},
   "outputs": [],
   "source": [
    "T=100\n",
    "pressure = []\n",
    "volume = []\n",
    "for index in range(0,len(df.index)):\n",
    "    if df.iloc[index,0] == T:\n",
    "        pressure.append(df.iloc[index,2])\n",
    "        volume.append(df.iloc[index,1])\n",
    "\n",
    "print(\"Pressure array :\",pressure[0:3],\"...\")\n",
    "print(\"Volume array :\",volume[0:3],\"...\")\n",
    "\n",
    "fig , ax = plt.subplots()\n",
    "ax.scatter(pressure , volume)\n",
    "ax.plot(pressure , volume)\n",
    "\n",
    "# Let's add the labels to the axes\n",
    "ax.set(xlabel=\"Pressure (bar)\")\n",
    "ax.set(ylabel=\"Volume (L)\")\n",
    "\n",
    "plt.show()"
   ]
  },
  {
   "cell_type": "markdown",
   "id": "f617e226",
   "metadata": {},
   "source": [
    "If we want then to plot all isotherm in one graph we can wrap the code above in a loop over all the temperatures we have created. \n",
    "\n",
    "* Note the indentation of the **for** loops and **if** conditional statement.\n",
    "* Note how in this example we select portions of the DataFrame including a conditional statement in **[]** when we call the DataFrame\n",
    "* Note that we used **.values** to transform the DataFrame into an array"
   ]
  },
  {
   "cell_type": "code",
   "execution_count": null,
   "id": "243d5968",
   "metadata": {},
   "outputs": [],
   "source": [
    "# First we have to create the figure\n",
    "fig , ax = plt.subplots()\n",
    "\n",
    "for T in listOfTemperatures:\n",
    "    pressure = df[df[\"Temperature (K)\"] == T][\"Pressure (bar)\"].values\n",
    "    volume = df[df[\"Temperature (K)\"] == T][\"Volume (L)\"].values\n",
    "\n",
    "    # add one line to the plot for each temperature\n",
    "    ax.plot(pressure , volume, label=T)\n",
    "\n",
    "# Let's add the labels to the axes\n",
    "ax.set(xlabel=\"Pressure (bar)\")\n",
    "ax.set(ylabel=\"Volume (L)\")\n",
    "\n",
    "# Let's also add the legend\n",
    "ax.legend()\n",
    "\n",
    "plt.show()"
   ]
  }
 ],
 "metadata": {
  "kernelspec": {
   "display_name": "Python 3 (ipykernel)",
   "language": "python",
   "name": "python3"
  },
  "language_info": {
   "codemirror_mode": {
    "name": "ipython",
    "version": 3
   },
   "file_extension": ".py",
   "mimetype": "text/x-python",
   "name": "python",
   "nbconvert_exporter": "python",
   "pygments_lexer": "ipython3",
   "version": "3.9.15"
  }
 },
 "nbformat": 4,
 "nbformat_minor": 5
}
