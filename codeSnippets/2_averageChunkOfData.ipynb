{
 "cells": [
  {
   "cell_type": "markdown",
   "id": "f415ed13",
   "metadata": {},
   "source": [
    "# Click \"Edit App\" to see the code\n",
    "# Averaging a subset of data\n",
    "\n",
    "In this notebook we'll demonstrate how to compute the average of a chunk of data from a large dataset.\n",
    "We can start from loading the Python packages"
   ]
  },
  {
   "cell_type": "markdown",
   "id": "cb86b4cf",
   "metadata": {},
   "source": [
    "# The Jupyter Notebook\n",
    "First of all we import the Python packages"
   ]
  },
  {
   "cell_type": "code",
   "execution_count": null,
   "id": "f008a39d",
   "metadata": {},
   "outputs": [],
   "source": [
    "# python packages\n",
    "import pandas as pd # DataFrames and reading CSV files\n",
    "import numpy as np # Numerical libraries\n",
    "import matplotlib.pyplot as plt # Plotting library\n",
    "from lmfit import Model # Least squares fitting library"
   ]
  },
  {
   "cell_type": "markdown",
   "id": "6b53b23a",
   "metadata": {},
   "source": [
    "We then read a data file into a DataFrame, and rename the columns"
   ]
  },
  {
   "cell_type": "code",
   "execution_count": null,
   "id": "f4595246",
   "metadata": {},
   "outputs": [],
   "source": [
    "data = pd.read_csv(\"../miscData/random1.csv\")\n",
    "data.columns = (\"X\",\"Y\")\n",
    "print(data)"
   ]
  },
  {
   "cell_type": "markdown",
   "id": "ca838819",
   "metadata": {},
   "source": [
    "The most common scenario is to compute the average of a chunk of data, discarding the initial and/or final part of the data set. We can therefore define two variables; the index of the first point to be included in the average and the total number of points to be averaged. Alternatively one could set the index of the last point to be included in the average\n",
    "Remember that Python starts counting from zero"
   ]
  },
  {
   "cell_type": "code",
   "execution_count": null,
   "id": "1f7ec6ef",
   "metadata": {},
   "outputs": [],
   "source": [
    "# Total number of points\n",
    "totalNumberOfValues = len(data[\"Y\"]) \n",
    "# First element to be included in the average\n",
    "firstValue = 0\n",
    "# Number of elements to be included in the average\n",
    "numberOfValuesToAverage = 3 \n",
    "# Last element to be included in the average\n",
    "lastValue = firstValue + numberOfValuesToAverage - 1\n",
    "print(\"Total number of points in the DataFrame        :\",totalNumberOfValues)\n",
    "print(\"First element to be included in the average    :\",firstValue)\n",
    "print(\"Last element to be included in the average     :\",lastValue)\n",
    "print(\"Number of values to be included in the average :\",\n",
    "      numberOfValuesToAverage)"
   ]
  },
  {
   "cell_type": "markdown",
   "id": "c2c77bf3",
   "metadata": {},
   "source": [
    "Let's print the values in the second column that corresponds to the interval we have chosen.\n",
    "We can also to check they are what we expect."
   ]
  },
  {
   "cell_type": "code",
   "execution_count": null,
   "id": "0f77975d",
   "metadata": {},
   "outputs": [],
   "source": [
    "values = data.iloc[firstValue:lastValue+1][\"Y\"].values\n",
    "print(values)"
   ]
  },
  {
   "cell_type": "markdown",
   "id": "1dcffe10",
   "metadata": {},
   "source": [
    "* Note how in the cell above we used a different syntax for selecting the elements of the data frame, **iloc[:][\"Y\"]**. That is equivalent to the following code.\n",
    "* Also note how we used **.values** to convert the DataFrame to an array"
   ]
  },
  {
   "cell_type": "code",
   "execution_count": null,
   "id": "89473e90",
   "metadata": {},
   "outputs": [],
   "source": [
    "v0 = data[\"Y\"].values\n",
    "v1 = v0[firstValue:lastValue+1]\n",
    "print(v1)"
   ]
  },
  {
   "cell_type": "markdown",
   "id": "f52c9fca",
   "metadata": {},
   "source": [
    "We can now compute the average of the numbers in the array using the **mean** function in NumPy."
   ]
  },
  {
   "cell_type": "code",
   "execution_count": null,
   "id": "ad7774d2",
   "metadata": {},
   "outputs": [],
   "source": [
    "average = np.mean(values)\n",
    "print(\"Average :\",average)"
   ]
  },
  {
   "cell_type": "markdown",
   "id": "aa64f439",
   "metadata": {},
   "source": [
    "For some types of statistical analysis, like bootstrapping, we might be interested in randomly selecting a subset of data, to reduce the human bias in the analysis. In order to do this we can use the **ramdom.choice()** function in NumPy to create an array of random numbers taken between 0 and the size of out sample (_numberOfValues_).\n",
    "This array will contain the indices of the elements that we'll pick from our global array."
   ]
  },
  {
   "cell_type": "code",
   "execution_count": null,
   "id": "892ed809",
   "metadata": {},
   "outputs": [],
   "source": [
    "numberOfValues = 20 \n",
    "randomIndices = np.random.choice(totalNumberOfValues, \n",
    "                                 replace=False, \n",
    "                                 size=numberOfValues)\n",
    "print(randomIndices)"
   ]
  },
  {
   "cell_type": "markdown",
   "id": "afcc6ef6",
   "metadata": {},
   "source": [
    "We can then use that array of number to create a array with the data that we are going to average."
   ]
  },
  {
   "cell_type": "code",
   "execution_count": null,
   "id": "090655b8",
   "metadata": {},
   "outputs": [],
   "source": [
    "randomValues = data.iloc[randomIndices][\"Y\"].values\n",
    "print(randomValues)"
   ]
  },
  {
   "cell_type": "markdown",
   "id": "1132556a",
   "metadata": {},
   "source": [
    "We can then compute the average of _randomValues_"
   ]
  },
  {
   "cell_type": "code",
   "execution_count": null,
   "id": "a56e90b8",
   "metadata": {},
   "outputs": [],
   "source": [
    "averageOfRandomValues = np.mean(randomValues)\n",
    "print(\"Number of randomly selected values      :\",numberOfValues)\n",
    "print(\"Average of the randomly selected values :\",averageOfRandomValues)"
   ]
  }
 ],
 "metadata": {
  "kernelspec": {
   "display_name": "Python 3 (ipykernel)",
   "language": "python",
   "name": "python3"
  },
  "language_info": {
   "codemirror_mode": {
    "name": "ipython",
    "version": 3
   },
   "file_extension": ".py",
   "mimetype": "text/x-python",
   "name": "python",
   "nbconvert_exporter": "python",
   "pygments_lexer": "ipython3",
   "version": "3.9.7"
  },
  "widgets": {
   "application/vnd.jupyter.widget-state+json": {
    "state": {},
    "version_major": 2,
    "version_minor": 0
   }
  }
 },
 "nbformat": 4,
 "nbformat_minor": 5
}
