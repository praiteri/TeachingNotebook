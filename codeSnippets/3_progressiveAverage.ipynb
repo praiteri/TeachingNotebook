{
 "cells": [
  {
   "cell_type": "markdown",
   "id": "16de70f2",
   "metadata": {},
   "source": [
    "# Progressive average\n",
    "\n",
    "In this tutorial we will start by computing the average and standard deviation of a dataset as a function of the number of values that are included in the calculation. "
   ]
  },
  {
   "cell_type": "markdown",
   "id": "19739a2b",
   "metadata": {},
   "source": [
    "# The Jupyter NoteBook\n",
    "\n",
    "Let's start by loading the usual python libraries"
   ]
  },
  {
   "cell_type": "code",
   "execution_count": null,
   "id": "f562a115",
   "metadata": {},
   "outputs": [],
   "source": [
    "# python packages\n",
    "import pandas as pd # Dataframes and reading CSV files\n",
    "import numpy as np # Numerical libraries\n",
    "import matplotlib.pyplot as plt # Plotting library\n",
    "from lmfit import Model # Least squares fitting library"
   ]
  },
  {
   "cell_type": "markdown",
   "id": "684268b6",
   "metadata": {},
   "source": [
    "We can then read the data into a dataframe using pandas and compute the number of data we have (numberOfValues) and average of the second column"
   ]
  },
  {
   "cell_type": "code",
   "execution_count": null,
   "id": "aae28761",
   "metadata": {},
   "outputs": [],
   "source": [
    "data = pd.read_csv(\"../miscData/random2.csv\")\n",
    "data.columns = (\"X\",\"Y\")\n",
    "print(data)"
   ]
  },
  {
   "cell_type": "code",
   "execution_count": null,
   "id": "cb15bb35",
   "metadata": {},
   "outputs": [],
   "source": [
    "average = np.mean(data[\"Y\"])\n",
    "print(\"Average of all data :\",average)"
   ]
  },
  {
   "cell_type": "markdown",
   "id": "84984b4a",
   "metadata": {},
   "source": [
    "In the following we would call _progressive average_ the average as a function of the number of data that are processed. In order to compute this quantity and plot it, we need to define an array that will contain the _progressive average_ after the first one, two, three $\\dots$ $N$ data points are used.\n",
    "An array can be initialised using []"
   ]
  },
  {
   "cell_type": "code",
   "execution_count": null,
   "id": "2a8e6c49",
   "metadata": {},
   "outputs": [],
   "source": [
    "progressiveAverage = []"
   ]
  },
  {
   "cell_type": "markdown",
   "id": "f728c9d4",
   "metadata": {},
   "source": [
    "We can then  append the values of the average as we use more and more values. In order to do that, we write a loop and compute the average as we go."
   ]
  },
  {
   "cell_type": "code",
   "execution_count": null,
   "id": "b4f46406",
   "metadata": {},
   "outputs": [],
   "source": [
    "tmpAverage = 0\n",
    "counter = 0\n",
    "for val in data[\"Y\"]:\n",
    "    # This variable contains the sum of the first i elements in the data array\n",
    "    tmpAverage = tmpAverage + val \n",
    "    \n",
    "    # This variable  counts the number of elements that have been added\n",
    "    counter = counter + 1 \n",
    "    \n",
    "    # This is the progressive Average\n",
    "    pAverage = tmpAverage / counter \n",
    "    \n",
    "    # This appends to value to the array\n",
    "    progressiveAverage.append(pAverage) "
   ]
  },
  {
   "cell_type": "markdown",
   "id": "3bd2c18c",
   "metadata": {},
   "source": [
    "We can then check that we have computed the average correctly by writing the last computed value of the progressive average"
   ]
  },
  {
   "cell_type": "code",
   "execution_count": null,
   "id": "4514ee9b",
   "metadata": {},
   "outputs": [],
   "source": [
    "print(\"Average from the loop :\",pAverage)"
   ]
  },
  {
   "cell_type": "markdown",
   "id": "dbd1c718",
   "metadata": {},
   "source": [
    "Let's now make a plot of the data and the progressive average.\n",
    "Note we made the points smaller (s=10) and the line thicker (lw=5) and we have added the global average as an horizontal line,"
   ]
  },
  {
   "cell_type": "code",
   "execution_count": null,
   "id": "95b4519c",
   "metadata": {},
   "outputs": [],
   "source": [
    "fig1 , ax = plt.subplots(figsize=(15,5))\n",
    "\n",
    "# plotting the data as points\n",
    "ax.scatter(data[\"X\"],data[\"Y\"],label=\"Data\",s=10)\n",
    "\n",
    "# adding the progressive average\n",
    "ax.plot(data[\"X\"],progressiveAverage,label=\"Progressive Average\",color='red',lw=5)\n",
    "\n",
    "# adding the total average as an horizontal line\n",
    "average = np.mean(data[\"Y\"])\n",
    "ax.axhline(y=average, color='black', lw=3, linestyle=\"dashed\", label=\"Average\")\n",
    "\n",
    "ax.set(xlabel=\"Index\")\n",
    "ax.set(ylabel=\"Value\")\n",
    "\n",
    "ax.legend()\n",
    "plt.show()"
   ]
  },
  {
   "cell_type": "markdown",
   "id": "9384409d",
   "metadata": {},
   "source": [
    "An alternative approach to compute the progressive average, probably less computationally efficient is to use NumPy to compute the average of subsets of points. However, the syntax is much more compact.\n",
    "* Note however the range that we need to use in the **iloc** function."
   ]
  },
  {
   "cell_type": "code",
   "execution_count": null,
   "id": "49053e89",
   "metadata": {},
   "outputs": [],
   "source": [
    "numberOfValues = len(data[\"Y\"])\n",
    "progressiveAverage2 = []\n",
    "for i in range(0,numberOfValues):\n",
    "    progressiveAverage2.append(np.mean(data.iloc[0:i+1][\"Y\"]))"
   ]
  },
  {
   "cell_type": "markdown",
   "id": "b4ae694a",
   "metadata": {},
   "source": [
    "We can then print the final average to make sure the procedure works as expected"
   ]
  },
  {
   "cell_type": "code",
   "execution_count": null,
   "id": "83dded3e",
   "metadata": {},
   "outputs": [],
   "source": [
    "print(\"Average from method #2\",progressiveAverage2[numberOfValues-1])"
   ]
  },
  {
   "cell_type": "markdown",
   "id": "f8f22c7d",
   "metadata": {},
   "source": [
    "We can also plot only the progressive average to see how it converges to the average of the entire dataset."
   ]
  },
  {
   "cell_type": "code",
   "execution_count": null,
   "id": "6b60d6ce",
   "metadata": {},
   "outputs": [],
   "source": [
    "fig1 , ax = plt.subplots(figsize=(15,5))\n",
    "\n",
    "# plotting the data as points\n",
    "# ax.scatter(data[\"X\"],data[\"Y\"],label=\"Data\",s=10)\n",
    "\n",
    "# adding the progressive average computed with the first second method\n",
    "ax.plot(data[\"X\"],progressiveAverage2,label=\"Progressive Average\",color='red',lw=5)\n",
    "ax.axhline(y=average, color='black', lw=3, linestyle=\"dashed\", label=\"Average\")\n",
    "\n",
    "ax.set(xlabel=\"Index\")\n",
    "ax.set(ylabel=\"Value\")\n",
    "\n",
    "ax.legend()\n",
    "plt.show()"
   ]
  },
  {
   "cell_type": "markdown",
   "id": "86e0c150",
   "metadata": {},
   "source": [
    "Let's now use the same procedure to compute the _progressive_ for the standard deviation and standard error."
   ]
  },
  {
   "cell_type": "code",
   "execution_count": null,
   "id": "f6625e41",
   "metadata": {},
   "outputs": [],
   "source": [
    "standardDeviation = []\n",
    "standardError = []\n",
    "for i in range(1,numberOfValues+1):\n",
    "    std = np.std(data.iloc[0:i,1])\n",
    "    standardDeviation.append(std)\n",
    "    standardError.append(std/np.sqrt(i))"
   ]
  },
  {
   "cell_type": "markdown",
   "id": "889830b0",
   "metadata": {},
   "source": [
    "We can now create a figure with the _progressive_ standard deviation and standard error, and also a dotted line for the zero to show that the standared error asymptotically goes to zero"
   ]
  },
  {
   "cell_type": "code",
   "execution_count": null,
   "id": "a0559c8d",
   "metadata": {},
   "outputs": [],
   "source": [
    "fig1 , ax = plt.subplots(figsize=(15,5))\n",
    "\n",
    "# adding the standard deviation\n",
    "ax.plot(data[\"X\"],standardDeviation,label=\"StDev\",color='red',lw=2)\n",
    "\n",
    "# adding the standard Error\n",
    "ax.plot(data[\"X\"],standardError,label=\"StErr\",color='blue',lw=2)\n",
    "\n",
    "# let's also add an horizontal line for the zero\n",
    "ax.axhline(0,color='black',linestyle=\":\")\n",
    "\n",
    "ax.set(xlabel=\"Index\")\n",
    "\n",
    "ax.legend()\n",
    "plt.show()"
   ]
  },
  {
   "cell_type": "markdown",
   "id": "8c2f938a",
   "metadata": {},
   "source": [
    "As expected for the random #2 dataset, the standard converges to a finite values, while the standard error asymptotically tends to zero as $1/\\sqrt{N}$"
   ]
  }
 ],
 "metadata": {
  "kernelspec": {
   "display_name": "Python 3 (ipykernel)",
   "language": "python",
   "name": "python3"
  },
  "language_info": {
   "codemirror_mode": {
    "name": "ipython",
    "version": 3
   },
   "file_extension": ".py",
   "mimetype": "text/x-python",
   "name": "python",
   "nbconvert_exporter": "python",
   "pygments_lexer": "ipython3",
   "version": "3.11.7"
  },
  "widgets": {
   "application/vnd.jupyter.widget-state+json": {
    "state": {},
    "version_major": 2,
    "version_minor": 0
   }
  }
 },
 "nbformat": 4,
 "nbformat_minor": 5
}
