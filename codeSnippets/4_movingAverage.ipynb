{
 "cells": [
  {
   "cell_type": "markdown",
   "id": "ce4c6281",
   "metadata": {},
   "source": [
    "# Moving average\n",
    "\n",
    "In this tutorial we show how to compute the moving average of a dataset. The moving average, also called rolling average or running average, consists of a series of averages of different subsets of the original data set. Typically the moving average is computed by averaging chunks of data of fixed length, $N$, starting from the beginning of the data set and then shifting the chunk forward by one element at the time.\n",
    "This is different from a block average where typically there is no overlap between the elements of the chunks."
   ]
  },
  {
   "cell_type": "markdown",
   "id": "16de70f2",
   "metadata": {},
   "source": [
    "# The Jupyter NoteBook\n",
    "\n",
    "Let's start by loading the usual python libraries"
   ]
  },
  {
   "cell_type": "code",
   "execution_count": null,
   "id": "f562a115",
   "metadata": {},
   "outputs": [],
   "source": [
    "# python packages\n",
    "import pandas as pd # Dataframes and reading CSV files\n",
    "import numpy as np # Numerical libraries\n",
    "import matplotlib.pyplot as plt # Plotting library\n",
    "from lmfit import Model # Least squares fitting library"
   ]
  },
  {
   "cell_type": "markdown",
   "id": "684268b6",
   "metadata": {},
   "source": [
    "Unlike in the previous examples, here we start by creating a set of data with some random noise."
   ]
  },
  {
   "cell_type": "code",
   "execution_count": null,
   "id": "5ec30423",
   "metadata": {},
   "outputs": [],
   "source": [
    "def func(x):    \n",
    "    return 6*np.sin(x) \n",
    "\n",
    "x = np.arange(0,4*np.pi,0.1)\n",
    "y = func(x) + np.random.normal(size=len(x))"
   ]
  },
  {
   "cell_type": "markdown",
   "id": "c6d0976a",
   "metadata": {},
   "source": [
    "Let's have a quick look at our dataset looks like"
   ]
  },
  {
   "cell_type": "code",
   "execution_count": null,
   "id": "91c99f66",
   "metadata": {},
   "outputs": [],
   "source": [
    "fig = plt.figure(figsize=(12,6))\n",
    "ax = fig.gca()\n",
    "ax.plot(x,y,label=\"Noisy data\")\n",
    "\n",
    "# Make the figure\n",
    "ax.legend()\n",
    "plt.show()    "
   ]
  },
  {
   "cell_type": "markdown",
   "id": "233d7df3",
   "metadata": {},
   "source": [
    "We now compute a moving average of length 7. \n",
    "We define two new arrays, for the $(x,y)$ of the moving average, which are both computed as the average of the $x$ and $y$ values of the chunk used.a Because the $x$ are equally spaced, we can just use the mid-point of the $x$ of the chunk."
   ]
  },
  {
   "cell_type": "code",
   "execution_count": null,
   "id": "ebc06cf7",
   "metadata": {},
   "outputs": [],
   "source": [
    "movingAverageLength = 7\n",
    "\n",
    "xa = []\n",
    "ya = []\n",
    "for i in range(0,len(x)-movingAverageLength):\n",
    "    xa.append((x[i]+x[i+movingAverageLength])/2)\n",
    "    ya.append(np.mean(y[i:i+movingAverageLength]))"
   ]
  },
  {
   "cell_type": "markdown",
   "id": "b060a8cc",
   "metadata": {},
   "source": [
    "Let's now plot the original noisy data and the moving average."
   ]
  },
  {
   "cell_type": "code",
   "execution_count": null,
   "id": "55c4ba84",
   "metadata": {},
   "outputs": [],
   "source": [
    "fig = plt.figure(figsize=(12,6))\n",
    "ax = fig.gca()\n",
    "ax.plot(x,y,label=\"Noisy Data\")\n",
    "ax.plot(xa,ya,color='red',label='Moving Average',lw=3)\n",
    "\n",
    "# Make the figure\n",
    "ax.legend()\n",
    "plt.show()    "
   ]
  },
  {
   "cell_type": "markdown",
   "id": "22dc8656",
   "metadata": {},
   "source": [
    "Try changing the length of the moving average and or extend the code to compute block averages."
   ]
  }
 ],
 "metadata": {
  "kernelspec": {
   "display_name": "Python 3 (ipykernel)",
   "language": "python",
   "name": "python3"
  },
  "language_info": {
   "codemirror_mode": {
    "name": "ipython",
    "version": 3
   },
   "file_extension": ".py",
   "mimetype": "text/x-python",
   "name": "python",
   "nbconvert_exporter": "python",
   "pygments_lexer": "ipython3",
   "version": "3.11.7"
  }
 },
 "nbformat": 4,
 "nbformat_minor": 5
}
