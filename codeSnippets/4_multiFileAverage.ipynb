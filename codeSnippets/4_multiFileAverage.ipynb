{
 "cells": [
  {
   "cell_type": "markdown",
   "id": "8fca1164",
   "metadata": {},
   "source": [
    "# Click \"Edit App\" to see the code\n",
    "# Average of multiple datasets\n",
    "\n",
    "In this short tutorial we hoe to compute the average and standard deviation of multiple datasets, which are assumed to be stored in different files."
   ]
  },
  {
   "cell_type": "markdown",
   "id": "4324fb17",
   "metadata": {},
   "source": [
    "# The Jupyter Notebook\n",
    "As always we start by loadin the Python libraries"
   ]
  },
  {
   "cell_type": "code",
   "execution_count": 1,
   "id": "1ac07b19",
   "metadata": {},
   "outputs": [],
   "source": [
    "# python packages\n",
    "import pandas as pd # DataFrames and reading CSV files\n",
    "import numpy as np # Numerical libraries\n",
    "import matplotlib.pyplot as plt # Plotting library\n",
    "from lmfit import Model # Least squares fitting library"
   ]
  },
  {
   "cell_type": "markdown",
   "id": "1caa93ff",
   "metadata": {},
   "source": [
    "In order to compute the average of multiple dataset stored in different files, we create an array that contains all file names and then write a simple loop over its elements and compute the average using the NumPy function we learned in the previous examples"
   ]
  },
  {
   "cell_type": "code",
   "execution_count": 2,
   "id": "9f7711e8",
   "metadata": {},
   "outputs": [
    {
     "name": "stdout",
     "output_type": "stream",
     "text": [
      "The average from file  random1.csv  is  12.96291810195261\n",
      "The average from file  random2.csv  is  20.06100961117126\n",
      "The average from file  random3.csv  is  20.012630267896345\n",
      "The average from file  random4.csv  is  12.97037031648189\n"
     ]
    }
   ],
   "source": [
    "listOfFiles = [\"random1.csv\",\n",
    "               \"random2.csv\",\n",
    "               \"random3.csv\",\n",
    "               \"random4.csv\"]\n",
    "\n",
    "for file in listOfFiles:\n",
    "    data = pd.read_csv(file)\n",
    "    average = np.mean(data[\"Y\"])\n",
    "    print(\"The average from file \",file,\" is \",average)"
   ]
  },
  {
   "cell_type": "markdown",
   "id": "c3ce8f98",
   "metadata": {},
   "source": [
    "A more useful approach, is to create an a DataFrame to store all the averages, which will be useful for further processing. Let's for example imagine that each file corresponds to a observations collected at a different temperatures (278, 300, 302, 282)."
   ]
  },
  {
   "cell_type": "code",
   "execution_count": 3,
   "id": "e97a413d",
   "metadata": {},
   "outputs": [],
   "source": [
    "listOfTemperatures = [278, 300, 302, 282]"
   ]
  },
  {
   "cell_type": "markdown",
   "id": "fc7d1513",
   "metadata": {},
   "source": [
    "We then create a DataFrame with three columns, the file name, the temperature and the average of the values in the file."
   ]
  },
  {
   "cell_type": "code",
   "execution_count": 4,
   "id": "29097eba",
   "metadata": {},
   "outputs": [
    {
     "name": "stdout",
     "output_type": "stream",
     "text": [
      "Empty DataFrame\n",
      "Columns: [File, Temperature, Average]\n",
      "Index: []\n"
     ]
    }
   ],
   "source": [
    "results_df = pd.DataFrame(columns =[\"File\",\"Temperature\",\"Average\"])\n",
    "print(results_df)"
   ]
  },
  {
   "cell_type": "markdown",
   "id": "36c475ac",
   "metadata": {},
   "source": [
    "As seen in the first tutorial, we use the **loc** indexer to append data to the DataFrame.\n",
    "**_len(results_df)_** counts counts the number of elements that we have already added to the DataFrame."
   ]
  },
  {
   "cell_type": "code",
   "execution_count": 5,
   "id": "6204256c",
   "metadata": {},
   "outputs": [
    {
     "name": "stdout",
     "output_type": "stream",
     "text": [
      "          File Temperature    Average\n",
      "0  random1.csv         278  12.962918\n",
      "1  random2.csv         300  20.061010\n",
      "2  random3.csv         302  20.012630\n",
      "3  random4.csv         282  12.970370\n"
     ]
    }
   ],
   "source": [
    "for file in listOfFiles:\n",
    "    data = pd.read_csv(file)\n",
    "    average = np.mean(data[\"Y\"])\n",
    "    \n",
    "    ndata = len(results_df)\n",
    "    results_df.loc[ndata] = [file, listOfTemperatures[ndata], average]\n",
    "print(results_df)"
   ]
  },
  {
   "cell_type": "markdown",
   "id": "38563ba5",
   "metadata": {},
   "source": [
    "We can now plot the average versus temperature.\n",
    "However, because the temperatures are not in increasing order we sort the DataFrame to make the graph look nicer."
   ]
  },
  {
   "cell_type": "code",
   "execution_count": 6,
   "id": "7ba02616",
   "metadata": {},
   "outputs": [
    {
     "data": {
      "image/png": "[encoded data removed]",
      "text/plain": [
       "<Figure size 720x432 with 1 Axes>"
      ]
     },
     "metadata": {
      "needs_background": "light"
     },
     "output_type": "display_data"
    }
   ],
   "source": [
    "results_df = results_df.sort_values('Temperature')\n",
    "\n",
    "fig , ax = plt.subplots(figsize=(10,6))\n",
    "ax.scatter(results_df[\"Temperature\"],results_df[\"Average\"],s=100)\n",
    "ax.plot(results_df[\"Temperature\"],results_df[\"Average\"])\n",
    "ax.set(xlabel=\"Temperature (K)\")\n",
    "ax.set(ylabel=\"Average\")\n",
    "plt.show()"
   ]
  }
 ],
 "metadata": {
  "kernelspec": {
   "display_name": "Python 3 (ipykernel)",
   "language": "python",
   "name": "python3"
  },
  "language_info": {
   "codemirror_mode": {
    "name": "ipython",
    "version": 3
   },
   "file_extension": ".py",
   "mimetype": "text/x-python",
   "name": "python",
   "nbconvert_exporter": "python",
   "pygments_lexer": "ipython3",
   "version": "3.9.7"
  }
 },
 "nbformat": 4,
 "nbformat_minor": 5
}
