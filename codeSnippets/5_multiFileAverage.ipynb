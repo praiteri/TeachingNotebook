{
 "cells": [
  {
   "cell_type": "markdown",
   "id": "8fca1164",
   "metadata": {},
   "source": [
    "# Click \"Edit App\" to see the code\n",
    "# Average of multiple datasets\n",
    "\n",
    "In this short tutorial we how to compute the average and standard deviation of multiple datasets, which are assumed to be stored in different files."
   ]
  },
  {
   "cell_type": "markdown",
   "id": "4324fb17",
   "metadata": {},
   "source": [
    "# The Jupyter Notebook\n",
    "As always we start by loading the Python libraries"
   ]
  },
  {
   "cell_type": "code",
   "execution_count": null,
   "id": "1ac07b19",
   "metadata": {},
   "outputs": [],
   "source": [
    "# python packages\n",
    "import pandas as pd # DataFrames and reading CSV files\n",
    "import numpy as np # Numerical libraries\n",
    "import matplotlib.pyplot as plt # Plotting library\n",
    "from lmfit import Model # Least squares fitting library"
   ]
  },
  {
   "cell_type": "markdown",
   "id": "1caa93ff",
   "metadata": {},
   "source": [
    "In order to compute the average of multiple dataset stored in different files, we create an array that contains all file names and then write a simple loop over its elements and compute the average using the NumPy function we learned in the previous examples"
   ]
  },
  {
   "cell_type": "code",
   "execution_count": null,
   "id": "9f7711e8",
   "metadata": {},
   "outputs": [],
   "source": [
    "listOfFiles = [\"../miscData/random1.csv\",\n",
    "               \"../miscData/random2.csv\",\n",
    "               \"../miscData/random3.csv\",\n",
    "               \"../miscData/random4.csv\"]\n",
    "\n",
    "for file in listOfFiles:\n",
    "    data = pd.read_csv(file)\n",
    "    average = np.mean(data[\"Y\"])\n",
    "    print(\"The average from file \",file,\" is \",average)"
   ]
  },
  {
   "cell_type": "markdown",
   "id": "c3ce8f98",
   "metadata": {},
   "source": [
    "A more useful approach, is to create an a DataFrame to store all the averages, which will be useful for further processing. Let's for example imagine that each file corresponds to a observations collected at a different temperatures (278, 300, 302, 282)."
   ]
  },
  {
   "cell_type": "code",
   "execution_count": null,
   "id": "e97a413d",
   "metadata": {},
   "outputs": [],
   "source": [
    "listOfTemperatures = [278, 300, 302, 282]"
   ]
  },
  {
   "cell_type": "markdown",
   "id": "fc7d1513",
   "metadata": {},
   "source": [
    "We then create a DataFrame with three columns, the file name, the temperature and the average of the values in the file."
   ]
  },
  {
   "cell_type": "code",
   "execution_count": null,
   "id": "29097eba",
   "metadata": {},
   "outputs": [],
   "source": [
    "results_df = pd.DataFrame(columns =[\"File\",\"Temperature\",\"Average\"])\n",
    "print(results_df)"
   ]
  },
  {
   "cell_type": "markdown",
   "id": "36c475ac",
   "metadata": {},
   "source": [
    "As seen in the first tutorial, we use the **loc** indexer to append data to the DataFrame.\n",
    "**_len(results_df)_** counts counts the number of elements that we have already added to the DataFrame."
   ]
  },
  {
   "cell_type": "code",
   "execution_count": null,
   "id": "6204256c",
   "metadata": {},
   "outputs": [],
   "source": [
    "for file in listOfFiles:\n",
    "    data = pd.read_csv(file)\n",
    "    average = np.mean(data[\"Y\"])\n",
    "    \n",
    "    ndata = len(results_df)\n",
    "    results_df.loc[ndata] = [file, listOfTemperatures[ndata], average]\n",
    "print(results_df)"
   ]
  },
  {
   "cell_type": "markdown",
   "id": "38563ba5",
   "metadata": {},
   "source": [
    "We can now plot the average versus temperature.\n",
    "However, because the temperatures are not in increasing order we sort the DataFrame to make the graph look nicer."
   ]
  },
  {
   "cell_type": "code",
   "execution_count": null,
   "id": "7ba02616",
   "metadata": {},
   "outputs": [],
   "source": [
    "results_df = results_df.sort_values('Temperature')\n",
    "\n",
    "fig , ax = plt.subplots(figsize=(10,6))\n",
    "ax.scatter(results_df[\"Temperature\"],results_df[\"Average\"],s=100)\n",
    "ax.plot(results_df[\"Temperature\"],results_df[\"Average\"])\n",
    "ax.set(xlabel=\"Temperature (K)\")\n",
    "ax.set(ylabel=\"Average\")\n",
    "plt.show()"
   ]
  }
 ],
 "metadata": {
  "kernelspec": {
   "display_name": "Python 3 (ipykernel)",
   "language": "python",
   "name": "python3"
  },
  "language_info": {
   "codemirror_mode": {
    "name": "ipython",
    "version": 3
   },
   "file_extension": ".py",
   "mimetype": "text/x-python",
   "name": "python",
   "nbconvert_exporter": "python",
   "pygments_lexer": "ipython3",
   "version": "3.9.7"
  },
  "widgets": {
   "application/vnd.jupyter.widget-state+json": {
    "state": {},
    "version_major": 2,
    "version_minor": 0
   }
  }
 },
 "nbformat": 4,
 "nbformat_minor": 5
}
