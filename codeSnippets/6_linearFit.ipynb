{
 "cells": [
  {
   "cell_type": "markdown",
   "id": "88ddf8e4",
   "metadata": {},
   "source": [
    "# Linear fit using scipy.optimize.curve_fit \n",
    "Here below you can see a simple working example to perform a linear fit and compute errors using scipy and curve_fit."
   ]
  },
  {
   "cell_type": "code",
   "execution_count": null,
   "id": "aefa1041",
   "metadata": {},
   "outputs": [],
   "source": [
    "import pandas as pd\n",
    "import numpy as np\n",
    "import matplotlib.pyplot as plt"
   ]
  },
  {
   "cell_type": "markdown",
   "id": "1d8ce6f1",
   "metadata": {},
   "source": [
    "The next library will be used for the fitting"
   ]
  },
  {
   "cell_type": "code",
   "execution_count": null,
   "id": "fa170ef6",
   "metadata": {},
   "outputs": [],
   "source": [
    "from scipy.optimize import curve_fit "
   ]
  },
  {
   "cell_type": "markdown",
   "id": "691e7b71",
   "metadata": {},
   "source": [
    "The next library will be used for the calculation of the $R^2$ score"
   ]
  },
  {
   "cell_type": "code",
   "execution_count": null,
   "id": "4517ae20",
   "metadata": {},
   "outputs": [],
   "source": [
    "from sklearn.metrics import r2_score"
   ]
  },
  {
   "cell_type": "markdown",
   "id": "86a83cb5",
   "metadata": {},
   "source": [
    "As an example we can read some data into a dataFrame and rename the dataFrame columns"
   ]
  },
  {
   "cell_type": "code",
   "execution_count": null,
   "id": "eae5baa0",
   "metadata": {},
   "outputs": [],
   "source": [
    "data = pd.read_csv(\"../miscData/writingWorshopData.csv\")\n",
    "data.columns = (\"T\",\"A\",\"B\",\"E\")"
   ]
  },
  {
   "cell_type": "markdown",
   "id": "7fb20f98",
   "metadata": {},
   "source": [
    "The starting point is to define the function that we'll use for the fitting, in this case a straight line"
   ]
  },
  {
   "cell_type": "code",
   "execution_count": null,
   "id": "8d5955a1",
   "metadata": {},
   "outputs": [],
   "source": [
    "def line(x,A,B):\n",
    "    return A*x + B"
   ]
  },
  {
   "cell_type": "markdown",
   "id": "92d7012f",
   "metadata": {},
   "source": [
    "The fitting is then performed with a one line command where we call the _curve_fit_ function, which provides two outputs, an array with the best fit parameters (_popt_) and the covariance matrix for those parameters (_pcov_), which can be used to compute the error on the parameters and the $R^2$ score."
   ]
  },
  {
   "cell_type": "code",
   "execution_count": null,
   "id": "435fe7e7",
   "metadata": {},
   "outputs": [],
   "source": [
    "popt, pcov = curve_fit(line,data[\"T\"],data[\"A\"])"
   ]
  },
  {
   "cell_type": "markdown",
   "id": "34426869",
   "metadata": {},
   "source": [
    "The error on the parameters can be calculated as"
   ]
  },
  {
   "cell_type": "code",
   "execution_count": null,
   "id": "564030f9",
   "metadata": {},
   "outputs": [],
   "source": [
    "pError = np.sqrt(np.diag(pcov))"
   ]
  },
  {
   "cell_type": "markdown",
   "id": "46e31c01",
   "metadata": {},
   "source": [
    "and the $R^2$ score can be easily computed using the _r2_score_ function from the _sklearn_ package."
   ]
  },
  {
   "cell_type": "code",
   "execution_count": null,
   "id": "f7f8d8e1",
   "metadata": {},
   "outputs": [],
   "source": [
    "y2 = line(data[\"T\"], *popt)\n",
    "Rsquared = r2_score(data[\"A\"], y2)"
   ]
  },
  {
   "cell_type": "markdown",
   "id": "3a60a918",
   "metadata": {},
   "source": [
    "Finally we can print the fitting results $\\dots$"
   ]
  },
  {
   "cell_type": "code",
   "execution_count": null,
   "id": "2603356c",
   "metadata": {},
   "outputs": [],
   "source": [
    "print(\"A parameter - Slope     = %8.3f +/- %.3f\" % (popt[0],pError[0]))\n",
    "print(\"B parameter - Intercept = %8.3f +/- %.3f\" % (popt[1],pError[1]))\n",
    "print(\"R squared               = %8.3f\" % Rsquared)"
   ]
  },
  {
   "cell_type": "markdown",
   "id": "45a8915f",
   "metadata": {},
   "source": [
    "$\\dots$ and make a plot of the data and fitting line"
   ]
  },
  {
   "cell_type": "code",
   "execution_count": null,
   "id": "946bdea9",
   "metadata": {},
   "outputs": [],
   "source": [
    "fig = plt.figure()\n",
    "ax = fig.gca()\n",
    "\n",
    "ax.scatter(data[\"T\"],data[\"A\"])\n",
    "ax.plot(data[\"T\"],y2,color='red')\n",
    "\n",
    "plt.show()"
   ]
  }
 ],
 "metadata": {
  "kernelspec": {
   "display_name": "Python 3 (ipykernel)",
   "language": "python",
   "name": "python3"
  },
  "language_info": {
   "codemirror_mode": {
    "name": "ipython",
    "version": 3
   },
   "file_extension": ".py",
   "mimetype": "text/x-python",
   "name": "python",
   "nbconvert_exporter": "python",
   "pygments_lexer": "ipython3",
   "version": "3.9.13"
  },
  "widgets": {
   "application/vnd.jupyter.widget-state+json": {
    "state": {},
    "version_major": 2,
    "version_minor": 0
   }
  }
 },
 "nbformat": 4,
 "nbformat_minor": 5
}
