{
 "cells": [
  {
   "cell_type": "markdown",
   "id": "c0ddb2a0",
   "metadata": {},
   "source": [
    "# Least squares fitting \n",
    "In this tutorial we'll learn how to fit a function using the **lmfit** library, which provides an interface to non-linear fitting fitting routines.\n",
    "Let's consider a set of $N$ observations $(x_{i},y_{i})$, where $x_i$ is the independent variable, $y_i$\n",
    "is the dependent variable and $i=1,\\dots,N$, and let $f(x)$ be fitting function that contains a number of parameters, $p_j$, which is much smaller than the number of observations.\n",
    "\n",
    "The optimisation of the $p_j$ parameters is done via the minimisation of the sum of the square of the residuals, $r_i$, where the residuals are the differences between observed values, $y_i$, and the values provided by the fitting model, $f_i$\n",
    "\n",
    "\\begin{equation}\n",
    "S = \\sum_i r_i = [f(x_i) - y_i]^2 \\tag{1}\n",
    "\\end{equation}\n",
    "\n",
    "As an illustrative example of how the fitting works, we'll use a set of rate constants measured at different temperatures, which obey the Arrhenius equation\n",
    "\n",
    "\\begin{equation}\n",
    "k_r = A\\exp\\bigg[-\\frac{E_a}{RT}\\bigg] \\tag{2}\n",
    "\\end{equation}\n",
    "\n",
    "The Arrhenius equation is often written in linear form ($y=mx+q$) by taking the logarithm of both sides of the equation\n",
    "\n",
    "\\begin{equation}\n",
    "\\ln\\big[k_r\\big] = \\ln A -\\frac{E_a}{R}\\frac{1}{T} \\tag{3}\n",
    "\\end{equation}\n",
    "\n",
    "where $y=\\ln[k_r]$ and $x=1/T$.\n",
    "\n",
    "In order to show the limitations of the least square method, we'll fit the same data set using both an exponential and a linear function."
   ]
  },
  {
   "cell_type": "markdown",
   "id": "6b1cd77c",
   "metadata": {},
   "source": [
    "# The Jupyter notebook\n",
    "As always we start by loading up the packages we will need."
   ]
  },
  {
   "cell_type": "code",
   "execution_count": null,
   "id": "abd0d495",
   "metadata": {},
   "outputs": [],
   "source": [
    "# python packages\n",
    "import pandas as pd # Dataframes and reading CSV files\n",
    "import numpy as np # Numerical libraries\n",
    "import matplotlib.pyplot as plt # Plotting library\n",
    "\n",
    "from scipy.optimize import curve_fit\n",
    "from sklearn.metrics import r2_score\n",
    "\n",
    "from lmfit import Model # Least squares fitting library"
   ]
  },
  {
   "cell_type": "markdown",
   "id": "6a6fdb3a",
   "metadata": {},
   "source": [
    "Then we read the data set from a file and cast it into a DataFrame, and we rename the columns."
   ]
  },
  {
   "cell_type": "code",
   "execution_count": null,
   "id": "616f0935",
   "metadata": {},
   "outputs": [],
   "source": [
    "data = pd.read_csv(\"../miscData/arrhenius.csv\")\n",
    "data.columns = (\"T\",\"Kr\")\n",
    "print(data)"
   ]
  },
  {
   "cell_type": "markdown",
   "id": "c65d705d",
   "metadata": {},
   "source": [
    "As you may have noticed, the temperatures are not increasing (or decreasing) monotonically. \n",
    "Although this is not a problem for the fitting itself, we sort the DataFrame to make a nicer plot later.\n",
    "We also reset the row indices, so that we can access the sorted temperature using the reordered indices of the DataFrame, if needed."
   ]
  },
  {
   "cell_type": "code",
   "execution_count": null,
   "id": "c721cac9",
   "metadata": {},
   "outputs": [],
   "source": [
    "data = data.sort_values(\"T\")\n",
    "data.reset_index(drop=True, inplace=True)\n",
    "print(data)"
   ]
  },
  {
   "cell_type": "markdown",
   "id": "36c0e806",
   "metadata": {},
   "source": [
    "Although there are pre-built models, we assume that we are fitting a generic user-defined function. \n",
    "Hence, we need to define two functions for the two equations that we want to use for the fitting."
   ]
  },
  {
   "cell_type": "code",
   "execution_count": null,
   "id": "20fa3087",
   "metadata": {},
   "outputs": [],
   "source": [
    "R = 8.314 # ideal gas constant in J/mol/K\n",
    "def arrExp(x,A,Ea):\n",
    "    return A * np.exp(-Ea/R/x)\n",
    "\n",
    "def arrLin(x,lnA,Ea):\n",
    "    return lnA - Ea/R * (1/x)"
   ]
  },
  {
   "cell_type": "markdown",
   "id": "4b5740bd",
   "metadata": {},
   "source": [
    "Neither the _scipy.optimize_ nor the _lmfit_ libraries compute the $R^2$, but we can easily do that using its definition.\n",
    "\n",
    "\\begin{equation}\n",
    "R^2 = 1 - \\frac{\\sum_i (y_i-f_i)}{\\sum_i(y_i-\\langle y \\rangle)^2}\n",
    "\\end{equation}\n",
    "\n",
    "where the numerator is the sum of the residuals and the denominator is the variance, _i.e._ the standard deviation squared. The sum of the residuals is already computed by _lmfit_ and we can obtain the variance from NumPy.\n",
    "The $R^2$ confirms that the linear fit it better."
   ]
  },
  {
   "cell_type": "markdown",
   "id": "c82a98a3",
   "metadata": {},
   "source": [
    "# Fitting using curve_fit from SCIPY"
   ]
  },
  {
   "cell_type": "markdown",
   "id": "2964ae79",
   "metadata": {},
   "source": [
    "Fitting a function to a dataset is fairly straightforward using the _curve_fit_ function.\n",
    "This function provides two outputs, the parameters that give the best fit (_popt_) and the covariance matrix (_pcov_), which can be used to compute the error and $R^2$ score."
   ]
  },
  {
   "cell_type": "code",
   "execution_count": null,
   "id": "b34c11c7",
   "metadata": {},
   "outputs": [],
   "source": [
    "popt_exp, pcov_exp = curve_fit(arrExp,data[\"T\"],data[\"Kr\"])\n",
    "popt_lin, pcov_lin = curve_fit(arrLin,data[\"T\"],np.log(data[\"Kr\"]))"
   ]
  },
  {
   "cell_type": "markdown",
   "id": "2caf56ba",
   "metadata": {},
   "source": [
    "We now compute the error on the best fit parameters $\\dots$ "
   ]
  },
  {
   "cell_type": "code",
   "execution_count": null,
   "id": "b63e8dc0",
   "metadata": {},
   "outputs": [],
   "source": [
    "pError_exp = np.sqrt(np.diag(pcov_exp))\n",
    "pError_lin = np.sqrt(np.diag(pcov_lin))"
   ]
  },
  {
   "cell_type": "markdown",
   "id": "cb94462f",
   "metadata": {},
   "source": [
    "$\\dots$ and the $R^2$ score"
   ]
  },
  {
   "cell_type": "code",
   "execution_count": null,
   "id": "ae16beb6",
   "metadata": {},
   "outputs": [],
   "source": [
    "y2_exp = arrExp(data[\"T\"], *popt_exp)\n",
    "Rsquared_exp = r2_score(data[\"Kr\"], y2_exp)\n",
    "\n",
    "y2_lin = arrLin(data[\"T\"], *popt_lin)\n",
    "Rsquared_lin = r2_score(np.log(data[\"Kr\"]), y2_lin)"
   ]
  },
  {
   "cell_type": "markdown",
   "id": "a39b6b39",
   "metadata": {},
   "source": [
    "We now print the result of the exponential and linear fits.\n",
    "* Note how much smaller the error on the activation energy is when using a linear fit."
   ]
  },
  {
   "cell_type": "code",
   "execution_count": null,
   "id": "d61f01fe",
   "metadata": {},
   "outputs": [],
   "source": [
    "print(\"----- Exponential fit -----\")\n",
    "print(\"A  parameter - Slope     = %8.3e +/- %.3e\" % (popt_exp[0],pError_exp[0]))\n",
    "print(\"Ea parameter - Intercept = %8.3f +/- %.3f\" % (popt_exp[1],pError_exp[1]))\n",
    "print(\"R squared                = %.4f\" % Rsquared_exp)\n",
    "\n",
    "print(\"----- Linear fit -----\")\n",
    "print(\"lnA parameter - Slope     = %8.3e +/- %.3e\" % (popt_lin[0],pError_lin[0]))\n",
    "print(\"Ea  parameter - Intercept = %8.3f +/- %.3f\" % (popt_lin[1],pError_lin[1]))\n",
    "print(\"R squared               = %.4f\" % Rsquared_lin)"
   ]
  },
  {
   "cell_type": "markdown",
   "id": "984f0b7a",
   "metadata": {},
   "source": [
    "# Fitting using LMFIT"
   ]
  },
  {
   "cell_type": "markdown",
   "id": "cacfa9c1",
   "metadata": {},
   "source": [
    "We then create two _Models_ objects using the *lmfit* library for the two independent fits.\n",
    "* Note how we called the **Model** function directly, even if it is part of *lmfit* library. That is because the way we imported the library in the header. This implies that we cannot call any variable \"Model\"."
   ]
  },
  {
   "cell_type": "code",
   "execution_count": null,
   "id": "d09f218d",
   "metadata": {},
   "outputs": [],
   "source": [
    "modExp = Model(arrExp)\n",
    "modLin = Model(arrLin)"
   ]
  },
  {
   "cell_type": "markdown",
   "id": "d7828c0c",
   "metadata": {},
   "source": [
    "Like all fitting procedures, *lmfit* requires a starting set of parameters to operate, that can be set by the user. The closer the parameters are to the correct ones the better the library will work. Typically the frequency factor is of the order of $10^{12}-10^{15}\\ Hz$ and the activation energy for a slow-ish reaction is in the $1-100\\ kJ/mol$ range."
   ]
  },
  {
   "cell_type": "code",
   "execution_count": null,
   "id": "1ae3f777",
   "metadata": {},
   "outputs": [],
   "source": [
    "paramsExp = modExp.make_params(A=1e13 , Ea=5)\n",
    "paramsLin = modLin.make_params(lnA=np.log(1e13) , Ea=5)"
   ]
  },
  {
   "cell_type": "markdown",
   "id": "2bddaded",
   "metadata": {},
   "source": [
    "We can now fit the data. The **fit** function takes three main arguments, $y$, the initial parameters and the $x$ of the data to fit. \n",
    "* Note how for the linear fit we pass to the _lmfit_ function the log of the rate but not the inverse of the temperature. This is because of the way we defined the **arrLin** function."
   ]
  },
  {
   "cell_type": "code",
   "execution_count": null,
   "id": "c8d10152",
   "metadata": {},
   "outputs": [],
   "source": [
    "fitExp = modExp.fit(data[\"Kr\"], paramsExp, x=data[\"T\"])\n",
    "fitLin = modLin.fit(np.log(data[\"Kr\"]), paramsLin, x=data[\"T\"])"
   ]
  },
  {
   "cell_type": "markdown",
   "id": "d04bc945",
   "metadata": {},
   "source": [
    "We can now compute the $R^2$ score."
   ]
  },
  {
   "cell_type": "code",
   "execution_count": null,
   "id": "11c8e0ff",
   "metadata": {},
   "outputs": [],
   "source": [
    "expR2 = 1 - fitExp.residual.var() / np.var(data[\"Kr\"])\n",
    "linR2 = 1 - fitLin.residual.var() / np.var(data[\"Kr\"])"
   ]
  },
  {
   "cell_type": "markdown",
   "id": "46968d54",
   "metadata": {},
   "source": [
    "We can then print the result of the exponential and linear fits.\n",
    "Note that the results are essentially identical to those obtained from _curve_fit_ because the same minimisation algorithm has been used."
   ]
  },
  {
   "cell_type": "code",
   "execution_count": null,
   "id": "fcf2d410",
   "metadata": {},
   "outputs": [],
   "source": [
    "print(\"----- Exponential fit -----\")\n",
    "print(\"A  parameter - Slope     = %8.3e +/- %.3e\" % (fitExp.params[\"A\"].value,\n",
    "                                                     fitExp.params[\"A\"].stderr))\n",
    "print(\"Ea parameter - Intercept = %8.3f +/- %.3f\" % (fitExp.params[\"Ea\"].value,\n",
    "                                                     fitExp.params[\"Ea\"].stderr))\n",
    "print(\"R squared                = %.4f\" % expR2)\n",
    "\n",
    "print(\"----- Linear fit -----\")\n",
    "print(\"lnA parameter - Slope     = %8.3e +/- %.3e\" % (fitLin.params[\"lnA\"].value,\n",
    "                                                      fitLin.params[\"lnA\"].stderr))\n",
    "print(\"Ea  parameter - Intercept = %8.3f +/- %.3f\" % (fitLin.params[\"Ea\"].value,\n",
    "                                                      fitLin.params[\"Ea\"].stderr))\n",
    "print(\"R squared               = %.4f\" % linR2)"
   ]
  },
  {
   "cell_type": "markdown",
   "id": "15a3057a",
   "metadata": {},
   "source": [
    "One advantage of _lmfit_ is that it also provides more extensive information of the fitting. \n",
    "For example for the exponential fit we have"
   ]
  },
  {
   "cell_type": "code",
   "execution_count": null,
   "id": "45146e97",
   "metadata": {},
   "outputs": [],
   "source": [
    "fitExp.result"
   ]
  },
  {
   "cell_type": "markdown",
   "id": "e7937b65",
   "metadata": {},
   "source": [
    "$\\dots$ and for the linear fit."
   ]
  },
  {
   "cell_type": "code",
   "execution_count": null,
   "id": "a6515d81",
   "metadata": {},
   "outputs": [],
   "source": [
    "fitLin.result"
   ]
  },
  {
   "cell_type": "markdown",
   "id": "f7952057",
   "metadata": {},
   "source": [
    "Let's now see how the two fits compare with the input data graphically by plotting the data and fit functions.\n",
    "_lmfit_ has already computed the values of best fit, so there's nothing for us to do.\n",
    "Note that for the linear fit we took the exponential of the data."
   ]
  },
  {
   "cell_type": "code",
   "execution_count": null,
   "id": "302409a5",
   "metadata": {},
   "outputs": [],
   "source": [
    "fig , ax = plt.subplots(1,2,figsize=(18,6))\n",
    "\n",
    "ax[0].scatter(data[\"T\"],data[\"Kr\"],label=\"Data\")\n",
    "ax[0].plot(data[\"T\"],fitExp.best_fit,label=\"ExpFit\",color='red')\n",
    "ax[0].plot(data[\"T\"],np.exp(fitLin.best_fit),label=\"LinFit\",color='green')\n",
    "ax[0].set(xlabel=\"Temperature (K)\")\n",
    "ax[0].set(ylabel=\"Kr\")\n",
    "ax[0].legend()\n",
    "\n",
    "ax[1].scatter(1/data[\"T\"],np.log(data[\"Kr\"]),label=\"Data\")\n",
    "ax[1].plot(1/data[\"T\"],np.log(fitExp.best_fit),label=\"ExpFit\",color='red')\n",
    "ax[1].plot(1/data[\"T\"],fitLin.best_fit,label=\"LinFit\",color='green')\n",
    "ax[1].set(xlabel=\"1/Temperature (1/K)\")\n",
    "ax[1].set(ylabel=\"ln[Kr]\")\n",
    "ax[1].legend()\n",
    "\n",
    "plt.show()"
   ]
  },
  {
   "cell_type": "markdown",
   "id": "cb98d90f",
   "metadata": {},
   "source": [
    "Although both fits look good representations of the data when plotted in the exponential form, the linear fit appears clearly superior when the in the linear form.\n",
    "This is due to fact that the least squares method minimises the residuals, so in the exponential form the tail of the function is _less_ important than the part with large numbers."
   ]
  }
 ],
 "metadata": {
  "kernelspec": {
   "display_name": "Python 3 (ipykernel)",
   "language": "python",
   "name": "python3"
  },
  "language_info": {
   "codemirror_mode": {
    "name": "ipython",
    "version": 3
   },
   "file_extension": ".py",
   "mimetype": "text/x-python",
   "name": "python",
   "nbconvert_exporter": "python",
   "pygments_lexer": "ipython3",
   "version": "3.11.6"
  },
  "widgets": {
   "application/vnd.jupyter.widget-state+json": {
    "state": {},
    "version_major": 2,
    "version_minor": 0
   }
  }
 },
 "nbformat": 4,
 "nbformat_minor": 5
}
