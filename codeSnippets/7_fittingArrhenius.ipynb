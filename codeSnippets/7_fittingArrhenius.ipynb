{
 "cells": [
  {
   "cell_type": "markdown",
   "id": "c0ddb2a0",
   "metadata": {},
   "source": [
    "# Click \"Edit App\" to see the code\n",
    "# Least squares fitting \n",
    "In this tutorial we'll learn how to fit a function using the **lmfit** library, which provides an interface to non-linear fitting fitting routines.\n",
    "Let's consider a set of $N$ observations $(x_{i},y_{i})$, where $x_i$ is the independent variable, $y_i$\n",
    "is the dependent variable and $i=1,\\dots,N$, and let $f(x)$ be fitting function that contains a number of parameters, $p_j$, which is much smaller than the number of observations.\n",
    "\n",
    "The optimisation of the $p_j$ parameters is done via the minimisation of the sum of the square of the residuals, $r_i$, where the residuals are the differences between observed values, $y_i$, and the values provided by the fitting model, $f_i$\n",
    "\n",
    "\\begin{equation}\n",
    "S = \\sum_i r_i = [f(x_i) - y_i]^2 \\tag{1}\n",
    "\\end{equation}\n",
    "\n",
    "As an illustrative example of how the fitting works, we'll use a set of rate constants measured at different temperatures, which obey the Arrhenius equation\n",
    "\n",
    "\\begin{equation}\n",
    "k_r = A\\exp\\bigg[-\\frac{E_a}{RT}\\bigg] \\tag{2}\n",
    "\\end{equation}\n",
    "\n",
    "The Arrhenius equation is often written in linear form ($y=mx+q$) by taking the logarithm of both sides of the equation\n",
    "\n",
    "\\begin{equation}\n",
    "\\ln\\big[k_r\\big] = \\ln A -\\frac{E_a}{R}\\frac{1}{T} \\tag{3}\n",
    "\\end{equation}\n",
    "\n",
    "where $y=\\ln[k_r]$ and $x=1/T$.\n",
    "\n",
    "In order to show the limitations of the least square method, we'll fit the same data set using both an exponential and a linear function."
   ]
  },
  {
   "cell_type": "markdown",
   "id": "6b1cd77c",
   "metadata": {},
   "source": [
    "# The Jupyter notebook\n",
    "As always we start by loading up the packages we will need."
   ]
  },
  {
   "cell_type": "code",
   "execution_count": 1,
   "id": "abd0d495",
   "metadata": {},
   "outputs": [],
   "source": [
    "# python packages\n",
    "import pandas as pd # Dataframes and reading CSV files\n",
    "import numpy as np # Numerical libraries\n",
    "import matplotlib.pyplot as plt # Plotting library\n",
    "\n",
    "from scipy.optimize import curve_fit\n",
    "from sklearn.metrics import r2_score\n",
    "\n",
    "from lmfit import Model # Least squares fitting library"
   ]
  },
  {
   "cell_type": "markdown",
   "id": "6a6fdb3a",
   "metadata": {},
   "source": [
    "Then we read the data set from a file and cast it into a DataFrame, and we rename the columns."
   ]
  },
  {
   "cell_type": "code",
   "execution_count": 2,
   "id": "616f0935",
   "metadata": {},
   "outputs": [
    {
     "name": "stdout",
     "output_type": "stream",
     "text": [
      "             T         Kr\n",
      "0   286.935975   0.000007\n",
      "1   279.663719   0.000002\n",
      "2   392.377962   0.285116\n",
      "3   377.293693   0.065140\n",
      "4   443.069616  10.248776\n",
      "..         ...        ...\n",
      "95  331.286178   0.001749\n",
      "96  317.599848   0.000254\n",
      "97  455.583233  15.167723\n",
      "98  374.578390   0.047258\n",
      "99  425.418873   3.568459\n",
      "\n",
      "[100 rows x 2 columns]\n"
     ]
    }
   ],
   "source": [
    "data = pd.read_csv(\"arrhenius.csv\")\n",
    "data.columns = (\"T\",\"Kr\")\n",
    "print(data)"
   ]
  },
  {
   "cell_type": "markdown",
   "id": "c65d705d",
   "metadata": {},
   "source": [
    "As you may have noticed, the temperatures are not increasing (or decreasing) monotonically. \n",
    "Although this is not a problem for the fitting itself, we sort the DataFrame to make a nicer plot later.\n",
    "We also reset the row indices, so that we can access the sorted temperature using the reordered indices of the DataFrame, if needed."
   ]
  },
  {
   "cell_type": "code",
   "execution_count": 3,
   "id": "c721cac9",
   "metadata": {},
   "outputs": [
    {
     "name": "stdout",
     "output_type": "stream",
     "text": [
      "             T            Kr\n",
      "0   274.244570  9.774365e-07\n",
      "1   279.176951  1.822114e-06\n",
      "2   279.663719  1.792565e-06\n",
      "3   280.953971  2.611673e-06\n",
      "4   281.624879  3.245136e-06\n",
      "..         ...           ...\n",
      "95  461.605672  2.605836e+01\n",
      "96  464.692002  2.187696e+01\n",
      "97  465.568587  2.207841e+01\n",
      "98  469.974653  4.881751e+01\n",
      "99  472.257602  4.154694e+01\n",
      "\n",
      "[100 rows x 2 columns]\n"
     ]
    }
   ],
   "source": [
    "data = data.sort_values(\"T\")\n",
    "data.reset_index(drop=True, inplace=True)\n",
    "print(data)"
   ]
  },
  {
   "cell_type": "markdown",
   "id": "36c0e806",
   "metadata": {},
   "source": [
    "Although there are pre-built models, we assume that we are fitting a generic user-defined function. \n",
    "Hence, we need to define two functions for the two equations that we want to use for the fitting."
   ]
  },
  {
   "cell_type": "code",
   "execution_count": 4,
   "id": "20fa3087",
   "metadata": {},
   "outputs": [],
   "source": [
    "R = 8.314 # ideal gas constant in J/mol/K\n",
    "def arrExp(x,A,Ea):\n",
    "    return A * np.exp(-Ea/R/x)\n",
    "\n",
    "def arrLin(x,lnA,Ea):\n",
    "    return lnA - Ea/R * (1/x)"
   ]
  },
  {
   "cell_type": "markdown",
   "id": "4b5740bd",
   "metadata": {},
   "source": [
    "Neither the _scipy.optimize_ nor the _lmfit_ libraries compute the $R^2$, but we can easily do that using its definition.\n",
    "\n",
    "\\begin{equation}\n",
    "R^2 = 1 - \\frac{\\sum_i (y_i-f_i)}{\\sum_i(y_i-\\langle y \\rangle)^2}\n",
    "\\end{equation}\n",
    "\n",
    "where the numerator is the sum of the residuals and the denominator is the variance, _i.e._ the standard deviation squared. The sum of the residuals is already computed by _lmfit_ and we can obtain the variance from NumPy.\n",
    "The $R^2$ confirms that the linear fit it better."
   ]
  },
  {
   "cell_type": "markdown",
   "id": "c82a98a3",
   "metadata": {},
   "source": [
    "# Fitting using curve_fit from SCIPY"
   ]
  },
  {
   "cell_type": "markdown",
   "id": "2964ae79",
   "metadata": {},
   "source": [
    "Fitting a function to a dataset is fairly straightforward using the _curve_fit_ function.\n",
    "This function provides two outputs, the parameters that give the best fit (_popt_) and the covariance matrix (_pcov_), which can be used to compute the error and $R^2$ score."
   ]
  },
  {
   "cell_type": "code",
   "execution_count": 5,
   "id": "b34c11c7",
   "metadata": {},
   "outputs": [],
   "source": [
    "popt_exp, pcov_exp = curve_fit(arrExp,data[\"T\"],data[\"Kr\"])\n",
    "popt_lin, pcov_lin = curve_fit(arrLin,data[\"T\"],np.log(data[\"Kr\"]))"
   ]
  },
  {
   "cell_type": "markdown",
   "id": "2caf56ba",
   "metadata": {},
   "source": [
    "We now compute the error on the best fit parameters $\\dots$ "
   ]
  },
  {
   "cell_type": "code",
   "execution_count": 6,
   "id": "b63e8dc0",
   "metadata": {},
   "outputs": [],
   "source": [
    "pError_exp = np.sqrt(np.diag(pcov_exp))\n",
    "pError_lin = np.sqrt(np.diag(pcov_lin))"
   ]
  },
  {
   "cell_type": "markdown",
   "id": "cb94462f",
   "metadata": {},
   "source": [
    "$\\dots$ and the $R^2$ score"
   ]
  },
  {
   "cell_type": "code",
   "execution_count": 7,
   "id": "ae16beb6",
   "metadata": {},
   "outputs": [],
   "source": [
    "y2_exp = arrExp(data[\"T\"], *popt_exp)\n",
    "Rsquared_exp = r2_score(data[\"Kr\"], y2_exp)\n",
    "\n",
    "y2_lin = arrLin(data[\"T\"], *popt_lin)\n",
    "Rsquared_lin = r2_score(np.log(data[\"Kr\"]), y2_lin)"
   ]
  },
  {
   "cell_type": "markdown",
   "id": "a39b6b39",
   "metadata": {},
   "source": [
    "We now print the result of the exponential and linear fits.\n",
    "* Note how much smaller the error on the activation energy is when using a linear fit."
   ]
  },
  {
   "cell_type": "code",
   "execution_count": 8,
   "id": "d61f01fe",
   "metadata": {},
   "outputs": [
    {
     "name": "stdout",
     "output_type": "stream",
     "text": [
      "----- Exponential fit -----\n",
      "A  parameter - Slope     = 4.844e+11 +/- 5.416e+11\n",
      "Ea parameter - Intercept = 90901.290 +/- 4292.037\n",
      "R squared                = 0.9349\n",
      "----- Linear fit -----\n",
      "lnA parameter - Slope     = 2.830e+01 +/- 1.833e-01\n",
      "Ea  parameter - Intercept = 96424.791 +/- 544.122\n",
      "R squared               = 0.9969\n"
     ]
    }
   ],
   "source": [
    "print(\"----- Exponential fit -----\")\n",
    "print(\"A  parameter - Slope     = %8.3e +/- %.3e\" % (popt_exp[0],pError_exp[0]))\n",
    "print(\"Ea parameter - Intercept = %8.3f +/- %.3f\" % (popt_exp[1],pError_exp[1]))\n",
    "print(\"R squared                = %.4f\" % Rsquared_exp)\n",
    "\n",
    "print(\"----- Linear fit -----\")\n",
    "print(\"lnA parameter - Slope     = %8.3e +/- %.3e\" % (popt_lin[0],pError_lin[0]))\n",
    "print(\"Ea  parameter - Intercept = %8.3f +/- %.3f\" % (popt_lin[1],pError_lin[1]))\n",
    "print(\"R squared               = %.4f\" % Rsquared_lin)"
   ]
  },
  {
   "cell_type": "markdown",
   "id": "984f0b7a",
   "metadata": {},
   "source": [
    "# Fitting using LMFIT"
   ]
  },
  {
   "cell_type": "markdown",
   "id": "cacfa9c1",
   "metadata": {},
   "source": [
    "We then create two _Models_ objects using the *lmfit* library for the two independent fits.\n",
    "* Note how we called the **Model** function directly, even if it is part of *lmfit* library. That is because the way we imported the library in the header. This implies that we cannot call any variable \"Model\"."
   ]
  },
  {
   "cell_type": "code",
   "execution_count": 9,
   "id": "d09f218d",
   "metadata": {},
   "outputs": [],
   "source": [
    "modExp = Model(arrExp)\n",
    "modLin = Model(arrLin)"
   ]
  },
  {
   "cell_type": "markdown",
   "id": "d7828c0c",
   "metadata": {},
   "source": [
    "Like all fitting procedures, *lmfit* requires a starting set of parameters to operate, that can be set by the user. The closer the parameters are to the correct ones the better the library will work. Typically the frequency factor is of the order of $10^{12}-10^{15}\\ Hz$ and the activation energy for a slow-ish reaction is in the $1-100\\ kJ/mol$ range."
   ]
  },
  {
   "cell_type": "code",
   "execution_count": 10,
   "id": "1ae3f777",
   "metadata": {},
   "outputs": [],
   "source": [
    "paramsExp = modExp.make_params(A=1e13 , Ea=5)\n",
    "paramsLin = modLin.make_params(lnA=np.log(1e13) , Ea=5)"
   ]
  },
  {
   "cell_type": "markdown",
   "id": "2bddaded",
   "metadata": {},
   "source": [
    "We can now fit the data. The **fit** function takes three main arguments, $y$, the initial parameters and the $x$ of the data to fit. \n",
    "* Note how for the linear fit we pass to the _lmfit_ function the log of the rate but not the inverse of the temperature. This is because of the way we defined the **arrLin** function."
   ]
  },
  {
   "cell_type": "code",
   "execution_count": 11,
   "id": "c8d10152",
   "metadata": {},
   "outputs": [],
   "source": [
    "fitExp = modExp.fit(data[\"Kr\"], paramsExp, x=data[\"T\"])\n",
    "fitLin = modLin.fit(np.log(data[\"Kr\"]), paramsLin, x=data[\"T\"])"
   ]
  },
  {
   "cell_type": "markdown",
   "id": "d04bc945",
   "metadata": {},
   "source": [
    "We can now compute the $R^2$ score."
   ]
  },
  {
   "cell_type": "code",
   "execution_count": 12,
   "id": "11c8e0ff",
   "metadata": {},
   "outputs": [],
   "source": [
    "expR2 = 1 - fitExp.residual.var() / np.var(data[\"Kr\"])\n",
    "linR2 = 1 - fitLin.residual.var() / np.var(data[\"Kr\"])"
   ]
  },
  {
   "cell_type": "markdown",
   "id": "46968d54",
   "metadata": {},
   "source": [
    "We can then print the result of the exponential and linear fits.\n",
    "Note that the results are essentially identical to those obtained from _curve_fit_ because the same minimisation algorithm has been used."
   ]
  },
  {
   "cell_type": "code",
   "execution_count": 13,
   "id": "fcf2d410",
   "metadata": {},
   "outputs": [
    {
     "name": "stdout",
     "output_type": "stream",
     "text": [
      "----- Exponential fit -----\n",
      "A  parameter - Slope     = 4.844e+11 +/- 5.416e+11\n",
      "Ea parameter - Intercept = 90901.296 +/- 4292.036\n",
      "R squared                = 0.9349\n",
      "----- Linear fit -----\n",
      "lnA parameter - Slope     = 2.830e+01 +/- 1.833e-01\n",
      "Ea  parameter - Intercept = 96424.791 +/- 544.122\n",
      "R squared               = 0.9989\n"
     ]
    }
   ],
   "source": [
    "print(\"----- Exponential fit -----\")\n",
    "print(\"A  parameter - Slope     = %8.3e +/- %.3e\" % (fitExp.params[\"A\"].value,\n",
    "                                                     fitExp.params[\"A\"].stderr))\n",
    "print(\"Ea parameter - Intercept = %8.3f +/- %.3f\" % (fitExp.params[\"Ea\"].value,\n",
    "                                                     fitExp.params[\"Ea\"].stderr))\n",
    "print(\"R squared                = %.4f\" % expR2)\n",
    "\n",
    "print(\"----- Linear fit -----\")\n",
    "print(\"lnA parameter - Slope     = %8.3e +/- %.3e\" % (fitLin.params[\"lnA\"].value,\n",
    "                                                      fitLin.params[\"lnA\"].stderr))\n",
    "print(\"Ea  parameter - Intercept = %8.3f +/- %.3f\" % (fitLin.params[\"Ea\"].value,\n",
    "                                                      fitLin.params[\"Ea\"].stderr))\n",
    "print(\"R squared               = %.4f\" % linR2)"
   ]
  },
  {
   "cell_type": "markdown",
   "id": "15a3057a",
   "metadata": {},
   "source": [
    "One advantage of _lmfit_ is that it also provides more extensive information of the fitting. \n",
    "For example for the exponential fit we have"
   ]
  },
  {
   "cell_type": "code",
   "execution_count": 14,
   "id": "45146e97",
   "metadata": {},
   "outputs": [
    {
     "data": {
      "text/html": [
       "<h2>Fit Statistics</h2><table><tr><td>fitting method</td><td>leastsq</td><td></td></tr><tr><td># function evals</td><td>277</td><td></td></tr><tr><td># data points</td><td>100</td><td></td></tr><tr><td># variables</td><td>2</td><td></td></tr><tr><td>chi-square</td><td> 510.340525</td><td></td></tr><tr><td>reduced chi-square</td><td> 5.20755638</td><td></td></tr><tr><td>Akaike info crit.</td><td> 166.990801</td><td></td></tr><tr><td>Bayesian info crit.</td><td> 172.201142</td><td></td></tr></table><h2>Variables</h2><table><tr><th> name </th><th> value </th><th> standard error </th><th> relative error </th><th> initial value </th><th> min </th><th> max </th><th> vary </th></tr><tr><td> A </td><td>  4.8443e+11 </td><td>  5.4162e+11 </td><td> (111.81%) </td><td> 10000000000000.0 </td><td>        -inf </td><td>         inf </td><td> True </td></tr><tr><td> Ea </td><td>  90901.2963 </td><td>  4292.03650 </td><td> (4.72%) </td><td> 5 </td><td>        -inf </td><td>         inf </td><td> True </td></tr></table><h2>Correlations (unreported correlations are < 0.100)</h2><table><tr><td>A</td><td>Ea</td><td>0.9998</td></tr></table>"
      ],
      "text/plain": [
       "<lmfit.minimizer.MinimizerResult at 0x7fbc28804460>"
      ]
     },
     "execution_count": 14,
     "metadata": {},
     "output_type": "execute_result"
    }
   ],
   "source": [
    "fitExp.result"
   ]
  },
  {
   "cell_type": "markdown",
   "id": "e7937b65",
   "metadata": {},
   "source": [
    "$\\dots$ and for the linear fit."
   ]
  },
  {
   "cell_type": "code",
   "execution_count": 15,
   "id": "a6515d81",
   "metadata": {},
   "outputs": [
    {
     "data": {
      "text/html": [
       "<h2>Fit Statistics</h2><table><tr><td>fitting method</td><td>leastsq</td><td></td></tr><tr><td># function evals</td><td>9</td><td></td></tr><tr><td># data points</td><td>100</td><td></td></tr><tr><td># variables</td><td>2</td><td></td></tr><tr><td>chi-square</td><td> 8.42767045</td><td></td></tr><tr><td>reduced chi-square</td><td> 0.08599664</td><td></td></tr><tr><td>Akaike info crit.</td><td>-243.364979</td><td></td></tr><tr><td>Bayesian info crit.</td><td>-238.154639</td><td></td></tr></table><h2>Variables</h2><table><tr><th> name </th><th> value </th><th> standard error </th><th> relative error </th><th> initial value </th><th> min </th><th> max </th><th> vary </th></tr><tr><td> lnA </td><td>  28.3042755 </td><td>  0.18327057 </td><td> (0.65%) </td><td> 29.933606208922594 </td><td>        -inf </td><td>         inf </td><td> True </td></tr><tr><td> Ea </td><td>  96424.7908 </td><td>  544.121870 </td><td> (0.56%) </td><td> 5 </td><td>        -inf </td><td>         inf </td><td> True </td></tr></table><h2>Correlations (unreported correlations are < 0.100)</h2><table><tr><td>lnA</td><td>Ea</td><td>0.9871</td></tr></table>"
      ],
      "text/plain": [
       "<lmfit.minimizer.MinimizerResult at 0x7fbc2882af10>"
      ]
     },
     "execution_count": 15,
     "metadata": {},
     "output_type": "execute_result"
    }
   ],
   "source": [
    "fitLin.result"
   ]
  },
  {
   "cell_type": "markdown",
   "id": "f7952057",
   "metadata": {},
   "source": [
    "Let's now see how the two fits compare with the input data graphically by plotting the data and fit functions.\n",
    "_lmfit_ has already computed the values of best fit, so there's nothing for us to do.\n",
    "Note that for the linear fit we took the exponential of the data."
   ]
  },
  {
   "cell_type": "code",
   "execution_count": 16,
   "id": "302409a5",
   "metadata": {},
   "outputs": [
    {
     "data": {
      "image/png": "[encoded data removed]",
      "text/plain": [
       "<Figure size 1296x432 with 2 Axes>"
      ]
     },
     "metadata": {
      "needs_background": "light"
     },
     "output_type": "display_data"
    }
   ],
   "source": [
    "fig , ax = plt.subplots(1,2,figsize=(18,6))\n",
    "\n",
    "ax[0].scatter(data[\"T\"],data[\"Kr\"],label=\"Data\")\n",
    "ax[0].plot(data[\"T\"],fitExp.best_fit,label=\"ExpFit\",color='red')\n",
    "ax[0].plot(data[\"T\"],np.exp(fitLin.best_fit),label=\"LinFit\",color='green')\n",
    "ax[0].set(xlabel=\"Temperature (K)\")\n",
    "ax[0].set(ylabel=\"Kr\")\n",
    "ax[0].legend()\n",
    "\n",
    "ax[1].scatter(1/data[\"T\"],np.log(data[\"Kr\"]),label=\"Data\")\n",
    "ax[1].plot(1/data[\"T\"],np.log(fitExp.best_fit),label=\"ExpFit\",color='red')\n",
    "ax[1].plot(1/data[\"T\"],fitLin.best_fit,label=\"LinFit\",color='green')\n",
    "ax[1].set(xlabel=\"1/Temperature (1/K)\")\n",
    "ax[1].set(ylabel=\"ln[Kr]\")\n",
    "ax[1].legend()\n",
    "\n",
    "plt.show()"
   ]
  },
  {
   "cell_type": "markdown",
   "id": "cb98d90f",
   "metadata": {},
   "source": [
    "Although both fits look good representations of the data when plotted in the exponential form, the linear fit appears clearly superior when the in the linear form.\n",
    "This is due to fact that the least squares method minimises the residuals, so in the exponential form the tail of the function is _less_ important than the part with large numbers."
   ]
  }
 ],
 "metadata": {
  "kernelspec": {
   "display_name": "Python 3 (ipykernel)",
   "language": "python",
   "name": "python3"
  },
  "language_info": {
   "codemirror_mode": {
    "name": "ipython",
    "version": 3
   },
   "file_extension": ".py",
   "mimetype": "text/x-python",
   "name": "python",
   "nbconvert_exporter": "python",
   "pygments_lexer": "ipython3",
   "version": "3.9.7"
  }
 },
 "nbformat": 4,
 "nbformat_minor": 5
}
