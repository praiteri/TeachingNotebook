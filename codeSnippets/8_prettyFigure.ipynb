{
 "cells": [
  {
   "cell_type": "markdown",
   "id": "65b1a0ea",
   "metadata": {},
   "source": [
    "# Improve figures layout\n",
    "\n",
    "In this tutorial we'll learn how to make good figures, which would be suitable for your reports or for a publication or for an Honours thesis."
   ]
  },
  {
   "cell_type": "markdown",
   "id": "7caa0670",
   "metadata": {},
   "source": [
    "# The Jupyter Notebook\n",
    "\n",
    "Let's start by loading the Python packages, note that this time there is one extra package, which will be used to modify the ticks on the figure's axes."
   ]
  },
  {
   "cell_type": "code",
   "execution_count": null,
   "id": "b29b9762",
   "metadata": {},
   "outputs": [],
   "source": [
    "# python packages\n",
    "import pandas as pd # Dataframes and reading CSV files\n",
    "import numpy as np # Numerical libraries\n",
    "import matplotlib.pyplot as plt # Plotting library\n",
    "from lmfit import Model # Least squares fitting library\n",
    "\n",
    "from matplotlib.ticker import (MultipleLocator, \n",
    "                               FormatStrFormatter, \n",
    "                               AutoMinorLocator)"
   ]
  },
  {
   "cell_type": "markdown",
   "id": "b8c781b3",
   "metadata": {},
   "source": [
    "First of all we want to define the figure's size and the font size that we want to use in the various parts of the figure. We use a variable _fontsize_ for the largest font in the image and then define the font size on the axes and the legend as a proportion of its value. This is useful because if we change the figure's size, we'll have to change the font size too.\n",
    "We then define a function that we can call to customise the axes of a figure."
   ]
  },
  {
   "cell_type": "code",
   "execution_count": null,
   "id": "643a76b7",
   "metadata": {},
   "outputs": [],
   "source": [
    "from matplotlib.ticker import (MultipleLocator, \n",
    "                               FormatStrFormatter, \n",
    "                               AutoMinorLocator)\n",
    "\n",
    "# Define the figure's parameters\n",
    "fontsize=28\n",
    "figureParameters = {'figure.figsize' : (12,8),\n",
    "                    'legend.fontsize': fontsize*0.7,\n",
    "                    'axes.labelsize' : fontsize,\n",
    "                    'axes.titlesize' : fontsize,\n",
    "                    'xtick.labelsize': fontsize*0.8,\n",
    "                    'ytick.labelsize': fontsize*0.8,\n",
    "                    'xtick.direction': \"out\", # tick marks inside the frame\n",
    "                    'ytick.direction': \"out\", # tick marks outside the frame\n",
    "                    'axes.linewidth' : 3,\n",
    "                    'axes.titlepad'  : 25}\n",
    "# Uncomment to set the prameters as default\n",
    "#plt.rcParams.update(figureParameters)\n",
    "\n",
    "def prettyTicks(ax):\n",
    "    # Add tick marks on all sides of the figure\n",
    "    ax.xaxis.set_ticks_position('bottom')\n",
    "    ax.yaxis.set_ticks_position('left')\n",
    "\n",
    "    # Define the spacing of the major tick marks\n",
    "    # It is useful to comment this lines the first time\n",
    "    # we run the code to avoid errors because of an excessive\n",
    "    # number of tick marks\n",
    "#     ax.xaxis.set_major_locator(MultipleLocator())\n",
    "#     ax.yaxis.set_major_locator(MultipleLocator())\n",
    "    \n",
    "    ax.yaxis.set_minor_locator(AutoMinorLocator())\n",
    "    ax.xaxis.set_minor_locator(AutoMinorLocator())\n",
    "\n",
    "    ax.tick_params(which='minor', length=6, width=3, color='black')\n",
    "    ax.tick_params(which='major', length=12, width=3, color='black')\n",
    "    \n"
   ]
  },
  {
   "cell_type": "markdown",
   "id": "45414215",
   "metadata": {},
   "source": [
    "As a working example we can use a dataset for the Lambert-Beer law.\n",
    "We load the data in a DataFrame and fit them with a line, similarly to what we did in the previous tutorial."
   ]
  },
  {
   "cell_type": "code",
   "execution_count": null,
   "id": "88e953f8",
   "metadata": {},
   "outputs": [],
   "source": [
    "# Import the data\n",
    "data = pd.read_csv(\"../miscData/LB.csv\")\n",
    "data.columns = (\"X\",\"Y\",\"Z\")\n",
    "nval = len(data.index)\n",
    "\n",
    "# fit the data with a line\n",
    "def lline(x,m,q):\n",
    "    return m*x + q\n",
    "fitModel = Model(lline)\n",
    "initialParameters = fitModel.make_params(m=1,q=1)\n",
    "result = fitModel.fit(data[\"Y\"], initialParameters, x=data[\"X\"])\n",
    "\n",
    "# Extract the best fitting parameters\n",
    "mValue = result.best_values[\"m\"]\n",
    "qValue = result.best_values[\"q\"]\n",
    "\n",
    "# Create an array with the best fittig line\n",
    "xl = np.arange(0,11)\n",
    "plotLine = lline(xl,mValue,qValue)"
   ]
  },
  {
   "cell_type": "markdown",
   "id": "e6a0907c",
   "metadata": {},
   "source": [
    "For illustrative purposes, let's just make a graph without any customisations/"
   ]
  },
  {
   "cell_type": "code",
   "execution_count": null,
   "id": "b702a7aa",
   "metadata": {},
   "outputs": [],
   "source": [
    "# Create the figure with the data points and their fit\n",
    "fig = plt.figure()\n",
    "ax = fig.gca()\n",
    "ax.scatter(data[\"X\"], data[\"Y\"])\n",
    "ax.plot(xl,plotLine)\n",
    "\n",
    "# Make the figure\n",
    "plt.show()"
   ]
  },
  {
   "cell_type": "markdown",
   "id": "b0b9df64",
   "metadata": {},
   "source": [
    "Let's now make a better figure. These are the steps that we are going to follow:\n",
    "1. Set figure parameters that we have defined earlier\n",
    "2. Create new figure and axes objects\n",
    "3. Add data and the fit line to the axes\n",
    "4. Set the axes' labels\n",
    "5. Set the limits of the axes\n",
    "6. Make pretty tick marks by calling the function we defined before\n",
    "7. Add legend to the plot in the upper left corner\n",
    "8. Display the figure\n",
    "\n",
    "These commands have to be put in one box otherwise there can be problems with the figure representation."
   ]
  },
  {
   "cell_type": "code",
   "execution_count": null,
   "id": "22cfc1b7",
   "metadata": {},
   "outputs": [],
   "source": [
    "plt.rcParams.update(figureParameters)\n",
    "\n",
    "fig2 = plt.figure()\n",
    "ax = fig2.gca()\n",
    "\n",
    "ax.scatter(data[\"X\"], data[\"Y\"], label=\"Data\", s=75)\n",
    "ax.plot(xl,plotLine, color='red', lw=3, label=\"Average\")\n",
    "\n",
    "ax.set(xlabel=\"Concentration (mmol/L)\")\n",
    "ax.set(ylabel=\"Absorbance\")\n",
    "\n",
    "plt.xlim([0,10])\n",
    "plt.ylim([0,0.3])\n",
    "\n",
    "prettyTicks(ax)\n",
    "\n",
    "ax.legend(loc=\"upper left\")\n",
    "\n",
    "plt.show()"
   ]
  },
  {
   "cell_type": "markdown",
   "id": "20d04db1",
   "metadata": {},
   "source": [
    "Although the plot is not perfect (tick marks should all be pointing inward or outward), it is a much better figure than the default one, and it can be used in a scientific document.\n",
    "Equally good figures can probably be done with Excel, but, in my opinion, this approach has the advantage that once a script is prepared all figures of a paper/thesis can be readily produced with a consistent style and little extra effort.\n",
    "\n",
    "The figure could be saved to a file by adding this command to a Python cell.\n",
    "```python\n",
    "fig2.savefig(\"figure.png\")\n",
    "```"
   ]
  }
 ],
 "metadata": {
  "kernelspec": {
   "display_name": "Python 3 (ipykernel)",
   "language": "python",
   "name": "python3"
  },
  "language_info": {
   "codemirror_mode": {
    "name": "ipython",
    "version": 3
   },
   "file_extension": ".py",
   "mimetype": "text/x-python",
   "name": "python",
   "nbconvert_exporter": "python",
   "pygments_lexer": "ipython3",
   "version": "3.11.7"
  },
  "widgets": {
   "application/vnd.jupyter.widget-state+json": {
    "state": {},
    "version_major": 2,
    "version_minor": 0
   }
  }
 },
 "nbformat": 4,
 "nbformat_minor": 5
}
