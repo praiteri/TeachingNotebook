{
 "cells": [
  {
   "cell_type": "markdown",
   "id": "f0105116",
   "metadata": {},
   "source": [
    "# Example of Mardown text - (Level 1 header)\n",
    "## Level 2 header\n",
    "### Level 3 header\n",
    "#### Level 4 header\n",
    "##### Level 5 header\n",
    "\n",
    "**BOLD TEXT**\n",
    "\n",
    "_ITALIC TEXT_ or *italic text*"
   ]
  },
  {
   "cell_type": "markdown",
   "id": "d7d153bd",
   "metadata": {},
   "source": [
    "## Examples of equations using _LaTeX_\n",
    "\n",
    "$\\exp(-E_a/RT)$\n",
    "\n",
    "$e^{-E_a/RT}$\n",
    "\n",
    "$\\ln(x-1)$\n",
    "\n",
    "$f(x) = \\frac{1}{1-x}$\n",
    "\n",
    "$\\int_{a}^{b} f(x)\\mathrm{d}x$"
   ]
  },
  {
   "cell_type": "markdown",
   "id": "bf436622",
   "metadata": {},
   "source": [
    "## Greek letters in _LaTeX_\n",
    "\n",
    "$\\alpha$, $\\beta$, $\\delta$, $\\Delta$, $\\gamma$, $\\epsilon$, $\\varepsilon$ ... $\\rho$, $\\omega$"
   ]
  },
  {
   "cell_type": "markdown",
   "id": "65dfb2de",
   "metadata": {},
   "source": [
    "## Examples of a chemical formulae using _LaTeX_\n",
    "\n",
    "$\\mathrm{CO_3^{2-} +  Ca \\leftrightharpoons CaCO_3}$\n",
    "\n",
    "$\\mathrm{CO_3^{2-} +  Ca \\to CaCO_3}$"
   ]
  },
  {
   "cell_type": "markdown",
   "id": "58034bab-faee-4d0e-9bef-688b8cef373e",
   "metadata": {},
   "source": [
    "Example of making a table ([online resource](https://www.tablesgenerator.com/markdown_tables))\n",
    "\n",
    "|       | [HA]               | [A$^-$]                 | [H$^+$]\n",
    "| :---: |:------------------:|:-----------------------:|:---------:\n",
    "| *I*   | [HA]$_0$           | [A$^-$]$_0$             | [H$^+$]$_0$\n",
    "| *C*   | $-F_1\\delta c$     | $+F_1\\delta c$          | $+F_1\\delta c$\n",
    "| *E*   | [HA]$_0-F\\delta c$ | [A$^-$]$_0+F_1\\delta c$ | [H$^+$]$_0+F\\delta c$\n",
    "\n",
    "**Table 1.** This is the table caption.\n"
   ]
  },
  {
   "cell_type": "markdown",
   "id": "a2ffa47e",
   "metadata": {},
   "source": [
    "## Example of importing a figure\n",
    "![](figure.png \"test\")\n",
    "\n",
    "**Figure 1.** This is the figure caption."
   ]
  },
  {
   "cell_type": "code",
   "execution_count": null,
   "id": "83cbe04d-4b7d-401e-a73b-5d761164a5b8",
   "metadata": {},
   "outputs": [],
   "source": [
    "import cekComputerLabs as cek\n",
    "cek.convertNotebook()"
   ]
  }
 ],
 "metadata": {
  "kernelspec": {
   "display_name": "Python 3 (ipykernel)",
   "language": "python",
   "name": "python3"
  },
  "language_info": {
   "codemirror_mode": {
    "name": "ipython",
    "version": 3
   },
   "file_extension": ".py",
   "mimetype": "text/x-python",
   "name": "python",
   "nbconvert_exporter": "python",
   "pygments_lexer": "ipython3",
   "version": "3.11.7"
  }
 },
 "nbformat": 4,
 "nbformat_minor": 5
}
