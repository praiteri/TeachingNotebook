{
 "cells": [
  {
   "cell_type": "markdown",
   "id": "f0105116",
   "metadata": {},
   "source": [
    "# Example of Mardown text - (Level 1 header)\n",
    "## Level 2 header\n",
    "### Level 3 header\n",
    "#### Level 4 header\n",
    "##### Level 5 header\n",
    "\n",
    "**BOLD TEXT**\n",
    "\n",
    "_ITALIC TEXT_ or *italic text*"
   ]
  },
  {
   "cell_type": "markdown",
   "id": "d7d153bd",
   "metadata": {},
   "source": [
    "## Examples of equations using _LaTeX_\n",
    "\n",
    "$\\exp(-E_a/RT)$\n",
    "\n",
    "$e^{-E_a/RT}$\n",
    "\n",
    "$\\ln(x-1)$\n",
    "\n",
    "$f(x) = \\frac{1}{1-x}$\n",
    "\n",
    "$\\int_{a}^{b} f(x)\\mathrm{d}x$"
   ]
  },
  {
   "cell_type": "markdown",
   "id": "bf436622",
   "metadata": {},
   "source": [
    "## Greek letters in _LaTeX_\n",
    "\n",
    "$\\alpha$, $\\beta$, $\\delta$, $\\Delta$, $\\gamma$, $\\epsilon$, $\\varepsilon$ ... $\\rho$, $\\omega$"
   ]
  },
  {
   "cell_type": "markdown",
   "id": "65dfb2de",
   "metadata": {},
   "source": [
    "## Examples of a chemical formulae using _LaTeX_\n",
    "\n",
    "$\\mathrm{CO_3^{2-} +  Ca \\leftrightharpoons CaCO_3}$\n",
    "\n",
    "$\\mathrm{CO_3^{2-} +  Ca \\to CaCO_3}$"
   ]
  },
  {
   "cell_type": "markdown",
   "id": "a2ffa47e",
   "metadata": {},
   "source": [
    "## Example of importing a figure\n",
    "![](figure.png \"test\")"
   ]
  }
 ],
 "metadata": {
  "kernelspec": {
   "display_name": "Python 3 (ipykernel)",
   "language": "python",
   "name": "python3"
  },
  "language_info": {
   "codemirror_mode": {
    "name": "ipython",
    "version": 3
   },
   "file_extension": ".py",
   "mimetype": "text/x-python",
   "name": "python",
   "nbconvert_exporter": "python",
   "pygments_lexer": "ipython3",
   "version": "3.9.13"
  }
 },
 "nbformat": 4,
 "nbformat_minor": 5
}
