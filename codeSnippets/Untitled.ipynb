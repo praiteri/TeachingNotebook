{
 "cells": [
  {
   "cell_type": "markdown",
   "id": "3a92641f",
   "metadata": {},
   "source": [
    "# Intro to python\n",
    "## Simple calculator"
   ]
  },
  {
   "cell_type": "code",
   "execution_count": 1,
   "id": "d891b488",
   "metadata": {},
   "outputs": [],
   "source": [
    "# python packages\n",
    "from sys import stdout\n",
    "import pandas as pd # Dataframes and reading CSV files\n",
    "import numpy as np # Numerical libraries\n",
    "import matplotlib.pyplot as plt # Plotting library\n",
    "from lmfit import Model # Least squares fitting library"
   ]
  },
  {
   "cell_type": "markdown",
   "id": "40835605",
   "metadata": {},
   "source": [
    "Let's start by doing some simple matematical operations using this Jupyter Notebook; Addition, multiplication, division and power"
   ]
  },
  {
   "cell_type": "markdown",
   "id": "e3180fb0",
   "metadata": {},
   "source": [
    "Code block:\n",
    "\n",
    "```python\n",
    "2 + 3\n",
    "```\n",
    "Result:"
   ]
  },
  {
   "cell_type": "code",
   "execution_count": 2,
   "id": "4411c685",
   "metadata": {},
   "outputs": [
    {
     "data": {
      "text/plain": [
       "5"
      ]
     },
     "execution_count": 2,
     "metadata": {},
     "output_type": "execute_result"
    }
   ],
   "source": [
    "2 + 3"
   ]
  },
  {
   "cell_type": "markdown",
   "id": "d3500033",
   "metadata": {},
   "source": [
    "Code block:\n",
    "\n",
    "```python\n",
    "4 * 3\n",
    "```\n",
    "Result:"
   ]
  },
  {
   "cell_type": "code",
   "execution_count": 3,
   "id": "b2378f18",
   "metadata": {},
   "outputs": [
    {
     "data": {
      "text/plain": [
       "12"
      ]
     },
     "execution_count": 3,
     "metadata": {},
     "output_type": "execute_result"
    }
   ],
   "source": [
    "4 * 3"
   ]
  },
  {
   "cell_type": "markdown",
   "id": "2bcbc40b",
   "metadata": {},
   "source": [
    "Code block:\n",
    "\n",
    "```python\n",
    "12 / 3\n",
    "```\n",
    "Result:"
   ]
  },
  {
   "cell_type": "code",
   "execution_count": 4,
   "id": "b9ddbd5b",
   "metadata": {},
   "outputs": [
    {
     "data": {
      "text/plain": [
       "4.0"
      ]
     },
     "execution_count": 4,
     "metadata": {},
     "output_type": "execute_result"
    }
   ],
   "source": [
    "12 / 3"
   ]
  },
  {
   "cell_type": "markdown",
   "id": "1c081e36",
   "metadata": {},
   "source": [
    "Code block:\n",
    "\n",
    "```python\n",
    "2**3\n",
    "```\n",
    "Result:"
   ]
  },
  {
   "cell_type": "code",
   "execution_count": 5,
   "id": "2b6b64e8",
   "metadata": {},
   "outputs": [
    {
     "data": {
      "text/plain": [
       "8"
      ]
     },
     "execution_count": 5,
     "metadata": {},
     "output_type": "execute_result"
    }
   ],
   "source": [
    "2**3"
   ]
  },
  {
   "cell_type": "markdown",
   "id": "6221321f",
   "metadata": {},
   "source": [
    "The same operations can be done using variables. We can first define two variables _a_ and _b_ and then use them in in the following cells\n",
    "\n",
    "Code block:\n",
    "```python\n",
    "a = 12\n",
    "b = 3\n",
    "a + b\n",
    "```"
   ]
  },
  {
   "cell_type": "code",
   "execution_count": 6,
   "id": "8cd8e8b4",
   "metadata": {},
   "outputs": [
    {
     "data": {
      "text/plain": [
       "15"
      ]
     },
     "execution_count": 6,
     "metadata": {},
     "output_type": "execute_result"
    }
   ],
   "source": [
    "a = 12\n",
    "b = 3\n",
    "a + b"
   ]
  },
  {
   "cell_type": "markdown",
   "id": "55fb687b",
   "metadata": {},
   "source": [
    "This is not a very efficient way of working because the result of the operation is not available to the rest of the code after the cell has been executed. Typically, we want to create new variables and than write the result using the _print_ command.\n",
    "\n",
    "Code block:\n",
    "\n",
    "```python\n",
    "a = 10\n",
    "b = 20\n",
    "c = a + b\n",
    "print(\"Result :\",c)\n",
    "```\n",
    "Result:"
   ]
  },
  {
   "cell_type": "code",
   "execution_count": 7,
   "id": "aa0a0776",
   "metadata": {},
   "outputs": [
    {
     "name": "stdout",
     "output_type": "stream",
     "text": [
      "Result : 30\n"
     ]
    }
   ],
   "source": [
    "a = 10\n",
    "b = 20\n",
    "c = a + b\n",
    "print(\"Result :\",c)"
   ]
  },
  {
   "cell_type": "markdown",
   "id": "79e78fee",
   "metadata": {},
   "source": [
    "## Scientific calculator\n",
    "Not all scientific operator are available in Python and they, but they can be accessed through optional packages that are loaded at the beginning of your notebook, _e.g._ NumPy.\n",
    "NumPy is one of the most commonly used Python library, it contains all the operators for square root, logarithm, exponential, the trigonometric function, a suite of constants and much more.\n",
    "In the examples below we show how to use NumPy to access these functions.\n",
    "Note that we access the NumPy function through using the _np_ prefix because of the way we imported the NumPy library at the beginning of this notebook.\n",
    "\n",
    "Code block:\n",
    "\n",
    "```python\n",
    "print(\"The approximate value of pi is                     :\",np.pi)\n",
    "print(\"The approximate value of the Euler constant (e) is :\",np.e)\n",
    "print(\"The square root of two is                          :\",np.sqrt(2))\n",
    "print(\"The natural logarithm of two is                    :\",np.log(2))\n",
    "print(\"The logarithm base 10 of two is                    :\",np.log10(2))\n",
    "print(\"The sine of pi is                                  :\",np.sin(np.pi))\n",
    "print(\"The cosine of pi is                                :\",np.cos(np.pi))\n",
    "```\n",
    "Result:"
   ]
  },
  {
   "cell_type": "code",
   "execution_count": 8,
   "id": "77dd7348",
   "metadata": {},
   "outputs": [
    {
     "name": "stdout",
     "output_type": "stream",
     "text": [
      "The approximate value of pi is                     : 3.141592653589793\n",
      "The approximate value of the Euler constant (e) is : 2.718281828459045\n",
      "The square root of two is                          : 1.4142135623730951\n",
      "The natural logarithm of two is                    : 0.6931471805599453\n",
      "The logarithm base 10 of two is                    : 0.3010299956639812\n",
      "The sine of pi is                                  : 1.2246467991473532e-16\n",
      "The cosine of pi is                                : -1.0\n"
     ]
    }
   ],
   "source": [
    "print(\"The approximate value of pi is                     :\",np.pi)\n",
    "print(\"The approximate value of the Euler constant (e) is :\",np.e)\n",
    "print(\"The square root of two is                          :\",np.sqrt(2))\n",
    "print(\"The natural logarithm of two is                    :\",np.log(2))\n",
    "print(\"The logarithm base 10 of two is                    :\",np.log10(2))\n",
    "print(\"The sine of pi is                                  :\",np.sin(np.pi))\n",
    "print(\"The cosine of pi is                                :\",np.cos(np.pi))"
   ]
  },
  {
   "cell_type": "code",
   "execution_count": null,
   "id": "eb02f327",
   "metadata": {},
   "outputs": [],
   "source": []
  }
 ],
 "metadata": {
  "kernelspec": {
   "display_name": "Python 3 (ipykernel)",
   "language": "python",
   "name": "python3"
  },
  "language_info": {
   "codemirror_mode": {
    "name": "ipython",
    "version": 3
   },
   "file_extension": ".py",
   "mimetype": "text/x-python",
   "name": "python",
   "nbconvert_exporter": "python",
   "pygments_lexer": "ipython3",
   "version": "3.9.7"
  }
 },
 "nbformat": 4,
 "nbformat_minor": 5
}
