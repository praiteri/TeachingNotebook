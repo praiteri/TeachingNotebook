{
 "cells": [
  {
   "cell_type": "code",
   "execution_count": null,
   "id": "f008a39d",
   "metadata": {},
   "outputs": [],
   "source": [
    "# python packages\n",
    "from sys import stdout\n",
    "import pandas as pd # Dataframes and reading CSV files\n",
    "import numpy as np # Numerical libraries\n",
    "import matplotlib.pyplot as plt # Plotting library\n",
    "# %matplotlib notebook\n",
    "from lmfit import Model # Least squares fitting library"
   ]
  },
  {
   "cell_type": "markdown",
   "id": "f415ed13",
   "metadata": {},
   "source": [
    "In this notebook we'll demonstrate how to compute the averge of a chunk of data from a large dataset.\n",
    "We can start from reading a data file into a pandas dataframe, and rename the columns"
   ]
  },
  {
   "cell_type": "code",
   "execution_count": null,
   "id": "f4595246",
   "metadata": {},
   "outputs": [],
   "source": [
    "data = pd.read_csv(\"random1.csv\")\n",
    "data.columns = (\"X\",\"Y\")\n",
    "print(data)"
   ]
  },
  {
   "cell_type": "markdown",
   "id": "ca838819",
   "metadata": {},
   "source": [
    "The most common scenario is to compute the average of a chunck of data, discarding the initial and/or final part of the data set. We can use the _iloc_ function of the dataframe to select a set of data, _e.g._ the first three values in the dataframe. Remember that Python starts counting from zero"
   ]
  },
  {
   "cell_type": "code",
   "execution_count": null,
   "id": "1f7ec6ef",
   "metadata": {},
   "outputs": [],
   "source": [
    "nval = len(data.index) # total number of points\n",
    "nInit = 0 # first element to use for the average\n",
    "nValues =3 # number of elements to use for the average\n",
    "print(\"Total number of points in the dataframe :\",nval)\n",
    "print(\"First element to use for the average    :\",nInit)\n",
    "print(\"Number of values to use for the average :\",nValues)"
   ]
  },
  {
   "cell_type": "markdown",
   "id": "1dcffe10",
   "metadata": {},
   "source": [
    "Let's print the those values from the second column to check they are what we expect and compute their average using NumPy."
   ]
  },
  {
   "cell_type": "code",
   "execution_count": null,
   "id": "ad7774d2",
   "metadata": {},
   "outputs": [],
   "source": [
    "values = data.iloc[ nInit : nInit+nValues , 1].values\n",
    "print(values)\n",
    "\n",
    "average = np.mean(values)\n",
    "print(\"Average :\",average)"
   ]
  },
  {
   "cell_type": "markdown",
   "id": "aa64f439",
   "metadata": {},
   "source": [
    "For some types of statistical analysis, like bootstrapping, one could be interested in randomly selecting a subset of data, limiting any human bias. To do this we can use the _ramdom.choice_ in NumPy to create an array of random numbers taken between 0 and the size of out sample (_nval_)"
   ]
  },
  {
   "cell_type": "code",
   "execution_count": null,
   "id": "892ed809",
   "metadata": {},
   "outputs": [],
   "source": [
    "numberOfValues = 20 \n",
    "rand_num_array = np.random.choice(nval, replace=False, size=numberOfValues)\n",
    "print(rand_num_array)"
   ]
  },
  {
   "cell_type": "markdown",
   "id": "afcc6ef6",
   "metadata": {},
   "source": [
    "We can then use that array of number to create a smaller dataframe"
   ]
  },
  {
   "cell_type": "code",
   "execution_count": null,
   "id": "090655b8",
   "metadata": {},
   "outputs": [],
   "source": [
    "dataChunk = data.iloc[rand_num_array]\n",
    "print(dataChunk)"
   ]
  },
  {
   "cell_type": "markdown",
   "id": "1132556a",
   "metadata": {},
   "source": [
    "We can then use dataChunk to compute the average"
   ]
  },
  {
   "cell_type": "code",
   "execution_count": null,
   "id": "a56e90b8",
   "metadata": {},
   "outputs": [],
   "source": [
    "avgChunk = np.mean(dataChunk[\"Y\"])\n",
    "print(\"Number of randomly selected values      :\",numberOfValues)\n",
    "print(\"Average of the randomly selected values :\",avgChunk)"
   ]
  },
  {
   "cell_type": "code",
   "execution_count": null,
   "id": "1f8e6f26",
   "metadata": {},
   "outputs": [],
   "source": []
  }
 ],
 "metadata": {
  "kernelspec": {
   "display_name": "Python 3 (ipykernel)",
   "language": "python",
   "name": "python3"
  },
  "language_info": {
   "codemirror_mode": {
    "name": "ipython",
    "version": 3
   },
   "file_extension": ".py",
   "mimetype": "text/x-python",
   "name": "python",
   "nbconvert_exporter": "python",
   "pygments_lexer": "ipython3",
   "version": "3.9.7"
  }
 },
 "nbformat": 4,
 "nbformat_minor": 5
}
