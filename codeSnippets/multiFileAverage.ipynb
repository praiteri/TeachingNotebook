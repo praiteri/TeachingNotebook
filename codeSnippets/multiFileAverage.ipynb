{
 "cells": [
  {
   "cell_type": "code",
   "execution_count": null,
   "id": "1ac07b19",
   "metadata": {},
   "outputs": [],
   "source": [
    "# python packages\n",
    "from sys import stdout\n",
    "import pandas as pd # Dataframes and reading CSV files\n",
    "import numpy as np # Numerical libraries\n",
    "import matplotlib.pyplot as plt # Plotting library\n",
    "from lmfit import Model # Least squares fitting library"
   ]
  },
  {
   "cell_type": "markdown",
   "id": "1caa93ff",
   "metadata": {},
   "source": [
    "In order to compute an average from multiple files, we can create an array with all the file names and then write a simple loop over its elements and compute the average using the NumPy function we learnt in the previous examples"
   ]
  },
  {
   "cell_type": "code",
   "execution_count": null,
   "id": "9f7711e8",
   "metadata": {},
   "outputs": [],
   "source": [
    "listOfFiles = [\"random1.csv\",\n",
    "               \"random2.csv\",\n",
    "               \"random3.csv\",\n",
    "               \"random4.csv\"]\n",
    "\n",
    "for file in listOfFiles:\n",
    "    data = pd.read_csv(file)\n",
    "    average = np.mean(data[\"Y\"])\n",
    "    print(\"The average from file \",file,\" is \",average)"
   ]
  },
  {
   "cell_type": "markdown",
   "id": "c3ce8f98",
   "metadata": {},
   "source": [
    "Alternatively, we can create an a new dataframe with all the averages, which will be useful for further processing. Let's for example imagine that each file corresponds to a dataset collected at a different temperature."
   ]
  },
  {
   "cell_type": "code",
   "execution_count": null,
   "id": "e97a413d",
   "metadata": {},
   "outputs": [],
   "source": [
    "listOfTemperatures = [278, 300, 302, 282]"
   ]
  },
  {
   "cell_type": "markdown",
   "id": "fc7d1513",
   "metadata": {},
   "source": [
    "We can create a dataframe with three columns"
   ]
  },
  {
   "cell_type": "code",
   "execution_count": null,
   "id": "29097eba",
   "metadata": {},
   "outputs": [],
   "source": [
    "results_df = pd.DataFrame(columns =[\"File\",\"Temperature\",\"Average\"])\n",
    "print(results_df)"
   ]
  },
  {
   "cell_type": "markdown",
   "id": "36c475ac",
   "metadata": {},
   "source": [
    "and then use the _loc_ indexer to append data to the dataframe.\n",
    "\n",
    "*len(results_df)* counts counts the number of elements that we have already added to the dataframe."
   ]
  },
  {
   "cell_type": "code",
   "execution_count": null,
   "id": "6204256c",
   "metadata": {},
   "outputs": [],
   "source": [
    "for file in listOfFiles:\n",
    "    data = pd.read_csv(file)\n",
    "    average = np.mean(data[\"Y\"])\n",
    "    \n",
    "    ndata = len(results_df)\n",
    "    results_df.loc[ndata] = [file,listOfTemperatures[ndata],average]\n",
    "print(results_df)"
   ]
  },
  {
   "cell_type": "markdown",
   "id": "38563ba5",
   "metadata": {},
   "source": [
    "We can now plot the average versus temperature"
   ]
  },
  {
   "cell_type": "code",
   "execution_count": null,
   "id": "a11085d2",
   "metadata": {},
   "outputs": [],
   "source": [
    "fig , ax = plt.subplots(figsize=(10,6))\n",
    "ax.scatter(results_df[\"Temperature\"],results_df[\"Average\"],s=100)\n",
    "ax.plot(results_df[\"Temperature\"],results_df[\"Average\"])\n",
    "ax.set(xlabel=\"Temperature (K)\")\n",
    "ax.set(ylabel=\"Average\")\n",
    "plt.show()"
   ]
  },
  {
   "cell_type": "markdown",
   "id": "ff4a9f52",
   "metadata": {},
   "source": [
    "To make the graph look better we can sort the dataframe based on the temperature"
   ]
  },
  {
   "cell_type": "code",
   "execution_count": null,
   "id": "7ba02616",
   "metadata": {},
   "outputs": [],
   "source": [
    "sorted_df = results_df.sort_values('Temperature')\n",
    "print(sorted_df)"
   ]
  },
  {
   "cell_type": "markdown",
   "id": "6d23e43d",
   "metadata": {},
   "source": [
    "Then make a new graph"
   ]
  },
  {
   "cell_type": "code",
   "execution_count": null,
   "id": "368ce5b8",
   "metadata": {},
   "outputs": [],
   "source": [
    "fig , ax = plt.subplots(figsize=(10,6))\n",
    "ax.scatter(sorted_df[\"Temperature\"],sorted_df[\"Average\"],s=100)\n",
    "ax.plot(sorted_df[\"Temperature\"],sorted_df[\"Average\"])\n",
    "ax.set(xlabel=\"Temperature (K)\")\n",
    "ax.set(ylabel=\"Average\")\n",
    "plt.show()"
   ]
  },
  {
   "cell_type": "code",
   "execution_count": null,
   "id": "c4d20ac9",
   "metadata": {},
   "outputs": [],
   "source": []
  }
 ],
 "metadata": {
  "kernelspec": {
   "display_name": "Python 3 (ipykernel)",
   "language": "python",
   "name": "python3"
  },
  "language_info": {
   "codemirror_mode": {
    "name": "ipython",
    "version": 3
   },
   "file_extension": ".py",
   "mimetype": "text/x-python",
   "name": "python",
   "nbconvert_exporter": "python",
   "pygments_lexer": "ipython3",
   "version": "3.9.7"
  }
 },
 "nbformat": 4,
 "nbformat_minor": 5
}
