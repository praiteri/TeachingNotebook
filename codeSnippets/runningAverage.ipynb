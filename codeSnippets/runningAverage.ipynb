{
 "cells": [
  {
   "cell_type": "markdown",
   "id": "16de70f2",
   "metadata": {},
   "source": [
    "# Click \"Edit App\" to see the code"
   ]
  },
  {
   "cell_type": "code",
   "execution_count": null,
   "id": "f562a115",
   "metadata": {},
   "outputs": [],
   "source": [
    "# python packages\n",
    "from sys import stdout\n",
    "import pandas as pd # Dataframes and reading CSV files\n",
    "import numpy as np # Numerical libraries\n",
    "import matplotlib.pyplot as plt # Plotting library\n",
    "# %matplotlib notebook\n",
    "from lmfit import Model # Least squares fitting library"
   ]
  },
  {
   "cell_type": "markdown",
   "id": "684268b6",
   "metadata": {},
   "source": [
    "Let's start by reading the data into a dataframe using pandas and compute the number of data we have (nval) and average of the second column"
   ]
  },
  {
   "cell_type": "code",
   "execution_count": null,
   "id": "cb15bb35",
   "metadata": {},
   "outputs": [],
   "source": [
    "data = pd.read_csv(\"random1.csv\")\n",
    "data.columns = (\"X\",\"Y\")\n",
    "nval = len(data.index)\n",
    "average = np.mean(data[\"Y\"])\n",
    "print(\"Average of all data :\",average)"
   ]
  },
  {
   "cell_type": "markdown",
   "id": "84984b4a",
   "metadata": {},
   "source": [
    "The running average is the average as a function of the  number of data that are processed. Hence, we need to define an array that contains the average of the first one, two, three $\\dots$ $N$ data points.\n",
    "An array can be initialised using []"
   ]
  },
  {
   "cell_type": "code",
   "execution_count": null,
   "id": "2a8e6c49",
   "metadata": {},
   "outputs": [],
   "source": [
    "runningAverage = []"
   ]
  },
  {
   "cell_type": "markdown",
   "id": "f728c9d4",
   "metadata": {},
   "source": [
    "We can then progressively append the progressive values of the average as we add one values at the time. To that end, we'll write a loop and compute the average as we go."
   ]
  },
  {
   "cell_type": "code",
   "execution_count": null,
   "id": "b4f46406",
   "metadata": {},
   "outputs": [],
   "source": [
    "tmpAverage = 0\n",
    "counter = 0\n",
    "for val in data[\"Y\"]:\n",
    "    tmpAverage = tmpAverage + val # this variable contains the sum of the first i elements in the data array\n",
    "    counter = counter + 1 # this variable just counts the number of elements that have been added\n",
    "    runningAverage.append(tmpAverage / counter) # this is the running Average"
   ]
  },
  {
   "cell_type": "markdown",
   "id": "3bd2c18c",
   "metadata": {},
   "source": [
    "We can then check that we have computed the average correctly"
   ]
  },
  {
   "cell_type": "code",
   "execution_count": null,
   "id": "4514ee9b",
   "metadata": {},
   "outputs": [],
   "source": [
    "print(\"Average from the loop :\",tmpAverage/counter)"
   ]
  },
  {
   "cell_type": "markdown",
   "id": "dbd1c718",
   "metadata": {},
   "source": [
    "Let's now make a plot of the data and the running average.\n",
    "Note we made the points smaller (s=10) and the line thicker (lw=5) and we have added the global average as an horizontal line,"
   ]
  },
  {
   "cell_type": "code",
   "execution_count": null,
   "id": "95b4519c",
   "metadata": {},
   "outputs": [],
   "source": [
    "fig1 , ax = plt.subplots(figsize=(15,5))\n",
    "\n",
    "# plotting the data as points\n",
    "ax.scatter(data[\"X\"],data[\"Y\"],label=\"Data\",s=10)\n",
    "\n",
    "# adding the running average\n",
    "ax.plot(data[\"X\"],runningAverage,label=\"Running Average\",color='red',lw=5)\n",
    "\n",
    "# adding the total average as an horizontal line\n",
    "average = np.mean(data[\"Y\"])\n",
    "ax.axhline(y=average, color='black', lw=3, linestyle=\"dashed\", label=\"Average\")\n",
    "\n",
    "ax.set(xlabel=\"Index\")\n",
    "ax.set(ylabel=\"Value\")\n",
    "\n",
    "ax.legend()\n",
    "plt.show()"
   ]
  },
  {
   "cell_type": "markdown",
   "id": "9384409d",
   "metadata": {},
   "source": [
    "An alternative approach to compute the running average, probably less computationally efficient is to use NumPy to compute the average of subsets of points. However, the syntax is much more compact."
   ]
  },
  {
   "cell_type": "code",
   "execution_count": null,
   "id": "49053e89",
   "metadata": {},
   "outputs": [],
   "source": [
    "runningAverage2 = []\n",
    "for i in range(0,nval):\n",
    "    runningAverage2.append(np.mean(data.iloc[0:i,1]))"
   ]
  },
  {
   "cell_type": "markdown",
   "id": "b4ae694a",
   "metadata": {},
   "source": [
    "We can then print the final average to make sure the procedure works as expected"
   ]
  },
  {
   "cell_type": "code",
   "execution_count": null,
   "id": "83dded3e",
   "metadata": {},
   "outputs": [],
   "source": [
    "print(\"Average from method #2\",runningAverage2[nval-1])"
   ]
  },
  {
   "cell_type": "code",
   "execution_count": null,
   "id": "6b60d6ce",
   "metadata": {},
   "outputs": [],
   "source": [
    "fig1 , ax = plt.subplots(figsize=(15,5))\n",
    "\n",
    "# plotting the data as points\n",
    "ax.scatter(data[\"X\"],data[\"Y\"],label=\"Data\",s=10)\n",
    "\n",
    "# adding the running average computed with the first second method\n",
    "ax.plot(data[\"X\"],runningAverage2,label=\"Running Average\",color='black',lw=5)\n",
    "\n",
    "ax.set(xlabel=\"Index\")\n",
    "ax.set(ylabel=\"Value\")\n",
    "\n",
    "ax.legend()\n",
    "plt.show()"
   ]
  },
  {
   "cell_type": "markdown",
   "id": "86e0c150",
   "metadata": {},
   "source": [
    "Let's now use the same procedure to compute the _running_ for the standard deviation and standard error $\\dots$"
   ]
  },
  {
   "cell_type": "code",
   "execution_count": null,
   "id": "f6625e41",
   "metadata": {},
   "outputs": [],
   "source": [
    "standardDeviation = []\n",
    "standardError = []\n",
    "for i in range(0,nval):\n",
    "    std = np.std(data.iloc[0:i,1])\n",
    "    standardDeviation.append(std)\n",
    "    standardError.append(std/np.sqrt(i))"
   ]
  },
  {
   "cell_type": "markdown",
   "id": "97ccbacf",
   "metadata": {},
   "source": [
    "$\\dots$ and plot them together."
   ]
  },
  {
   "cell_type": "markdown",
   "id": "889830b0",
   "metadata": {},
   "source": [
    "Now we can create the figure with the _running_ standard deviation and standard error, and also a dotted line for the zero to show that the standared error asymptotically goes to zero"
   ]
  },
  {
   "cell_type": "code",
   "execution_count": null,
   "id": "a0559c8d",
   "metadata": {},
   "outputs": [],
   "source": [
    "fig1 , ax = plt.subplots(figsize=(15,5))\n",
    "\n",
    "# adding the standard deviation\n",
    "ax.plot(data[\"X\"],standardDeviation,label=\"StDev\",color='red',lw=2)\n",
    "\n",
    "# adding the standard Error\n",
    "ax.plot(data[\"X\"],standardError,label=\"StErr\",color='blue',lw=2)\n",
    "\n",
    "# let's also add an horizontal line for the zero\n",
    "ax.axhline(0,color='black',linestyle=\":\")\n",
    "\n",
    "ax.set(xlabel=\"Index\")\n",
    "\n",
    "ax.legend()\n",
    "plt.show()"
   ]
  },
  {
   "cell_type": "raw",
   "id": "4e4fe6b9",
   "metadata": {},
   "source": []
  }
 ],
 "metadata": {
  "kernelspec": {
   "display_name": "Python 3 (ipykernel)",
   "language": "python",
   "name": "python3"
  },
  "language_info": {
   "codemirror_mode": {
    "name": "ipython",
    "version": 3
   },
   "file_extension": ".py",
   "mimetype": "text/x-python",
   "name": "python",
   "nbconvert_exporter": "python",
   "pygments_lexer": "ipython3",
   "version": "3.9.7"
  }
 },
 "nbformat": 4,
 "nbformat_minor": 5
}
