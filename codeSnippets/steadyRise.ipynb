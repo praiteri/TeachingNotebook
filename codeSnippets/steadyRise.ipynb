{
 "cells": [
  {
   "cell_type": "markdown",
   "id": "aa6c0ab8-f25a-4584-b8f3-15e274a28a52",
   "metadata": {},
   "source": [
    "# Click \"Edit App\" to see the code\n",
    "## Has the number of hours been steadily increasing over the last 12 months?\n",
    "Python code to analyse data obtained from the ABC website.\n",
    "The reported plot clamed a steady increase over the last 12 months."
   ]
  },
  {
   "cell_type": "code",
   "execution_count": null,
   "id": "1f00fd96-1d5b-445d-a697-f138415b6580",
   "metadata": {},
   "outputs": [],
   "source": [
    "# python packages\n",
    "import pandas as pd # Dataframes and reading CSV files\n",
    "import numpy as np # Numerical libraries\n",
    "import matplotlib.pyplot as plt # Plotting library\n",
    "from lmfit import Model # Least squares fitting library\n",
    "from lmfit.models import StepModel, LinearModel"
   ]
  },
  {
   "cell_type": "code",
   "execution_count": null,
   "id": "1e0f67e4-8d41-4767-8268-148a745df5b4",
   "metadata": {},
   "outputs": [],
   "source": [
    "# Define the figure's parameters\n",
    "fontsize=28\n",
    "figureParameters = {'figure.figsize' : (12,8),\n",
    "                    'legend.fontsize': fontsize*0.7,\n",
    "                    'axes.labelsize' : fontsize,\n",
    "                    'axes.titlesize' : fontsize,\n",
    "                    'xtick.labelsize': fontsize*0.5,\n",
    "                    'ytick.labelsize': fontsize*0.8,\n",
    "                    'xtick.direction': \"in\", # tick marks inside the frame\n",
    "                    'ytick.direction': \"in\", # tick marks inside the frame\n",
    "                    'axes.linewidth' : 3,\n",
    "                    'axes.titlepad'  : 25}\n",
    "\n",
    "from matplotlib.ticker import (MultipleLocator, \n",
    "                               FormatStrFormatter, \n",
    "                               AutoMinorLocator)\n",
    "def prettyTicks(ax,xspacing,yspacing):\n",
    "    # Add tick marks on all sides of the figure\n",
    "    ax.xaxis.set_ticks_position('both')\n",
    "    ax.yaxis.set_ticks_position('both')\n",
    "\n",
    "    # Define the spacing of the major tick marks\n",
    "    # It is useful to call this function with 0\n",
    "    # for both ticks' spacing to see what the best\n",
    "    # range looks like\n",
    "    # number of tick marks\n",
    "    if (xspacing > 0):\n",
    "        ax.xaxis.set_major_locator(MultipleLocator(xspacing))\n",
    "    if (yspacing > 0):\n",
    "        ax.yaxis.set_major_locator(MultipleLocator(yspacing))\n",
    "    \n",
    "    # ax.yaxis.set_minor_locator(AutoMinorLocator())\n",
    "    # ax.xaxis.set_minor_locator(AutoMinorLocator())\n",
    "\n",
    "    ax.tick_params(which='minor', length=6, width=3, color='black')\n",
    "    ax.tick_params(which='major', length=12, width=3, color='black')"
   ]
  },
  {
   "cell_type": "code",
   "execution_count": null,
   "id": "84958f8f-f949-4ce9-9614-4622c4331334",
   "metadata": {},
   "outputs": [],
   "source": [
    "df = pd.read_csv(\"../miscData/timing.csv\")\n",
    "print(\"Input data\")"
   ]
  },
  {
   "cell_type": "code",
   "execution_count": null,
   "id": "2ec72185-4758-4d99-928c-c907c62623c0",
   "metadata": {},
   "outputs": [],
   "source": [
    "plt.rcParams.update(figureParameters)\n",
    "fig = plt.figure(figsize=(12,6))\n",
    "ax = fig.gca()\n",
    "\n",
    "prettyTicks(ax,0,20)\n",
    "ax.scatter(df[\"Month\"],df[\"Hours\"],s=200)\n",
    "ax.plot(df[\"Month\"],df[\"Hours\"],lw=3)\n",
    "\n",
    "ndata = len(df[\"Month\"])\n",
    "line_mod = LinearModel()\n",
    "pars =  line_mod.make_params(intercept=df[\"Hours\"].min(), slope=0)\n",
    "\n",
    "# for n in range(0,7,1):\n",
    "#     y=df.iloc[n:ndata,1]\n",
    "#     x=list(range(n,ndata))\n",
    "#     result = line_mod.fit(y, pars, x=x)\n",
    "#     ax.plot(x,result.best_fit,lw=3)\n",
    "#     print(\"Months fitted %2i - Slope : %6.3f\" % (13-n,result.params[\"slope\"].value))\n",
    "\n",
    "plt.grid()\n",
    "\n",
    "print(df)\n",
    "plt.show()"
   ]
  },
  {
   "cell_type": "code",
   "execution_count": null,
   "id": "101788dd",
   "metadata": {},
   "outputs": [],
   "source": []
  }
 ],
 "metadata": {
  "kernelspec": {
   "display_name": "Python 3 (ipykernel)",
   "language": "python",
   "name": "python3"
  },
  "language_info": {
   "codemirror_mode": {
    "name": "ipython",
    "version": 3
   },
   "file_extension": ".py",
   "mimetype": "text/x-python",
   "name": "python",
   "nbconvert_exporter": "python",
   "pygments_lexer": "ipython3",
   "version": "3.9.7"
  },
  "widgets": {
   "application/vnd.jupyter.widget-state+json": {
    "state": {},
    "version_major": 2,
    "version_minor": 0
   }
  }
 },
 "nbformat": 4,
 "nbformat_minor": 5
}
