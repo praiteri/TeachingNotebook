{
 "cells": [
  {
   "cell_type": "markdown",
   "id": "8d94a017-76ee-4c78-a4cb-73da4175a201",
   "metadata": {},
   "source": [
    "# Click \"Edit App\" to see the code\n",
    "# Is Calc A better than Calc B ?\n",
    "Python code to analyse the data provided in the writing workshop"
   ]
  },
  {
   "cell_type": "code",
   "execution_count": null,
   "id": "b0dd9345-cfe1-4b1a-8880-d055bb97aed0",
   "metadata": {},
   "outputs": [],
   "source": [
    "# python packages\n",
    "import pandas as pd # Dataframes and reading CSV files\n",
    "import numpy as np # Numerical libraries\n",
    "import matplotlib.pyplot as plt # Plotting library\n",
    "from lmfit import Model # Least squares fitting library"
   ]
  },
  {
   "cell_type": "markdown",
   "id": "a00dc38a-8f2f-4e6f-ae9a-ba07ff11d180",
   "metadata": {},
   "source": [
    "Defining the parameters for the final figure, and a function for the tick marks."
   ]
  },
  {
   "cell_type": "code",
   "execution_count": null,
   "id": "faa89c91-5127-4129-b051-d69b8e18f8bd",
   "metadata": {},
   "outputs": [],
   "source": [
    "# Define the figure's parameters\n",
    "fontsize=28\n",
    "figureParameters = {'figure.figsize' : (12,8),\n",
    "                    'legend.fontsize': fontsize*0.7,\n",
    "                    'axes.labelsize' : fontsize,\n",
    "                    'axes.titlesize' : fontsize,\n",
    "                    'xtick.labelsize': fontsize*0.8,\n",
    "                    'ytick.labelsize': fontsize*0.8,\n",
    "                    'xtick.direction': \"in\", # tick marks inside the frame\n",
    "                    'ytick.direction': \"in\", # tick marks inside the frame\n",
    "                    'axes.linewidth' : 3,\n",
    "                    'axes.titlepad'  : 25}\n",
    "\n",
    "from matplotlib.ticker import (MultipleLocator, \n",
    "                               FormatStrFormatter, \n",
    "                               AutoMinorLocator)\n",
    "def prettyTicks(ax,xspacing,yspacing):\n",
    "    # Add tick marks on all sides of the figure\n",
    "    ax.xaxis.set_ticks_position('both')\n",
    "    ax.yaxis.set_ticks_position('both')\n",
    "\n",
    "    # Define the spacing of the major tick marks\n",
    "    # It is useful to call this function with 0\n",
    "    # for both ticks' spacing to see what the best\n",
    "    # range looks like\n",
    "    # number of tick marks\n",
    "    if (xspacing > 0):\n",
    "        ax.xaxis.set_major_locator(MultipleLocator(xspacing))\n",
    "    if (yspacing > 0):\n",
    "        ax.yaxis.set_major_locator(MultipleLocator(yspacing))\n",
    "    \n",
    "    ax.yaxis.set_minor_locator(AutoMinorLocator())\n",
    "    ax.xaxis.set_minor_locator(AutoMinorLocator())\n",
    "\n",
    "    ax.tick_params(which='minor', length=6, width=3, color='black')\n",
    "    ax.tick_params(which='major', length=12, width=3, color='black')"
   ]
  },
  {
   "cell_type": "markdown",
   "id": "b2e12566-72c7-4767-b4dd-3eb838a8ca18",
   "metadata": {},
   "source": [
    "Reading the input data"
   ]
  },
  {
   "cell_type": "code",
   "execution_count": null,
   "id": "6369d98f-5000-47fc-acc9-b1dad73bfc7f",
   "metadata": {},
   "outputs": [],
   "source": [
    "data = pd.read_csv(\"../miscData/writingWorshopData.csv\")\n",
    "data.columns = (\"T\", \"Calc A\" , \"Calc B\", \"Exp\")\n",
    "print(data)"
   ]
  },
  {
   "cell_type": "markdown",
   "id": "7a199ca3-5b2d-4c00-8217-9f7913a6bfb7",
   "metadata": {},
   "source": [
    "The experimental and calculated data should be linear with temperature, so let's fit the data, so that we can also plot the fitting line."
   ]
  },
  {
   "cell_type": "code",
   "execution_count": null,
   "id": "f2cb57c7-bd8d-4bab-8aef-dd42093d540c",
   "metadata": {},
   "outputs": [],
   "source": [
    "def line(x,m,q):\n",
    "    return m*x + q\n",
    "\n",
    "fitLine = Model(line)\n",
    "params = fitLine.make_params(m=1,q=1)\n",
    "\n",
    "numberOfDataSets = 3\n",
    "nameOdDataSet = [\"Calc A\" , \"Calc B\", \"Exp\"]\n",
    "\n",
    "T0 = 280\n",
    "results = []\n",
    "for i in range(0,numberOfDataSets):\n",
    "    results.append(fitLine.fit(data.iloc[:,(i+1)][data[\"T\"]>T0]  , params=params, x=data[data[\"T\"]>T0][\"T\"]))\n"
   ]
  },
  {
   "cell_type": "markdown",
   "id": "6bda6d91-f62c-4b0e-8e29-bd82709b34ee",
   "metadata": {},
   "source": [
    "## Plot of the original data"
   ]
  },
  {
   "cell_type": "code",
   "execution_count": null,
   "id": "284f3875-0c85-4cf1-8bbd-e3720ee919d7",
   "metadata": {},
   "outputs": [],
   "source": [
    "plt.rcParams.update(figureParameters)\n",
    "\n",
    "# Create the figure with the data points and their fit\n",
    "fig = plt.figure()\n",
    "ax = fig.gca()\n",
    "\n",
    "prettyTicks(ax,10,2)\n",
    "ax.set(xlabel=\"Temperature (K)\")\n",
    "ax.set(ylabel=\"Hydration free Energy (kJ/mol)\")\n",
    "       \n",
    "marks = ['D','s','o']\n",
    "for i in range(0,numberOfDataSets):\n",
    "    ax.scatter(data[\"T\"], data[nameOdDataSet[i]]  , label=nameOdDataSet[i] ,s=100, marker=marks[i])\n",
    "\n",
    "    y = line(data[\"T\"], results[i].best_values[\"m\"], results[i].best_values[\"q\"])\n",
    "    ax.plot(data[\"T\"], y, label=\"\", lw=3)\n",
    "\n",
    "# Make the figure\n",
    "ax.legend(loc=\"upper left\")\n",
    "plt.show()"
   ]
  },
  {
   "cell_type": "markdown",
   "id": "c1cac841",
   "metadata": {},
   "source": [
    "## Least square fitting results"
   ]
  },
  {
   "cell_type": "code",
   "execution_count": null,
   "id": "a3b72c17",
   "metadata": {},
   "outputs": [],
   "source": [
    "for i in range(0,numberOfDataSets):\n",
    "    print(\"    Dataset : %s \" % (nameOdDataSet[i]))\n",
    "    for name, par in results[i].params.items():\n",
    "        print(\"          %s : value = %8.3f +/- %.3f \" % (name, par.value, par.stderr))\n",
    "    print(\"Chi squared : %.3f \" % results[i].chisqr)\n",
    "    Rsquared = 1 - results[i].residual.var() / np.var(data[nameOdDataSet[i]])\n",
    "    print(\"  R squared : %.3f \" % Rsquared)\n",
    "    print(\"-------------------------------------------\")"
   ]
  },
  {
   "cell_type": "markdown",
   "id": "7472e077",
   "metadata": {},
   "source": [
    "## Mean absolute error"
   ]
  },
  {
   "cell_type": "code",
   "execution_count": null,
   "id": "6c31bec4-e331-4bc1-b562-b163e91a2f0f",
   "metadata": {},
   "outputs": [],
   "source": [
    "fig = plt.figure()\n",
    "ax = fig.gca()\n",
    "prettyTicks(ax,10,0.5)\n",
    "\n",
    "ax.set(xlabel=\"Temperature (K)\")\n",
    "ax.set(ylabel=\"Relative energy (kJ/mol)\")\n",
    "       \n",
    "for i in range(0,numberOfDataSets-1):\n",
    "    ax.scatter(data[\"T\"], data[nameOdDataSet[i]]-data[\"Exp\"], label=nameOdDataSet[i], s=100, marker=marks[i])\n",
    "    ax.plot(data[\"T\"], data[nameOdDataSet[i]]-data[\"Exp\"], label=\"\")\n",
    "    \n",
    "ax.axhline(y=0, linestyle=\"dashed\", color='black')\n",
    "\n",
    "ax.legend()\n",
    "plt.show()"
   ]
  },
  {
   "cell_type": "code",
   "execution_count": null,
   "id": "7e7e6168-d982-42da-b8ea-511587a34063",
   "metadata": {},
   "outputs": [],
   "source": [
    "maeA = np.mean( np.absolute(data[\"Calc A\"]-data[\"Exp\"]) )\n",
    "maeB = np.mean( np.absolute(data[\"Calc B\"]-data[\"Exp\"]) )\n",
    "print(\"Mean absolute error for Calc A : %5.3f\" % maeA )\n",
    "print(\"Mean absolute error for Calc B : %5.3f\" % maeB )"
   ]
  },
  {
   "cell_type": "code",
   "execution_count": null,
   "id": "f6e823f0-f11b-4538-80b3-0f9a230110c4",
   "metadata": {},
   "outputs": [],
   "source": []
  }
 ],
 "metadata": {
  "kernelspec": {
   "display_name": "Python 3 (ipykernel)",
   "language": "python",
   "name": "python3"
  },
  "language_info": {
   "codemirror_mode": {
    "name": "ipython",
    "version": 3
   },
   "file_extension": ".py",
   "mimetype": "text/x-python",
   "name": "python",
   "nbconvert_exporter": "python",
   "pygments_lexer": "ipython3",
   "version": "3.9.7"
  },
  "widgets": {
   "application/vnd.jupyter.widget-state+json": {
    "state": {},
    "version_major": 2,
    "version_minor": 0
   }
  }
 },
 "nbformat": 4,
 "nbformat_minor": 5
}
