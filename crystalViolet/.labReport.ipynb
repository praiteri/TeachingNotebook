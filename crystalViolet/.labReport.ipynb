{
 "cells": [
  {
   "cell_type": "markdown",
   "id": "9da83ddc",
   "metadata": {},
   "source": [
    "# Report for Crystal Violet\n",
    "\n",
    "## Student Name: _______________\n",
    "\n",
    "## Student ID: _______________"
   ]
  },
  {
   "cell_type": "code",
   "execution_count": null,
   "id": "49fb3e30",
   "metadata": {},
   "outputs": [],
   "source": [
    "# Import the required python packages here\n",
    "import pandas as pd                  # Dataframes and reading CSV files\n",
    "import numpy as np                   # Numerical libraries\n",
    "import matplotlib.pyplot as plt      # Plotting library\n",
    "from lmfit import Model              # Curve fitting library\n",
    "from scipy.optimize import curve_fit # Curve fitting library\n",
    "from sklearn.metrics import r2_score # function to compute the R^2 score\n",
    "from IPython.display import Image"
   ]
  },
  {
   "cell_type": "markdown",
   "id": "a1aa11aa",
   "metadata": {},
   "source": [
    "# Pre-lab\n",
    "1. In the **real** experiment the samples will be prepared by mixing comparable amounts of liquid taken from a $2.5\\times10^{-5}$ M stock solution of CV and a 0.5 M stock solution of NaOH. \n",
    "If you run two batches of experiments where you alternatively keep the amount of one of the two solutions constant, which species is **isolated** in the two sets?"
   ]
  },
  {
   "cell_type": "markdown",
   "id": "42447a6c",
   "metadata": {},
   "source": [
    "# Task 1\n",
    "\n",
    "## Fill the table below by choosing appropriate volumes of the CV stock solution ($Vx$), of the OH stock solution ($Vy$) and of DI water ($Vz$) to produce 5 solution with that have constant concentration of Crystal Violet but different concentation of hydroxide.\n",
    "\n",
    "## Write a caption for the table\n",
    "\n",
    "|   | Vx (mL) | Vy (mL) | Vz (mL) | Vtot (mL) | [CV] ($\\mu M$) | [OH] (M) |\n",
    "|:-:|:-------:|:-------:|:-------:|:---------:|:--------------:|:--------:|\n",
    "| 1 |   20    |   20    |   10    |   ??      |     ??         |   ??     |\n",
    "| 2 |         |         |         |           |                |          |\n",
    "| 3 |         |         |         |           |                |          |\n",
    "| 4 |         |         |         |           |                |          |\n",
    "| 5 |         |         |         |           |                |          |"
   ]
  },
  {
   "cell_type": "markdown",
   "id": "360cd172",
   "metadata": {},
   "source": [
    "## Fill the table below by choosing appropriate volumes of the CV stock solution ($Vx$), of the OH stock solution ($Vy$) and of DI water ($Vz$) to produce 5 solution with that have constant concentration of hydroxide but different concentation of Crystal Violet.\n",
    "\n",
    "## Write a caption for the table\n",
    "\n",
    "|   | Vx (mL) | Vy (mL) | Vz (mL) | Vtot (mL) | [CV] ($\\mu M$) | [OH] (M) |\n",
    "|:-:|:-------:|:-------:|:-------:|:---------:|:--------------:|:--------:|\n",
    "| A |   20    |   20    |   10    |   ??      |     ??         |   ??     |\n",
    "| B |         |         |         |           |                |          |\n",
    "| C |         |         |         |           |                |          |\n",
    "| D |         |         |         |           |                |          |\n",
    "| E |         |         |         |           |                |          |"
   ]
  },
  {
   "cell_type": "markdown",
   "id": "eba2f72c",
   "metadata": {},
   "source": [
    "## Perform the virtual experiments using the concentrations that you have chosen in the tables above. It is useful to include the concentrations in the file names."
   ]
  },
  {
   "cell_type": "markdown",
   "id": "9e171799",
   "metadata": {},
   "source": [
    "___\n",
    "\n",
    "\n",
    "# Task 2\n",
    "\n",
    "## Choose one solution and determine the order of the reaction with respect to the \"isolated\" species using the graphical method, _i.e._ make three plots of $[C]$, $\\ln[C]$ and $1/[C]$ _vs_ time to identify which one is linear."
   ]
  },
  {
   "cell_type": "markdown",
   "id": "f4608c90",
   "metadata": {},
   "source": [
    "## Make two figure using the linearised data for the experiments in table 1 and 2 separately"
   ]
  },
  {
   "cell_type": "markdown",
   "id": "3c6f2423",
   "metadata": {},
   "source": [
    "## Choose the set of experiments (table 1 or table 2) where the concentration of the isolated species is constant and determine the apparent rate constant by fitting the appropriate integrated rate law"
   ]
  },
  {
   "cell_type": "markdown",
   "id": "2c6a32ac",
   "metadata": {},
   "source": [
    "## Fit the logarithm of the pseudo rate constant _vs_ the logarithm of the concentration of the species that was not \"isolated\" and determine the order of the reaction with respect to it."
   ]
  },
  {
   "cell_type": "markdown",
   "id": "26cb5324",
   "metadata": {},
   "source": [
    "## Make a figure (with caption) to show the goodness of the fit."
   ]
  },
  {
   "cell_type": "markdown",
   "id": "b90ddabc",
   "metadata": {},
   "source": [
    "## Determine the rate constant of the reaction."
   ]
  },
  {
   "cell_type": "markdown",
   "id": "eb75a3db",
   "metadata": {},
   "source": [
    "___\n",
    "\n",
    "# Task 3\n",
    "\n",
    "## Choose one of the solutions that you have used in Task 2 and repeat the experiment at different temperatures (at least five)."
   ]
  },
  {
   "cell_type": "markdown",
   "id": "974608dc",
   "metadata": {},
   "source": [
    "## Determine the rate constant at those temperatures."
   ]
  },
  {
   "cell_type": "markdown",
   "id": "2bac5dc5",
   "metadata": {},
   "source": [
    "## Use the Arrhenius equation to compute the activation energy and frequency factor for the reaction."
   ]
  },
  {
   "cell_type": "markdown",
   "id": "fec43d82",
   "metadata": {},
   "source": [
    "## Make a figure of the data with the fitting line. Use the linearised Arrhenius equation for a more accurate fit."
   ]
  },
  {
   "cell_type": "markdown",
   "id": "581d4ab0",
   "metadata": {},
   "source": [
    "##  Discussion\n",
    "1. Write the full rate law for the reaction between Crystal Violet and hydroxide ?\n",
    "    1. what is the order of the reaction with respect to [CV$^+$] ?\n",
    "    2. what is the order of the reaction with respect to [OH$^-$] ?\n",
    "    3. what is the rate constant at 326 K\n",
    "2. What is the activation energy for the reaction ?\n",
    "3. Compare your results for the rate law and activation energy for the reaction between crystal violet and hydroxide with the experimental values (search and reference literature values).\n",
    "4. Comment on the differences between the plots of the absorbance _vs_ time obtained at constant [CV] and constant [OH]."
   ]
  },
  {
   "cell_type": "markdown",
   "id": "abbfb5ee",
   "metadata": {},
   "source": []
  }
 ],
 "metadata": {
  "kernelspec": {
   "display_name": "Python 3 (ipykernel)",
   "language": "python",
   "name": "python3"
  },
  "language_info": {
   "codemirror_mode": {
    "name": "ipython",
    "version": 3
   },
   "file_extension": ".py",
   "mimetype": "text/x-python",
   "name": "python",
   "nbconvert_exporter": "python",
   "pygments_lexer": "ipython3",
   "version": "3.9.13"
  }
 },
 "nbformat": 4,
 "nbformat_minor": 5
}
