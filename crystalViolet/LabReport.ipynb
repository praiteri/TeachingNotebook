{
 "cells": [
  {
   "cell_type": "markdown",
   "id": "9da83ddc",
   "metadata": {},
   "source": [
    "# Report for Crystal Violet\n",
    "\n",
    "## Student Name: _______________\n",
    "\n",
    "## Student ID: _______________"
   ]
  },
  {
   "cell_type": "code",
   "execution_count": 1,
   "id": "49fb3e30",
   "metadata": {},
   "outputs": [],
   "source": [
    "# Import the required python packages here\n",
    "import pandas as pd                  # Dataframes and reading CSV files\n",
    "import numpy as np                   # Numerical libraries\n",
    "import matplotlib.pyplot as plt      # Plotting library\n",
    "from scipy.optimize import curve_fit # Curve fitting library\n",
    "from sklearn.metrics import r2_score # function to compute the R^2 score"
   ]
  },
  {
   "cell_type": "markdown",
   "id": "42447a6c",
   "metadata": {},
   "source": [
    "# Task 1\n",
    "\n",
    "## Fill the table below by choosing appropriate volumes of the CV stock solution ($Vx$), of the OH stock solution ($Vy$) and of DI water ($Vz$) to produce 5 solution with that have constant concentration of Crystal Violet but different concentation of hydroxide.\n",
    "\n",
    "|   | Vx (mL) | Vy (mL) | Vz (mL) | Vtot (mL) | [CV] ($\\mu M$) | [OH] (M) |\n",
    "|:-:|:-------:|:-------:|:-------:|:---------:|:--------------:|:--------:|\n",
    "| 1 |   20    |   20    |   10    |   ??      |     ??         |   ??     |\n",
    "| 2 |         |         |         |           |                |          |\n",
    "| 3 |         |         |         |           |                |          |\n",
    "| 4 |         |         |         |           |                |          |\n",
    "| 5 |         |         |         |           |                |          |\n",
    "\n",
    "## Write a caption for the table"
   ]
  },
  {
   "cell_type": "markdown",
   "id": "360cd172",
   "metadata": {},
   "source": [
    "## Fill the table below by choosing appropriate volumes of the CV stock solution ($Vx$), of the OH stock solution ($Vy$) and of DI water ($Vz$) to produce 5 solution with that have constant concentration of hydroxide but different concentation of Crystal Violet.\n",
    "\n",
    "|   | Vx (mL) | Vy (mL) | Vz (mL) | Vtot (mL) | [CV] ($\\mu M$) | [OH] (M) |\n",
    "|:-:|:-------:|:-------:|:-------:|:---------:|:--------------:|:--------:|\n",
    "| A |   20    |   20    |   10    |   ??      |     ??         |   ??     |\n",
    "| B |         |         |         |           |                |          |\n",
    "| C |         |         |         |           |                |          |\n",
    "| D |         |         |         |           |                |          |\n",
    "| E |         |         |         |           |                |          |\n",
    "\n",
    "## Write a caption for the table"
   ]
  },
  {
   "cell_type": "markdown",
   "id": "e76116d4",
   "metadata": {},
   "source": [
    "## Explain which species is \"isolated\" in the two set of solutions."
   ]
  },
  {
   "cell_type": "markdown",
   "id": "eba2f72c",
   "metadata": {},
   "source": [
    "## Perform the virtual experiments using the concentrations that you have chosen in the tables above. It is useful to include the concentrations in the file names."
   ]
  },
  {
   "cell_type": "markdown",
   "id": "9e171799",
   "metadata": {},
   "source": [
    "___\n",
    "\n",
    "\n",
    "# Task 2\n",
    "\n",
    "## Choose one solution and determine the order of the reaction with respect to the \"isolated\" species using the graphical method, _i.e._ make three plots of $[C]$, $\\ln[C]$ and $1/[C]$ _vs_ time to identify which one is linear."
   ]
  },
  {
   "cell_type": "markdown",
   "id": "3c6f2423",
   "metadata": {},
   "source": [
    "## Choose the set of experiments (table 1 or table 2) where the concentration of the isolated species is not constant and determine the apparent rate constant by fitting the appropriate integrated rate law"
   ]
  },
  {
   "cell_type": "markdown",
   "id": "2c6a32ac",
   "metadata": {},
   "source": [
    "## Fit the logarithm of the pseudo rate constant _vs_ the logarithm of the concentration of the species that was not \"isolated\" and determine the order of the reaction with respect to it."
   ]
  },
  {
   "cell_type": "markdown",
   "id": "26cb5324",
   "metadata": {},
   "source": [
    "## Make a figure (with caption) to show the goodness of the fit."
   ]
  },
  {
   "cell_type": "markdown",
   "id": "b90ddabc",
   "metadata": {},
   "source": [
    "## Determine the rate constant of the reaction."
   ]
  },
  {
   "cell_type": "markdown",
   "id": "eb75a3db",
   "metadata": {},
   "source": [
    "___\n",
    "\n",
    "# Task 3\n",
    "\n",
    "## Choose one of the solutions that you have used in Task 2 and repeat the experiment at a few different temperatures."
   ]
  },
  {
   "cell_type": "markdown",
   "id": "974608dc",
   "metadata": {},
   "source": [
    "## Determine the rate constant at those temperatures."
   ]
  },
  {
   "cell_type": "markdown",
   "id": "2bac5dc5",
   "metadata": {},
   "source": [
    "## Use the Arrhenius equation to compute the activation energy and frequency factor for the reaction."
   ]
  },
  {
   "cell_type": "markdown",
   "id": "fec43d82",
   "metadata": {},
   "source": [
    "## Make a figure of the data with the fitting line. Use the linearised Arrhenius equation for a more accurate fit."
   ]
  }
 ],
 "metadata": {
  "kernelspec": {
   "display_name": "Python 3 (ipykernel)",
   "language": "python",
   "name": "python3"
  },
  "language_info": {
   "codemirror_mode": {
    "name": "ipython",
    "version": 3
   },
   "file_extension": ".py",
   "mimetype": "text/x-python",
   "name": "python",
   "nbconvert_exporter": "python",
   "pygments_lexer": "ipython3",
   "version": "3.9.13"
  }
 },
 "nbformat": 4,
 "nbformat_minor": 5
}
