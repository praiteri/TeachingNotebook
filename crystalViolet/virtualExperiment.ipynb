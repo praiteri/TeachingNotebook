{
 "cells": [
  {
   "cell_type": "code",
   "execution_count": 1,
   "metadata": {},
   "outputs": [
    {
     "data": {
      "application/javascript": [
       "$('#appmode-leave').hide();\n",
       "$('#copy-binder-link').hide();\n",
       "$('#visit-repo-link').hide();\n"
      ],
      "text/plain": [
       "<IPython.core.display.Javascript object>"
      ]
     },
     "metadata": {},
     "output_type": "display_data"
    }
   ],
   "source": [
    "%%javascript\n",
    "$('#appmode-leave').hide();\n",
    "$('#copy-binder-link').hide();\n",
    "$('#visit-repo-link').hide();"
   ]
  },
  {
   "cell_type": "markdown",
   "metadata": {},
   "source": [
    "# Working notebooks"
   ]
  },
  {
   "cell_type": "code",
   "execution_count": 2,
   "metadata": {},
   "outputs": [],
   "source": [
    "import ipywidgets as ipw\n",
    "import json\n",
    "import random\n",
    "import time\n",
    "import pandas as pd\n",
    "import os\n",
    "import webbrowser\n",
    "import math\n",
    "import numpy as np\n",
    "from IPython.display import display, Markdown, FileLink, clear_output"
   ]
  },
  {
   "cell_type": "code",
   "execution_count": 3,
   "metadata": {},
   "outputs": [
    {
     "data": {
      "application/vnd.jupyter.widget-view+json": {
       "model_id": "57ff9f66f820485abbc3badb03c1fcbd",
       "version_major": 2,
       "version_minor": 0
      },
      "text/plain": [
       "VBox(children=(HBox(children=(Button(description='Create a new notebook', layout=Layout(width='300px'), style=…"
      ]
     },
     "metadata": {},
     "output_type": "display_data"
    }
   ],
   "source": [
    "from IPython.display import Javascript\n",
    "import glob as glob\n",
    "import nbformat as nbf\n",
    "\n",
    "label_layout = ipw.Layout(width='300px')\n",
    "\n",
    "##########\n",
    "def launchNotebook(filename):\n",
    "    text = \"   var name_of_the_notebook = '\" + filename + \"'\"\n",
    "    vv=\"\"\"\n",
    "    var url = window.location.href.split('/')\n",
    "    var newurl = url[0] + '//'\n",
    "    for (var i = 1; i < url.length - 1; i++) {\n",
    "        console.log(url[i], newurl)\n",
    "        newurl += url[i] + '/'\n",
    "    }\n",
    "    newurl += name_of_the_notebook\n",
    "    window.open(newurl)\n",
    "    \"\"\"\n",
    "    text = text + vv\n",
    "    display(Javascript(text))\n",
    "\n",
    "def openNewNotebook(btn):\n",
    "    if os.path.exists(notebookeName.value):\n",
    "        print(\"Filename exists - Please select a different name\")\n",
    "        return\n",
    "    \n",
    "    nb = nbf.v4.new_notebook()\n",
    "    text = \"\"\"# Click 'Edit App' to start coding\"\"\"\n",
    "\n",
    "    code = \"\"\"\\\n",
    "# python packages\n",
    "import pandas as pd # Dataframes and reading CSV files\n",
    "import numpy as np # Numerical libraries\n",
    "import matplotlib.pyplot as plt # Plotting library\n",
    "from lmfit import Model # Least squares fitting library\n",
    "from scipy.optimize import curve_fit # Alternative curve fittting library\"\"\"\n",
    "\n",
    "    nb['cells'] = [nbf.v4.new_markdown_cell(text),\n",
    "                   nbf.v4.new_code_cell(code)]\n",
    "\n",
    "    with open(notebookeName.value, 'w') as f:\n",
    "        nbf.write(nb, f)\n",
    "\n",
    "    launchNotebook(notebookeName.value)\n",
    "\n",
    "##########\n",
    "listOfFiles = []\n",
    "files = glob.glob1(\"./\",\"*.ipynb\")\n",
    "for f in files:\n",
    "    if f == \"virtualExperiment.ipynb\" or f == \"crystalViolet.ipynb\":\n",
    "        continue\n",
    "    listOfFiles.append(f)\n",
    "\n",
    "def dropdown_filesHandler(change):\n",
    "    for i in range(0,len(listOfFiles)):\n",
    "        if listOfFiles[i] == change.new:\n",
    "            oldNotebookeName[0] = listOfFiles[i]\n",
    "\n",
    "def createMenuFiles(data):\n",
    "    option_list = [\"Choose one\"]\n",
    "    option_list.extend(data)\n",
    "\n",
    "    dropdown = ipw.Dropdown(description=\"\", options=option_list, layout=ipw.Layout(width=\"300px\"))\n",
    "    dropdown.observe(dropdown_filesHandler, names='value')\n",
    "\n",
    "    return dropdown\n",
    "\n",
    "##########\n",
    "oldNotebookeName = [\"None\"]\n",
    "def openOldNotebook(btn):\n",
    "    if oldNotebookeName[0] == \"None\":\n",
    "        print(\"Please select a filename\")\n",
    "    else:\n",
    "        launchNotebook(oldNotebookeName[0])\n",
    "\n",
    "##########\n",
    "actions0 = []\n",
    "\n",
    "notebookeName = ipw.Text(\"Empty.ipynb\")\n",
    "\n",
    "btn_new = ipw.Button(description=\"Create a new notebook\", layout=label_layout)\n",
    "btn_new.on_click(openNewNotebook)\n",
    "\n",
    "btn_old = ipw.Button(description=\"Open an old notebook\", layout=label_layout)\n",
    "btn_old.on_click(openOldNotebook)\n",
    "\n",
    "actions0.append(ipw.HBox([btn_new,notebookeName]))\n",
    "actions0.append(ipw.HBox([btn_old,createMenuFiles(listOfFiles)]))\n",
    "ipw.VBox(actions0)\n"
   ]
  },
  {
   "cell_type": "markdown",
   "metadata": {},
   "source": [
    "# Crystal Violet Virtual Experiment"
   ]
  },
  {
   "cell_type": "code",
   "execution_count": 4,
   "metadata": {},
   "outputs": [],
   "source": [
    "class StopExecution(Exception):\n",
    "    def _render_traceback_(self):\n",
    "        pass"
   ]
  },
  {
   "cell_type": "code",
   "execution_count": 5,
   "metadata": {},
   "outputs": [
    {
     "data": {
      "application/javascript": [
       "IPython.OutputArea.prototype._should_scroll = function(lines) {\n",
       "   return false;\n",
       "}\n"
      ],
      "text/plain": [
       "<IPython.core.display.Javascript object>"
      ]
     },
     "metadata": {},
     "output_type": "display_data"
    }
   ],
   "source": [
    "%%javascript\n",
    "IPython.OutputArea.prototype._should_scroll = function(lines) {\n",
    "   return false;\n",
    "}"
   ]
  },
  {
   "cell_type": "code",
   "execution_count": 6,
   "metadata": {},
   "outputs": [],
   "source": [
    "with open(\".lab.json\") as infile:\n",
    "    jsdata = json.load(infile)\n",
    "\n",
    "params = jsdata[\"cv\"]"
   ]
  },
  {
   "cell_type": "code",
   "execution_count": 7,
   "metadata": {},
   "outputs": [],
   "source": [
    "t = int( time.time() * 1000.0 )\n",
    "random.seed( ((t & 0xff000000) >> 24) +\n",
    "             ((t & 0x00ff0000) >>  8) +\n",
    "             ((t & 0x0000ff00) <<  8) +\n",
    "             ((t & 0x000000ff) << 24)   )\n",
    "\n",
    "params[\"NaOH\"] = 0.5 * random.gauss(1,params[\"error\"])\n",
    "params[\"CV\"] = 2.5e-5 * random.gauss(1,params[\"error\"])"
   ]
  },
  {
   "cell_type": "code",
   "execution_count": 10,
   "metadata": {},
   "outputs": [],
   "source": [
    "def run_experiment():\n",
    "\n",
    "    tt = random.gauss(float(T.value),params[\"et\"])\n",
    "    x0 = float(v0.value) + random.gauss(0,params[\"ev\"]) # CV\n",
    "    x1 = float(v1.value) + random.gauss(0,params[\"ev\"]) # OH\n",
    "    x2 = float(v2.value) + random.gauss(0,params[\"ev\"]) # H2O\n",
    "\n",
    "    lnk = params[\"A\"] - params[\"B\"]/params[\"R\"]/(tt+273.15)\n",
    "    kr = math.exp(lnk)\n",
    "\n",
    "    vt = x0 + x1 + x2\n",
    "    ccv = params[\"CV\"] * x0 / vt\n",
    "    coh = params[\"NaOH\"] * x1 / vt\n",
    "    \n",
    "    kd = kr * math.pow(coh,params[\"beta\"])\n",
    "\n",
    "    Abs = params[\"A0\"]*ccv\n",
    "        \n",
    "    res = pd.DataFrame(columns=[\"#Time [s]\" , \"Absorbance\"])\n",
    "    for i in range(2, params[\"nTime\"]):\n",
    "        var_list = []\n",
    "        var_list.append(i)\n",
    "        \n",
    "        expVal = Abs * math.exp(-kd*i) + abs(random.gauss(0,params[\"error\"]) + 0.008)\n",
    "        var_list.append(expVal)\n",
    "        res.loc[len(res)] = var_list\n",
    "    \n",
    "    res.to_csv(respath.value, index=False, mode='a')\n",
    " \n",
    "    f = open(respath.value , \"a\")\n",
    "    f.write(\"!CV  = %a\\n\" % v0.value)\n",
    "    f.write(\"!OH  = %a\\n\" % v0.value)\n",
    "    f.write(\"!H2O = %a\\n\" % v0.value)\n",
    "    f.write(\"!H2O = %a\\n\" % T.value)\n",
    "\n",
    "    local_file = FileLink(respath.value, result_html_prefix=\"Click here to download: \")\n",
    "    with out_P:\n",
    "        display(local_file)\n",
    "        display(res.tail(params[\"nTime\"]))\n"
   ]
  },
  {
   "cell_type": "code",
   "execution_count": 9,
   "metadata": {},
   "outputs": [
    {
     "data": {
      "application/vnd.jupyter.widget-view+json": {
       "model_id": "c59da73e5c0d40cd9d22afae5c0dbc7c",
       "version_major": 2,
       "version_minor": 0
      },
      "text/plain": [
       "VBox(children=(HBox(children=(Label(value='Output filename : ', layout=Layout(width='300px')), Text(value='res…"
      ]
     },
     "metadata": {},
     "output_type": "display_data"
    }
   ],
   "source": [
    "out_Error = ipw.Output()\n",
    "out_P = ipw.Output()\n",
    "\n",
    "# output filename\n",
    "# fileName = \"results.csv\"\n",
    "respath = ipw.Text(\"results.csv\")\n",
    "\n",
    "v0 = ipw.Text(\"10\")\n",
    "box00 = ipw.Box([ipw.Label(\"2.5x10$^{-5}$M stock solution of CV (ml)\",layout=label_layout),v0])\n",
    "v1 = ipw.Text(\"10\")\n",
    "box01 = ipw.Box([ipw.Label(\"0.5 M stock solution of NaOH (ml)\",layout=label_layout),v1])\n",
    "v2 = ipw.Text(\"10\")\n",
    "box02 = ipw.Box([ipw.Label(\"Deionised water (ml)\",layout=label_layout),v2])\n",
    "T = ipw.Text(\"25\")\n",
    "box03 = ipw.Box([ipw.Label(\"Temperature ($^\\circ$C)\",layout=label_layout),T])\n",
    "\n",
    "def reset(btn):\n",
    "    if os.path.exists(respath.value):\n",
    "        os.remove(respath.value)\n",
    "    \n",
    "    with out_Error:\n",
    "        out_Error.clear_output()\n",
    "        \n",
    "    with out_P:\n",
    "        out_P.clear_output()\n",
    "        \n",
    "    clear_output()\n",
    "    create_ipw()\n",
    "\n",
    "def calc(btn):\n",
    "    out_P.clear_output()\n",
    "    run_experiment()\n",
    "\n",
    "# interactive buttons ---\n",
    "btn_calc = ipw.Button(description=\"Perform Experiment\", layout=ipw.Layout(width=\"150px\"))\n",
    "btn_calc.on_click(calc)\n",
    "\n",
    "btn_reset = ipw.Button(description=\"Reset Experiment\", layout=ipw.Layout(width=\"150px\"))\n",
    "btn_reset.on_click(reset)\n",
    "\n",
    "# -- output widgets\n",
    "def create_ipw():\n",
    "    rows = []\n",
    "\n",
    "    label_layout = ipw.Layout(width='300px')\n",
    "\n",
    "    rows.append(ipw.HBox([ipw.Label('Output filename : ',layout=label_layout),respath]))\n",
    "    rows.append(ipw.HBox([box00]))\n",
    "    rows.append(ipw.HBox([box01]))\n",
    "    rows.append(ipw.HBox([box02]))\n",
    "    rows.append(ipw.HBox([box03]))\n",
    "\n",
    "    rows.append(ipw.HBox([btn_calc,btn_reset]))\n",
    "    rows.append(ipw.HBox([out_Error]))\n",
    "    rows.append(ipw.HBox([out_P]))\n",
    "    display(ipw.VBox(rows))\n",
    "\n",
    "create_ipw()\n"
   ]
  }
 ],
 "metadata": {
  "kernelspec": {
   "display_name": "Python 3 (ipykernel)",
   "language": "python",
   "name": "python3"
  },
  "language_info": {
   "codemirror_mode": {
    "name": "ipython",
    "version": 3
   },
   "file_extension": ".py",
   "mimetype": "text/x-python",
   "name": "python",
   "nbconvert_exporter": "python",
   "pygments_lexer": "ipython3",
   "version": "3.9.13"
  }
 },
 "nbformat": 4,
 "nbformat_minor": 4
}
