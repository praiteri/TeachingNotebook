{
 "cells": [
  {
   "cell_type": "code",
   "execution_count": 1,
   "metadata": {},
   "outputs": [
    {
     "name": "stdout",
     "output_type": "stream",
     "text": [
      "No local changes to save\n",
      "No stash entries found.\n",
      "Already on 'main'\n",
      "Your branch is up to date with 'origin/main'.\n",
      "HEAD is now at 2756587 typos fixed\n"
     ]
    }
   ],
   "source": [
    "!git stash\n",
    "!git stash apply\n",
    "!git fetch origin\n",
    "!git checkout main\n",
    "!git reset --hard origin/main"
   ]
  }
 ],
 "metadata": {
  "kernelspec": {
   "display_name": "Python 3 (ipykernel)",
   "language": "python",
   "name": "python3"
  },
  "language_info": {
   "codemirror_mode": {
    "name": "ipython",
    "version": 3
   },
   "file_extension": ".py",
   "mimetype": "text/x-python",
   "name": "python",
   "nbconvert_exporter": "python",
   "pygments_lexer": "ipython3",
   "version": "3.9.7"
  }
 },
 "nbformat": 4,
 "nbformat_minor": 4
}
