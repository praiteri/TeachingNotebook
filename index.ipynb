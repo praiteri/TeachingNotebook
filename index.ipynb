{
 "cells": [
  {
   "cell_type": "code",
   "execution_count": 1,
   "metadata": {},
   "outputs": [
    {
     "data": {
      "application/javascript": [
       "$('#appmode-leave').hide();\n",
       "$('#copy-binder-link').hide();\n",
       "$('#visit-repo-link').hide();\n"
      ],
      "text/plain": [
       "<IPython.core.display.Javascript object>"
      ]
     },
     "metadata": {},
     "output_type": "display_data"
    }
   ],
   "source": [
    "%%javascript\n",
    "$('#appmode-leave').hide();\n",
    "$('#copy-binder-link').hide();\n",
    "$('#visit-repo-link').hide();"
   ]
  },
  {
   "cell_type": "markdown",
   "metadata": {},
   "source": [
    "# Chemical Energetics and Kinetics Virtual Notebook\n",
    "\n",
    "Copyright **Peter Kraus and Paolo Raiteri**, January 2021\n",
    "\n",
    "This web page and those linked below have been created with Python using jupyter notebooks and will be used to demonstrate how to solve Physical Chemistry problems using numerical methods. Although this may sound scary to some, most of the exercises collated here can be solved using simple Excel spreadsheets, or even by hand with some algebra and a pocket calculator, or with your smart phone. During the workshops your lab demonstrator will show you how to use Excel for solving these problems, however there are more powerful and efficient computational tools that could be used instead, such as python or R, which you should have seen in first year. Although we would encourage you to use one of those tools to solve these problems we decided to use only Excel in the workshops to demonstrate the general ideas and the approach that needs to be taken to solve the problems, because it is what most students are familiar with. It would be however straightforward to extend those concept to Python and R and we can provide some help and guidance in that regard.\n",
    "\n",
    "The links below will take you to a series of problems of increasing complexity. They have been divided into four groups, one for each of the virtual laboratories that we will do this semester in CEK. At the end of the semester there will be one \"workshop\" assignement, which will entail solving a few problems similar to this one and submit a short report of how you solved the problem (in Word or PDF) plus the Excel spreadsheet you used for the calculations (or the Python/R code you wrote).\n",
    "\n",
    "Although they cover a variety of different topics in Thermodyanmics and Kinetics, the problems proposed here share some common features:\n",
    "1. They have been designed to mimic \"real\" experiments, to a certain extent. This means that you often have the choice of setting the conditions of the experiment (*i.e.* the temperature) and then \"perform\" the measurement by clicking a button.\n",
    "2. The results of all measurements come with some random noise, which is designed to mimic the experimental uncertainty of the instruments used, and user errors. This means that if you perform the same measurement 10 times at the same conditions you will obtain 10 different values.\n",
    "3. Often the initial conditions can be set using sliding bars, which are designed to be difficult to set to nice round numbers, and the measurements will give results with lots of decimal places, and it will be left to you to decide how many digits are significative and worth reporting.\n",
    "4. At the end of the \"virtual\" experiments, all the data collected can be exported as a Comma Separeted Values (CSV) file that can be directly imported into Excel, or read by Python and R.\n",
    "5. Even though sometimes real chemical compounds are named, the input and/or output data may not refer to real experimental values.\n",
    "\n",
    "In the first workshop you will do a short refresher of some basic statistics concepts; average, standard deviation, standard error, and linear regression.\n",
    "In the following two workshops we will use linear regression methods to solve thermodynamics and kinetics problems.\n",
    "In the last workshop we will instead focus on chemical equilibrium problems that can be solved using self-consistent methods.\n",
    "\n",
    "You don't need to solve all the problems during the workshop. This web page will remain active for the entire semester and you can tackle them at home. Moreover, every time you start one of the problems the data set that you will generate will be different so you can solve the same problem multiple time. The solution procedure won't change, but in some cases the answer will. A good way to verify whether you've solved the problem correctly is to predict the result of an experiment at a different condition that was not in your initial data set and perform that one extra measurement, to check whether your prediction is correct, like you would do in the lab.\n",
    "\n",
    "## First Virtual Lab - Statistics and Linear Regression\n",
    "\n",
    "- [Preliminary Workshop](virtual_workshop_01.ipynb): Averages and linear regression\n",
    "\n",
    "## Second Virtual Lab - Kinetics\n",
    "\n",
    "- [Exercise #1](kinetics_01.ipynb): Reaction of nitrogen oxide, nitrogen dioxide and oxygen\n",
    "- [Exercise #2](kinetics_02.ipynb): Absorbance\n",
    "- [Exercise #3](kinetics_03.ipynb): Decomposition reaction\n",
    "- [Exercise #4](kinetics_04.ipynb): Gas phase decomposition\n",
    "- [Exercise #5](kinetics_05.ipynb): Decomposition reaction\n",
    "- [Exercise #6](kinetics_06.ipynb): Decomposition of benzene diazonium chloride\n",
    "- [Exercise #7](kinetics_07.ipynb): Activation Energy\n",
    "- [Exercise #8](kinetics_08.ipynb): Activation energy\n",
    "\n",
    "## Third Virtual Lab - Equilibrium\n",
    "\n",
    "- [Exercise #1](equilibrium_01.ipynb): Ideal chemical equilibrium\n",
    "- [Exercise #2](equilibrium_02.ipynb): Non-ideal behaviour\n",
    "- [Exercise #3](equilibrium_03.ipynb): Enzyme kinetics\n",
    "- [Exercise #4](equilibrium_04.ipynb): Enzyme inhibition\n",
    "\n",
    "\n",
    "## Fourth Workshop - Minimisation Problems\n",
    "\n",
    "- [Exercise #1](w4_01.ipynb): Reaching equilibrium \n",
    "- [Exercise #2](w4_02.ipynb): Common ion equilibrium\n",
    "- [Exercise #3](w4_03.ipynb): Acetic acid/acetate speciation\n",
    "- [Exercise #4](w4_04.ipynb): Tri-hydrogen phosphate speciation\n",
    "\n",
    "## Calorimetry \"Lab\"\n",
    "- [Calorimetry #1](calorimetry_01.ipynb): Calorimetry - water specific heat\n",
    "\n",
    "## Oscillating reactions\n",
    "- [lotka_volterra](lotka_volterra.ipynb): Example of oscillating behaviour\n",
    "\n",
    "## Langmuir isotherm\n",
    "- [Langmuir isotherm](langmuir.ipynb): Langmuir isotherm virtual lab"
   ]
  },
  {
   "cell_type": "code",
   "execution_count": null,
   "metadata": {},
   "outputs": [],
   "source": []
  }
 ],
 "metadata": {
  "kernelspec": {
   "display_name": "Python 3 (ipykernel)",
   "language": "python",
   "name": "python3"
  },
  "language_info": {
   "codemirror_mode": {
    "name": "ipython",
    "version": 3
   },
   "file_extension": ".py",
   "mimetype": "text/x-python",
   "name": "python",
   "nbconvert_exporter": "python",
   "pygments_lexer": "ipython3",
   "version": "3.9.7"
  }
 },
 "nbformat": 4,
 "nbformat_minor": 4
}
