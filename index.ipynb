{
 "cells": [
  {
   "cell_type": "code",
   "execution_count": null,
   "metadata": {},
   "outputs": [],
   "source": [
    "import cekComputerLabs as cek\n",
    "cek.checkGitRepo()"
   ]
  },
  {
   "cell_type": "markdown",
   "metadata": {},
   "source": [
    "# Chemical Energetics and Kinetics Virtual Notebook\n",
    "\n",
    "Copyright **Jacob Martin and Paolo Raiteri**, January 2023\n",
    "\n",
    "This web page and those linked below have been created with Python using jupyter notebooks and will be used to develop important skills in data analysis, data processing and computing using simulated experimental results and computational chemistry software.\n",
    "There is also a collection of *standard* physical chemistry problems that can be readily solved numerically, or analytically.\n",
    "\n",
    "Although this may sound scary to some, most of the numerical labs of this unit can be also solved using simple Excel spreadsheets, or even by hand with some algebra and a pocket calculator. \n",
    "During the numerical labs your lab demonstrator will show you how Python notebooks can be used for solving these problems, which you should have already used in first year.\n",
    "However, all the data will be available in CSV files, which can be readily imported in Excel.\n",
    "We would however encourage you to use Python notebooks for processing the laboratory data, as this is a sought after skill by many employers.\n",
    "\n",
    "The links below will take you to a series of experiences that will be done in the corresponding week. \n",
    "We will start with two labs to refresh and familiarise ourselves with Python, then we will have two thermodynamics \"labs\", one kinetics \"lab\", one \"lab\" about chemical equilibrium and the last 4 labs about \"computational chemistry\".\n",
    "All the labs are focused on physical chemistry concepts that you have already seen in first year (_e.g._ calorimetry, equilibrium, kinetics) or will be covered in the lectures during the semester (_e.g._ quantum chemistry).\n",
    "\n",
    "Although these numerical labs cover a variety of different topics in Thermodyanmics and Kinetics, the problems proposed here share some common features:\n",
    "1. They have been designed to mimic \"real\" experiments, to a certain extent. This means that you often have the choice of setting the conditions of the experiment (*i.e.* the temperature) and then \"perform\" the measurement by clicking a button.\n",
    "2. The results of all measurements come with some random noise, which is designed to mimic the experimental uncertainty of the instruments, and user errors. This means that if you perform the same measurement 10 times at the same conditions you will obtain 10 different values.\n",
    "3. Often the initial conditions can be set using sliding bars, which are designed to be difficult to set to nice round numbers, and the measurements will give results with lots of decimal places. It will be left to you to decide how many digits are significative and worth reporting.\n",
    "4. At the end of the \"virtual\" experiments, all the data collected can be exported as a Comma Separeted Values (CSV) file that can be directly imported into Excel, or read by Python and R.\n",
    "5. In most cases, the data obtained during the virtual experiment should be comparable to real experimental data.\n",
    "\n",
    "In the first workshop you will do a short refresher of some basic statistics concepts; average, standard deviation, standard error, and linear regression.\n",
    "In the following two workshops we will tackle some kinetics and thermodynamics problem, which mimic the experiments that were part of the CHEM2000 wet chemistry laboratory.\n",
    "In the last workshops we will instead focus on using numerical methods to answer physical chemistry questions, such as using a minisation procedure to solve multiple equilibrium problems, or doing energy minimisation procedues to compute the stable structure of molecules.\n",
    "\n",
    "You don't need to solve all the problems during the workshop. This web page will remain active for the entire semester and you can easily access it from home. "
   ]
  },
  {
   "cell_type": "markdown",
   "metadata": {},
   "source": [
    "## Virtual Laboratories\n",
    "\n",
    "- [Week 01](introductionToPython/introductionToPython.ipynb): Intro to python\n",
    "- [Week 02](plotsAndFits/plotsAndFits.ipynb): Averages and linear regression\n",
    "- [Week 03](bombCalorimetry/bombCalorimetry.ipynb): Bomb Calorimetry\n",
    "    * [Launch bomb calorimetry laboratory](bombCalorimetry/virtualExperiment.ipynb) \n",
    "- [Week 04](surfaceAdsorption/langmuir.ipynb): Surface adsorption\n",
    "    * [Launch surface adsorption laboratory](surfaceAdsorption/virtualExperiment.ipynb) \n",
    "- [Week 05](crystalViolet/crystalViolet.ipynb) : Kinetics laboratory\n",
    "    * [Launch crystal violet laboratory](crystalViolet/virtualExperiment.ipynb)\n",
    "- [Week 06](chemicalEquilibrium/equilibrium.ipynb): Chemical Equilibrium\n",
    "- [Week 07]: ***Tuition Free Week***\n",
    "- [Week 08]: ***Mid-semester test***\n",
    "- [Week 09]: ***ANZAC day*** \n",
    "- [Week 10](molecularMechanics1/MolecularMechanics1.ipynb): Molecular mechanics #1\n",
    "    * ---> Create molecules in avogadro <---\n",
    "    * ---> Use orca to compute the HOMO of a couple of molecules <---\n",
    "- [Week 11](molecularMechanics2/MolecularMechanics2.ipynb): Molecular mechanics #2\n",
    "    * [Launch water density laboratory](molecularMechanics2/waterDensity.ipynb)\n",
    "    * [Launch Molecular dynamics laboratory](molecularMechanics2/templateMD.ipynb)\n",
    "- [Week 12](quantumChemistry1/QuantumChemistry1.ipynb): Quantum Chemistry #1\n",
    "- [Week 13](quantumChemistry2/QuantumChemistry2.ipynb): Quantum Chemistry #2\n"
   ]
  },
  {
   "cell_type": "markdown",
   "metadata": {},
   "source": [
    "## Sample Jupyter Notebooks\n",
    "Here below you can find some snippets of code that can help you getting started with Python. \n",
    "This Jupyter Notebooks contain piece of code that you can extract and adapt to solve the first three numerical laboratories (Bomb calorimetry, Langmuir Isotherm and Crystal Violet), they also provide the foundation for the other numerical laboratories. \n",
    "\n",
    "1. [Computing averages and histograms](codeSnippets/1_averageAndHistogram.ipynb)\n",
    "2. [Average of subset of data](codeSnippets/2_averageChunkOfData.ipynb)\n",
    "3. [Convergence of the average, standard deviation and standard error](codeSnippets/3_progressiveAverage.ipynb)\n",
    "4. [Moving average](codeSnippets/4_movingAverage.ipynb)\n",
    "5. [Handling multiple files](codeSnippets/5_multiFileAverage.ipynb)\n",
    "6. [Linear fit (scipy)](codeSnippets/6_linearFit.ipynb)\n",
    "7. [Exponential fit (scipy and lmfit)](codeSnippets/7_fittingArrhenius.ipynb)\n",
    "8. [Making professional figures](codeSnippets/8_prettyFigure.ipynb)"
   ]
  },
  {
   "cell_type": "markdown",
   "metadata": {},
   "source": [
    "# All lab notebooks"
   ]
  },
  {
   "cell_type": "code",
   "execution_count": null,
   "metadata": {},
   "outputs": [],
   "source": [
    "cek.launchNotebooks()"
   ]
  }
 ],
 "metadata": {
  "kernelspec": {
   "display_name": "Python 3 (ipykernel)",
   "language": "python",
   "name": "python3"
  },
  "language_info": {
   "codemirror_mode": {
    "name": "ipython",
    "version": 3
   },
   "file_extension": ".py",
   "mimetype": "text/x-python",
   "name": "python",
   "nbconvert_exporter": "python",
   "pygments_lexer": "ipython3",
   "version": "3.9.13"
  }
 },
 "nbformat": 4,
 "nbformat_minor": 4
}
