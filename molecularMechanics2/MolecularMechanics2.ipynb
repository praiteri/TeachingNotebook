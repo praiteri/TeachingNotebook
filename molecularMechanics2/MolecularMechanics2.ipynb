{
 "cells": [
  {
   "cell_type": "code",
   "execution_count": null,
   "metadata": {},
   "outputs": [],
   "source": [
    "import cekComputerLabs as cek\n",
    "cek.checkGitRepo()"
   ]
  },
  {
   "cell_type": "markdown",
   "metadata": {},
   "source": [
    "# Molecular mechanics 2\n",
    "\n",
    "Last week we focused on building molecules and optimising their structure. In this lab we will be simulating their dynamics using molecular dynamics. \n",
    "\n",
    "In the first section we will understand how forcefields allow for dynamics to be calculated and at the end we will show how the dynamics of water can be simulated."
   ]
  },
  {
   "cell_type": "code",
   "execution_count": null,
   "metadata": {},
   "outputs": [],
   "source": [
    "#Importing the important libraries\n",
    "%matplotlib notebook\n",
    "import matplotlib.pyplot as plt\n",
    "import numpy as np\n",
    "from IPython.display import clear_output\n",
    "import ipywidgets as widgets"
   ]
  },
  {
   "cell_type": "markdown",
   "metadata": {},
   "source": [
    "## Potential energy surface for a bond vibration\n",
    "\n",
    "Molecular vibrations can be modelled as a ball and spring. We will consider a symmetric harmonic model and an anharmonic morse potential meodel.\n",
    "\n",
    "To begin with we can compare the potential energy for a harmonic well and the morse potential given by the equation\n",
    "\\begin{equation}\n",
    "U_{harmonic}(r)=\\left(\\frac{1}{2}k (r-r_e)^2\\right)-D_e\n",
    "\\end{equation}\n",
    "\n",
    "\\begin{equation}\n",
    "U_{morse}(r)=D_e\\left(1-e^{-a (r-r_e)}\\right)^2-D_e\n",
    "\\end{equation}\n",
    "\n",
    "where $a=\\sqrt{\\frac{k}{2D}}$\n",
    "\n",
    "The spring constant $k$ is in both examples and describes the strength of the bond. \n",
    "\n",
    "The depth of the potential well $D$ is needed for the morse potential and shows how much energy is needed to break the bond. \n",
    "\n",
    "**Task 1** - Plot the harmonic and morse potential by writing the functions U_harm and U_morse."
   ]
  },
  {
   "cell_type": "code",
   "execution_count": null,
   "metadata": {},
   "outputs": [],
   "source": [
    "# Set the variables (fix these for now)\n",
    "D=1.0\n",
    "k=5\n",
    "r_e=1.0\n",
    "\n",
    "# Make a vector for the x axis from -10 to 10 with 2000 step inbetween\n",
    "x = np.linspace(-10,10,num=2000)\n",
    "\n",
    "# Write the equation for the harmonic potential here\n",
    "def U_harm(x,k,D,r_e):\n",
    "    return ###WRITE EQUATION HERE###\n",
    "\n",
    "# Write the equation for the morse potential here\n",
    "def U_morse(x,k,D,r_e):\n",
    "    a = np.sqrt(k/2/D)\n",
    "    return ###WRITE EQUATION HERE###\n",
    "\n",
    "# Plotting the potential\n",
    "plt.figure()\n",
    "plt.xlabel(\"Distance (a.u.)\")\n",
    "plt.ylabel(\"Energy (a.u.)\")\n",
    "plt.plot(x,U_harm(x,k,D,r_e))\n",
    "plt.plot(x,U_morse(x,k,D,r_e))\n",
    "plt.ylim((-1,1))\n",
    "plt.xlim((-5,10))\n",
    "plt.show()"
   ]
  },
  {
   "cell_type": "markdown",
   "metadata": {},
   "source": [
    "**Task 2** - Plot the bottom of the well and talk about when the harmonic approximation is appropriate."
   ]
  },
  {
   "cell_type": "markdown",
   "metadata": {},
   "source": [
    "Let's make it interactive! The next cell can be run and will show you how the different parameters in the equation change the graph. "
   ]
  },
  {
   "cell_type": "code",
   "execution_count": null,
   "metadata": {},
   "outputs": [],
   "source": [
    "fig, ax = plt.subplots(figsize=(6,4))\n",
    "\n",
    "ax.grid(True)\n",
    "\n",
    "@widgets.interact(k=(0.5,10,0.05), D=(0,2,0.1), r_e=(0,5,0.5))\n",
    "def update(k=5,D=1,r_e=1):\n",
    "    # Plotting the potential\n",
    "    ax.clear()\n",
    "    #ax.set_ylim([-2,2])\n",
    "    plt.ylim((-2,2))\n",
    "    plt.xlim((-5,10))\n",
    "    plt.xlabel(\"Distance (a.u.)\")\n",
    "    plt.ylabel(\"Energy (a.u.)\")\n",
    "    ax.plot(x, U_harm(x,k,D,r_e))\n",
    "    ax.plot(x, U_morse(x,k,D,r_e))"
   ]
  },
  {
   "cell_type": "markdown",
   "metadata": {},
   "source": [
    "**Task 3** - Explain what each parameter does to the potential energy surface for the two functions."
   ]
  },
  {
   "cell_type": "markdown",
   "metadata": {},
   "source": [
    "## Classical forces\n",
    "\n",
    "Let's consider a configuration and how it would oscillate within this potential. We need to work out the force given a certain distance. Force can be computed from the gradient/derivative of the potential energy surface\n",
    "\n",
    "\\begin{equation}\n",
    "F = -\\frac{dU}{dx} = -\\nabla U\n",
    "\\end{equation}\n",
    "\n",
    "\\begin{equation}\n",
    "F_{harm} = -\\frac{dU}{dx} = -\\frac{d}{dx}\\left(\\frac{1}{2}k(x-r_e)^2-D_e\\right) = -k(x-r_e)\n",
    "\\end{equation}\n",
    "\n",
    "\\begin{equation}\n",
    "F_{morse} = -\\frac{d}{dx}\\left(D_e\\left(1-e^{-a (r-r_e)}\\right)^2-D_e\\right) = -2aDe^{-2a(x-r_e)}(e^{(a(x-r_e))}-1)\n",
    "\\end{equation}\n",
    "\n",
    "**Task 4** - Write two more functions force_harm and force_morse and plot the force as well as the energy on the same plot.\n"
   ]
  },
  {
   "cell_type": "code",
   "execution_count": null,
   "metadata": {},
   "outputs": [],
   "source": [
    "def force_harm(x,k,D,r_e):\n",
    "    return ###WRITE EQUATION HERE###\n",
    "\n",
    "def force_morse(x,k,D,r_e):\n",
    "    a = np.sqrt(k/2/D)\n",
    "    return ###WRITE EQUATION HERE###"
   ]
  },
  {
   "cell_type": "code",
   "execution_count": null,
   "metadata": {},
   "outputs": [],
   "source": [
    "plt.figure()\n",
    "plt.ylim((-2,2))\n",
    "plt.xlim((-5,10))\n",
    "plt.plot(x,U_harm(x,k,D,r_e),label=\"Energy\",color='blue')\n",
    "plt.plot(x,force_harm(x,k,D,r_e),label=\"Force\",color='lightblue')\n",
    "plt.xlabel(\"Distance (a.u.)\")\n",
    "plt.ylabel(\"Energy, Force (a.u.)\")\n",
    "plt.legend()\n",
    "plt.show()"
   ]
  },
  {
   "cell_type": "code",
   "execution_count": null,
   "metadata": {},
   "outputs": [],
   "source": [
    "plt.figure()\n",
    "plt.ylim((-1,1))\n",
    "plt.xlim((-5,10))\n",
    "plt.plot(x,U_morse(x,k,D,r_e),label=\"Energy\",color='blue')\n",
    "plt.plot(x,force_morse(x,k,D,r_e),label=\"Force\",color='lightblue')\n",
    "plt.xlabel(\"Distance (a.u.)\")\n",
    "plt.ylabel(\"Energy, Force (a.u.)\")\n",
    "plt.legend()\n",
    "plt.show()"
   ]
  },
  {
   "cell_type": "markdown",
   "metadata": {},
   "source": [
    "**Task 5** - On which side of the morse potential is the force greater?"
   ]
  },
  {
   "cell_type": "markdown",
   "metadata": {},
   "source": [
    "## Classical molecular dynamics\n",
    "\n",
    "In order to simulate molecular dynamics of these two systems we need to start the bond length at a given value. \n",
    "\n",
    "The equations of motion then describe how the system moves\n",
    "\n",
    "\\begin{eqnarray}\n",
    "a_i(t,x) &=& \\frac{F_i(t,x)}{m_i} \\\\\n",
    "v_i(t+\\delta t) &=& v_i(t) + a_i(t,x)\\delta t \\\\\n",
    "x_i(t+\\delta t) &=& x_i(t) + v_i(t)\\delta t + \\frac{1}{2}a_i(t,x)\\delta t^2 \\\\\n",
    "\\end{eqnarray}\n",
    "\n",
    "where $a_i$, $v_i$ and $x_i$ are the acceleration, velocity and position of particle $i$, and $\\delta t$ is called the time step.\n",
    "\n",
    "**Task 6** - Plot the position of the particle as it oscillates over time in the harmonic well."
   ]
  },
  {
   "cell_type": "code",
   "execution_count": null,
   "metadata": {},
   "outputs": [],
   "source": [
    "#Simulation setup\n",
    "dt = 0.001 # Time step\n",
    "t_ = 0     # Starting time\n",
    "x_ = 2.0   # Starting position\n",
    "v_ = 0     # Starting velocity\n",
    "m_ = 1     # Reduced mass\n",
    "t_max=9    # Time to end simulation\n",
    "\n",
    "lst_x = [] # Lists to put the position, energy and time values\n",
    "lst_y = []\n",
    "lst_t = []\n",
    "\n",
    "while t_ < t_max:                  # Keep going until max time is reached\n",
    "    t_ = t_ + dt                   # Move the time forward by delta t\n",
    "    a_ = force_harm(x_,k,D,r_e)/m_ # Compute the acceleration\n",
    "    v_ = v_ + a_*dt                # Change the velocity\n",
    "    x_ = x_ + v_*dt + 0.5*a_*dt*dt # Change the position based on the new velocity and acceleration\n",
    "    y_ = U_harm(x_,k,D,r_e)        # Determine the energy for the new position\n",
    "    \n",
    "    lst_x.append(x_)               # Add new values to the lists\n",
    "    lst_y.append(y_)\n",
    "    lst_t.append(t_)\n",
    "    \n",
    "plt.figure()\n",
    "plt.plot(lst_t,lst_x)\n",
    "plt.xlabel('Time (a.u.)')\n",
    "plt.ylabel('Distance (a.u.)')\n",
    "plt.show()"
   ]
  },
  {
   "cell_type": "markdown",
   "metadata": {},
   "source": [
    "**Task 7** - Determine the dynamics of a molecule in the morse potential and compare them with the harmonic potential."
   ]
  },
  {
   "cell_type": "code",
   "execution_count": null,
   "metadata": {},
   "outputs": [],
   "source": [
    "#Simulation setup\n",
    "dt = 0.001 # Time step\n",
    "t_ = 0     # Starting time\n",
    "x_ = 2.0   # Starting position\n",
    "v_ = 0     # Starting velocity\n",
    "m_ = 1     # Reduced mass\n",
    "t_max=9    # Time to end simulation\n",
    "\n",
    "lst_x = [] # Lists to put the position, energy and time values\n",
    "lst_y = []\n",
    "lst_t = []\n",
    "\n",
    "while t_ < t_max:                  # Keep going until max time is reached\n",
    "    t_ = t_ + dt                   # Move the time forward by delta t\n",
    "    a_ = force_morse(x_,k,D,r_e)/m_ # Compute the accerlation\n",
    "    v_ = v_ + a_*dt                # Change the velocity\n",
    "    x_ = x_ + v_*dt + 0.5*a_*dt*dt # Change the position based on the new velocity and acceleration\n",
    "    y_ = U_morse(x_,k,D,r_e) # Determine the energy for the new position\n",
    "    \n",
    "    lst_x.append(x_)               # Add new values to the lists\n",
    "    lst_y.append(y_)\n",
    "    lst_t.append(t_)\n",
    "    \n",
    "plt.figure()\n",
    "plt.plot(lst_t,lst_x)\n",
    "plt.xlabel('Time (a.u.)')\n",
    "plt.ylabel('Distance (a.u.)')\n",
    "plt.show()"
   ]
  },
  {
   "cell_type": "markdown",
   "metadata": {},
   "source": [
    "**Task 8** - Change the maximum simulation time to `t_max=100`, a small displacement `x_=1.1`, and `m_=1200` compare the period of the oscillation, $T$, with the value determined from the spring constant. Discuss how accurately does the harmonic approximation works for the morse potential near equilbrium.\n",
    "\n",
    "\\begin{eqnarray}\n",
    "\\omega_0 = \\sqrt{\\frac{k}{m}} \\\\\n",
    "f = \\frac{\\omega_0}{2\\pi} \\\\\n",
    "T = 1/f \\\\\n",
    "\\end{eqnarray} "
   ]
  },
  {
   "cell_type": "code",
   "execution_count": null,
   "metadata": {},
   "outputs": [],
   "source": [
    "## Calculate value here"
   ]
  },
  {
   "cell_type": "markdown",
   "metadata": {},
   "source": [
    "**Task 9** - Set up another simulation with a larger initial displacement Change the maximum simulation time `t_max=100`, a larger initial displacement `x_=2.0`, and `m_=1200` change the t_max to be a period."
   ]
  },
  {
   "cell_type": "code",
   "execution_count": null,
   "metadata": {},
   "outputs": [],
   "source": [
    "#Simulation setup\n",
    "dt = 0.001 # Time step\n",
    "t_ = 0     # Starting time\n",
    "x_ = 2.0   # Starting position\n",
    "v_ = 0     # Starting velocity\n",
    "m_ = #CHANGE#     # Reduced mass\n",
    "t_max=160    # Time to end simulation\n",
    "\n",
    "lst_x = [] # Lists to put the position, energy and time values\n",
    "lst_y = []\n",
    "lst_t = []\n",
    "\n",
    "while t_ < t_max:                  # Keep going until max time is reached\n",
    "    t_ = t_ + dt                   # Move the time forward by delta t\n",
    "    a_ = force_morse(x_,k,D,r_e)/m_ # Compute the accerlation\n",
    "    v_ = v_ + a_*dt                # Change the velocity\n",
    "    x_ = x_ + v_*dt + 0.5*a_*dt*dt # Change the position based on the new velocity and acceleration\n",
    "    y_ = U_morse(x_,k,D,r_e)        # Determine the energy for the new position\n",
    "    \n",
    "    lst_x.append(x_)               # Add new values to the lists\n",
    "    lst_y.append(y_)\n",
    "    lst_t.append(t_)\n",
    "    \n",
    "plt.figure()\n",
    "plt.plot(lst_t,lst_x)\n",
    "plt.xlabel('Time (a.u.)')\n",
    "plt.ylabel('Distance (a.u.)')\n",
    "plt.show()"
   ]
  },
  {
   "cell_type": "markdown",
   "metadata": {},
   "source": [
    "Let's animate the vibration in the morse potential."
   ]
  },
  {
   "cell_type": "code",
   "execution_count": null,
   "metadata": {
    "scrolled": true
   },
   "outputs": [],
   "source": [
    "fig, ax = plt.subplots(figsize=(6,4))\n",
    "\n",
    "ax.grid(True)\n",
    "\n",
    "t_sim = np.round(lst_t,decimals=4)\n",
    "\n",
    "index = 0\n",
    "plt.ylim((-2,2))\n",
    "plt.xlim((-5,10))\n",
    "plt.xlabel(\"Distance (a.u.)\")\n",
    "plt.ylabel(\"Energy (a.u.)\")\n",
    "ax.plot([5-lst_x[index],5+lst_x[index]],[1,1],marker='o',markersize=50,linewidth=10)\n",
    "ax.plot(lst_x[index], lst_y[index],'ko')\n",
    "ax.plot(x,U_morse(x,k,D,r_e))\n",
    "\n",
    "#@widgets.interact(t=(0.001,10,0.001))\n",
    "def update(change):\n",
    "    # Plotting the potential\n",
    "    ax.clear()\n",
    "    ax.grid(True)\n",
    "    #ax.set_ylim([-2,2])\n",
    "    index = np.where(t_sim==slider.value)[0][0]\n",
    "    plt.ylim((-2,2))\n",
    "    plt.xlim((-5,10))\n",
    "    plt.xlabel(\"Distance (a.u.)\")\n",
    "    plt.ylabel(\"Energy (a.u.)\")\n",
    "    #circle = plt.Circle((5-lst_x[index],1),0.2)\n",
    "    #circle2 = plt.Circle((5+lst_x[index],1),0.2)\n",
    "    #ax.add_artist(circle)\n",
    "    #ax.add_artist(circle2)\n",
    "    ax.plot([5-lst_x[index],5+lst_x[index]],[1,1],marker='o',markersize=50,linewidth=10)\n",
    "    ax.plot(lst_x[index], lst_y[index],'ko')\n",
    "    ax.plot(x,U_morse(x,k,D,r_e))\n",
    "    \n",
    "play = widgets.Play(\n",
    "    value=1,\n",
    "    min=1,\n",
    "    max=int(t_max),\n",
    "    step=5,\n",
    "    interval=200,\n",
    "    description=\"Press play\",\n",
    "    loop=True,\n",
    "    play=True,\n",
    "    disabled=False\n",
    ")\n",
    "\n",
    "slider = widgets.IntSlider(value=1,min=1,max=int(t_max))\n",
    "widgets.jslink((play, 'value'), (slider, 'value'))\n",
    "\n",
    "play.observe(update)\n",
    "widgets.HBox([play, slider])"
   ]
  },
  {
   "cell_type": "markdown",
   "metadata": {},
   "source": [
    "# Lab report\n",
    "\n",
    "Introduction to molecular mechanics and forcefields (1-2 paragraphs).\n",
    "\n",
    "## Section 1 - Molecular modelling (Avogadro Week 10)\n",
    "\n",
    "Complete all tasks 1 through to 10. (No introduction needed)\n",
    "\n",
    "## Section 2 - Molecular dynamics\n",
    "(no introduction needed)\n",
    "\n",
    "### Section 2.1 - Potential energy surface for a bond vibration\n",
    "\n",
    "**Task 1** - Plot the harmonic and morse potential by writing the functions U_harm and U_morse.\n",
    "\n",
    "**Task 2** - Plot the bottom of the well and talk about when the harmonic approximation is appropriate.\n",
    "\n",
    "**Task 3** - Explain what each parameter does to the potential energy surface for the two functions.\n",
    "\n",
    "### Section 2.2 - Classical forces\n",
    "\n",
    "**Task 4** - Write two more functions force_harm and force_morse and plot the force as well as the energy on the same plot.\n",
    "\n",
    "**Task 5** - On which side of the morse potential is the force greater?\n",
    "\n",
    "### Section 2.3 - Classical molecular dynamics\n",
    "\n",
    "**Task 6** -  Plot the position of the particle as it oscillates over time in the harmonic well.\n",
    "\n",
    "**Task 7** -  Determine the dynamics of a molecule in the morse potential and compare them with the harmonic potential.\n",
    "\n",
    "**Task 8** - Change the maximum simulation time to `t_max=100`, a small displacement `x_=1.1`, and `m_=1200` compare the period of the oscillation, $T$, with the value determined from the spring constant. Discuss how accurately does the harmonic approximation works for the morse potential near equilbrium.\n",
    "\n",
    "**Task 9** - Set up another simulation with a larger initial displacement Change the maximum simulation time `t_max=100`, a larger initial displacement `x_=2.0`, and `m_=1200` change the t_max to be a period.\n",
    "\n",
    "## Section 3 - Molecular dynamics simulations of water\n",
    "\n",
    "### Section 3.1 - Introduction\n",
    "\n",
    "**Task 1** - Describe the scope of the laboratory\n",
    "\n",
    "**Task 2** - Describe the water model that you have chosen\n",
    "\n",
    "**Task 3** - Describe The set of temperatures that you have chosen\n",
    "\n",
    "**Task 4** - Detail the length of the simulations you chose.\n",
    "\n",
    "### Section 3.1 - Results\n",
    "\n",
    "**Task 5** - How you computed the average, standard error and standard deviation of the volume/density\n",
    "\n",
    "**Task 6** - A table with the average (molar) volumes and densities\n",
    "\n",
    "**Task 7** - A plot of $\\ln V$ _vs_ T and the polynomial fitting function\n",
    "\n",
    "**Task 8** - The volumetric thermal expansion coefficient of water at 20$^\\circ$C and 50$^\\circ$C\n",
    "\n",
    "### Section 3.1 - Discussion\n",
    "\n",
    "**Task 9** - A comparison between your values for the density and the thermal expansion coefficient with literature values for \"real\" water and obtained from other simulations with the same water model."
   ]
  },
  {
   "cell_type": "markdown",
   "metadata": {},
   "source": [
    "## Molecular dynamics simulations of water\n",
    "[water density](waterDensity.ipynb): Quantum Chemistry #2"
   ]
  },
  {
   "cell_type": "code",
   "execution_count": null,
   "metadata": {},
   "outputs": [],
   "source": []
  }
 ],
 "metadata": {
  "anaconda-cloud": {},
  "kernelspec": {
   "display_name": "Python 3 (ipykernel)",
   "language": "python",
   "name": "python3"
  },
  "language_info": {
   "codemirror_mode": {
    "name": "ipython",
    "version": 3
   },
   "file_extension": ".py",
   "mimetype": "text/x-python",
   "name": "python",
   "nbconvert_exporter": "python",
   "pygments_lexer": "ipython3",
   "version": "3.9.15"
  }
 },
 "nbformat": 4,
 "nbformat_minor": 1
}
