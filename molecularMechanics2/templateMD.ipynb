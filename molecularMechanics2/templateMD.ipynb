{
 "cells": [
  {
   "cell_type": "code",
   "execution_count": 1,
   "id": "175fb940",
   "metadata": {},
   "outputs": [
    {
     "name": "stderr",
     "output_type": "stream",
     "text": [
      "Warning: importing 'simtk.openmm' is deprecated.  Import 'openmm' instead.\n",
      "/Users/237454k/miniconda3/envs/work/lib/python3.9/site-packages/MDAnalysis/coordinates/chemfiles.py:108: DeprecationWarning: distutils Version classes are deprecated. Use packaging.version instead.\n",
      "  MIN_CHEMFILES_VERSION = LooseVersion(\"0.9\")\n",
      "/Users/237454k/miniconda3/envs/work/lib/python3.9/site-packages/MDAnalysis/coordinates/TRJ.py:1209: DeprecationWarning: Please use `netcdf_file` from the `scipy.io` namespace, the `scipy.io.netcdf` namespace is deprecated.\n",
      "  class NCDFPicklable(scipy.io.netcdf.netcdf_file):\n"
     ]
    },
    {
     "data": {
      "application/vnd.jupyter.widget-view+json": {
       "model_id": "d374acba004c44ac9cffd2c8c6a73ffd",
       "version_major": 2,
       "version_minor": 0
      },
      "text/plain": []
     },
     "metadata": {},
     "output_type": "display_data"
    }
   ],
   "source": [
    "import cekComputerLabs as cek"
   ]
  },
  {
   "cell_type": "markdown",
   "id": "4b24f02d",
   "metadata": {},
   "source": [
    "# Molecular Dynamics parameters"
   ]
  },
  {
   "cell_type": "code",
   "execution_count": 2,
   "id": "8c3099ae",
   "metadata": {},
   "outputs": [
    {
     "data": {
      "application/vnd.jupyter.widget-view+json": {
       "model_id": "970be355ec68418f9750293273b2c496",
       "version_major": 2,
       "version_minor": 0
      },
      "text/plain": [
       "VBox(children=(HBox(children=(Dropdown(description='Water Model', options=('None', 'spce', 'tip3p', 'tip4pew',…"
      ]
     },
     "metadata": {},
     "output_type": "display_data"
    }
   ],
   "source": [
    "cek.waterMolecularDynamics()"
   ]
  },
  {
   "cell_type": "markdown",
   "id": "a9142aec",
   "metadata": {},
   "source": [
    "# Working Notebooks"
   ]
  },
  {
   "cell_type": "code",
   "execution_count": 3,
   "id": "5ccc62db",
   "metadata": {},
   "outputs": [
    {
     "data": {
      "application/vnd.jupyter.widget-view+json": {
       "model_id": "e0a71cd5c8c544b8a0d545f123ba3b96",
       "version_major": 2,
       "version_minor": 0
      },
      "text/plain": [
       "VBox(children=(HBox(children=(Button(description='Create a new notebook', layout=Layout(width='300px'), style=…"
      ]
     },
     "metadata": {},
     "output_type": "display_data"
    },
    {
     "data": {
      "application/javascript": [
       "   var name_of_the_notebook = './templateMD.ipynb'\n",
       "        var url = window.location.href.split('/')\n",
       "        var newurl = url[0] + '//'\n",
       "        for (var i = 1; i < url.length - 1; i++) {\n",
       "            console.log(url[i], newurl)\n",
       "            newurl += url[i] + '/'\n",
       "        }\n",
       "        newurl += name_of_the_notebook\n",
       "        window.open(newurl)\n",
       "        "
      ],
      "text/plain": [
       "<IPython.core.display.Javascript object>"
      ]
     },
     "metadata": {},
     "output_type": "display_data"
    }
   ],
   "source": [
    "cek.launchNotebooks()"
   ]
  }
 ],
 "metadata": {
  "kernelspec": {
   "display_name": "Python 3 (ipykernel)",
   "language": "python",
   "name": "python3"
  },
  "language_info": {
   "codemirror_mode": {
    "name": "ipython",
    "version": 3
   },
   "file_extension": ".py",
   "mimetype": "text/x-python",
   "name": "python",
   "nbconvert_exporter": "python",
   "pygments_lexer": "ipython3",
   "version": "3.9.13"
  }
 },
 "nbformat": 4,
 "nbformat_minor": 5
}
