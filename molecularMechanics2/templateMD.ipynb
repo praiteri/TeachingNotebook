{
 "cells": [
  {
   "cell_type": "code",
   "execution_count": null,
   "id": "175fb940",
   "metadata": {},
   "outputs": [],
   "source": [
    "import cekComputerLabs as cek"
   ]
  },
  {
   "cell_type": "markdown",
   "id": "4b24f02d",
   "metadata": {},
   "source": [
    "# Molecular Dynamics parameters"
   ]
  },
  {
   "cell_type": "code",
   "execution_count": null,
   "id": "8c3099ae",
   "metadata": {},
   "outputs": [],
   "source": [
    "cek.waterMolecularDynamics()"
   ]
  },
  {
   "cell_type": "markdown",
   "id": "a9142aec",
   "metadata": {},
   "source": [
    "# Working Notebooks"
   ]
  },
  {
   "cell_type": "code",
   "execution_count": null,
   "id": "5ccc62db",
   "metadata": {},
   "outputs": [],
   "source": [
    "cek.launchNotebooks()"
   ]
  }
 ],
 "metadata": {
  "kernelspec": {
   "display_name": "Python 3 (ipykernel)",
   "language": "python",
   "name": "python3"
  },
  "language_info": {
   "codemirror_mode": {
    "name": "ipython",
    "version": 3
   },
   "file_extension": ".py",
   "mimetype": "text/x-python",
   "name": "python",
   "nbconvert_exporter": "python",
   "pygments_lexer": "ipython3",
   "version": "3.9.15"
  }
 },
 "nbformat": 4,
 "nbformat_minor": 5
}
