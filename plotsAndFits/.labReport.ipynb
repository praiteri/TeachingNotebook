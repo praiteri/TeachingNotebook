{
 "cells": [
  {
   "cell_type": "markdown",
   "id": "9da83ddc",
   "metadata": {},
   "source": [
    "# Report for computational lab #1\n",
    "## Student Name: _______________\n",
    "## Student ID: _______________"
   ]
  },
  {
   "cell_type": "code",
   "execution_count": null,
   "id": "49fb3e30",
   "metadata": {},
   "outputs": [],
   "source": [
    "# Import the required python packages here\n",
    "import pandas as pd                  # Dataframes and reading CSV files\n",
    "import numpy as np                   # Numerical libraries\n",
    "import matplotlib.pyplot as plt      # Plotting library\n",
    "from scipy.optimize import curve_fit # Curve fitting library\n",
    "from sklearn.metrics import r2_score # function to compute the R^2 score"
   ]
  },
  {
   "cell_type": "markdown",
   "id": "42447a6c",
   "metadata": {},
   "source": [
    "# Task 1\n",
    "\n",
    "## Generate three data sets using the Random #1 option in the lab notebook; choose different number of points and set unique file names. Briefly describe the file content, i.e. the size of each data set."
   ]
  },
  {
   "cell_type": "markdown",
   "id": "b7f924c8",
   "metadata": {},
   "source": [
    "\"your text here\""
   ]
  },
  {
   "cell_type": "code",
   "execution_count": null,
   "id": "30c9dda6",
   "metadata": {},
   "outputs": [],
   "source": [
    "# your python code here to import the data in the files\n"
   ]
  },
  {
   "cell_type": "markdown",
   "id": "6189c7ad",
   "metadata": {},
   "source": [
    "## Compute the average, standard deviation, and standard error of the values in the \"Y\" column of the files using different number of points."
   ]
  },
  {
   "cell_type": "code",
   "execution_count": null,
   "id": "a8dbf9de",
   "metadata": {},
   "outputs": [],
   "source": [
    "# your python code here\n"
   ]
  },
  {
   "cell_type": "markdown",
   "id": "1f9d3ca2",
   "metadata": {},
   "source": [
    "## Compute and plot the histogram of each data set.\n",
    "## Write a caption for the figure."
   ]
  },
  {
   "cell_type": "code",
   "execution_count": null,
   "id": "cb6d12dc",
   "metadata": {},
   "outputs": [],
   "source": [
    "# your python code here\n"
   ]
  },
  {
   "cell_type": "markdown",
   "id": "f5971f67",
   "metadata": {},
   "source": [
    "Figure 1. \"insert the caption here\""
   ]
  },
  {
   "cell_type": "markdown",
   "id": "dccda2e7",
   "metadata": {},
   "source": [
    "## Discuss whether reporting the standard deviation and standard error for this dataset is meaningful or not."
   ]
  },
  {
   "cell_type": "markdown",
   "id": "cb0ea3ee",
   "metadata": {},
   "source": [
    "\"your text here\""
   ]
  },
  {
   "cell_type": "markdown",
   "id": "e87801a4",
   "metadata": {},
   "source": [
    "## Make a table with the number of points, average, standard deviation and standard error for each dataset.\n",
    "If you're using markdown, this webpage may help you prepare the table [[Markdown Tables]](https://www.tablesgenerator.com/markdown_tables#)"
   ]
  },
  {
   "cell_type": "markdown",
   "id": "3880e7ed",
   "metadata": {},
   "source": [
    "## Repeat task #1 with data sets generated using \"Random #2\".\n",
    "\n",
    "insert cells below as needed"
   ]
  },
  {
   "cell_type": "markdown",
   "id": "a3af9087",
   "metadata": {},
   "source": [
    "____\n",
    "\n",
    "# Task 2\n",
    "\n",
    "## Generate one data set using the Lambert-Beer law option in the lab notebook; report the file name and number of values in the file."
   ]
  },
  {
   "cell_type": "code",
   "execution_count": null,
   "id": "44f8e2cf",
   "metadata": {},
   "outputs": [],
   "source": [
    "# your python code here\n"
   ]
  },
  {
   "cell_type": "markdown",
   "id": "c14a7f9c",
   "metadata": {},
   "source": [
    "## Plot the data and insert a caption for the figure."
   ]
  },
  {
   "cell_type": "code",
   "execution_count": null,
   "id": "9a860587",
   "metadata": {},
   "outputs": [],
   "source": [
    "# your python code here\n"
   ]
  },
  {
   "cell_type": "markdown",
   "id": "136472ee",
   "metadata": {},
   "source": [
    "Figure 2. \"insert the caption here\""
   ]
  },
  {
   "cell_type": "markdown",
   "id": "926cadd6",
   "metadata": {},
   "source": [
    "## Fit the date with the appropriate function and report the best fitting parameter(s)."
   ]
  },
  {
   "cell_type": "code",
   "execution_count": null,
   "id": "2142c3df",
   "metadata": {},
   "outputs": [],
   "source": [
    "# your python code here\n"
   ]
  },
  {
   "cell_type": "markdown",
   "id": "ab55ffba",
   "metadata": {},
   "source": [
    "## Compute the absorptivity assuming a path length of 0.5 cm. Report it with units and error."
   ]
  },
  {
   "cell_type": "code",
   "execution_count": null,
   "id": "ec78136e",
   "metadata": {},
   "outputs": [],
   "source": [
    "# your python code here\n"
   ]
  },
  {
   "cell_type": "markdown",
   "id": "47e2d663",
   "metadata": {},
   "source": [
    "## Re-plot the figure including the best fitting line (with new caption)."
   ]
  },
  {
   "cell_type": "code",
   "execution_count": null,
   "id": "b0df42f9",
   "metadata": {},
   "outputs": [],
   "source": [
    "# your python code here\n"
   ]
  },
  {
   "cell_type": "markdown",
   "id": "abad4a3c",
   "metadata": {},
   "source": [
    "Figure 3. \"insert the caption here\""
   ]
  },
  {
   "cell_type": "markdown",
   "id": "c3a5db4e",
   "metadata": {},
   "source": [
    "____\n",
    "\n",
    "# Task 3\n",
    "\n",
    "## Import one data set generated for the Aerodynamic Drag force; report the file name and number of values in the file."
   ]
  },
  {
   "cell_type": "code",
   "execution_count": null,
   "id": "a4bfeb6a",
   "metadata": {},
   "outputs": [],
   "source": [
    "# your python code here\n"
   ]
  },
  {
   "cell_type": "markdown",
   "id": "44c97f4d",
   "metadata": {},
   "source": [
    "## Fit the data with the appropriate function and report the best fitting parameter(s)."
   ]
  },
  {
   "cell_type": "code",
   "execution_count": null,
   "id": "250f3187",
   "metadata": {},
   "outputs": [],
   "source": [
    "# your python code here\n"
   ]
  },
  {
   "cell_type": "markdown",
   "id": "218b0761",
   "metadata": {},
   "source": [
    "## Compute the aerodynamic drag coefficient ($C_x=\\rho C_D$) for an object with surface area $A=0.03 m^2$. Report it with units and error. Include also a description of the process."
   ]
  },
  {
   "cell_type": "code",
   "execution_count": null,
   "id": "ee79bb31",
   "metadata": {},
   "outputs": [],
   "source": [
    "# your python code here\n"
   ]
  },
  {
   "cell_type": "markdown",
   "id": "396326c8",
   "metadata": {},
   "source": [
    "## Plot the data, including the best fitting line. The figure must have a caption."
   ]
  },
  {
   "cell_type": "code",
   "execution_count": null,
   "id": "fe7e5f2e",
   "metadata": {},
   "outputs": [],
   "source": [
    "# your python code here\n"
   ]
  },
  {
   "cell_type": "markdown",
   "id": "cc7fea14",
   "metadata": {},
   "source": [
    "Figure 4. \"insert the caption here\"\n",
    "\n",
    "\\begin{equation}\n",
    "\\ln x\n",
    "\\end{equation}"
   ]
  },
  {
   "cell_type": "markdown",
   "id": "2919246d",
   "metadata": {},
   "source": [
    "____\n",
    "\n",
    "# Task 4\n",
    "\n",
    "## Import one data set generated for  the Electrostatic force; report the file name and number of values in the file."
   ]
  },
  {
   "cell_type": "code",
   "execution_count": null,
   "id": "6a3951f7",
   "metadata": {},
   "outputs": [],
   "source": [
    "# your python code here\n"
   ]
  },
  {
   "cell_type": "markdown",
   "id": "06732eb3",
   "metadata": {},
   "source": [
    "## Fit the data with the appropriate function and report the best fitting parameter(s)."
   ]
  },
  {
   "cell_type": "markdown",
   "id": "4796389d",
   "metadata": {},
   "source": [
    "Figure 4. \"insert the caption here\""
   ]
  },
  {
   "cell_type": "code",
   "execution_count": null,
   "id": "b3e61cf2",
   "metadata": {},
   "outputs": [],
   "source": [
    "# your python code here\n"
   ]
  },
  {
   "cell_type": "markdown",
   "id": "ebf0d2e9",
   "metadata": {},
   "source": [
    "## Compute the dielectric constant of the medium ($\\varepsilon_r$) assuming $q=1$."
   ]
  },
  {
   "cell_type": "code",
   "execution_count": null,
   "id": "1229bf94",
   "metadata": {},
   "outputs": [],
   "source": [
    "# your python code here\n"
   ]
  },
  {
   "cell_type": "markdown",
   "id": "c924cfae",
   "metadata": {},
   "source": [
    "## Plot the data, including the best fitting line. The figure must have a caption."
   ]
  },
  {
   "cell_type": "code",
   "execution_count": null,
   "id": "51947e2b",
   "metadata": {},
   "outputs": [],
   "source": [
    "# your python code here\n"
   ]
  },
  {
   "cell_type": "markdown",
   "id": "6722a20d",
   "metadata": {},
   "source": [
    "Figure 5. \"insert the caption here\""
   ]
  },
  {
   "cell_type": "markdown",
   "id": "d9c61d7d",
   "metadata": {},
   "source": [
    "___\n",
    "\n",
    "# Task 5\n",
    "\n",
    "## Import one data set generated for the Arrhenius equation; report the file name and number of values in the file."
   ]
  },
  {
   "cell_type": "code",
   "execution_count": null,
   "id": "89f9e9f1",
   "metadata": {},
   "outputs": [],
   "source": [
    "# your python code here\n"
   ]
  },
  {
   "cell_type": "markdown",
   "id": "c1490b67",
   "metadata": {},
   "source": [
    "## Fit the data with an exponential function and report the activation energy and frequency factor with the appropriate units"
   ]
  },
  {
   "cell_type": "code",
   "execution_count": null,
   "id": "19e85507",
   "metadata": {},
   "outputs": [],
   "source": [
    "# your python code here\n"
   ]
  },
  {
   "cell_type": "markdown",
   "id": "acaba3d5",
   "metadata": {},
   "source": [
    "## Fit the data with an linear function and report the activation energy and frequency factor with the appropriate units\n",
    "\n",
    "Note that the Arrhenius equation can be rewritten in a linear form by taking the logarithm of both sides of the equation. \n",
    "\n",
    "\\begin{equation}\n",
    "\\ln K_r = \\ln A -\\frac{\\Delta E_a}{R}\\frac{1}{T}\n",
    "\\end{equation}\n",
    "\n",
    "and you can define $y=\\ln K_r$ and $x=1/T$.\n"
   ]
  },
  {
   "cell_type": "markdown",
   "id": "a8dae50e",
   "metadata": {},
   "source": [
    "## Plot the data, including the regression lines obtained from the two fits done above"
   ]
  },
  {
   "cell_type": "code",
   "execution_count": null,
   "id": "dced0bff",
   "metadata": {},
   "outputs": [],
   "source": [
    "# your python code here\n"
   ]
  },
  {
   "cell_type": "markdown",
   "id": "2de474f9",
   "metadata": {},
   "source": [
    "Figure 6. \"insert the caption here\""
   ]
  },
  {
   "cell_type": "markdown",
   "id": "1fcd94c1",
   "metadata": {},
   "source": [
    "## Plot the data using $y=\\ln K_r$ and $x=1/T$, including the regression lines obtained from the two fits done above"
   ]
  },
  {
   "cell_type": "markdown",
   "id": "8e3260e2",
   "metadata": {},
   "source": [
    "Figure 7. \"insert the caption here\""
   ]
  }
 ],
 "metadata": {
  "kernelspec": {
   "display_name": "Python 3 (ipykernel)",
   "language": "python",
   "name": "python3"
  },
  "language_info": {
   "codemirror_mode": {
    "name": "ipython",
    "version": 3
   },
   "file_extension": ".py",
   "mimetype": "text/x-python",
   "name": "python",
   "nbconvert_exporter": "python",
   "pygments_lexer": "ipython3",
   "version": "3.9.13"
  }
 },
 "nbformat": 4,
 "nbformat_minor": 5
}
