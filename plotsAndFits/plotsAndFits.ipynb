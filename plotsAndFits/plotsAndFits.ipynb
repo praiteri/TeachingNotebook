{
 "cells": [
  {
   "cell_type": "code",
   "execution_count": null,
   "metadata": {},
   "outputs": [],
   "source": [
    "import cekComputerLabs as cek\n",
    "cek.checkGitRepo()"
   ]
  },
  {
   "cell_type": "markdown",
   "metadata": {},
   "source": [
    "Copyright **Jacob Martin and Paolo Raiteri**, January 2023\n",
    "\n",
    "## Statistical Analysis and Linear Regression\n",
    "In the short introductory lecture to this numerical laboratory we have briefly discussed averages and linear regressions. In this first activity we can practice how to compute averages and how to perform (linear) regressions using a jupyter note book and some of the most common Physics/Chemistry equations.\n",
    "\n",
    "1. *Random numbers <p></p>\n",
    "\n",
    "2. *Lambert-Beer Law*: $A = \\varepsilon l c$ <p></p>\n",
    "\n",
    "3. *Aerodynamic drag force*: $F_D = \\dfrac{1}{2}\\rho C_D A v^2$ <p></p>\n",
    "\n",
    "4. *Electrostatic force*: $F_E = \\dfrac{1}{4\\pi\\epsilon_0}\\dfrac{q^2}{\\varepsilon_r r^2}$ <p></p>\n",
    "\n",
    "5. *Arrhenius*: $K_{r} = Ae^{-\\Delta E_a/RT}$ <p></p>\n",
    "\n",
    "6. *van't Hoff equation*: $K_{eq} = e^{-\\Delta G^0/RT}$ <p></p>\n",
    "\n",
    "In this and the following workshops we will demonstrate how python can be used to solve scientific problems, from simple fitting and data manipulation to solving equilibrium problems numerically.\n",
    "At the beginning we will solve problems using simple linear regression, but later we will learn how to tackle multivariable problems using a minimisation  approach, and we will then look at computational chemistry.\n",
    "\n",
    "All this workshops have been written in Python using Jupyter Notebooks, and python will be the focus of all these laboratories.\n",
    "There are of course other tools that that we could be using, such as R or a compiled programming language (C/C++/Fortran), but in this instance we decided to stick with one of the most commonly used languages. Although the numerical labs have been designed to help you familiarise with python and obtain a functional knowledge of the language to use it in your future research project, if you prefer to use Excel, that would also be an option.\n",
    "\n",
    "### General instructions:\n",
    "\n",
    "- Select one of the `tasks` that are available from the dropdown menu below\n",
    "- Select the number of data points you want to collect\n",
    "- Click `Generate Data` to obtain the data set\n",
    "- Click `Download CSV` to export the complete data set as a CSV file. This is required only if you want to analyse the data on your local computer.\n",
    "\n",
    "###  Notes and Tips:\n",
    "- The data set is designed to include error and uncertainties of the experiments, so they contain a (variable) amount of noise\n",
    "- The data set is produced with a fixed number of digits, but like in experiments, not all of them may be significant.\n",
    "- You can initially generate a large data set and use smaller subset to assess the convergence of the result\n",
    "- Every time you click `Generate Data` an entirely new data set is produced\n",
    "\n",
    "### Discussion points for all task:\n",
    "- For each task, discuss with your peers and/or the lab demonstrations your impression about the convergence of the computed quantity with the number of data points.\n",
    "- How many points do you need to produce a reliable estimate?\n",
    "\n",
    "### Specific aims for each task:\n",
    "1. *Random numbers*:\n",
    "    - Compute the average, standard deviation, and standard error using different number of points. \n",
    "    - Compute the histogram of the frequency of the observations and discuss the relevance of the standard deviation in the two cases.\n",
    "    - Extra #1, plot of the running average, _i.e_ the average as a function of the number of observations\n",
    "    - Extra #2, plot of the standard deviation as a function of the number of observations\n",
    "    - Extra #3, plot of the standard error as a function of the number of observations\n",
    "    - Extra #4, plot the normalised histogram and the \"normal\" distribution on the same graph <p></p>\n",
    "\n",
    "\n",
    "2. *Lambert-Beer law*:\n",
    "    - Use the data generated to compute the absorptivity, $\\varepsilon$, assuming that the measurements were performed in a cuvette with an optical path length of 0.5 cm <p></p>\n",
    "\n",
    "3. *Aerodynamic drag force*:\n",
    "    - Determine the aerodynamic drag coefficient ($C_x = \\rho C_D A$)\n",
    "    - Compare the coefficients obtained from a polynomial with a linear fit\n",
    "    - Is there a problem with the polynomial fit?  <p></p>\n",
    "\n",
    "4. *Electrostatic force*:\n",
    "    - Determine the dielectric constant of the medium ($\\varepsilon_r$) assuming $q^2=1$\n",
    "    - _Tip: find the value of the Coulomb constant in eV_ <p></p>\n",
    "\n",
    "5. *Arrhenius*:\n",
    "    - Determine the activation energy ($E_a$)\n",
    "    - Determine the frequency factor ($A$)\n",
    "    - Try to use an exponential fit and compare the result obtained from a linear fit\n",
    "    <p></p>\n",
    "    \n",
    "\n",
    "6. *van't Hoff equation*:\n",
    "    - Determine the standard enthalpy and entropy of the reaction; remember that $\\Delta G = \\Delta H - T\\Delta S$\n",
    "    - What is the equilibrium constant at 32 degrees Celsius?\n",
    "\n"
   ]
  },
  {
   "cell_type": "markdown",
   "metadata": {},
   "source": [
    "# Working notebook"
   ]
  },
  {
   "cell_type": "code",
   "execution_count": null,
   "metadata": {},
   "outputs": [],
   "source": [
    "cek.launchNotebooks()"
   ]
  },
  {
   "cell_type": "markdown",
   "metadata": {},
   "source": [
    "# Virtual laboratory "
   ]
  },
  {
   "cell_type": "code",
   "execution_count": null,
   "metadata": {},
   "outputs": [],
   "source": [
    "cek.introLaboratory()"
   ]
  }
 ],
 "metadata": {
  "kernelspec": {
   "display_name": "Python 3 (ipykernel)",
   "language": "python",
   "name": "python3"
  },
  "language_info": {
   "codemirror_mode": {
    "name": "ipython",
    "version": 3
   },
   "file_extension": ".py",
   "mimetype": "text/x-python",
   "name": "python",
   "nbconvert_exporter": "python",
   "pygments_lexer": "ipython3",
   "version": "3.9.15"
  },
  "vscode": {
   "interpreter": {
    "hash": "e535d220b488de5ea91b9cc2b59c2f114a95afd4d79a4d51c41214c2f625fe35"
   }
  }
 },
 "nbformat": 4,
 "nbformat_minor": 4
}
