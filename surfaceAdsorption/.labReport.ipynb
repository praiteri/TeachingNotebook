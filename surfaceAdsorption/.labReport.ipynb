{
 "cells": [
  {
   "cell_type": "markdown",
   "id": "9da83ddc",
   "metadata": {},
   "source": [
    "# Report for Surface Adsorption\n",
    "\n",
    "## Student Name: _______________\n",
    "\n",
    "## Student ID: _______________"
   ]
  },
  {
   "cell_type": "code",
   "execution_count": 1,
   "id": "49fb3e30",
   "metadata": {},
   "outputs": [],
   "source": [
    "# Import the required python packages here\n",
    "import pandas as pd                  # Dataframes and reading CSV files\n",
    "import numpy as np                   # Numerical libraries\n",
    "import matplotlib.pyplot as plt      # Plotting library\n",
    "from lmfit import Model              # Curve fitting library\n",
    "from scipy.optimize import curve_fit # Curve fitting library\n",
    "from sklearn.metrics import r2_score # function to compute the R^2 score\n",
    "from IPython.display import Image"
   ]
  },
  {
   "cell_type": "markdown",
   "id": "42447a6c",
   "metadata": {},
   "source": [
    "# Task 1\n",
    "\n",
    "## Rewrite the Lagnmuir isotherm expression in linear form."
   ]
  },
  {
   "attachments": {},
   "cell_type": "markdown",
   "id": "b93365a2",
   "metadata": {},
   "source": [
    "## Perform at least 5 different experiments in the temperature range [$15^\\circ C-95^\\circ C$]."
   ]
  },
  {
   "cell_type": "markdown",
   "id": "b9680977",
   "metadata": {},
   "source": [
    "## Import all the data in suitable variables."
   ]
  },
  {
   "cell_type": "markdown",
   "id": "b3f7a684",
   "metadata": {},
   "source": [
    "## Transform the data to compute the \"concentration\" of the dye on the surface, as the difference between the initial concentration and the concentration of the equilibrium solution."
   ]
  },
  {
   "cell_type": "markdown",
   "id": "ab84c2f2",
   "metadata": {},
   "source": [
    "## Plot the concentration of the dye on the surface _vs_ concentration in solution at all temperatures."
   ]
  },
  {
   "cell_type": "markdown",
   "id": "dd8b8ed4",
   "metadata": {},
   "source": [
    "## Plot the same data using the linearised form of the Langmuir equation."
   ]
  },
  {
   "cell_type": "markdown",
   "id": "7a86e54f",
   "metadata": {},
   "source": [
    "## Fit the linearised data and compute the Langmuir constant at each temperature."
   ]
  },
  {
   "cell_type": "markdown",
   "id": "f5d68da5",
   "metadata": {},
   "source": [
    "## Make a table with the Langmuir constants ($K_L$) and monolayer coverage ($Q$) compute at the different temperatures."
   ]
  },
  {
   "cell_type": "markdown",
   "id": "116909f3",
   "metadata": {},
   "source": [
    "## Does the monolayer coverage change with temperature ? Explain the reasoning behind your answer."
   ]
  },
  {
   "cell_type": "markdown",
   "id": "c0d37706",
   "metadata": {},
   "source": [
    "## Fit the logarithm of the Langmuir constant to determine the enthalpy of adsorption."
   ]
  },
  {
   "cell_type": "markdown",
   "id": "b149eacf",
   "metadata": {},
   "source": [
    "___\n",
    "\n",
    "# Task 2\n",
    "\n",
    "## Fit the non linearised data and compare the computed Langmuir constants and monolayer coverage values obtained."
   ]
  },
  {
   "cell_type": "markdown",
   "id": "a9a3fc45",
   "metadata": {},
   "source": [
    "## Report the values in a table and comment on the differences with respect to the values computed from fitting the linearised data."
   ]
  },
  {
   "attachments": {},
   "cell_type": "markdown",
   "id": "83b895ce",
   "metadata": {},
   "source": [
    "## Discussion\n",
    "1. What is the Langmuir constant at a minimum of 5 different temperatures?\n",
    "2. What is the monolayer coverage at those temperatures?\n",
    "3. What are the enthalpy and entropy of adsorption?\n"
   ]
  },
  {
   "cell_type": "markdown",
   "id": "51c67e94",
   "metadata": {},
   "source": []
  }
 ],
 "metadata": {
  "kernelspec": {
   "display_name": "Python 3 (ipykernel)",
   "language": "python",
   "name": "python3"
  },
  "language_info": {
   "codemirror_mode": {
    "name": "ipython",
    "version": 3
   },
   "file_extension": ".py",
   "mimetype": "text/x-python",
   "name": "python",
   "nbconvert_exporter": "python",
   "pygments_lexer": "ipython3",
   "version": "3.9.13"
  }
 },
 "nbformat": 4,
 "nbformat_minor": 5
}
