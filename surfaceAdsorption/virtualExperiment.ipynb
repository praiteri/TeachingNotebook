{
 "cells": [
  {
   "cell_type": "code",
   "execution_count": 4,
   "metadata": {},
   "outputs": [
    {
     "name": "stdout",
     "output_type": "stream",
     "text": [
      "Checking git repo\n",
      "9109034\n",
      "\n",
      "Checking git repo\n",
      "9109034\n",
      "\n"
     ]
    }
   ],
   "source": [
    "import cekComputerLabs as cek\n",
    "cek.checkGitRepo()"
   ]
  },
  {
   "cell_type": "markdown",
   "metadata": {},
   "source": [
    "# Langmuir isotherm virtual laboratory"
   ]
  },
  {
   "cell_type": "code",
   "execution_count": 5,
   "metadata": {},
   "outputs": [
    {
     "data": {
      "application/vnd.jupyter.widget-view+json": {
       "model_id": "d4633e801d33446f85a6b019b627d759",
       "version_major": 2,
       "version_minor": 0
      },
      "text/plain": [
       "VBox(children=(HBox(children=(Label(value='Output filename : ', layout=Layout(width='300px')), Text(value='res…"
      ]
     },
     "metadata": {},
     "output_type": "display_data"
    },
    {
     "data": {
      "application/vnd.jupyter.widget-view+json": {
       "model_id": "d4633e801d33446f85a6b019b627d759",
       "version_major": 2,
       "version_minor": 0
      },
      "text/plain": [
       "VBox(children=(HBox(children=(Label(value='Output filename : ', layout=Layout(width='300px')), Text(value='res…"
      ]
     },
     "metadata": {},
     "output_type": "display_data"
    }
   ],
   "source": [
    "cek.surfaceAdsorption()"
   ]
  },
  {
   "cell_type": "markdown",
   "metadata": {},
   "source": [
    "# Working notebooks"
   ]
  },
  {
   "cell_type": "code",
   "execution_count": 6,
   "metadata": {},
   "outputs": [
    {
     "data": {
      "application/vnd.jupyter.widget-view+json": {
       "model_id": "51f537c2c9e549d5b93b73df4f82fcae",
       "version_major": 2,
       "version_minor": 0
      },
      "text/plain": [
       "VBox(children=(HBox(children=(Button(description='Create a new notebook', layout=Layout(width='300px'), style=…"
      ]
     },
     "metadata": {},
     "output_type": "display_data"
    },
    {
     "data": {
      "application/vnd.jupyter.widget-view+json": {
       "model_id": "51f537c2c9e549d5b93b73df4f82fcae",
       "version_major": 2,
       "version_minor": 0
      },
      "text/plain": [
       "VBox(children=(HBox(children=(Button(description='Create a new notebook', layout=Layout(width='300px'), style=…"
      ]
     },
     "metadata": {},
     "output_type": "display_data"
    },
    {
     "data": {
      "application/javascript": [
       "   var name_of_the_notebook = 'Report2.ipynb'\n",
       "        var url = window.location.href.split('/')\n",
       "        var newurl = url[0] + '//'\n",
       "        for (var i = 1; i < url.length - 1; i++) {\n",
       "            console.log(url[i], newurl)\n",
       "            newurl += url[i] + '/'\n",
       "        }\n",
       "        newurl += name_of_the_notebook\n",
       "        window.open(newurl)\n",
       "        "
      ],
      "text/plain": [
       "<IPython.core.display.Javascript object>"
      ]
     },
     "metadata": {},
     "output_type": "display_data"
    },
    {
     "data": {
      "application/javascript": [
       "   var name_of_the_notebook = 'Report2.ipynb'\n",
       "        var url = window.location.href.split('/')\n",
       "        var newurl = url[0] + '//'\n",
       "        for (var i = 1; i < url.length - 1; i++) {\n",
       "            console.log(url[i], newurl)\n",
       "            newurl += url[i] + '/'\n",
       "        }\n",
       "        newurl += name_of_the_notebook\n",
       "        window.open(newurl)\n",
       "        "
      ],
      "text/plain": [
       "<IPython.core.display.Javascript object>"
      ]
     },
     "metadata": {},
     "output_type": "display_data"
    }
   ],
   "source": [
    "cek.launchNotebooks()"
   ]
  }
 ],
 "metadata": {
  "kernelspec": {
   "display_name": "Python 3 (ipykernel)",
   "language": "python",
   "name": "python3"
  },
  "language_info": {
   "codemirror_mode": {
    "name": "ipython",
    "version": 3
   },
   "file_extension": ".py",
   "mimetype": "text/x-python",
   "name": "python",
   "nbconvert_exporter": "python",
   "pygments_lexer": "ipython3",
   "version": "3.9.13"
  }
 },
 "nbformat": 4,
 "nbformat_minor": 4
}
