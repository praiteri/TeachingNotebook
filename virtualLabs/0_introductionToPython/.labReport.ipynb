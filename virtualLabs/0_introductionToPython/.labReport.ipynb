{
 "cells": [
  {
   "cell_type": "code",
   "execution_count": null,
   "id": "85508872-d2a6-4c75-8f88-da614ed31852",
   "metadata": {},
   "outputs": [],
   "source": [
    "# Import the required python packages here\n",
    "import pandas as pd                  # Dataframes and reading CSV files\n",
    "import numpy as np                   # Numerical libraries\n",
    "import matplotlib.pyplot as plt      # Plotting library\n",
    "from lmfit import Model              # Curve fitting library\n",
    "from scipy.optimize import curve_fit # Curve fitting library\n",
    "from sklearn.metrics import r2_score # function to compute the R^2 score\n",
    "from IPython.display import Image\n",
    "\n",
    "import cekComputerLabs as cek\n",
    "cek.openNotebook()\n",
    "cek.convertNotebook()"
   ]
  },
  {
   "cell_type": "markdown",
   "id": "9da83ddc",
   "metadata": {},
   "source": [
    "# Example of a lab Report for CHEM2000\n",
    "\n",
    "## Student Name: _______________\n",
    "\n",
    "## Student ID: _______________"
   ]
  },
  {
   "cell_type": "markdown",
   "id": "aae256cd-839d-4bda-9a9c-e18fbadd7da5",
   "metadata": {},
   "source": [
    "This is a Mardown cell, where you can write your report."
   ]
  },
  {
   "cell_type": "code",
   "execution_count": null,
   "id": "0e5dcc03-3c00-4aac-bec6-99e4d8c1fa3c",
   "metadata": {},
   "outputs": [],
   "source": [
    "# This is a python cell where you can write your data-processing code.\n",
    "# If you are preparing your report in Excel/Word, you don't need this."
   ]
  },
  {
   "cell_type": "markdown",
   "id": "78f31001",
   "metadata": {},
   "source": [
    "# Calculation of RT\n",
    "1. Define two variables, one for $R$ and one for $T$\n",
    "2. Multiply them together and store the result into another variable\n",
    "3. print the resulting variable"
   ]
  },
  {
   "cell_type": "code",
   "execution_count": null,
   "id": "64a9ff38",
   "metadata": {},
   "outputs": [],
   "source": []
  },
  {
   "cell_type": "markdown",
   "id": "07ae8d3b",
   "metadata": {},
   "source": [
    "4. Define a list of 5 different temperatures\n",
    "5. Compute the value of $RT$ for the fourth temperature"
   ]
  },
  {
   "cell_type": "code",
   "execution_count": null,
   "id": "ccfb4609",
   "metadata": {},
   "outputs": [],
   "source": []
  },
  {
   "cell_type": "markdown",
   "id": "528374e7",
   "metadata": {},
   "source": [
    "6. Write a loop to compute and print the value of $RT$ at the 5 temperatures"
   ]
  },
  {
   "cell_type": "code",
   "execution_count": null,
   "id": "339fc7be",
   "metadata": {},
   "outputs": [],
   "source": []
  },
  {
   "cell_type": "markdown",
   "id": "fdccfec5",
   "metadata": {},
   "source": [
    "7. Transform the list into an array\n",
    "8. Multiply the array by $R$ and create a new array\n",
    "9. Print the array"
   ]
  },
  {
   "cell_type": "code",
   "execution_count": null,
   "id": "9407722a",
   "metadata": {},
   "outputs": [],
   "source": []
  },
  {
   "cell_type": "markdown",
   "id": "c66d32c4",
   "metadata": {},
   "source": [
    "# Sum and average\n",
    "1. Use a loop to compute the sum of the 5 temperatures\n",
    "2. Compute the average temperature"
   ]
  },
  {
   "cell_type": "code",
   "execution_count": null,
   "id": "302cce21",
   "metadata": {},
   "outputs": [],
   "source": []
  },
  {
   "cell_type": "markdown",
   "id": "e47aa0f3",
   "metadata": {},
   "source": [
    "# List of strings\n",
    "1. Create a list with the names of everyone on your table\n",
    "2. Write a loop to write their names on the screen\n",
    "3. Create a second list the surnames of everyone on your table (easier if they are in the same order)\n",
    "4. Write a loop to write the name and surname of everyone at your table, one person per line"
   ]
  },
  {
   "cell_type": "code",
   "execution_count": null,
   "id": "835b975e",
   "metadata": {},
   "outputs": [],
   "source": []
  },
  {
   "cell_type": "markdown",
   "id": "b84c1aed",
   "metadata": {},
   "source": [
    "# Functions and plotting\n",
    "1. Define a function to plot the $y = \\sqrt{x-2}$\n",
    "2. Create a list of 10 suitable values for $x$\n",
    "3. Evaluate that function at those values\n",
    "4. Plot the function"
   ]
  },
  {
   "cell_type": "code",
   "execution_count": null,
   "id": "975f0f41",
   "metadata": {},
   "outputs": [],
   "source": []
  }
 ],
 "metadata": {
  "kernelspec": {
   "display_name": "Python 3 (ipykernel)",
   "language": "python",
   "name": "python3"
  },
  "language_info": {
   "codemirror_mode": {
    "name": "ipython",
    "version": 3
   },
   "file_extension": ".py",
   "mimetype": "text/x-python",
   "name": "python",
   "nbconvert_exporter": "python",
   "pygments_lexer": "ipython3",
   "version": "3.11.6"
  }
 },
 "nbformat": 4,
 "nbformat_minor": 5
}
