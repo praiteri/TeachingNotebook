{
 "cells": [
  {
   "cell_type": "code",
   "execution_count": null,
   "id": "85508872-d2a6-4c75-8f88-da614ed31852",
   "metadata": {},
   "outputs": [],
   "source": [
    "# Import the required python packages here\n",
    "import pandas as pd                  # Dataframes and reading CSV files\n",
    "import numpy as np                   # Numerical libraries\n",
    "import matplotlib.pyplot as plt      # Plotting library\n",
    "from lmfit import Model              # Curve fitting library\n",
    "from scipy.optimize import curve_fit # Curve fitting library\n",
    "from sklearn.metrics import r2_score # function to compute the R^2 score\n",
    "from IPython.display import Image\n",
    "\n",
    "import cekComputerLabs as cek\n",
    "cek.openNotebook()\n",
    "cek.convertNotebook()"
   ]
  },
  {
   "cell_type": "markdown",
   "id": "9da83ddc",
   "metadata": {},
   "source": [
    "# Examepl of a lab Report for CHEM2000\n",
    "\n",
    "## Student Name: _______________\n",
    "\n",
    "## Student ID: _______________"
   ]
  },
  {
   "cell_type": "markdown",
   "id": "aae256cd-839d-4bda-9a9c-e18fbadd7da5",
   "metadata": {},
   "source": [
    "This is a Mardown cell, where you can write your report."
   ]
  },
  {
   "cell_type": "code",
   "execution_count": null,
   "id": "0e5dcc03-3c00-4aac-bec6-99e4d8c1fa3c",
   "metadata": {},
   "outputs": [],
   "source": [
    "# This is a python cell where you can write your data-processing code.\n",
    "# If you are preparing your report in Excel/Word, you don't need this."
   ]
  }
 ],
 "metadata": {
  "kernelspec": {
   "display_name": "Python 3 (ipykernel)",
   "language": "python",
   "name": "python3"
  },
  "language_info": {
   "codemirror_mode": {
    "name": "ipython",
    "version": 3
   },
   "file_extension": ".py",
   "mimetype": "text/x-python",
   "name": "python",
   "nbconvert_exporter": "python",
   "pygments_lexer": "ipython3",
   "version": "3.11.7"
  }
 },
 "nbformat": 4,
 "nbformat_minor": 5
}
