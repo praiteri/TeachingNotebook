{
 "cells": [
  {
   "cell_type": "markdown",
   "id": "a4b3fe3d",
   "metadata": {
    "editable": true,
    "slideshow": {
     "slide_type": ""
    },
    "tags": []
   },
   "source": [
    "# Introduction to python for CHEM2000"
   ]
  },
  {
   "cell_type": "code",
   "execution_count": null,
   "id": "95d5c2a7",
   "metadata": {},
   "outputs": [],
   "source": [
    "import cekComputerLabs as cek\n",
    "cek.checkGitRepo()"
   ]
  },
  {
   "cell_type": "markdown",
   "id": "27e36903",
   "metadata": {},
   "source": [
    "Python is a very powerful object oriented programming language, which is used in most fields of science both for computing and for data analysis.\n",
    "This document is a very simplistic introduction to Python written by a non-Python expert, and is designed to be a quick introduction to Python for CHEM2000 students.\n",
    "\n",
    "\n",
    "Simple python online courses for people with little or no previous programming experience can be found on the Software Carpentry website:\n",
    "* [Plotting and Programming in Python](http://swcarpentry.github.io/python-novice-gapminder/) \n",
    "* [Programming with Python](https://swcarpentry.github.io/python-novice-inflammation) \n",
    "* [The Unix Shell](https://swcarpentry.github.io/shell-novice/)\n",
    "Some of those courses are also run in person at Curtin through the Curtin Institute of Computation, but they can be easily done independently and they are designed to be completed in a day (about 7h30m for the python courses).\n",
    "\n",
    "This document is aimed at providing a summary of the key concepts that you'll need  to solve the numerical laboratories that are part of the CHEM2000 unit using Python, but it is far from comprehensive. There are many different ways to solve problems numerically, different libraries/packages can be used and here we are providing only one (or a few) possible way of doing things.\n",
    "\n",
    "The entire document and the examples therein have been developed using a **Jupyter Notebook**, and work best there.\n",
    "\n",
    "A Jupyter notebook consists of a series of cells that can be either _text_ or _code_, the cell can then be _executed_ by pressing the **run** button or _Shift+Return_ (if you want to look like a pro). If things go pear-shaped, restarting the kernel and rerunning all the cells may help; this can be done by pressing the _fast forward_ button.\n",
    "\n",
    "Text cells accept _Markdown_ syntax and once executed will render the text. Markdown provides a simple way of producing formatted text and it accept _LaTeX_ commands for equations, which look much nicer that those made with the equation editor in MS Word. For a Markdown tutorial click [here](https://www.markdowntutorial.com)\n",
    "\n",
    "The code cells contain Python 3 commands. Note that some commands in Python 3 are different from Python 2, _e.g._ the **print** command works differently."
   ]
  },
  {
   "cell_type": "markdown",
   "id": "42dc45cc",
   "metadata": {},
   "source": [
    "## Getting help\n",
    "\n",
    "You can ask any python questions on Campuswire, but you would get a much quicker answer using google.\n",
    "In fact, chances are that someone has already asked your question on stackoverflow, _e.g._ \n",
    "* [\"How to print formatted string in Python3?\"](https://stackoverflow.com/questions/26862773/how-to-print-formatted-string-in-python3)\n",
    "* [\"Adding a legend to a plot\"](https://stackoverflow.com/questions/19125722/adding-a-matplotlib-legend)\n",
    "\n",
    "If you need help for a specific function, in the jupyter notebook, you can use the \"?\" function. For example\n",
    "```python\n",
    "import numpy as np\n",
    "np.mean?\n",
    "```\n",
    "will give you the help for that function.\n",
    "\n",
    "If you know a package has the function you need, but you don't quite remember its name, you can use `tab` to ask the jupter notebook to prompt you with the possible functions, _e.g._ try typing\n",
    "```python\n",
    "import numpy as np\n",
    "np.m\n",
    "```\n",
    "and then press ```tab``` "
   ]
  },
  {
   "cell_type": "markdown",
   "id": "672c67a1",
   "metadata": {},
   "source": [
    "## My first Jupyter Notebook\n",
    "You can use the interactive buttons below to create an empty notebook for practising some python coding. A similar interface will be present in all virtual laboratories for this unit. In particular the last button will create a new notebook for the lab report, which contains the assignment for that week.\n",
    "You can also open a notebook that you had previously created."
   ]
  },
  {
   "cell_type": "code",
   "execution_count": null,
   "id": "14119038",
   "metadata": {},
   "outputs": [],
   "source": [
    "# cek.launchNotebooks()\n",
    "cek.openNotebook()"
   ]
  },
  {
   "cell_type": "code",
   "execution_count": null,
   "id": "7b39dd3e-44e4-4132-991b-69d8a2b81332",
   "metadata": {},
   "outputs": [],
   "source": [
    "cek.convertNotebook()"
   ]
  },
  {
   "cell_type": "markdown",
   "id": "89aeff2f",
   "metadata": {},
   "source": [
    "In general you would use the first _code_ cell to import all the packages that we need to use in the remainder of the code. We can import entire packages, part of the packages and assign aliases to the package name, _e.g._"
   ]
  },
  {
   "cell_type": "code",
   "execution_count": null,
   "id": "d891b488",
   "metadata": {},
   "outputs": [],
   "source": [
    "# python packages\n",
    "import pandas as pd # Dataframes and reading CSV files\n",
    "import numpy as np # Numerical libraries\n",
    "import matplotlib.pyplot as plt # Plotting library"
   ]
  },
  {
   "cell_type": "markdown",
   "id": "ba2a9d91",
   "metadata": {},
   "source": [
    "this is particularly important because it ensures that if we define a variable that has the same name of a function belonging to that package there is no confusion about what the code does.\n",
    "```python\n",
    "# This is a variable\n",
    "mean = 10 \n",
    "\n",
    "# This is the NumPy function to compute the mean of an list of numbers\n",
    "np.mean([1,2,3])\n",
    "```\n",
    "\n",
    "Things to keep in mind when programming in Pythons are\n",
    "\n",
    "1. It is Case sensitivE\n",
    "\n",
    "```python\n",
    "average = 0\n",
    "```\n",
    "is different from\n",
    "```python\n",
    "aVeRagE = 0\n",
    "```"
   ]
  },
  {
   "cell_type": "markdown",
   "id": "e5873086",
   "metadata": {},
   "source": [
    "2. Variables' names cannot have spaces. This line would give you a _syntax error_\n",
    "```ptyhon\n",
    "number of values = 10\n",
    "```\n",
    "\n",
    "3. Spaces between operators are ignored, _1+2_ is the same as _1 + 2_"
   ]
  },
  {
   "cell_type": "markdown",
   "id": "e71d5d0a",
   "metadata": {},
   "source": [
    "```code\n",
    "print(1 + 2)\n",
    "print(1+2)\n",
    "```"
   ]
  },
  {
   "cell_type": "code",
   "execution_count": null,
   "id": "fe123b14",
   "metadata": {},
   "outputs": [],
   "source": [
    "print(1 + 2)\n",
    "print(1+2)"
   ]
  },
  {
   "cell_type": "markdown",
   "id": "5def35ed",
   "metadata": {},
   "source": [
    "4. \\# is a comment and everything on its right is ignored"
   ]
  },
  {
   "cell_type": "code",
   "execution_count": null,
   "id": "d8a0f442",
   "metadata": {},
   "outputs": [],
   "source": [
    "# This is a comment\n",
    "print(\"Hello world\") # This is also a comment"
   ]
  },
  {
   "cell_type": "markdown",
   "id": "8266ac24",
   "metadata": {},
   "source": [
    "5. A single command can spread over multiple lines. If we split the line between variables no continuation line character is required. Otherwise we can use the \"\\\" character. Note the different results of the two commands below."
   ]
  },
  {
   "cell_type": "code",
   "execution_count": null,
   "id": "e974c8b8",
   "metadata": {},
   "outputs": [],
   "source": [
    "print(\"Hello\", \n",
    "      \"world\")\n",
    "print(\"Hello \\\n",
    "       world\")\n",
    "print(\"Hello \\nWorld\")"
   ]
  },
  {
   "cell_type": "markdown",
   "id": "0b8af921",
   "metadata": {},
   "source": [
    "6. Indentation matters! Indentation is used to define the content of loops, functions... This will be more clear when we start using functions."
   ]
  },
  {
   "cell_type": "markdown",
   "id": "40835605",
   "metadata": {},
   "source": [
    "## Good programming practices\n",
    "\n",
    "1. Use meaningful name for your variables so that you know what's inside, there is no character limit.\n",
    "2. Use a consistent style and convention for your variables, the code will look neater. I like to use the _camel case_ style (numberOfValues) that allows me to have separation between words without using spaces. Alternatively you can use the _Pascal case_ style (NumberOfValues) or use the underscore character to separate words (number_of_variables) or create your own style.\n",
    "3. Comment your code well, it may be obvious what it does when you write it, but it won't be so obvious after a year or more.\n",
    "\n",
    "# Python as a simple calculator\n",
    "\n",
    "Let's start by doing some simple mathematical operations using this Jupyter Notebook; addition, multiplication, division $\\dots$, just to get familiar with the Jupyter Notebook."
   ]
  },
  {
   "cell_type": "code",
   "execution_count": null,
   "id": "4411c685",
   "metadata": {},
   "outputs": [],
   "source": [
    "2 + 3"
   ]
  },
  {
   "cell_type": "code",
   "execution_count": null,
   "id": "b2378f18",
   "metadata": {},
   "outputs": [],
   "source": [
    "4 * 3"
   ]
  },
  {
   "cell_type": "code",
   "execution_count": null,
   "id": "b9ddbd5b",
   "metadata": {},
   "outputs": [],
   "source": [
    "12 / 3"
   ]
  },
  {
   "cell_type": "code",
   "execution_count": null,
   "id": "2b6b64e8",
   "metadata": {},
   "outputs": [],
   "source": [
    "2**3"
   ]
  },
  {
   "cell_type": "markdown",
   "id": "6221321f",
   "metadata": {},
   "source": [
    "The same operations can be done using variables. We can first define two variables _a_ and _b_ and then use them in in the following cells"
   ]
  },
  {
   "cell_type": "code",
   "execution_count": null,
   "id": "8cd8e8b4",
   "metadata": {},
   "outputs": [],
   "source": [
    "a = 12\n",
    "b = 3\n",
    "a + b"
   ]
  },
  {
   "cell_type": "markdown",
   "id": "55fb687b",
   "metadata": {},
   "source": [
    "This is not a very effective way of working because the result of the operation is not available to the rest of the code after the cell has been executed. Typically, we want to create new variables and than write the result using the _print_ command."
   ]
  },
  {
   "cell_type": "code",
   "execution_count": null,
   "id": "aa0a0776",
   "metadata": {},
   "outputs": [],
   "source": [
    "a = 10\n",
    "b = 20\n",
    "c = a + b\n",
    "print(\"Result :\",c)"
   ]
  },
  {
   "cell_type": "markdown",
   "id": "79e78fee",
   "metadata": {},
   "source": [
    "## Python as a scientific calculator\n",
    "Not all scientific operators are directly available in Python, but they can be accessed through optional packages that are loaded at the beginning of your notebook, _e.g._ **NumPy**.\n",
    "NumPy is one of the most commonly used Python libraries, it contains all the operators for square root, logarithm, exponential, the trigonometric function, a suite of constants and much more. \n",
    "For more information see [https://numpy.org](https://numpy.org).\n",
    "\n",
    "In the examples below we show how to use NumPy to access some of these functions.\n",
    "* Note that we access the NumPy function through using the _np_ prefix because of the way we imported the NumPy library at the beginning of this notebook."
   ]
  },
  {
   "cell_type": "code",
   "execution_count": null,
   "id": "77dd7348",
   "metadata": {},
   "outputs": [],
   "source": [
    "print(\"The approximate value of pi is                     :\",np.pi)\n",
    "print(\"The approximate value of the Euler constant (e) is :\",np.e)\n",
    "print(\"The square root of two is                          :\",np.sqrt(2))\n",
    "print(\"The natural logarithm of two is                    :\",np.log(2))\n",
    "print(\"The logarithm base 10 of two is                    :\",np.log10(2))\n",
    "print(\"The sine of pi is                                  :\",np.sin(np.pi))\n",
    "print(\"The cosine of pi is                                :\",np.cos(np.pi))"
   ]
  },
  {
   "cell_type": "markdown",
   "id": "2650074e",
   "metadata": {},
   "source": [
    "## Lists\n",
    "Even more useful than variables are lists and arrays, which allow us to store many values in one place. lists can be created by hand or be the output of other Python functions.\n",
    "They can contain numbers, strings or other variables, or mixed types"
   ]
  },
  {
   "cell_type": "code",
   "execution_count": null,
   "id": "271dc38f",
   "metadata": {},
   "outputs": [],
   "source": [
    "listOfNumbers = [300, 2, 3.2]\n",
    "print(\"One dimensional list of numbers :\",listOfNumbers)\n",
    "listOfStrings = [\"Temperature\" , \"Pressure\" , \"Volume\"]\n",
    "print(\"One dimensional list of strings :\",listOfStrings)\n",
    "mixedString = [\"temperature\" , 300]\n",
    "print(\"The mixed list is               :\",mixedString)"
   ]
  },
  {
   "cell_type": "markdown",
   "id": "588b11d0",
   "metadata": {},
   "source": [
    "## Slicing a list (or an array)\n",
    "We can easily access one (or more) of the elements of the list, by specifying their location in the list.\n",
    "* Note that Python starts counting from zero!"
   ]
  },
  {
   "cell_type": "code",
   "execution_count": null,
   "id": "0fced018",
   "metadata": {},
   "outputs": [],
   "source": [
    "print(\"Second element of the list of numbers :\",listOfNumbers[1])\n",
    "print(\"Second element of the list of strings :\",listOfStrings[1])"
   ]
  },
  {
   "cell_type": "markdown",
   "id": "dfa3c533",
   "metadata": {},
   "source": [
    "Note that in python the first index is included while the second isn't. So if we want the last to elements of the list we can use"
   ]
  },
  {
   "cell_type": "code",
   "execution_count": null,
   "id": "fdab97fa",
   "metadata": {},
   "outputs": [],
   "source": [
    "print(\"Last two elements of the list of numbers :\",listOfNumbers[1:3])"
   ]
  },
  {
   "cell_type": "markdown",
   "id": "06dca493",
   "metadata": {},
   "source": [
    "or provide the indices counting from the end of list"
   ]
  },
  {
   "cell_type": "code",
   "execution_count": null,
   "id": "2a666f19",
   "metadata": {},
   "outputs": [],
   "source": [
    "print(\"Last two elements of the list of numbers :\",listOfNumbers[-2:])"
   ]
  },
  {
   "cell_type": "markdown",
   "id": "054d2eae",
   "metadata": {},
   "source": [
    "## For loops\n",
    "We can also construct loops to cycle over the elements of the list.\n",
    "If we are interested in cycling over one list only we can use the **in** operator.\n",
    "* It's important to note here that the indentation of the code determines where the loop finished"
   ]
  },
  {
   "cell_type": "code",
   "execution_count": null,
   "id": "8bccd512",
   "metadata": {},
   "outputs": [],
   "source": [
    "for value in listOfNumbers:\n",
    "    print(\"--- This is inside the loop ----\",value)\n",
    "print(\"--- This is outside the loop ---\")"
   ]
  },
  {
   "cell_type": "markdown",
   "id": "5e8937cc",
   "metadata": {},
   "source": [
    "Alternatively we can create a loop over the indices of the list using the **range** iterator.\n",
    "* Note the use of the function **len** to compute the size of the list!\n",
    "* Note that the upper limit of the **range** iterator is not included!"
   ]
  },
  {
   "cell_type": "code",
   "execution_count": null,
   "id": "0f911987",
   "metadata": {},
   "outputs": [],
   "source": [
    "numberOfElements = len(listOfNumbers)\n",
    "print(\"Number of elements :\",numberOfElements)\n",
    "for index in range(0,numberOfElements):\n",
    "    print(index,                   # index\n",
    "          listOfStrings[index],    # string\n",
    "          listOfNumbers[index])    # number"
   ]
  },
  {
   "cell_type": "markdown",
   "id": "38307344",
   "metadata": {},
   "source": [
    "**range** is a special thing of python 3, and it produces a list of indices only when part of a loop. This is at variance with the NumPy **arange** function, which instead will produce an list that we can use normally.\n",
    "Both the **range** and **arange** function typically take three arguments, the lower limit of the range (included) the upper limit of the range (not included) and the step. The main difference is that **range** being an iterator works only with integer numbers, while **arange** can also work with floating point numbers. \n",
    "If the step is omitted, one is assumed.\n",
    "Let's have a look at a couple of examples."
   ]
  },
  {
   "cell_type": "code",
   "execution_count": null,
   "id": "85c09ecb",
   "metadata": {},
   "outputs": [],
   "source": [
    "for i in range(0,4):\n",
    "    print(i)"
   ]
  },
  {
   "cell_type": "code",
   "execution_count": null,
   "id": "ed8b92dc",
   "metadata": {},
   "outputs": [],
   "source": [
    "for i in range(0,4,2):\n",
    "    print(i)"
   ]
  },
  {
   "cell_type": "code",
   "execution_count": null,
   "id": "22e61897",
   "metadata": {},
   "outputs": [],
   "source": [
    "for i in np.arange(0,4,2):\n",
    "    print(i)"
   ]
  },
  {
   "cell_type": "code",
   "execution_count": null,
   "id": "8fa02594",
   "metadata": {},
   "outputs": [],
   "source": [
    "for i in np.arange(0,4,0.5):\n",
    "    print(i)"
   ]
  },
  {
   "cell_type": "markdown",
   "id": "41a66a9c",
   "metadata": {},
   "source": [
    "## Arrays _vs_ lists"
   ]
  },
  {
   "cell_type": "markdown",
   "id": "1dd69d0c",
   "metadata": {},
   "source": [
    "We can use the **range** iterator and the **np.arange** function to generate lists and arrays of equally spaced values. While this is straightforward with the NumPy function, it is more complicated with **range** iterator, and we need to _recast_ the output into a list."
   ]
  },
  {
   "cell_type": "code",
   "execution_count": null,
   "id": "7d8c235a",
   "metadata": {},
   "outputs": [],
   "source": [
    "# Values0 is an array\n",
    "values0 = np.arange(0,5,2)\n",
    "print(values0)\n",
    "\n",
    "# Values1 is a list\n",
    "values1 = list(range(0,5,2))\n",
    "print(values1)"
   ]
  },
  {
   "cell_type": "markdown",
   "id": "4a303666",
   "metadata": {},
   "source": [
    "Although the outputs look similar the variable type is different"
   ]
  },
  {
   "cell_type": "code",
   "execution_count": null,
   "id": "742f0459",
   "metadata": {},
   "outputs": [],
   "source": [
    "print(type(values0),type(values1))\n",
    "print(type(values0[0]),type(values1[0]))"
   ]
  },
  {
   "cell_type": "markdown",
   "id": "739d3748",
   "metadata": {},
   "source": [
    "and while vector operations are allowed for numpy arrays, the same is not true for a list. This means that the first command below is allowed while the second isn't. \n",
    "\n",
    "```python\n",
    "print(12.34 * values0)\n",
    "print(12.34 * values1)\n",
    "```\n",
    "\n",
    "```\n",
    "---------------------------------------------------------------------------\n",
    "TypeError                                 Traceback (most recent call last)\n",
    "Cell In[29], line 6\n",
    "      4     return x*12.34\n",
    "      5 print(12.34 * values0)\n",
    "----> 6 print(12.34 * values1)\n",
    "\n",
    "TypeError: can't multiply sequence by non-int of type 'float'\n",
    "```\n",
    "\n",
    "It is therefore advisable to store any numerical quantities in NumPy arrays, or to\n",
    "always transform a list into a NumPy array before using it for mathematical operations or as an argument of a function. \n",
    "\n",
    "Moreover, while multiplying a list by a real number gives an error, multiplying a list by an integer will just double its content."
   ]
  },
  {
   "cell_type": "code",
   "execution_count": null,
   "id": "78f601b8",
   "metadata": {},
   "outputs": [],
   "source": [
    "print(12.34 * values0)\n",
    "print(12.34 * np.array(values1))\n",
    "newList = list(12.34 * np.array(values1))\n",
    "print(newList)\n",
    "print(2*newList)"
   ]
  },
  {
   "cell_type": "markdown",
   "id": "bde3cc17",
   "metadata": {},
   "source": [
    "Note that you can add (subtract, multiply, or divide) two arrays, element by element, as if they were variables. The same is not possible with lists."
   ]
  },
  {
   "cell_type": "code",
   "execution_count": null,
   "id": "63f742f7",
   "metadata": {},
   "outputs": [],
   "source": [
    "a = np.array([1.1,2.2,3.3])\n",
    "b = np.array([4.4,5.5,6.6])\n",
    "print(\"+\",a+b)\n",
    "print(\"-\",b-a)\n",
    "print(\"*\",b*a)\n",
    "print(\"/\",a/b)"
   ]
  },
  {
   "cell_type": "markdown",
   "id": "8730e667",
   "metadata": {},
   "source": [
    "## Use of variables, lists and loops\n",
    "As an illustrative example of using lists and variables we can now compute the sum and average of all the elements in an list of numbers. In order to do that we initialise a variable to zero, and progressively sum the list elements to it.\n",
    "* Note how we can increment the value of the variable using the += operator. These two commands are equivalent\n",
    "* Note we also used a different formatted printing command\n",
    "```python\n",
    "summ += value\n",
    "summ = summ + value\n",
    "```\n",
    "Those two line are also equivalent to the following, where we use a temporary variable, to explicitly show what the code does\n",
    "```python\n",
    "tmp = summ + value\n",
    "summ = tmp\n",
    "```\n",
    "The operators -=, \\*= and /= have analogous meanings."
   ]
  },
  {
   "cell_type": "code",
   "execution_count": null,
   "id": "2252b3ef",
   "metadata": {},
   "outputs": [],
   "source": [
    "summ = 0.\n",
    "print(\"The initial value of summ is {}\",(summ))\n",
    "for i in range(0,len(listOfNumbers)):\n",
    "    value = listOfNumbers[i]\n",
    "    summ += value \n",
    "    print(\"Iteration {}, list element {}, value of summ {}\".format(i+1,value,summ))\n",
    "print(\"The final value of summ is {}\".format(summ))\n",
    "average = summ / len(listOfNumbers)\n",
    "print(\"The averge is {}\".format(average))"
   ]
  },
  {
   "cell_type": "markdown",
   "id": "3b6c066a",
   "metadata": {},
   "source": [
    "The average can then be computed directly inside the print statement."
   ]
  },
  {
   "cell_type": "code",
   "execution_count": null,
   "id": "94cd4cd9",
   "metadata": {},
   "outputs": [],
   "source": [
    "print(\"Average :\",summ/len(listOfNumbers))"
   ]
  },
  {
   "cell_type": "code",
   "execution_count": null,
   "id": "30138a69",
   "metadata": {},
   "outputs": [],
   "source": [
    "# transforms listOfNumbers into an array internally to perform array-like operations on\n",
    "tally = np.sum(listOfNumbers)\n",
    "average = np.mean(listOfNumbers)\n",
    "\n",
    "print(\"Sum :\",tally)\n",
    "print(\"Average :\",average)"
   ]
  },
  {
   "cell_type": "markdown",
   "id": "7926c492",
   "metadata": {},
   "source": [
    "## Conditionals\n",
    "It is often useful to write statements that \"fork\" the code execution depending on come condition, typically the value of a variable.\n",
    "The python syntax for this is\n",
    "```python\n",
    "if first condition:\n",
    "    ...\n",
    "elif second condition:\n",
    "    ...\n",
    "else:\n",
    "    ...\n",
    "```\n",
    "for example"
   ]
  },
  {
   "cell_type": "code",
   "execution_count": null,
   "id": "4da7b94f",
   "metadata": {},
   "outputs": [],
   "source": [
    "for i in range(0,len(listOfNumbers)):\n",
    "    value = listOfNumbers[i]\n",
    "    if value > 100:\n",
    "        print(\"Element #{} is greater than 100 ({})\".format(i,value))\n",
    "    else:\n",
    "        print(\"Element #{} is smaller than 100 ({})\".format(i,value))"
   ]
  },
  {
   "cell_type": "markdown",
   "id": "333bd2a0",
   "metadata": {},
   "source": [
    "Note that the conditions are evaluated in order, and the first one that is ```True``` causes the code to exit the conditional statement"
   ]
  },
  {
   "cell_type": "code",
   "execution_count": null,
   "id": "23d61ca6",
   "metadata": {
    "scrolled": true
   },
   "outputs": [],
   "source": [
    "for i in range(0,len(listOfNumbers)):\n",
    "    value = listOfNumbers[i]\n",
    "    if value > 2.1:\n",
    "        print(\"First condition is true ({})\".format(value))\n",
    "    elif value > 100:\n",
    "        print(\"Second condition is true ({})\".format(i,value))\n",
    "    else:\n",
    "        print(\"Third condition is ({})\".format(i,value))"
   ]
  },
  {
   "cell_type": "markdown",
   "id": "9c269142",
   "metadata": {},
   "source": [
    "## Dictionaries\n",
    "Python also has another class of data, called dictionaries, which shares many similarities with lists. The main difference is that dictionaries are not \"ordered\" which means that any loop over their elements may produce different outputs after any execution.\n",
    "Each entry of a dictionary is defined by its label, and it can be of any kind, string, number, list, array, function..."
   ]
  },
  {
   "cell_type": "code",
   "execution_count": null,
   "id": "12f6c619",
   "metadata": {},
   "outputs": [],
   "source": [
    "student = {\n",
    "    \"Name\" : \"John\",\n",
    "    \"Age\"  : \"23\",\n",
    "    \"Mark\" : 60\n",
    "}\n",
    "\n",
    "print(student)\n",
    "print(\"Student's name: {}\".format(student[\"Name\"]))"
   ]
  },
  {
   "cell_type": "code",
   "execution_count": null,
   "id": "46675a3d",
   "metadata": {},
   "outputs": [],
   "source": [
    "students = {\n",
    "    \"Names\" : [\"John\",\"Zak\",\"Ashlee\",\"Zoe\"],\n",
    "    \"Ages\" : [23,34,21,25],\n",
    "    \"Marks\" : [60,43,87,71]\n",
    "}\n",
    "print(students)\n",
    "print(\"Students' ages {}\".format(students['Ages']))\n",
    "print(\"Average mark {}\".format(np.average(students['Marks'])))"
   ]
  },
  {
   "cell_type": "code",
   "execution_count": null,
   "id": "77d694af",
   "metadata": {},
   "outputs": [],
   "source": [
    "wrongDictionary={12,32,34,78,91}\n",
    "print(wrongDictionary)\n",
    "for i in wrongDictionary:\n",
    "    print(i)"
   ]
  },
  {
   "cell_type": "markdown",
   "id": "6e2ed965",
   "metadata": {},
   "source": [
    "## Functions\n",
    "Functions can  be used to perform (complicated) operations on the input variables, and return a result that can be stored in a variable where the function was called. \n",
    "\n",
    "The function below illustrates how to define a function that computes the sum of two numbers\n",
    "```python\n",
    "def sumAB(a,b):\n",
    "    total = a + b\n",
    "    return total\n",
    "\n",
    "a = 10\n",
    "b = 21\n",
    "c = sumAB(a,b)\n",
    "print(c)\n",
    "```"
   ]
  },
  {
   "cell_type": "code",
   "execution_count": null,
   "id": "9055202c",
   "metadata": {},
   "outputs": [],
   "source": [
    "def sumAB(a,b):\n",
    "    total = a + b\n",
    "    return total\n",
    "\n",
    "a = 10\n",
    "b = 21\n",
    "c = sumAB(a,b)\n",
    "print(c)"
   ]
  },
  {
   "cell_type": "markdown",
   "id": "1b10d4d3",
   "metadata": {},
   "source": [
    "Functions can take different variable type as input, and the returned value is automatically adjusted to match the input type (at least for the simple functions that will be used in this unit).\n",
    "\n",
    "The code below illustrated how to define a simple function, which evaluates a mathematical expression, a parabola. \n",
    "```python\n",
    "def parabola(x,a,b,c):\n",
    "    y = a*x**2 + b*x +c\n",
    "    return y\n",
    "\n",
    "a = 2.5\n",
    "b = -0.1\n",
    "c = .128\n",
    "\n",
    "# Evaluate the parabola on one point\n",
    "xValue = 1\n",
    "yValue = parabola(xValue,a,b,c)\n",
    "print(xValue,yValue)\n",
    "print(\"---\")\n",
    "\n",
    "# Evaluate the parabala on an array of points\n",
    "xArray = np.arange(0,5,0.1)\n",
    "yArray = parabola(xArray,a,b,c)\n",
    "print(xArray)\n",
    "print(yArray)\n",
    "```\n",
    "where _x_, _a_, _b_ and _c_ are input parameters and y is the result of the function. \n",
    "In this case _a_, _b_ and _c_ are numbers, while _x_ could be a number or an array."
   ]
  },
  {
   "cell_type": "code",
   "execution_count": null,
   "id": "2fe4fd27",
   "metadata": {},
   "outputs": [],
   "source": [
    "def parabola(x,a,b,c):\n",
    "    y = a*x**2 + b*x +c\n",
    "    return y\n",
    "\n",
    "a = 2.5\n",
    "b = -0.1\n",
    "c = .128\n",
    "\n",
    "# Evaluate the parabola on one point\n",
    "xValue = 1\n",
    "yValue = parabola(xValue,a,b,c)\n",
    "print(xValue,yValue)\n",
    "print(\"---\")\n",
    "\n",
    "# Evaluate the parabala on an array of points\n",
    "xArray = np.arange(0,5,0.1)\n",
    "yArray = parabola(xArray,a,b,c)\n",
    "print(xArray)\n",
    "print(yArray)"
   ]
  },
  {
   "cell_type": "markdown",
   "id": "731e07c1",
   "metadata": {},
   "source": [
    "## Making a plot\n",
    "Let's now make a graph with these data using the **mathplotlib** library. \n",
    "As a start we can make a plot of the entire DataFrame.\n",
    "\n",
    "The **subplots** function creates two objects, the _figure_ and the _axes_ of the figure itself.\n",
    "Each of those objects contain functions that we can use to customise the final plot. More in another tutorial."
   ]
  },
  {
   "cell_type": "code",
   "execution_count": null,
   "id": "ac4817e1",
   "metadata": {},
   "outputs": [],
   "source": [
    "# Create the figure and axes objects\n",
    "fig , ax = plt.subplots()\n",
    "\n",
    "# Add the data to the plot from the DataFrame as circles\n",
    "ax.scatter(xArray,yArray,label=\"circles\")\n",
    "\n",
    "# Add the data to the plot from the DataFrame as line\n",
    "ax.plot(xArray,yArray,label=\"line\")\n",
    "\n",
    "# Let's add the labels to the axes\n",
    "ax.set(xlabel=\"x\")\n",
    "ax.set(ylabel=\"y\")\n",
    "\n",
    "# Let's add the legend\n",
    "plt.legend()\n",
    "\n",
    "# Let's add a title to the plot\n",
    "plt.title(\"Parabola\")\n",
    "plt.show()"
   ]
  },
  {
   "cell_type": "markdown",
   "id": "1e3392d3",
   "metadata": {},
   "source": [
    "## DataFrames - Creating a DataFrame for the Ideal Gas\n",
    "Dataframes are powerful objects that are part of the _pandas_ package. The most simplistic description of a DataFrame is that it is a multi-dimension mixed list. Dataframes are more than that, as they also include functions that operate on the DataFrame content.\n",
    "This definition of DataFrames would probably horrify a Python programmer, but it would suffice for the purpose of this course.\n",
    "\n",
    "Dataframes can be defined by hand, or created by other functions, _e.g._ by reading a Comma Separated Values file (.csv). Let's see first how we can create a an empty DataFrame, with three columns named \"Temperature\", \"Volume\" and \"Pressure\"; with their units."
   ]
  },
  {
   "cell_type": "code",
   "execution_count": null,
   "id": "b4eedd80",
   "metadata": {},
   "outputs": [],
   "source": [
    "# This list is used to define the names of the columns\n",
    "header = [\"Temperature (K)\" , \"Volume (L)\" , \"Pressure (bar)\"] \n",
    "\n",
    "# This is our new dataframe\n",
    "df = pd.DataFrame(data=None, columns=header)\n",
    "print(df)"
   ]
  },
  {
   "cell_type": "markdown",
   "id": "7f0c9da2",
   "metadata": {},
   "source": [
    "Let's now create the DataFrame using the ideal gas law\n",
    "\n",
    "\\begin{equation}\n",
    "pV = nRT\n",
    "\\end{equation}\n",
    "\n",
    "where $p$ is the pressure, $V$ the volume, $T$ the temperature and $R=8.314\\ J/mol/K$ is the ideal gas constant, each expressed with the units specified in the header of the DataFrame.\n",
    "\n",
    "Let's compute the volume of an ideal gas at different pressures and temperatures.\n",
    "\n",
    "For simplicity we fix the number of moles to 1. Note:\n",
    "* we use the **range** function to create an list of integers and the NumPy **arange** function to create a an list of _floating point numbers_.\n",
    "* The variable _index_ is used to count the number of elements that we already have in the DataFrame, and to add the next one. This works because Python starts counting from zero.\n",
    "* we used the **loc** function to add an list to the DataFrame at a specific position.\n",
    "* we also created an list to store all the temperatures we generate, the list is created empty using **= []** and then we append elements to it using the **.append()** function\n",
    "* we defined a function to evaluate the ideal gas law"
   ]
  },
  {
   "cell_type": "code",
   "execution_count": null,
   "id": "1fce2ada",
   "metadata": {},
   "outputs": [],
   "source": [
    "# function to compute the volume of an ideal gas give its temperature and pressure \n",
    "R = 8.314 # Ideal gas constant in J/mol/K\n",
    "n = 1     # Number of moles\n",
    "conversionFactor = 0.01 # Conversion factor between J/bar to litre\n",
    "\n",
    "def idealVolume(T,p):\n",
    "    return( n * R * T / p) * conversionFactor      \n",
    "\n",
    "listOfTemperatures = []\n",
    "for T in range(100,301,50):\n",
    "    listOfTemperatures.append(T)\n",
    "    \n",
    "    for p in np.arange(0.1,1,0.02):\n",
    "        V = idealVolume(T,p)\n",
    "        index = len(df.index)\n",
    "        df.loc[index]  = [T , V , p] # a list is added to the DataFrame as a new line\n",
    "        \n",
    "print(df)"
   ]
  },
  {
   "cell_type": "markdown",
   "id": "bbb07f28",
   "metadata": {},
   "source": [
    "An alternative way to create DataFrames is to create individual lists for the columns and they put them in the DataFrame."
   ]
  },
  {
   "cell_type": "code",
   "execution_count": null,
   "id": "91295336",
   "metadata": {},
   "outputs": [],
   "source": [
    "# This list is used to define the names of the columns\n",
    "header = [\"Temperature (K)\" , \"Volume (L)\" , \"Pressure (bar)\"] \n",
    "\n",
    "# This is our new dataframe\n",
    "df2 = pd.DataFrame(data=None, columns=header)\n",
    "\n",
    "arrayOfTemperatures = np.linspace(100,300,5)\n",
    "arrayOfpressures = np.arange(0.1,1,0.02)\n",
    "\n",
    "for T in arrayOfTemperatures:\n",
    "    volume = idealVolume(T,arrayOfpressures)\n",
    "    df_local = pd.DataFrame({\n",
    "        \"Temperature (K)\" : T,\n",
    "        \"Volume (L)\"      : volume,\n",
    "        \"Pressure (bar)\"  : arrayOfpressures\n",
    "    })\n",
    "    df2 = pd.concat([df2,df_local])\n",
    "    \n",
    "print(df2)"
   ]
  },
  {
   "cell_type": "markdown",
   "id": "e3186e53",
   "metadata": {},
   "source": [
    "## Slicing a DataFrame\n",
    "There are many ways to access the data in a DataFrame. Here we'll show you two; one to quickly get an entire column of the list, and one to get selected chunks of data using the **iloc** function."
   ]
  },
  {
   "cell_type": "code",
   "execution_count": null,
   "id": "73b9de31",
   "metadata": {},
   "outputs": [],
   "source": [
    "print(df[\"Temperature (K)\"])"
   ]
  },
  {
   "cell_type": "markdown",
   "id": "607c3039",
   "metadata": {},
   "source": [
    "For the DataFrame that we have, the **iloc** function takes two arguments, the row and columns indices."
   ]
  },
  {
   "cell_type": "code",
   "execution_count": null,
   "id": "98ec4640",
   "metadata": {},
   "outputs": [],
   "source": [
    "print(df.iloc[0,1])"
   ]
  },
  {
   "cell_type": "markdown",
   "id": "32b410c3",
   "metadata": {},
   "source": [
    "We can then use \"**:**\" to specify a range of elements that we want to use.\n",
    "* Note that the lower limit of the range is included while the upper limit is not !\n",
    "* Note that if one limit of the range is missing, the start/end of the list is assumed\n",
    "* Note how we have used **.values** to cast the output data in an list."
   ]
  },
  {
   "cell_type": "code",
   "execution_count": null,
   "id": "3954e25c",
   "metadata": {},
   "outputs": [],
   "source": [
    "# these return numpy arrays\n",
    "print(df.iloc[0:3 , 1  ].values) # the first three volumes\n",
    "print(df.iloc[0   , 0:3].values) # the first row\n",
    "print(df.iloc[0   ,  : ].values) # the first row\n",
    "print(df.iloc[0   , 1: ].values) # the last two elements of the first row\n",
    "print(df.iloc[0   ,  :2].values) # the first two elements of the first row"
   ]
  },
  {
   "cell_type": "markdown",
   "id": "3292d930",
   "metadata": {},
   "source": [
    "We can also select the rows that correspond to \"conditions\" on the content of the DataFrame, for example, we can select the data corresponding to a given temperature or pressure range"
   ]
  },
  {
   "cell_type": "code",
   "execution_count": null,
   "id": "199b1fa0",
   "metadata": {
    "editable": true,
    "slideshow": {
     "slide_type": ""
    },
    "tags": []
   },
   "outputs": [],
   "source": [
    "df_sliced = df[ (df[\"Temperature (K)\"]<150) & (df[\"Pressure (bar)\"]>0.9) ]\n",
    "print(df_sliced) "
   ]
  },
  {
   "cell_type": "markdown",
   "id": "db893668",
   "metadata": {},
   "source": [
    "We can also easily convert the values in a DataFrame column to a NumPy array"
   ]
  },
  {
   "cell_type": "code",
   "execution_count": null,
   "id": "1e58dff2",
   "metadata": {},
   "outputs": [],
   "source": [
    "print(type(df[\"Temperature (K)\"]))\n",
    "array = df[\"Temperature (K)\"].values\n",
    "print(type(array))"
   ]
  },
  {
   "cell_type": "markdown",
   "id": "a18acbdb",
   "metadata": {},
   "source": [
    "Let's now do some data manipulation to make a better plot, using a line for each isotherm.\n",
    "There are many ways of doing this, but here we'll take an educational approach and use _conditional_ statements to select parts of the DataFrame, add them to lists and plot them.\n",
    "\n",
    "What we are going to do is to choose a temperature, _e.g._ 100K, and create two lists (p,v) with the corresponding pressures and volumes, than we will use them for plotting.\n",
    "* Note that we used the **scatter** and **plot** functions to plot the data as circles with a line overlaid.\n",
    "* Note that we set the **set** function for to add the labels to the axes (_ax_)"
   ]
  },
  {
   "cell_type": "code",
   "execution_count": null,
   "id": "82af9a2d",
   "metadata": {},
   "outputs": [],
   "source": [
    "T=100\n",
    "pressure = []\n",
    "volume = []\n",
    "for index in range(0,len(df.index)):\n",
    "    if df.iloc[index,0] == T:\n",
    "        pressure.append(df.iloc[index,2])\n",
    "        volume.append(df.iloc[index,1])\n",
    "\n",
    "print(\"Pressure list :\",pressure[0:3],\"...\")\n",
    "print(\"Volume list :\",volume[0:3],\"...\")\n",
    "\n",
    "fig , ax = plt.subplots()\n",
    "ax.scatter(pressure , volume)\n",
    "ax.plot(pressure , volume)\n",
    "\n",
    "# Let's add the labels to the axes\n",
    "ax.set(xlabel=\"Pressure (bar)\")\n",
    "ax.set(ylabel=\"Volume (L)\")\n",
    "\n",
    "# Prevent a warning\n",
    "plt.show()"
   ]
  },
  {
   "cell_type": "markdown",
   "id": "f617e226",
   "metadata": {},
   "source": [
    "If we want then to plot all isotherm in one graph we can wrap the code above in a loop over all the temperatures we have created. \n",
    "\n",
    "* Note the indentation of the **for** loops and **if** conditional statement.\n",
    "* Note how in this example we select portions of the DataFrame including a conditional statement in **[]** when we call the DataFrame\n",
    "* Note that we used **.values** to transform the DataFrame into an array"
   ]
  },
  {
   "cell_type": "code",
   "execution_count": null,
   "id": "243d5968",
   "metadata": {},
   "outputs": [],
   "source": [
    "# First we have to create the figure\n",
    "fig , ax = plt.subplots()\n",
    "for T in listOfTemperatures:\n",
    "    pressure = df[df[\"Temperature (K)\"] == T][\"Pressure (bar)\"]\n",
    "    volume = df[df[\"Temperature (K)\"] == T][\"Volume (L)\"]\n",
    "\n",
    "    # add one line to the plot for each temperature\n",
    "    ax.plot(pressure , volume, label=T)\n",
    "\n",
    "# Let's add the labels to the axes\n",
    "ax.set(xlabel=\"Pressure (bar)\")\n",
    "ax.set(ylabel=\"Volume (L)\")\n",
    "\n",
    "# Let's also add the legend\n",
    "ax.legend()\n",
    "\n",
    "# The nex line will the figure to a file whn uncommented\n",
    "# plt.savefig(\"figure.png\")\n",
    "plt.show()"
   ]
  }
 ],
 "metadata": {
  "kernelspec": {
   "display_name": "Python 3 (ipykernel)",
   "language": "python",
   "name": "python3"
  },
  "language_info": {
   "codemirror_mode": {
    "name": "ipython",
    "version": 3
   },
   "file_extension": ".py",
   "mimetype": "text/x-python",
   "name": "python",
   "nbconvert_exporter": "python",
   "pygments_lexer": "ipython3",
   "version": "3.11.7"
  },
  "vscode": {
   "interpreter": {
    "hash": "e535d220b488de5ea91b9cc2b59c2f114a95afd4d79a4d51c41214c2f625fe35"
   }
  }
 },
 "nbformat": 4,
 "nbformat_minor": 5
}
