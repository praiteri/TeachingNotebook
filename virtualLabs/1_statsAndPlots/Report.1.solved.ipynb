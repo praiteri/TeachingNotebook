{
 "cells": [
  {
   "cell_type": "code",
   "execution_count": null,
   "id": "e3583421",
   "metadata": {
    "editable": true,
    "slideshow": {
     "slide_type": ""
    },
    "tags": []
   },
   "outputs": [],
   "source": [
    "import cekComputerLabs as cek"
   ]
  },
  {
   "cell_type": "markdown",
   "id": "9da83ddc",
   "metadata": {},
   "source": [
    "# Report for numerical lab #1\n",
    "## Student Name: _______________\n",
    "## Student ID: _______________"
   ]
  },
  {
   "cell_type": "code",
   "execution_count": null,
   "id": "49fb3e30",
   "metadata": {},
   "outputs": [],
   "source": [
    "# Import the required python packages here\n",
    "import pandas as pd                  # Dataframes and reading CSV files\n",
    "import numpy as np                   # Numerical libraries\n",
    "import matplotlib.pyplot as plt      # Plotting library\n",
    "from lmfit import Model              # Curve fitting library\n",
    "from scipy import stats\n",
    "from sklearn.metrics import r2_score # function to compute the R^2 score\n",
    "from IPython.display import Image"
   ]
  },
  {
   "cell_type": "code",
   "execution_count": null,
   "id": "b356445a-e51e-4e3e-8e38-eef9a6d4fca3",
   "metadata": {},
   "outputs": [],
   "source": [
    "# This is a code cell where you can write your python working e.g.\n",
    "myVariable = 123.456\n",
    "print(\"the value of myVariable is {:.2f}\".format(myVariable))"
   ]
  },
  {
   "cell_type": "markdown",
   "id": "713fb75c-7417-4fa8-8845-f17d7897bffc",
   "metadata": {},
   "source": [
    "This is a Markdown cell where you can write any text"
   ]
  },
  {
   "cell_type": "markdown",
   "id": "c1cd7d9f-bc98-4d21-85ee-676339d783a6",
   "metadata": {},
   "source": [
    "# Task 0 - plot a function\n",
    "## Create a python function to evaluate this equation\n",
    "\\begin{equation}\n",
    "y = \\frac{(2x-1)}{3x}\n",
    "\\end{equation}"
   ]
  },
  {
   "cell_type": "code",
   "execution_count": null,
   "id": "446876d2-e149-4344-bb88-d79c1f35cbb3",
   "metadata": {},
   "outputs": [],
   "source": [
    "def myFunction(x):\n",
    "    return (2*x-1)/3/x\n",
    "\n",
    "# It is always good to debug your code and make sure it gives the correct output,\n",
    "# e.g. you can print the value of the function at a couple of points and compare \n",
    "# with what you get from your calculator\n",
    "#\n",
    "# print(\"f(2) = {}\".format( myFunction(2) ))\n",
    "# print(\"f(6) = {}\".format( myFunction(6) ))"
   ]
  },
  {
   "cell_type": "markdown",
   "id": "1fa39cc8-138b-40bc-a23f-8c7f7b93d1d8",
   "metadata": {},
   "source": [
    "## Plot the function in the range [1:10], include some labels on the axes."
   ]
  },
  {
   "cell_type": "code",
   "execution_count": null,
   "id": "6d1d24cd-c710-4e25-b9c1-a4647cfbac37",
   "metadata": {},
   "outputs": [],
   "source": [
    "# Generate an array of points between 1 and 10 with 0.1 spacing\n",
    "x=np.arange(1,10,0.1)\n",
    "\n",
    "# Evaluate the function at those points\n",
    "y=myFunction(x)\n",
    "\n",
    "# Make a figure\n",
    "fig,ax = plt.subplots()\n",
    "\n",
    "# Add axes labels\n",
    "ax.set(xlabel=\"X\") \n",
    "ax.set(ylabel=\"Y\")\n",
    "\n",
    "# plot the data\n",
    "ax.plot(x,y,label=\"myData\")\n",
    "\n",
    "# Show the legend and the figure\n",
    "plt.legend()\n",
    "plt.show()"
   ]
  },
  {
   "cell_type": "markdown",
   "id": "19a7a2ec-09c5-401e-8dec-b90978035823",
   "metadata": {
    "jp-MarkdownHeadingCollapsed": true
   },
   "source": [
    "## Add a caption to the figure here\n",
    "\n",
    "**figure 0:** caption to my first figure"
   ]
  },
  {
   "cell_type": "markdown",
   "id": "42447a6c",
   "metadata": {},
   "source": [
    "# Task 1 - Average and Confidence Interval\n",
    "\n",
    "## Generate a data set using the *average and confidence interval* option in the *virtual laboratory* notebook; choose the number of points and set a unique file name. Briefly describe the file content, i.e. the size of each data set.\n",
    "\n",
    "You can use python to write the values of some variables or you can insert a Markdown cell and write some text, like you would do in Word. Add as many *code* or *Markdown* cell as you need.\n"
   ]
  },
  {
   "cell_type": "code",
   "execution_count": null,
   "id": "30c9dda6",
   "metadata": {},
   "outputs": [],
   "source": [
    "# your python code here to import the data in the files\n",
    "data1 = pd.read_csv(\"../../miscData/results1.csv\")\n",
    "print(\"The data sets contains {} data points, labelled '{}' and '{}'.\".format(len(data1),*data1.columns))\n",
    "print(data1)"
   ]
  },
  {
   "cell_type": "markdown",
   "id": "6189c7ad",
   "metadata": {},
   "source": [
    "## Compute the average, standard deviation, and standard error of the values in the \"X\" and \"Y\" columns."
   ]
  },
  {
   "cell_type": "code",
   "execution_count": null,
   "id": "768cb2c0",
   "metadata": {},
   "outputs": [],
   "source": [
    "# your python code here to compute the average, standard deviation and confidence interval\n",
    "avgX = np.mean(data1[\"X\"])\n",
    "avgY = np.mean(data1[\"Y\"])\n",
    "stdevX = np.std(data1[\"X\"])\n",
    "stdevY = np.std(data1[\"Y\"])\n",
    "sterrX = stdevX / np.sqrt(len(data1))\n",
    "sterrY = stdevY / np.sqrt(len(data1))\n",
    "\n",
    "print(\"The average of the 'X' column is {:.2f}\".format(avgX))\n",
    "print(\"The average of the 'Y' column is {:.2f}\".format(avgY))\n",
    "print(\"The standard deviation of the data in the 'X' column is {:.2f}\".format(stdevX))\n",
    "print(\"The standard deviation of the data in the 'Y' column is {:.2f}\".format(stdevY))\n",
    "print(\"The standard error of the data in the 'X' column is {:.2f}\".format(sterrX))\n",
    "print(\"The standard error of the data in the 'Y' column is {:.2f}\".format(sterrY))"
   ]
  },
  {
   "cell_type": "markdown",
   "id": "c04a8c8b",
   "metadata": {
    "editable": true,
    "slideshow": {
     "slide_type": ""
    },
    "tags": []
   },
   "source": [
    "## Compute the 95% confidence interval"
   ]
  },
  {
   "cell_type": "code",
   "execution_count": null,
   "id": "1ff994d4",
   "metadata": {},
   "outputs": [],
   "source": [
    "# Extract the t value from scipy for a two tailed distribution\n",
    "ndf=len(data1)-1\n",
    "tvalue = stats.t.ppf(q=1-.05/2,df=ndf)\n",
    "print(\"The t value for a 95% confidence interval with {} degrees of freedom is {}\".format(ndf,tvalue))\n",
    "\n",
    "CIX = tvalue * sterrX\n",
    "CIY = tvalue * sterrY\n",
    "print(\"The value of X is {:.1f} +/- {:.1f}\".format(avgX,CIX))\n",
    "\n",
    "x = round(avgY,-1)\n",
    "e = round(CIY,-1)\n",
    "print(\"The value of Y is {:.0f} +/- {:.0f}\".format(x,e))"
   ]
  },
  {
   "cell_type": "markdown",
   "id": "a5ef7bdb",
   "metadata": {},
   "source": [
    "## Perform the student's t-test to compare your results with the expected literature values, X=1.2 and Y=100."
   ]
  },
  {
   "cell_type": "code",
   "execution_count": null,
   "id": "30cdbc09",
   "metadata": {},
   "outputs": [],
   "source": [
    "expX = 1.2\n",
    "expY = 100\n",
    "TtestX = (avgX - expX)/sterrX\n",
    "TtestY = (avgY - expY)/sterrY\n",
    "\n",
    "if TtestX >= -tvalue and TtestX <= tvalue:\n",
    "    print(\"The measured value of X ({:.4f}) is inconsitent with a literature value of {:.4f}\\n\".format(avgX,expX))\n",
    "else:\n",
    "    print(\"The measured value of X ({:.4f}) is consitent with a literature value of {:.4f}\\n\".format(avgX,expX))\n",
    "\n",
    "if TtestY >= -tvalue and TtestY <= tvalue:\n",
    "    print(\"The measured value of Y ({:.4f}) is inconsitent with a literature value of {:.4f}\\n\".format(avgY,expY))\n",
    "else:\n",
    "    print(\"The measured value of Y ({:.4f}) is consitent with a literature value of {:.4f}\\n\".format(avgY,expY))\n"
   ]
  },
  {
   "cell_type": "markdown",
   "id": "f840f43d",
   "metadata": {},
   "source": [
    "# Task 2 - Error propagation\n",
    "\n",
    "## Generate a data set using the *error propagation* option; choose the number of points and set unique a file name. Briefly describe the file content, i.e. the size of each data set."
   ]
  },
  {
   "cell_type": "code",
   "execution_count": null,
   "id": "efc6046f",
   "metadata": {},
   "outputs": [],
   "source": [
    "data2 = pd.read_csv(\"../../miscData/results2.csv\")\n",
    "print(\"The data sets contains {} data points, labelled '{}' and '{}'.\".format(len(data2),*data2.columns))\n",
    "print(data2)"
   ]
  },
  {
   "cell_type": "markdown",
   "id": "811dea21",
   "metadata": {},
   "source": [
    "## Compute the 95% confidence interval for the values in the \"X\" and \"Y\" columns"
   ]
  },
  {
   "cell_type": "code",
   "execution_count": null,
   "id": "8c4ba1f3",
   "metadata": {},
   "outputs": [],
   "source": [
    "# We can also create a function to compute the average and standard error of a list/array\n",
    "# Note that the function returns a list with two values\n",
    "def computeCI(x):\n",
    "    n = len(x)\n",
    "    avg = np.mean(x)\n",
    "    std = np.std(x)\n",
    "    ste = std / np.sqrt(n)\n",
    "    t = stats.t.ppf(q=1-.05/2,df=n-1)\n",
    "    return [avg, ste*t]\n",
    "\n",
    "# We can use a dictionary and a loop to store the average and StdErr for X and Y\n",
    "res ={}\n",
    "for col in [\"X\",\"Y\"]:\n",
    "    res[col] = computeCI(data2[col])\n",
    "    print(\"The value of {} is {:.2f} +/- {:.2f}\".format(col,*res[col]))"
   ]
  },
  {
   "cell_type": "markdown",
   "id": "cf2ff9be",
   "metadata": {},
   "source": [
    "## Compute the natural logarithm of \"Y\" and its uncertainty. Report the error propagation formula that you have used.\n",
    "\n",
    "The progagation of uncertainty for a generic logarithmic function of the form\n",
    "\\begin{equation}\n",
    "f = a\\ln(bX) \n",
    "\\end{equation}\n",
    "where $a$ and $b$ are constants with no uncertainty is\n",
    "\\begin{equation}\n",
    "\\sigma_f = \\Bigg| a \\frac{\\sigma_X}{X} \\Bigg|\n",
    "\\end{equation}\n",
    "where $\\sigma$ indicates the uncertainty of the corresponding quantity."
   ]
  },
  {
   "cell_type": "code",
   "execution_count": null,
   "id": "299889b5",
   "metadata": {},
   "outputs": [],
   "source": [
    "val = np.log(res[\"X\"][0])\n",
    "err = res[\"X\"][1] / val\n",
    "print(\"The value of lnY is {:.2f} +/- {:.2f}\".format(val,err))"
   ]
  },
  {
   "cell_type": "markdown",
   "id": "0e68d2a2",
   "metadata": {},
   "source": [
    "## Compute the sum of the two quantities and its uncertainty. Report the error propagation formula that you have used.\n",
    "\n",
    "The progagation of uncertainty for the sum of two independent quantities, $X$ and $Y$, with uncertainties is\n",
    "\\begin{equation}\n",
    "f = aX + bY \n",
    "\\end{equation}\n",
    "where $a$ and $b$ are constants with no uncertainty is\n",
    "\\begin{equation}\n",
    "\\sigma_f = \\sqrt{a^2\\sigma_X^2 + b^2\\sigma_Y^2}\n",
    "\\end{equation}\n",
    "where $\\sigma$ indicates the uncertainty of the corresponding quantity.\n"
   ]
  },
  {
   "cell_type": "code",
   "execution_count": null,
   "id": "b1cb1d5a",
   "metadata": {},
   "outputs": [],
   "source": [
    "val = res[\"X\"][0] + res[\"Y\"][0]\n",
    "err = np.sqrt(res[\"X\"][1]**2 + res[\"Y\"][1]**2)\n",
    "print(\"The value of X+Y is {:.1f} +/- {:.1f}\".format(val,err))"
   ]
  },
  {
   "cell_type": "markdown",
   "id": "e189ffaf",
   "metadata": {
    "editable": true,
    "slideshow": {
     "slide_type": ""
    },
    "tags": []
   },
   "source": [
    "# Task 3 - Linear Fit\n",
    "\n",
    "## Generate a data set and describe the file content."
   ]
  },
  {
   "cell_type": "code",
   "execution_count": null,
   "id": "2fa4a436",
   "metadata": {},
   "outputs": [],
   "source": [
    "data3 = pd.read_csv(\"../../miscData/results3.csv\")\n",
    "print(\"The data sets contains {} data points, labelled '{}' and '{}'.\".format(len(data3),*data3.columns))\n",
    "print(data3)"
   ]
  },
  {
   "cell_type": "markdown",
   "id": "9268d25d",
   "metadata": {},
   "source": [
    "## Plot the data."
   ]
  },
  {
   "cell_type": "code",
   "execution_count": null,
   "id": "e6f0fabd",
   "metadata": {},
   "outputs": [],
   "source": [
    "fig,ax = plt.subplots()\n",
    "ax.scatter(data3[\"c\"],data3[\"A\"])\n",
    "ax.set(xlabel=\"c\")\n",
    "ax.set(ylabel=\"A\")\n",
    "plt.show()"
   ]
  },
  {
   "cell_type": "markdown",
   "id": "86f85790",
   "metadata": {},
   "source": [
    "## Fit the data with a line and include a caption below the figure. Report the equation that you used for the fit."
   ]
  },
  {
   "cell_type": "markdown",
   "id": "18cface9",
   "metadata": {},
   "source": [
    "The data have been fitted with the following equation\n",
    "\\begin{equation}\n",
    "y = ax + b\n",
    "\\end{equation}"
   ]
  },
  {
   "cell_type": "code",
   "execution_count": null,
   "id": "d38e3480",
   "metadata": {},
   "outputs": [],
   "source": [
    "# For clarity we put the values in the dataframe into variables\n",
    "x = data3[\"c\"]\n",
    "y = data3[\"A\"]\n",
    "\n",
    "# Define the function to be used in the fitting\n",
    "def func(x,a,b):\n",
    "    y = a*x + b\n",
    "    return y\n",
    "\n",
    "# Create the lmfit model\n",
    "lmodel = Model(func)\n",
    "\n",
    "# Initialise the function parameters to be optimised\n",
    "params = lmodel.make_params(a=1,b=1)\n",
    "\n",
    "# Fit the data:\n",
    "#   first argument is y\n",
    "#   second argument are the fitting parameters\n",
    "#   third argument is x\n",
    "result = lmodel.fit(y,params,x=x)\n",
    "\n",
    "# Print the summary of the result\n",
    "print(result.fit_report())\n",
    "\n",
    "# Goodness of the fit\n",
    "fig = result.plot()\n",
    "ax = fig.gca()\n",
    "ax.set(xlabel=\"c\")\n",
    "ax.set(ylabel=\"A\")\n",
    "plt.show()"
   ]
  },
  {
   "cell_type": "markdown",
   "id": "e38b6864",
   "metadata": {},
   "source": [
    "**Figure 1.** Plot of the data and best fitting line (bottom). The top panel shows the plot of the residuals."
   ]
  },
  {
   "cell_type": "code",
   "execution_count": null,
   "id": "28ee42f9",
   "metadata": {},
   "outputs": [],
   "source": [
    "print(\"The best value of a is {:.5f} +/- {:.5f}\".format(result.params[\"a\"].value , result.params[\"a\"].stderr*1.960))\n",
    "print(\"The best value of b is {:.4f} +/- {:.4f}\".format(result.params[\"b\"].value , result.params[\"b\"].stderr*1.960))"
   ]
  },
  {
   "cell_type": "markdown",
   "id": "ff412748-d788-439b-aecb-13ed9db489c9",
   "metadata": {
    "editable": true,
    "slideshow": {
     "slide_type": ""
    },
    "tags": []
   },
   "source": [
    "# Task 4 - Partial fit\n",
    "\n",
    "## Generate a data set using the *partial fit* option; choose the number of points and set unique a file name. Briefly describe the file content, i.e. the size of each data set."
   ]
  },
  {
   "cell_type": "code",
   "execution_count": null,
   "id": "96e3f534-5777-45e1-8282-e0b01332f42a",
   "metadata": {
    "editable": true,
    "slideshow": {
     "slide_type": ""
    },
    "tags": []
   },
   "outputs": [],
   "source": [
    "data4 = pd.read_csv(\"../../miscData/results4.csv\")\n",
    "print(\"The data sets contains {} data points, labelled '{}' and '{}'.\".format(len(data4),*data4.columns))\n",
    "print(data4)"
   ]
  },
  {
   "cell_type": "code",
   "execution_count": null,
   "id": "ae7e80b6-6520-431e-bf8c-a3d3b701f5a5",
   "metadata": {},
   "outputs": [],
   "source": [
    "fig,ax = plt.subplots()\n",
    "ax.scatter(data4[\"X\"],data4[\"Y\"])\n",
    "ax.set(xlabel=data4.columns[0])\n",
    "ax.set(ylabel=data4.columns[1])\n",
    "plt.show()"
   ]
  },
  {
   "cell_type": "markdown",
   "id": "3aceced6-b6d2-4ff4-a868-bf0cb0b9d7c3",
   "metadata": {},
   "source": [
    "**Figure 2.** Plot of the data from result4.csv."
   ]
  },
  {
   "cell_type": "markdown",
   "id": "7c320b7e-9896-4088-8457-556bea23fe86",
   "metadata": {},
   "source": [
    "## Fit the data points that have $x<50$ and $y>-4$ using a straight line. Report the value of the fitting parameters."
   ]
  },
  {
   "cell_type": "markdown",
   "id": "6d5449da-6018-4e60-b9e4-10225be21cf3",
   "metadata": {},
   "source": [
    "The data have been fitted with the following equation\n",
    "\\begin{equation}\n",
    "y = mx + q\n",
    "\\end{equation}"
   ]
  },
  {
   "cell_type": "code",
   "execution_count": null,
   "id": "91f3d842-eada-4ba4-a6a2-7002e7d46efc",
   "metadata": {},
   "outputs": [],
   "source": [
    "# For clarity we put the values in the dataframe into variables\n",
    "df = data4[ (data4[\"X\"]<50) & (data4[\"Y\"]>-4) ]\n",
    "x = df[\"X\"]\n",
    "y = df[\"Y\"]\n",
    "\n",
    "# Define the function to be used in the fitting\n",
    "def func(x,m,q):\n",
    "    y = m*x + q\n",
    "    return y\n",
    "\n",
    "# Create the lmfit model\n",
    "lmodel = Model(func)\n",
    "\n",
    "# Initialise the function parameters to be optimised\n",
    "params = lmodel.make_params(m=1,q=1)\n",
    "\n",
    "# Fit the data:\n",
    "#   first argument is y\n",
    "#   second argument are the fitting parameters\n",
    "#   third argument is x\n",
    "result = lmodel.fit(y,params,x=x)\n",
    "\n",
    "print(\"The best value of m is {:.3f} +/- {:.3f}\".format(result.params[\"m\"].value , result.params[\"q\"].stderr*1.960))\n",
    "print(\"The best value of q is {:.1f} +/- {:.1f}\".format(result.params[\"q\"].value , result.params[\"m\"].stderr*1.960))"
   ]
  },
  {
   "cell_type": "markdown",
   "id": "1f918887-8318-457b-8c43-de0154644bb2",
   "metadata": {},
   "source": [
    "## Plot the entire dataset and the best fitting line, extrapolated to the entire rage of data. Include a caption to the figure.\n",
    "You can find how to *slice* a DataFrame in the introductionToPython notebook."
   ]
  },
  {
   "cell_type": "code",
   "execution_count": null,
   "id": "b62e9efc-642e-410c-9e13-4e64ba6a2829",
   "metadata": {
    "editable": true,
    "slideshow": {
     "slide_type": ""
    },
    "tags": []
   },
   "outputs": [],
   "source": [
    "fitLine = func(data4[\"X\"],result.params[\"m\"],result.params[\"q\"])\n",
    "\n",
    "fig,ax = plt.subplots()\n",
    "ax.scatter(data4[\"X\"],data4[\"Y\"])\n",
    "ax.plot(data4[\"X\"],fitLine)\n",
    "ax.set(xlabel=data4.columns[0])\n",
    "ax.set(ylabel=data4.columns[1])\n",
    "\n",
    "ax.set_ylim([-10,0])\n",
    "plt.show()"
   ]
  },
  {
   "cell_type": "markdown",
   "id": "90287ec9-30c2-4f0f-ba4a-5da5f7175859",
   "metadata": {},
   "source": [
    "**Figure 3.** Plot of the data from result4.csv and the line of best fit for the points with $x<50$ and $y>-4$."
   ]
  },
  {
   "cell_type": "markdown",
   "id": "36c18274-073d-4b86-8083-811dc3ab5b2e",
   "metadata": {
    "editable": true,
    "slideshow": {
     "slide_type": ""
    },
    "tags": []
   },
   "source": [
    "# Task 5- Fit data from multiple files\n",
    "\n",
    "## Generate three (3) data set using different number of points and describe the file content of the files."
   ]
  },
  {
   "cell_type": "code",
   "execution_count": null,
   "id": "9c959720-a594-400e-9839-212827d949d9",
   "metadata": {},
   "outputs": [],
   "source": [
    "listOfFiles = [\n",
    "    \"../../miscData/results5_1.csv\",\n",
    "    \"../../miscData/results5_2.csv\",\n",
    "    \"../../miscData/results5_3.csv\"\n",
    "]\n",
    "numberOfFiles = len(listOfFiles)\n",
    "\n",
    "allData = []\n",
    "for f in listOfFiles:\n",
    "    dd = pd.read_csv(f)\n",
    "    print(\"The data sets in file {} contains {} data points, labelled '{}' and '{}'.\".format(f,len(dd),*dd.columns))\n",
    "    allData.append(dd)"
   ]
  },
  {
   "cell_type": "markdown",
   "id": "1c855904-62e1-48cb-9c9e-5ceb96ead982",
   "metadata": {},
   "source": [
    "## Fit the three data sets using a line"
   ]
  },
  {
   "cell_type": "markdown",
   "id": "cabffa7a-f105-4575-ab91-43dbcea3a87e",
   "metadata": {
    "editable": true,
    "slideshow": {
     "slide_type": ""
    },
    "tags": []
   },
   "source": [
    "The data have been fitted with the following equation\n",
    "\\begin{equation}\n",
    "y = ax + b\n",
    "\\end{equation}"
   ]
  },
  {
   "cell_type": "code",
   "execution_count": null,
   "id": "aac4720e-4e94-43b0-8690-e45a930ca72e",
   "metadata": {
    "editable": true,
    "slideshow": {
     "slide_type": ""
    },
    "tags": []
   },
   "outputs": [],
   "source": [
    "def func(x,a,b):\n",
    "    y = a*x + b\n",
    "    return y\n",
    "\n",
    "# Create the lmfit model\n",
    "lmodel = Model(func)\n",
    "\n",
    "# Initialise the function parameters to be optimised\n",
    "params = lmodel.make_params(a=1,b=1)\n",
    "\n",
    "# Fit the data:\n",
    "#   first argument is y\n",
    "#   second argument are the fitting parameters\n",
    "#   third argument is x\n",
    "result = []\n",
    "\n",
    "for i in range(numberOfFiles):\n",
    "    data = allData[i]\n",
    "    x = data[\"X\"]\n",
    "    y = data[\"Y\"]\n",
    "    rr = lmodel.fit(y,params,x=x)\n",
    "    result.append(rr)\n",
    "\n",
    "    # print(\"File = {}\".format(listOfFiles[i]))\n",
    "    # print(\"  The best value of a is {:.1f} +/- {:.1f}\".format(rr.params[\"a\"].value , rr.params[\"a\"].stderr*1.960))\n",
    "    # print(\"  The best value of b is {:.0f} +/- {:.0f}\".format(rr.params[\"b\"].value , rr.params[\"b\"].stderr*1.960))"
   ]
  },
  {
   "cell_type": "markdown",
   "id": "82c415c7-26d8-44ce-9c7e-2b52ea98ccef",
   "metadata": {},
   "source": [
    "## Report the best fitting parameters in a table\n",
    "\n",
    "You can generate the Markdown code for a table using this website:\n",
    "\n",
    "https://www.tablesgenerator.com/markdown_tables"
   ]
  },
  {
   "cell_type": "markdown",
   "id": "1994491b-a902-4745-8d65-517a0bf74377",
   "metadata": {},
   "source": [
    "|            | a               | b        |\n",
    "|:----------:|:---------------:|:--------:|\n",
    "| results5_1 | 9.2 +/- 0.4     | -2 +/- 2 |\n",
    "| results5_2 | 9.7 +/- 0.2     | 1 +/- 2  |\n",
    "| results5_3 | 11.9 +/- 0.2    | -1 +/- 1 |"
   ]
  },
  {
   "cell_type": "markdown",
   "id": "21be21ed-a863-49ab-a483-e71ac8667677",
   "metadata": {},
   "source": [
    "## Plot the data and their respective best fitting lines"
   ]
  },
  {
   "cell_type": "code",
   "execution_count": null,
   "id": "8e2d5ace-6eba-47f8-98ae-19365cc131b7",
   "metadata": {
    "editable": true,
    "slideshow": {
     "slide_type": ""
    },
    "tags": []
   },
   "outputs": [],
   "source": [
    "fig,ax = plt.subplots()\n",
    "\n",
    "for i in range(numberOfFiles):\n",
    "    data = allData[i]\n",
    "    fitLine = func(data[\"X\"],result[i].params[\"a\"],result[i].params[\"b\"])\n",
    "\n",
    "    ax.scatter(data[\"X\"],data[\"Y\"],label=listOfFiles[i])\n",
    "    ax.plot(data[\"X\"],fitLine)\n",
    "ax.set(xlabel=data.columns[0])\n",
    "ax.set(ylabel=data.columns[1])\n",
    "\n",
    "plt.legend()\n",
    "plt.show()"
   ]
  },
  {
   "cell_type": "markdown",
   "id": "017dcb40-242d-440e-9fae-42b8ff89d8d0",
   "metadata": {
    "editable": true,
    "slideshow": {
     "slide_type": ""
    },
    "tags": []
   },
   "source": [
    "# Task 6 - Exponential *vs* linear fit\n",
    "\n",
    "The data represent rate constants for a certain reaction, which have been measured at different temperatures, and they obey the Arrhenius equation.\n",
    "\n",
    "\\begin{equation}\n",
    "k_r = A e^{-E_a/RT}\n",
    "\\end{equation}\n",
    "\n",
    "where $A$ is the frequency factor and $E_a$ is the activation energy.\n",
    "\n",
    "## Generate a data set and describe the file content, *e.g.* the number of points and the temperature range of the experiments."
   ]
  },
  {
   "cell_type": "code",
   "execution_count": null,
   "id": "16c28504-81be-49ef-92a7-a804a68e1927",
   "metadata": {},
   "outputs": [],
   "source": [
    "data6 = pd.read_csv(\"../../miscData/results6.csv\")\n",
    "# print(data6)\n",
    "print(\"The rate constant has been measured 30 times in the temperature range {}-{} K\".format(\n",
    "    round(np.min(data6[\"T\"],0)),round(np.max(data6[\"T\"],0))))"
   ]
  },
  {
   "cell_type": "markdown",
   "id": "80b5b6be-98f8-4e2d-a26d-34305d80174b",
   "metadata": {
    "editable": true,
    "slideshow": {
     "slide_type": ""
    },
    "tags": []
   },
   "source": [
    "## Compute the frequency factor and the activation energy doing a non-linear fit of the data. Report the best fitting parameters, plot the data with the fitting curve and the residues."
   ]
  },
  {
   "cell_type": "code",
   "execution_count": null,
   "id": "6d81ddd4-6b1a-47b1-aab7-f6e6a96b68c6",
   "metadata": {
    "editable": true,
    "slideshow": {
     "slide_type": ""
    },
    "tags": []
   },
   "outputs": [],
   "source": [
    "def exp(x,a1=1e12,b1=1):\n",
    "    R = 8.134 # J/(mol K)\n",
    "    return a1*np.exp(-b1/(R*x))\n",
    "\n",
    "lmodel1 = Model(exp)\n",
    "params1 = lmodel1.make_params()\n",
    "result1 = lmodel1.fit(data6[\"kr\"],params1,x=data6[\"T\"])\n",
    "print(\"  The best value of the frequency factor is {:.1g} +/- {:.1g} Hz\".format(\n",
    "    result1.params[\"a1\"].value, result1.params[\"a1\"].stderr*1.960))\n",
    "print(\"  The best value of the activation energy is {:.0f} +/- {:.0f} J/mol\".format(\n",
    "    round(result1.params[\"b1\"].value,-4) , round(result1.params[\"b1\"].stderr*1.960,-4)))\n",
    "\n",
    "fig = result1.plot()\n",
    "ax = fig.gca()\n",
    "ax.set(xlabel=\"T\")\n",
    "ax.set(ylabel=\"kr\")\n",
    "plt.show()"
   ]
  },
  {
   "cell_type": "markdown",
   "id": "16862c15-880d-44c9-8d0a-0a3d9ca61ca2",
   "metadata": {
    "editable": true,
    "slideshow": {
     "slide_type": ""
    },
    "tags": []
   },
   "source": [
    "## Use the linearised form of the Arrhenius equation and do a linear fit to compute the frequency factor and the activation energy. Report the best fitting parameters, plot the data with the fitting curve and the residues.\n",
    "\\begin{equation}\n",
    "\\ln k_r = \\ln A -\\frac{E_a}{RT}\n",
    "\\end{equation}"
   ]
  },
  {
   "cell_type": "code",
   "execution_count": null,
   "id": "2a317ae6-ff7a-4bd8-825a-08e84b90ab9a",
   "metadata": {
    "editable": true,
    "slideshow": {
     "slide_type": ""
    },
    "tags": []
   },
   "outputs": [],
   "source": [
    "def line(x,a2=1,b2=1):\n",
    "    return a2 + b2*x\n",
    "\n",
    "lmodel2 = Model(line)\n",
    "params2 = lmodel2.make_params()\n",
    "y = np.log(data6[\"kr\"])\n",
    "x = 1./data6[\"T\"]\n",
    "result2 = lmodel2.fit(y,params2,x=x)\n",
    "\n",
    "a2 =  result2.params[\"a2\"].value\n",
    "a2Err = result2.params[\"a2\"].stderr*1.960\n",
    "b2 =  result2.params[\"b2\"].value\n",
    "b2Err = result2.params[\"b2\"].stderr*1.960\n",
    "\n",
    "FF = np.exp(a2)\n",
    "FF_error = np.abs(FF * a2Err)\n",
    "\n",
    "R = 8.314\n",
    "Ea = -b2 * R\n",
    "Ea_error = R * b2Err\n",
    "print(\"  The best value of the frequency factor is {:.1g} +/- {:.1g} Hz\".format(FF, FF_error))\n",
    "print(\"  The best value of the activation energy is {:.0f} +/- {:.0f} J/mol\".format(\n",
    "    round(Ea,-3),round(Ea_error,-3)))\n",
    "\n",
    "fig = result2.plot()\n",
    "ax = fig.gca()\n",
    "ax.set(xlabel=\"1/T\")\n",
    "ax.set(ylabel=\"ln(kr)\")\n",
    "plt.show()"
   ]
  },
  {
   "cell_type": "markdown",
   "id": "88517850-bc2f-4a53-86db-a67c0fd27609",
   "metadata": {
    "editable": true,
    "slideshow": {
     "slide_type": ""
    },
    "tags": []
   },
   "source": [
    "## Comment on the accuracy of the exponential and linaer fits and the errors on the fitting parameters."
   ]
  }
 ],
 "metadata": {
  "kernelspec": {
   "display_name": "Python 3 (ipykernel)",
   "language": "python",
   "name": "python3"
  },
  "language_info": {
   "codemirror_mode": {
    "name": "ipython",
    "version": 3
   },
   "file_extension": ".py",
   "mimetype": "text/x-python",
   "name": "python",
   "nbconvert_exporter": "python",
   "pygments_lexer": "ipython3",
   "version": "3.11.7"
  }
 },
 "nbformat": 4,
 "nbformat_minor": 5
}
