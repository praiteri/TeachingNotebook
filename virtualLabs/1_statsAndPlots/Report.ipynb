{
 "cells": [
  {
   "cell_type": "code",
   "execution_count": null,
   "id": "e3583421",
   "metadata": {
    "editable": true,
    "slideshow": {
     "slide_type": ""
    },
    "tags": []
   },
   "outputs": [],
   "source": [
    "import cekComputerLabs as cek"
   ]
  },
  {
   "cell_type": "markdown",
   "id": "9da83ddc",
   "metadata": {},
   "source": [
    "# Report for numerical lab #1\n",
    "## Student Name: _______________\n",
    "## Student ID: _______________"
   ]
  },
  {
   "cell_type": "code",
   "execution_count": null,
   "id": "49fb3e30",
   "metadata": {},
   "outputs": [],
   "source": [
    "# Import the required python packages here\n",
    "import pandas as pd                  # Dataframes and reading CSV files\n",
    "import numpy as np                   # Numerical libraries\n",
    "import matplotlib.pyplot as plt      # Plotting library\n",
    "from lmfit import Model              # Curve fitting library\n",
    "from scipy import stats\n",
    "from sklearn.metrics import r2_score # function to compute the R^2 score\n",
    "from IPython.display import Image"
   ]
  },
  {
   "cell_type": "code",
   "execution_count": null,
   "id": "30c9dda6",
   "metadata": {},
   "outputs": [],
   "source": [
    "# This is a code cell where you can write your python working e.g.\n",
    "myVariable = 123.456\n",
    "print(\"the value of myVariable is {:.2f}\".format(myVariable))"
   ]
  },
  {
   "cell_type": "markdown",
   "id": "b7f924c8",
   "metadata": {},
   "source": [
    "This is a Markdown cell where you can write any text"
   ]
  },
  {
   "cell_type": "markdown",
   "id": "5a6d619d-5faf-4f48-a419-ae5b46bd7fe3",
   "metadata": {},
   "source": [
    "# Task 0 - plot a function\n",
    "## Create a python function to evaluate this equation\n",
    "\\begin{equation}\n",
    "y = \\frac{(2x-1)}{3x}\n",
    "\\end{equation}"
   ]
  },
  {
   "cell_type": "markdown",
   "id": "b9890009-e8e2-4aaa-a24f-f92375f04df7",
   "metadata": {},
   "source": [
    "## Plot the function in the range [1:10], include some labels on the axes."
   ]
  },
  {
   "cell_type": "markdown",
   "id": "2b65f931-d701-46e2-b096-9d5a09ada67e",
   "metadata": {},
   "source": [
    "## Add a caption to the figure here\n",
    "\n",
    "**figure 0:** caption to my first figure"
   ]
  },
  {
   "cell_type": "markdown",
   "id": "42447a6c",
   "metadata": {},
   "source": [
    "# Task 1 - Average and Confidence Interval\n",
    "\n",
    "## Generate a data set using the *average and confidence interval* option in the *virtual laboratory* notebook; choose the number of points and set a unique file name. Briefly describe the file content, i.e. the size of each data set.\n",
    "\n",
    "You can use python to write the values of some variables or you can insert a Markdown cell and write some text, like you would do in Word. Add as many *code* or *Markdown* cell as you need.\n"
   ]
  },
  {
   "cell_type": "markdown",
   "id": "6189c7ad",
   "metadata": {},
   "source": [
    "## Compute the average, standard deviation, and standard error of the values in the \"X\" and \"Y\" columns."
   ]
  },
  {
   "cell_type": "markdown",
   "id": "c04a8c8b",
   "metadata": {
    "editable": true,
    "slideshow": {
     "slide_type": ""
    },
    "tags": []
   },
   "source": [
    "## Compute the 95% confidence interval"
   ]
  },
  {
   "cell_type": "markdown",
   "id": "a5ef7bdb",
   "metadata": {},
   "source": [
    "## Perform the student's t-test to compare your results with the expected literature values, X=1.2 and Y=100."
   ]
  },
  {
   "cell_type": "markdown",
   "id": "f840f43d",
   "metadata": {},
   "source": [
    "# Task 2 - Error propagation\n",
    "\n",
    "## Generate a data set using the *error propagation* option; choose the number of points and set unique a file name. Briefly describe the file content, i.e. the size of each data set."
   ]
  },
  {
   "cell_type": "markdown",
   "id": "811dea21",
   "metadata": {},
   "source": [
    "## Compute the 95% confidence interval for the values in the \"X\" and \"Y\" columns"
   ]
  },
  {
   "cell_type": "markdown",
   "id": "cf2ff9be",
   "metadata": {},
   "source": [
    "## Compute the natural logarithm of \"Y\" and its uncertainty. Report the error propagation formula that you have used."
   ]
  },
  {
   "cell_type": "markdown",
   "id": "0e68d2a2",
   "metadata": {},
   "source": [
    "## Compute the sum of the two quantities and its uncertainty. Report the error propagation formula that you have used."
   ]
  },
  {
   "cell_type": "markdown",
   "id": "e189ffaf",
   "metadata": {
    "editable": true,
    "slideshow": {
     "slide_type": ""
    },
    "tags": []
   },
   "source": [
    "# Task 3 - Linear Fit\n",
    "\n",
    "## Generate a data set and describe the file content."
   ]
  },
  {
   "cell_type": "markdown",
   "id": "9268d25d",
   "metadata": {},
   "source": [
    "## Plot the data."
   ]
  },
  {
   "cell_type": "markdown",
   "id": "86f85790",
   "metadata": {},
   "source": [
    "## Fit the data with a line. Report the equation that you used for the fit. Make a figure with caption of the fitting. "
   ]
  },
  {
   "cell_type": "markdown",
   "id": "e38b6864",
   "metadata": {},
   "source": [
    "**Figure 1.** ..."
   ]
  },
  {
   "cell_type": "markdown",
   "id": "ff412748-d788-439b-aecb-13ed9db489c9",
   "metadata": {
    "editable": true,
    "slideshow": {
     "slide_type": ""
    },
    "tags": []
   },
   "source": [
    "# Task 4 - Partial fit\n",
    "\n",
    "## Generate a data set using the *partial fit* option; choose the number of points and set unique a file name. Briefly describe the file content, i.e. the size of each data set."
   ]
  },
  {
   "cell_type": "markdown",
   "id": "7c320b7e-9896-4088-8457-556bea23fe86",
   "metadata": {},
   "source": [
    "## Fit the data points that have $x<50$ and $y>-4$ using a straight line. Report the value of the fitting parameters."
   ]
  },
  {
   "cell_type": "markdown",
   "id": "1f918887-8318-457b-8c43-de0154644bb2",
   "metadata": {},
   "source": [
    "## Plot the entire dataset and the best fitting line, extrapolated to the entire rage of data. Include a caption to the figure.\n",
    "You can find how to *slice* a DataFrame in the introductionToPython notebook."
   ]
  },
  {
   "cell_type": "markdown",
   "id": "36c18274-073d-4b86-8083-811dc3ab5b2e",
   "metadata": {
    "editable": true,
    "slideshow": {
     "slide_type": ""
    },
    "tags": []
   },
   "source": [
    "# Task 5- Fit data from multiple files\n",
    "\n",
    "## Generate three (3) data set using different number of points and describe the file content of the files."
   ]
  },
  {
   "cell_type": "markdown",
   "id": "1c855904-62e1-48cb-9c9e-5ceb96ead982",
   "metadata": {},
   "source": [
    "## Fit the three data sets using a line"
   ]
  },
  {
   "cell_type": "markdown",
   "id": "82c415c7-26d8-44ce-9c7e-2b52ea98ccef",
   "metadata": {},
   "source": [
    "## Report the best fitting parameters in a table\n",
    "\n",
    "You can generate the Markdown code for a table using this website:\n",
    "\n",
    "https://www.tablesgenerator.com/markdown_tables"
   ]
  },
  {
   "cell_type": "markdown",
   "id": "21be21ed-a863-49ab-a483-e71ac8667677",
   "metadata": {},
   "source": [
    "## Plot the data and their respective best fitting lines"
   ]
  },
  {
   "cell_type": "markdown",
   "id": "017dcb40-242d-440e-9fae-42b8ff89d8d0",
   "metadata": {
    "editable": true,
    "slideshow": {
     "slide_type": ""
    },
    "tags": []
   },
   "source": [
    "# Task 6 - Exponential *vs* linear fit\n",
    "\n",
    "The data represent rate constants for a certain reaction, which have been measured at different temperatures, and they obey the Arrhenius equation.\n",
    "\n",
    "\\begin{equation}\n",
    "k_r = A e^{-E_a/RT}\n",
    "\\end{equation}\n",
    "\n",
    "where $A$ is the frequency factor and $E_a$ is the activation energy.\n",
    "\n",
    "## Generate a data set and describe the file content, *e.g.* the number of points and the temperature range of the experiments."
   ]
  },
  {
   "cell_type": "markdown",
   "id": "80b5b6be-98f8-4e2d-a26d-34305d80174b",
   "metadata": {
    "editable": true,
    "slideshow": {
     "slide_type": ""
    },
    "tags": []
   },
   "source": [
    "## Compute the frequency factor and the activation energy doing a non-linear fit of the data. Report the best fitting parameters, plot the data with the fitting curve and the residues."
   ]
  },
  {
   "cell_type": "markdown",
   "id": "16862c15-880d-44c9-8d0a-0a3d9ca61ca2",
   "metadata": {
    "editable": true,
    "slideshow": {
     "slide_type": ""
    },
    "tags": []
   },
   "source": [
    "## Use the linearised form of the Arrhenius equation and do a linear fit to compute the frequency factor and the activation energy. Report the best fitting parameters, plot the data with the fitting curve and the residues.\n",
    "\\begin{equation}\n",
    "\\ln k_r = \\ln A -\\frac{E_a}{RT}\n",
    "\\end{equation}"
   ]
  },
  {
   "cell_type": "markdown",
   "id": "88517850-bc2f-4a53-86db-a67c0fd27609",
   "metadata": {
    "editable": true,
    "slideshow": {
     "slide_type": ""
    },
    "tags": []
   },
   "source": [
    "## Comment on the accuracy of the exponential and linaer fits and the errors on the fitting parameters."
   ]
  }
 ],
 "metadata": {
  "kernelspec": {
   "display_name": "Python 3 (ipykernel)",
   "language": "python",
   "name": "python3"
  },
  "language_info": {
   "codemirror_mode": {
    "name": "ipython",
    "version": 3
   },
   "file_extension": ".py",
   "mimetype": "text/x-python",
   "name": "python",
   "nbconvert_exporter": "python",
   "pygments_lexer": "ipython3",
   "version": "3.11.3"
  }
 },
 "nbformat": 4,
 "nbformat_minor": 5
}
