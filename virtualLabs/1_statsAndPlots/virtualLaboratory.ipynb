{
 "cells": [
  {
   "cell_type": "code",
   "execution_count": null,
   "id": "e007fe02-75ec-4d89-9c15-9e773abe0272",
   "metadata": {},
   "outputs": [],
   "source": [
    "import cekComputerLabs as cek\n",
    "cek.checkGitRepo()"
   ]
  },
  {
   "cell_type": "markdown",
   "id": "0a4aeda7-221a-4ff4-bf0d-f48ec167e1f4",
   "metadata": {},
   "source": [
    "# Statistics report\n",
    "\n",
    "## General instructions\n",
    "If you decide to write your report using a Jupyter notebook, you can do your working directly in the *lab report* notebook.\n",
    "Alternatively, you can convert the *lab report* notebook into a MS Word document and write your report there.\n",
    "If you choose to use the Jupyter notebook for your report, when you have finished your working you can convert the notebook to a PDF, or a Word document, which can then be uploaded on Blackboard.\n",
    "Note that any code present in the notebook is not part of the assessment and it won't be exported in the PDF of Word documents.\n",
    "You have to include appropriate *print* statements in the notebook for your results to be shown in the exported documents.\n",
    "The code is not part of the assessment, only the data analysis, data presentation and answers to the questions in the *lab report* notebook will be assessed.\n",
    "\n",
    "You can use the buttons below to \n",
    "- Open the *lab report* jupyter notebook with the instructions for this lab\n",
    "- Open an notebook that you have previously created/edited\n",
    "- Open a blank notebook"
   ]
  },
  {
   "cell_type": "code",
   "execution_count": null,
   "id": "2c59aa14-dcf3-443b-858f-a303148d123f",
   "metadata": {},
   "outputs": [],
   "source": [
    "cek.openNotebook()"
   ]
  },
  {
   "cell_type": "markdown",
   "id": "492caf44-78d1-444f-ae6c-b1decd428351",
   "metadata": {},
   "source": [
    "You can use the buttons below to convert any Jupyter notebook to a PDF or Word document."
   ]
  },
  {
   "cell_type": "code",
   "execution_count": null,
   "id": "a4bc7592-15b3-41fa-b642-ba0ff884a9af",
   "metadata": {
    "slideshow": {
     "slide_type": ""
    },
    "tags": []
   },
   "outputs": [],
   "source": [
    "cek.convertNotebook()"
   ]
  },
  {
   "cell_type": "markdown",
   "id": "68081497-2eea-445c-b994-a94b8367982d",
   "metadata": {},
   "source": [
    "# Lab instructions\n",
    "In general, the numerical labs that are part of this unit will ask you to make selections from dropdown menus and/or to choose same values for the *experimental* quantities that are relevant for the lab.\n",
    "\n",
    "For example, in this first lab you have:\n",
    "- Select one of the `tasks` that are available from the drop-down menu below\n",
    "- Select the number of data points we want to collect\n",
    "- Click `Generate Data` to produce the data set\n",
    "If you are doing your data analysis in Excel, you can then\n",
    "- Click `Download CSV` to export the complete data set as a CSV file. \n",
    "\n",
    "# Notes\n",
    "- The data set is designed to include error and uncertainties of the experiments, so they contain a (variable) amount of noise\n",
    "- The data set is produced with a fixed number of digits, but like in experiments, not all of them may be significant.\n",
    "- Every time we click `Generate Data` an entirely new data set is produced"
   ]
  },
  {
   "cell_type": "code",
   "execution_count": null,
   "id": "30faa1e6-7190-466a-baff-16e14f339f98",
   "metadata": {
    "slideshow": {
     "slide_type": ""
    },
    "tags": []
   },
   "outputs": [],
   "source": [
    "cek.introLaboratory2()"
   ]
  }
 ],
 "metadata": {
  "kernelspec": {
   "display_name": "Python 3 (ipykernel)",
   "language": "python",
   "name": "python3"
  },
  "language_info": {
   "codemirror_mode": {
    "name": "ipython",
    "version": 3
   },
   "file_extension": ".py",
   "mimetype": "text/x-python",
   "name": "python",
   "nbconvert_exporter": "python",
   "pygments_lexer": "ipython3",
   "version": "3.11.6"
  }
 },
 "nbformat": 4,
 "nbformat_minor": 5
}
