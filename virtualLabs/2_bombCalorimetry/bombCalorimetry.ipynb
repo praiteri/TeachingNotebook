{
 "cells": [
  {
   "cell_type": "code",
   "execution_count": null,
   "metadata": {},
   "outputs": [],
   "source": [
    "import cekComputerLabs as cek\n",
    "cek.checkGitRepo()"
   ]
  },
  {
   "cell_type": "markdown",
   "metadata": {},
   "source": [
    "# Bomb Calorimetry\n",
    "\n",
    "### Video credit: Chris Ambidge - University of Toronto."
   ]
  },
  {
   "cell_type": "code",
   "execution_count": null,
   "metadata": {},
   "outputs": [],
   "source": [
    "from IPython.display import YouTubeVideo, Image\n",
    "# Video credit: Chris Ambidge - University of Toronto.\n",
    "YouTubeVideo('bm3Tn6DXJrI')"
   ]
  },
  {
   "cell_type": "markdown",
   "metadata": {},
   "source": [
    "## Introduction to the experiment\n",
    "\n",
    "**Calorimetry** derives from the Latin word _calor_ meaning heat, and the Greek _metry_ meaning to measure. Thus, it is the science of measuring amounts of heat. \n",
    "All calorimetric techniques are based on the measurement of heat generated or consumed by a sample, depending on whether exothermic or endothermic processes are involved.\n",
    "A calorimeter can be a simple Styrofoam cup, because it is a container with insulated walls that prevents heat exchange with the environment, or more a complicated device such as a bomb calorimeter."
   ]
  },
  {
   "cell_type": "code",
   "execution_count": null,
   "metadata": {},
   "outputs": [],
   "source": [
    "Image(filename=\"bombCalorimetry.jpeg\",width=500) "
   ]
  },
  {
   "cell_type": "markdown",
   "metadata": {},
   "source": [
    "Figure 1: Schematic representation of a bomb calorimeter (Image taken taken from chem.libretexts.org)"
   ]
  },
  {
   "cell_type": "markdown",
   "metadata": {},
   "source": [
    "In the simplest version of this experiment, in order to measure heats of reactions, we enclose the reactants in a calorimeter, allow the reaction to proceed, and measure the temperature change ($\\Delta$T). Then the heat released or adsorbed in the reaction can be calculated.\n",
    "A calorimeter may be used under constant pressure (atmospheric), or constant volume.\n",
    "Regardless of the setup, the calorimeter adsorbs some of the released heat and its heat capacity must be measured to calibrate the instrument, which is usually done just before or after the actual measurement of the heats of reaction. \n",
    "This is done by transferring a known amount of heat into the calorimeter and measuring its temperature increase. \n",
    "Because the temperature differences are often very small, sensitive thermometers are preferred for these measurements."
   ]
  },
  {
   "cell_type": "markdown",
   "metadata": {},
   "source": [
    "## Theory\n",
    "Conventionally, in thermodynamics we use two fundamental definitions: the system and the surroundings. \n",
    "The system is what is being measured, observed and investigated while the surroundings are everything else.\n",
    "An isolated system is referred to as adiabatic, which means that there is no exchange of matter or energy between the system and its surroundings. \n",
    "The energy considerations of a reaction include heat (denoted $q$), which is the energy absorbed by the system, and the work done on the system (denoted $w$).\n",
    "As heat is transferred into or out of a system this leads to a change in temperature, and the quantity of energy that causes a temperature change is determined with this equation\n",
    "\n",
    "\\begin{equation}\n",
    "q = \\sum c(T_f-T_i) \\tag{1}\n",
    "\\end{equation}\n",
    "\n",
    "Where $q$ is the heat of the process, $\\sum c$ is sum of the heat capacities of all the various components of the system, $T_f$ is the final temperature and $T_i$ is the initial temperature. Because it is difficult, if not impossible to separate the different contributions, in the following we will just use an _effective_ heat capacity of the calorimeter, $C_V = \\sum c$. \n",
    "Recalling the physical chemistry lectures, the heat capacity is the amount of heat required to raise the temperature of a substance (or of the entire calorimeter) by 1 K."
   ]
  },
  {
   "cell_type": "markdown",
   "metadata": {
    "tags": []
   },
   "source": [
    "### Obtaining an Isothermal Enthalpy\n",
    "The enthalpy of any process is the heat absorbed by the system at constant pressure.\n",
    "The enthalpy of a reaction under isothermal conditions can be determined by conducting the experiment adiabatically, and then measuring the temperature change that occurs in the reaction vessel.\n",
    "The isothermal reaction at temperature $T_i$ can be expressed as follows:\n",
    "\n",
    "\\begin{equation}\n",
    "\\mathrm{A(T_i)} + \\mathrm{B(T_i)} \\xrightarrow{\\Delta H_c} \\mathrm{C(T_i)} + \\mathrm{D(T_i)} \\tag{2}\n",
    "\\end{equation}\n",
    "\n",
    "Where $\\Delta H$ is the enthalpy of the isothermal reaction for each mole of reaction as written.\n",
    "In a calorimeter the system is insulated, and therefore no energy is lost to the surroundings.\n",
    "This is known as an adiabatic system and therefore in the calorimeter the energy of the\n",
    "reaction is used to heat the system with no loss.\n",
    "The adiabatic reaction can be expressed as follows:\n",
    "\n",
    "\\begin{equation}\n",
    "\\mathrm{A(T_i)} + \\mathrm{B(T_i)} + \\mathrm{S(T_i)}\\xrightarrow{\\Delta H_I} \\mathrm{C(T_f)} + \\mathrm{D(T_f)} + \\mathrm{S(T_f)} \\tag{3}\n",
    "\\end{equation}\n",
    "\n",
    "Where $\\Delta H_I$ is the enthalpy of the adiabatic reaction. \n",
    "A, B, C and D continue to be the reactants and products respectively and S is the parts of the system (thermometer, solvent, reaction vessel walls etc.) that maintain the same temperature as the reactants and products because of the insulated system.\n",
    "Enthalpy however is a state function, and therefore independent of the steps taken to get to the final stage. Thus, the enthalpy of the isothermal reaction will be the sum of the enthalpy of any steps that start and finish in the same state.\n",
    "Therefore in order to finish the adiabatic reaction under the same conditions as the isothermal reaction, the system merely needs to be cooled to the initial temperature.\n",
    "\n",
    "\\begin{equation}\n",
    "\\mathrm{A(T_f)} + \\mathrm{B(T_f)} + \\mathrm{S(T_f)}\\xrightarrow{\\Delta H_{II}} \\mathrm{C(T_i)} + \\mathrm{D(T_i)} + \\mathrm{S(T_i)} \\tag{4}\n",
    "\\end{equation}\n",
    "\n",
    "$\\Delta H_{I}$ and $\\Delta H_{II}$ are the enthalpies of the alternate steps taken to go from the initial stage to the final stage of the isothermal reaction, and therefore, as shown in the figure below, the enthalpy of the isothermal reaction is the sum of these two values.\n",
    "\n",
    "\\begin{equation}\n",
    "\\Delta H_c = \\Delta H_{I} + \\Delta H_{II} \\tag{5}\n",
    "\\end{equation}"
   ]
  },
  {
   "cell_type": "markdown",
   "metadata": {},
   "source": [
    "As stated previously an adiabatic reaction is a reaction contained in an isolated system, i.e. no energy (heat) is transferred out of the system. \n",
    "This means that for the first step in Figure 2, $\\mathrm{d}q$=0 and $\\Delta H=0$ adiabatic step is 0, and therefore $\\Delta H_{I}$ is also 0. \n",
    "The cooling step indicated in Figure 1 need not be performed, but rather the heat of Step II can be calculated as\n",
    "\n",
    "\\begin{equation}\n",
    "\\Delta H_{II} = C_V (T_f - T_i ) \\tag{6}\n",
    "\\end{equation}"
   ]
  },
  {
   "cell_type": "code",
   "execution_count": null,
   "metadata": {},
   "outputs": [],
   "source": [
    "Image(filename=\"Figure_1.png\",width=800) "
   ]
  },
  {
   "cell_type": "markdown",
   "metadata": {},
   "source": [
    "Figure 2. Schematic representation of the working principles of the calorimeter and key equations."
   ]
  },
  {
   "cell_type": "markdown",
   "metadata": {},
   "source": [
    "### Reaction Enthalpy Under Standard Conditions\n",
    "Just as the isothermal enthalpy can be calculated from results that take a different series of steps, the enthalpy of a reaction under standard conditions can be determined from any isothermal energy of that reaction.\n",
    "An alternative series of steps for the standard reaction to occur is: i) changing the system temperature from standard conditions to the experimental temperature, ii) proceeding with the reaction, iii) changing the temperature back to standard temperature.\n",
    "As these three steps start with the reactants under standard conditions and finish with the products under standard conditions the sum of the enthalpies of these steps is equivalent to the enthalpy of the reaction proceeding under standard conditions. This is presented as"
   ]
  },
  {
   "cell_type": "code",
   "execution_count": null,
   "metadata": {},
   "outputs": [],
   "source": [
    "Image(filename=\"Figure_2.png\",width=500) "
   ]
  },
  {
   "cell_type": "markdown",
   "metadata": {},
   "source": [
    "Figure 3. Born-Haber cycle to compute standard enthalpies."
   ]
  },
  {
   "cell_type": "markdown",
   "metadata": {},
   "source": [
    "## Bomb calorimetry, the experiment\n",
    "In this *virtual* experiment you will calibrate the calorimeter using benzoic acid and determine the enthalpy of combustion of sucrose and napthalene.\n",
    "\n",
    "An adiabatic bomb calorimeter provides a constant volume environment for the measurement of the heat of combustion of compounds. \n",
    "This corresponds to the first step in Figure 2.\n",
    "\n",
    "As mentioned before, and important step in any calorimetry experiment is to calibrate the instrument, in order to achieve that you will perform a first experiment with benzoic acid, for which you are given its enthalpy of combustion ($\\Delta H_c=-3228\\ \\mathrm{kJ/mol}$).\n",
    " \n",
    "This reaction proceeds as follows within the calorimeter:\n",
    "\n",
    "\\begin{equation}\n",
    "\\mathrm{C_6H_5COOH} + \\frac{15}{2}\\mathrm{O_2(excess)} \\xrightarrow{20\\ atm} \\mathrm{7CO_2(g)} + \\mathrm{3H_2O(l)} \\tag{8}\n",
    "\\end{equation}\n",
    "\n",
    "The process is carried out under 20 atm of excess oxygen in order to ensure complete and rapid combustion. "
   ]
  },
  {
   "cell_type": "markdown",
   "metadata": {},
   "source": [
    "These conditions are not exactly standard temperature nor pressure, and therefore the energy change measured is not the standard heat of reaction. \n",
    "Corrections would need to be made to convert to standard conditions, however the experimental uncertainty in this lab accounts for the errors introduced by the non-standard conditions.\n",
    "The change in internal energy of the system is defined in the following fashion:\n",
    "\n",
    "\\begin{equation}\n",
    "\\Delta U = dq - P\\Delta V \\tag{9}\n",
    "\\end{equation}\n",
    "\n",
    "However, because the experiment is performed a constant volume this becomes\n",
    "\n",
    "\\begin{equation}\n",
    "\\Delta U = dq_V \\tag{10}\n",
    "\\end{equation}\n",
    "\n",
    "Therefore, by using the calorimeter to measure the change in temperature you can measure the change in internal energy of the system\n",
    "\n",
    "\\begin{equation}\n",
    "\\Delta U = dq_V = C_V(T_f-T_i) \\tag{11}\n",
    "\\end{equation}\n",
    "\n",
    "Where $C_V$ is the heat capacity of the entire system at constant volume.\n",
    "Using the definition of enthalpy\n",
    "\n",
    "\\begin{equation}\n",
    "H = U + PV \\tag{12}\n",
    "\\end{equation}\n",
    "\n",
    "we can then write the combustion enthalpy change for a reaction as\n",
    "\n",
    "\\begin{equation}\n",
    "\\Delta H_c = \\Delta U + \\Delta (PV) = \\Delta U + V\\Delta P + P\\Delta V \\tag{13}\n",
    "\\end{equation}\n",
    "\n",
    "At constant volume, because $P\\Delta V=0$, this becomes\n",
    "\n",
    "\\begin{equation}\n",
    "\\Delta H_c = \\Delta U + \\Delta (nRT) \\tag{14}\n",
    "\\end{equation}\n",
    "\n",
    "where we have assumed that the gas is ideal and $V\\Delta P=\\Delta (nRT)$.\n",
    "Where $P$ is the pressure in kPa, $V$ is the volume in litres, $\\Delta n$ is the change in the number of moles of gas particles during the reaction, $R$ is the universal gas constant and $T$ is the isothermal temperature.\n",
    "\n",
    "The enthalpy of the combustion reaction in the bomb calorimeter can then be calculated using change of internal energy ($\\Delta U=C_v\\Delta T$) and from the gas stoichiometry of the equation.\n",
    "\n",
    "The enthalpy of combustion can also be determined from the formation enthapies of reactants and products\n",
    "\n",
    "\\begin{equation}\n",
    "\\Delta H_c = \\sum \\Delta H_f^{products} - \\sum \\Delta H_f^{reactants} \\tag{15} \n",
    "\\end{equation}"
   ]
  },
  {
   "cell_type": "markdown",
   "metadata": {},
   "source": [
    "### Experimental Factors\n",
    "No experimental configuration is truly adiabatic, and in this case the stirrer adds energy to the system while the thermometer and non-ideal insulation allows heat to escape from the system. These factors produce fairly linear changes in temperature before and after the reaction occurs. In order to accurately account for these effects, the temperature must be measured for a period of time before the reactants are combined and for a period of time after the reaction has proceeded. Plotting this data and recording the relative time the reactants were combined allows the change in temperature to be more accurately determined as shown in the figure below.\n"
   ]
  },
  {
   "cell_type": "code",
   "execution_count": null,
   "metadata": {},
   "outputs": [],
   "source": [
    "Image(filename=\"Figure_3.png\",width=800) "
   ]
  },
  {
   "cell_type": "markdown",
   "metadata": {},
   "source": [
    "Figure 4. Schematic representation of the change in temperature of the bomb calorimeter with time over the course of the bomb ignition."
   ]
  },
  {
   "cell_type": "markdown",
   "metadata": {},
   "source": [
    "<!-- #### Real experiment procedure \n",
    "1. Listen to the laboratory technician. The operation of the calorimeter and the powder press will be explained.\n",
    "2. \tProduce a compressed tablet of benzoic acid, using the powder-press as directed.\n",
    "3. \tAccurately weigh the tablet. Place it in the bomb cup.\n",
    "4. \tMeasure out exactly 10 cm of ignition wire, cut to length. Wind each end of the piece of wire around the ignition poles. Secure the wire as demonstrated. Record the energy of combustion of the wire.\n",
    "5. \tBend the centre of the ignition wire into the form of an inverted omega ($\\Omega$). Ensure the wire presses on the benzoic acid tablet.\n",
    "6. \tSet the ignition cup in the bomb. Seal the bomb, taking care to avoid cross-threading the bomb lid.\n",
    "7. \tConnect the bomb inlet to the oxygen cylinder. Fill the bomb with 20 atmospheres of oxygen from the cylinder. Ensure the gas inlet is connected to the proper valve.\n",
    "8.\tPlace 2.00 L of water in the calorimeter pail. The calorimeter contains an accurate water dispenser; its operation will be demonstrated.\n",
    "9. \tPlace the pail in the body of the calorimeter. Use the tongs provided to position the bomb in the pail. Ensure it is correctly seated on the plateau.\n",
    "10. \tConnect the spark leads to the bomb.\n",
    "11.\t Close the calorimeter body. Fire the bomb.\n",
    "12. \tRecord the change in temperature of the bomb.\n",
    "13. \tMake a compressed tablet of sucrose, using the powder-press.\n",
    "14. \tAccurately weigh the tablet.\n",
    "15.\tPrepare the calorimeter as before. Fire the sucrose tablet.\n",
    "16. \tRecord the change in temperature of the bomb.\n",
    "17. \tMake a compressed tablet of naphthalene.\n",
    "18.\tPrepare the calorimeter as before. Fire the naphthalene tablet.\n",
    "19. \tRecord the change in temperature of the bomb.\n",
    "20. \tRepeat for each substance. If time permits, a third repetition for each substance is advisable. -->"
   ]
  },
  {
   "cell_type": "markdown",
   "metadata": {},
   "source": [
    "## Numerical skills \n",
    "\n",
    "1. Fitting of portions of data\n",
    "2. Error analysis"
   ]
  },
  {
   "cell_type": "markdown",
   "metadata": {},
   "source": [
    "## Discussion\n",
    "\n",
    "1. Obtain from literature the standard enthalpies of formation of $O_2$, $H_2O$, $CO_2$, sucrose and naphtalene.\n",
    "2. Write the balances combustion reactions for benzoic acid, sucrose and naphtalene\n",
    "3. Calculate the expected combustion enthalpy of sucrose and naphtalene\n",
    "4. Use the given combustion enthalpy of benzoic acid to \"calibrate the instrument\"; what is the heat capacity of the bomb calorimeter?\n",
    "5. Calculate the combustion and formation enthalpies ($\\Delta H_c$ \\& $\\Delta H_f$) of sucrose and naphtalene. Compare with the literature values obtained in the pre-lab."
   ]
  },
  {
   "cell_type": "markdown",
   "metadata": {},
   "source": [
    "[Launch bomb calorimetry laboratory](./virtualExperiment.ipynb)"
   ]
  }
 ],
 "metadata": {
  "kernelspec": {
   "display_name": "Python 3 (ipykernel)",
   "language": "python",
   "name": "python3"
  },
  "language_info": {
   "codemirror_mode": {
    "name": "ipython",
    "version": 3
   },
   "file_extension": ".py",
   "mimetype": "text/x-python",
   "name": "python",
   "nbconvert_exporter": "python",
   "pygments_lexer": "ipython3",
   "version": "3.11.7"
  },
  "widgets": {
   "application/vnd.jupyter.widget-state+json": {
    "state": {
     "0164dca75aca4314a6e16b6f5b4bccdf": {
      "model_module": "@jupyter-widgets/controls",
      "model_module_version": "1.5.0",
      "model_name": "HBoxModel",
      "state": {
       "children": [
        "IPY_MODEL_d4428e8f6f374eaea552415d28d59c66"
       ],
       "layout": "IPY_MODEL_a7d5dd03656843068dd6b0e7aa4c1b84"
      }
     },
     "03a5f1dce0294279885dbdcff96faa5a": {
      "model_module": "@jupyter-widgets/base",
      "model_module_version": "1.2.0",
      "model_name": "LayoutModel",
      "state": {}
     },
     "0bd071c6746a47e68106ed77ebcf6087": {
      "model_module": "@jupyter-widgets/controls",
      "model_module_version": "1.5.0",
      "model_name": "DropdownModel",
      "state": {
       "_options_labels": [
        "None",
        "Benzoic acid",
        "Sucrose",
        "Naphthalene"
       ],
       "description": "Sample:",
       "index": 0,
       "layout": "IPY_MODEL_fd23bf98873e4a2684efdfa25d421c7e",
       "style": "IPY_MODEL_fe9a76eed0ec47b19817a8f98c0bf0b0"
      }
     },
     "0ce80f29026c414986f5c76543849961": {
      "model_module": "@jupyter-widgets/controls",
      "model_module_version": "1.5.0",
      "model_name": "ButtonStyleModel",
      "state": {}
     },
     "0e927c2f58c441b09c504dca6df76cb8": {
      "model_module": "@jupyter-widgets/base",
      "model_module_version": "1.2.0",
      "model_name": "LayoutModel",
      "state": {}
     },
     "199d051f49be402d82654c138b6959af": {
      "model_module": "@jupyter-widgets/base",
      "model_module_version": "1.2.0",
      "model_name": "LayoutModel",
      "state": {}
     },
     "246f1d7602904c66af7a97d2abb275d0": {
      "model_module": "@jupyter-widgets/base",
      "model_module_version": "1.2.0",
      "model_name": "LayoutModel",
      "state": {}
     },
     "31f1151fcdf6468483e0e142108d5a51": {
      "model_module": "@jupyter-widgets/base",
      "model_module_version": "1.2.0",
      "model_name": "LayoutModel",
      "state": {}
     },
     "3d4a1e7ebff142f4a224d5ea965612be": {
      "model_module": "@jupyter-widgets/base",
      "model_module_version": "1.2.0",
      "model_name": "LayoutModel",
      "state": {}
     },
     "428d5b7822994662a1b437af2747c863": {
      "model_module": "@jupyter-widgets/controls",
      "model_module_version": "1.5.0",
      "model_name": "HBoxModel",
      "state": {
       "children": [
        "IPY_MODEL_a7c32dc61e98419b9d21e682d3485bfc",
        "IPY_MODEL_584766b31a79432785412e3540674adf"
       ],
       "layout": "IPY_MODEL_9503b6cc10f44693a29042c5e5299772"
      }
     },
     "45a2b7ee17214c0b969b4a9399c5d79c": {
      "model_module": "@jupyter-widgets/controls",
      "model_module_version": "1.5.0",
      "model_name": "HBoxModel",
      "state": {
       "children": [
        "IPY_MODEL_81271f730ff448f9a045dc35213b35c1",
        "IPY_MODEL_5711c3163ef246ca8523c69d1e1c5344"
       ],
       "layout": "IPY_MODEL_66ef37aef7c94714840dcd1354d6dd66"
      }
     },
     "4a4930d8366a467893a889fc7aa62cb8": {
      "model_module": "@jupyter-widgets/base",
      "model_module_version": "1.2.0",
      "model_name": "LayoutModel",
      "state": {}
     },
     "5184a91beae34cf69b6996585d71dcdb": {
      "model_module": "@jupyter-widgets/controls",
      "model_module_version": "1.5.0",
      "model_name": "TextModel",
      "state": {
       "layout": "IPY_MODEL_246f1d7602904c66af7a97d2abb275d0",
       "style": "IPY_MODEL_d56e5fa1f7fb477c93e019cb3e589fcc",
       "value": "Empty.ipynb"
      }
     },
     "534e4d1d0b5e4127a40b67b17559b0ba": {
      "model_module": "@jupyter-widgets/controls",
      "model_module_version": "1.5.0",
      "model_name": "DescriptionStyleModel",
      "state": {
       "description_width": ""
      }
     },
     "5711c3163ef246ca8523c69d1e1c5344": {
      "model_module": "@jupyter-widgets/controls",
      "model_module_version": "1.5.0",
      "model_name": "DropdownModel",
      "state": {
       "_options_labels": [
        "Choose one"
       ],
       "index": 0,
       "layout": "IPY_MODEL_c26a153eb3f54adeb84be8054a2a254f",
       "style": "IPY_MODEL_534e4d1d0b5e4127a40b67b17559b0ba"
      }
     },
     "581870a8b4bc4737a81869b1f362e7a3": {
      "model_module": "@jupyter-widgets/controls",
      "model_module_version": "1.5.0",
      "model_name": "ButtonStyleModel",
      "state": {}
     },
     "584766b31a79432785412e3540674adf": {
      "model_module": "@jupyter-widgets/controls",
      "model_module_version": "1.5.0",
      "model_name": "TextModel",
      "state": {
       "layout": "IPY_MODEL_f2df34c1afb6404e83081bee31fc0415",
       "style": "IPY_MODEL_777c57fc00334aa3b066195b7aab79ce",
       "value": "results.csv"
      }
     },
     "5aede1fdc82f45db85673edf0abd2863": {
      "model_module": "@jupyter-widgets/controls",
      "model_module_version": "1.5.0",
      "model_name": "HBoxModel",
      "state": {
       "children": [
        "IPY_MODEL_724b65b971584ae897ce0503fc9d135b"
       ],
       "layout": "IPY_MODEL_0e927c2f58c441b09c504dca6df76cb8"
      }
     },
     "5c83499f365342b28d47c25e6d9f57e4": {
      "model_module": "@jupyter-widgets/controls",
      "model_module_version": "1.5.0",
      "model_name": "HBoxModel",
      "state": {
       "children": [
        "IPY_MODEL_0bd071c6746a47e68106ed77ebcf6087"
       ],
       "layout": "IPY_MODEL_3d4a1e7ebff142f4a224d5ea965612be"
      }
     },
     "66abd88d9f3a439388b3d2eafc3dd833": {
      "model_module": "@jupyter-widgets/base",
      "model_module_version": "1.2.0",
      "model_name": "LayoutModel",
      "state": {}
     },
     "66ef37aef7c94714840dcd1354d6dd66": {
      "model_module": "@jupyter-widgets/base",
      "model_module_version": "1.2.0",
      "model_name": "LayoutModel",
      "state": {}
     },
     "67d45df34c5f4189a95b3ca1b10f94bf": {
      "model_module": "@jupyter-widgets/controls",
      "model_module_version": "1.5.0",
      "model_name": "VBoxModel",
      "state": {
       "children": [
        "IPY_MODEL_baa100d58cca4c059c273a5feb8f254f",
        "IPY_MODEL_45a2b7ee17214c0b969b4a9399c5d79c"
       ],
       "layout": "IPY_MODEL_f1a0f73fa8744d3c94b217cd664a9562"
      }
     },
     "6a6df71e5fc64a6a955e9f295cb80b32": {
      "model_module": "@jupyter-widgets/controls",
      "model_module_version": "1.5.0",
      "model_name": "VBoxModel",
      "state": {
       "children": [
        "IPY_MODEL_428d5b7822994662a1b437af2747c863",
        "IPY_MODEL_5c83499f365342b28d47c25e6d9f57e4",
        "IPY_MODEL_0164dca75aca4314a6e16b6f5b4bccdf",
        "IPY_MODEL_dc3e4ef1ad4b4d21bceb981d58715993",
        "IPY_MODEL_fdbcc765e9f5428e84880cea78f8ff30",
        "IPY_MODEL_8e5a43c3f81a4a309ef3a4f1dc668c9f",
        "IPY_MODEL_5aede1fdc82f45db85673edf0abd2863"
       ],
       "layout": "IPY_MODEL_9ed28725a21543ca99bec9ae7676189f"
      }
     },
     "724b65b971584ae897ce0503fc9d135b": {
      "model_module": "@jupyter-widgets/output",
      "model_module_version": "1.0.0",
      "model_name": "OutputModel",
      "state": {
       "layout": "IPY_MODEL_66abd88d9f3a439388b3d2eafc3dd833"
      }
     },
     "777c57fc00334aa3b066195b7aab79ce": {
      "model_module": "@jupyter-widgets/controls",
      "model_module_version": "1.5.0",
      "model_name": "DescriptionStyleModel",
      "state": {
       "description_width": ""
      }
     },
     "7b76658d0a084a8999e3a7d782a76f8b": {
      "model_module": "@jupyter-widgets/output",
      "model_module_version": "1.0.0",
      "model_name": "OutputModel",
      "state": {
       "layout": "IPY_MODEL_199d051f49be402d82654c138b6959af"
      }
     },
     "7c7e3cfad9744086bc9ec49cb2843b24": {
      "model_module": "@jupyter-widgets/output",
      "model_module_version": "1.0.0",
      "model_name": "OutputModel",
      "state": {
       "layout": "IPY_MODEL_c6fa13b1307a4710ae9c65974d66697b"
      }
     },
     "7c82e4b5d01e4234ba2e78dfd673d8ce": {
      "model_module": "@jupyter-widgets/base",
      "model_module_version": "1.2.0",
      "model_name": "LayoutModel",
      "state": {
       "width": "300px"
      }
     },
     "81271f730ff448f9a045dc35213b35c1": {
      "model_module": "@jupyter-widgets/controls",
      "model_module_version": "1.5.0",
      "model_name": "ButtonModel",
      "state": {
       "description": "Open an old notebook",
       "layout": "IPY_MODEL_f2f7b77a213b4eca979cc7b1bd7aa28e",
       "style": "IPY_MODEL_f4b3c7ab10d64fba93f707593a392156"
      }
     },
     "8385f047095746b29710c7aaf5b5c224": {
      "model_module": "@jupyter-widgets/controls",
      "model_module_version": "1.5.0",
      "model_name": "ButtonModel",
      "state": {
       "description": "Reset Experiment",
       "layout": "IPY_MODEL_7c82e4b5d01e4234ba2e78dfd673d8ce",
       "style": "IPY_MODEL_581870a8b4bc4737a81869b1f362e7a3"
      }
     },
     "8e5a43c3f81a4a309ef3a4f1dc668c9f": {
      "model_module": "@jupyter-widgets/controls",
      "model_module_version": "1.5.0",
      "model_name": "HBoxModel",
      "state": {
       "children": [
        "IPY_MODEL_7c7e3cfad9744086bc9ec49cb2843b24"
       ],
       "layout": "IPY_MODEL_31f1151fcdf6468483e0e142108d5a51"
      }
     },
     "9503b6cc10f44693a29042c5e5299772": {
      "model_module": "@jupyter-widgets/base",
      "model_module_version": "1.2.0",
      "model_name": "LayoutModel",
      "state": {}
     },
     "9e39010cacc54dfe832f02d73e22463c": {
      "model_module": "@jupyter-widgets/controls",
      "model_module_version": "1.5.0",
      "model_name": "ButtonStyleModel",
      "state": {}
     },
     "9ed28725a21543ca99bec9ae7676189f": {
      "model_module": "@jupyter-widgets/base",
      "model_module_version": "1.2.0",
      "model_name": "LayoutModel",
      "state": {}
     },
     "a668cf550875489fbcb7e664ba8cdf80": {
      "model_module": "@jupyter-widgets/controls",
      "model_module_version": "1.5.0",
      "model_name": "ButtonStyleModel",
      "state": {}
     },
     "a7c32dc61e98419b9d21e682d3485bfc": {
      "model_module": "@jupyter-widgets/controls",
      "model_module_version": "1.5.0",
      "model_name": "LabelModel",
      "state": {
       "layout": "IPY_MODEL_7c82e4b5d01e4234ba2e78dfd673d8ce",
       "style": "IPY_MODEL_aa7593d8918b4c4183c4a9a849a41eff",
       "value": "Output filename : "
      }
     },
     "a7d5dd03656843068dd6b0e7aa4c1b84": {
      "model_module": "@jupyter-widgets/base",
      "model_module_version": "1.2.0",
      "model_name": "LayoutModel",
      "state": {}
     },
     "aa7593d8918b4c4183c4a9a849a41eff": {
      "model_module": "@jupyter-widgets/controls",
      "model_module_version": "1.5.0",
      "model_name": "DescriptionStyleModel",
      "state": {
       "description_width": ""
      }
     },
     "ab7baa5387884afc9e76db24d3549920": {
      "model_module": "@jupyter-widgets/base",
      "model_module_version": "1.2.0",
      "model_name": "LayoutModel",
      "state": {}
     },
     "b5e9efc08bc140c49a90e00861e6bcd8": {
      "model_module": "@jupyter-widgets/controls",
      "model_module_version": "1.5.0",
      "model_name": "ButtonModel",
      "state": {
       "description": "Perform Experiment",
       "layout": "IPY_MODEL_7c82e4b5d01e4234ba2e78dfd673d8ce",
       "style": "IPY_MODEL_9e39010cacc54dfe832f02d73e22463c"
      }
     },
     "baa100d58cca4c059c273a5feb8f254f": {
      "model_module": "@jupyter-widgets/controls",
      "model_module_version": "1.5.0",
      "model_name": "HBoxModel",
      "state": {
       "children": [
        "IPY_MODEL_d24a5c5e323e4eaabec0871d361071fc",
        "IPY_MODEL_5184a91beae34cf69b6996585d71dcdb"
       ],
       "layout": "IPY_MODEL_03a5f1dce0294279885dbdcff96faa5a"
      }
     },
     "c26a153eb3f54adeb84be8054a2a254f": {
      "model_module": "@jupyter-widgets/base",
      "model_module_version": "1.2.0",
      "model_name": "LayoutModel",
      "state": {
       "width": "300px"
      }
     },
     "c6fa13b1307a4710ae9c65974d66697b": {
      "model_module": "@jupyter-widgets/base",
      "model_module_version": "1.2.0",
      "model_name": "LayoutModel",
      "state": {}
     },
     "d24a5c5e323e4eaabec0871d361071fc": {
      "model_module": "@jupyter-widgets/controls",
      "model_module_version": "1.5.0",
      "model_name": "ButtonModel",
      "state": {
       "description": "Create a new notebook",
       "layout": "IPY_MODEL_f2f7b77a213b4eca979cc7b1bd7aa28e",
       "style": "IPY_MODEL_0ce80f29026c414986f5c76543849961"
      }
     },
     "d4428e8f6f374eaea552415d28d59c66": {
      "model_module": "@jupyter-widgets/controls",
      "model_module_version": "1.5.0",
      "model_name": "ButtonModel",
      "state": {
       "description": "Make tablet",
       "layout": "IPY_MODEL_7c82e4b5d01e4234ba2e78dfd673d8ce",
       "style": "IPY_MODEL_a668cf550875489fbcb7e664ba8cdf80"
      }
     },
     "d56e5fa1f7fb477c93e019cb3e589fcc": {
      "model_module": "@jupyter-widgets/controls",
      "model_module_version": "1.5.0",
      "model_name": "DescriptionStyleModel",
      "state": {
       "description_width": ""
      }
     },
     "dc3e4ef1ad4b4d21bceb981d58715993": {
      "model_module": "@jupyter-widgets/controls",
      "model_module_version": "1.5.0",
      "model_name": "HBoxModel",
      "state": {
       "children": [
        "IPY_MODEL_7b76658d0a084a8999e3a7d782a76f8b"
       ],
       "layout": "IPY_MODEL_ab7baa5387884afc9e76db24d3549920"
      }
     },
     "f1a0f73fa8744d3c94b217cd664a9562": {
      "model_module": "@jupyter-widgets/base",
      "model_module_version": "1.2.0",
      "model_name": "LayoutModel",
      "state": {}
     },
     "f2df34c1afb6404e83081bee31fc0415": {
      "model_module": "@jupyter-widgets/base",
      "model_module_version": "1.2.0",
      "model_name": "LayoutModel",
      "state": {}
     },
     "f2f7b77a213b4eca979cc7b1bd7aa28e": {
      "model_module": "@jupyter-widgets/base",
      "model_module_version": "1.2.0",
      "model_name": "LayoutModel",
      "state": {
       "width": "300px"
      }
     },
     "f4b3c7ab10d64fba93f707593a392156": {
      "model_module": "@jupyter-widgets/controls",
      "model_module_version": "1.5.0",
      "model_name": "ButtonStyleModel",
      "state": {}
     },
     "fd23bf98873e4a2684efdfa25d421c7e": {
      "model_module": "@jupyter-widgets/base",
      "model_module_version": "1.2.0",
      "model_name": "LayoutModel",
      "state": {}
     },
     "fdbcc765e9f5428e84880cea78f8ff30": {
      "model_module": "@jupyter-widgets/controls",
      "model_module_version": "1.5.0",
      "model_name": "HBoxModel",
      "state": {
       "children": [
        "IPY_MODEL_b5e9efc08bc140c49a90e00861e6bcd8",
        "IPY_MODEL_8385f047095746b29710c7aaf5b5c224"
       ],
       "layout": "IPY_MODEL_4a4930d8366a467893a889fc7aa62cb8"
      }
     },
     "fe9a76eed0ec47b19817a8f98c0bf0b0": {
      "model_module": "@jupyter-widgets/controls",
      "model_module_version": "1.5.0",
      "model_name": "DescriptionStyleModel",
      "state": {
       "description_width": ""
      }
     }
    },
    "version_major": 2,
    "version_minor": 0
   }
  }
 },
 "nbformat": 4,
 "nbformat_minor": 4
}
