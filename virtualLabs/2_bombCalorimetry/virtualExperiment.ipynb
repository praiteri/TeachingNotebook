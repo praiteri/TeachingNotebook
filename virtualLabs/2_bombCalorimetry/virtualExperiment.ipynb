{
 "cells": [
  {
   "cell_type": "code",
   "execution_count": null,
   "metadata": {},
   "outputs": [],
   "source": [
    "import cekComputerLabs as cek\n",
    "cek.checkGitRepo()"
   ]
  },
  {
   "cell_type": "markdown",
   "metadata": {},
   "source": [
    "# Working notebooks"
   ]
  },
  {
   "cell_type": "code",
   "execution_count": null,
   "metadata": {},
   "outputs": [],
   "source": [
    "cek.openNotebook()\n",
    "cek.convertNotebook()"
   ]
  },
  {
   "cell_type": "markdown",
   "metadata": {},
   "source": [
    "# Bomb Calorimetry Virtual Experiment\n",
    "\n",
    "## Lab instructions\n",
    "In this virtual lab instead you will have to\n",
    "1. Choose your sample (Benzoic acid)\n",
    "2. Create a tablet for you sample \n",
    "3. \"Perform\" the experiment (obtain temperature inside the bomb calorimeter vs time)\n",
    "4. Fit the temperature profile before and after the experiment to obtain the temperature change\n",
    "5. Determine the calorimeter heat capacity of the bomb calorimeter to calibrate the instrument\n",
    "6. Repeat 1 to 5 to obtain an average value for the heat capacity of the bomb calorimeter\n",
    "7. Repeat 1 to 4 for sucrose and naphtalene\n",
    "8. Determine the combustion enthalpy and formation enthalpy of Sucrose and Napthalene\n",
    "\n",
    "## Notes\n",
    "- Assume the wire described in the video releases a negligible amount of heat\n",
    "- The calorimeter is filled with exactly 2L of DI water; which is much more abundant than the sample, hence the calorimeter heat capacity is largely determined by the water, with a contribution from the instrument. Finding the experimental water heat capacity can help you verify your result\n",
    "\n",
    "## Discussion\n",
    "\n",
    "1. Obtain from literature the standard enthalpies of formation of $O_2$, $H_2O$, $CO_2$, sucrose and naphtalene.\n",
    "2. Write the balances combustion reactions for benzoic acid, sucrose and naphtalene\n",
    "3. Calculate the expected combustion enthalpy of sucrose and naphtalene\n",
    "4. Use the given combustion enthalpy of benzoic acid to \"calibrate the instrument\"; what is the heat capacity of the bomb calorimeter?\n",
    "5. Calculate the combustion and formation enthalpies ($\\Delta H_c$ \\& $\\Delta H_f$) of sucrose and naphtalene. Compare with the literature values obtained in the pre-lab."
   ]
  },
  {
   "cell_type": "code",
   "execution_count": null,
   "metadata": {},
   "outputs": [],
   "source": [
    "cek.bombCalorimetryLab()"
   ]
  }
 ],
 "metadata": {
  "kernelspec": {
   "display_name": "Python 3 (ipykernel)",
   "language": "python",
   "name": "python3"
  },
  "language_info": {
   "codemirror_mode": {
    "name": "ipython",
    "version": 3
   },
   "file_extension": ".py",
   "mimetype": "text/x-python",
   "name": "python",
   "nbconvert_exporter": "python",
   "pygments_lexer": "ipython3",
   "version": "3.11.6"
  }
 },
 "nbformat": 4,
 "nbformat_minor": 4
}
