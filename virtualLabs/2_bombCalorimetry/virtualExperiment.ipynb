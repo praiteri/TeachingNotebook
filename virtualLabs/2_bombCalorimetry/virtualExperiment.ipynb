{
 "cells": [
  {
   "cell_type": "code",
   "execution_count": null,
   "metadata": {},
   "outputs": [],
   "source": [
    "import cekComputerLabs as cek\n",
    "cek.checkGitRepo()"
   ]
  },
  {
   "cell_type": "markdown",
   "metadata": {},
   "source": [
    "# Bomb Calorimetry Virtual Experiment\n",
    "\n",
    "## Procedure\n",
    "In this virtual lab instead you will have to\n",
    "1. Choose your sample (Benzoic acid)\n",
    "2. Create a tablet for you sample \n",
    "3. \"Perform\" the experiment (obtain temperature inside the bomb calorimeter vs time)\n",
    "4. Fit the temperature profile before and after the experiment to obtain the temperature change\n",
    "5. Determine the calorimeter heat capacity of the bomb calorimeter to calibrate the instrument\n",
    "6. Repeat 1 to 5 to obtain an average value for the heat capacity of the bomb calorimeter\n",
    "7. Repeat 1 to 4 for sucrose and naphtalene\n",
    "8. Determine the combustion enthalpy and formation enthalpy of Sucrose and Napthalene\n",
    "\n",
    "#### Assume the wire described in the video releases a negligible amount of heat"
   ]
  },
  {
   "cell_type": "code",
   "execution_count": null,
   "metadata": {},
   "outputs": [],
   "source": [
    "cek.bombCalorimetryLab()"
   ]
  },
  {
   "cell_type": "markdown",
   "metadata": {},
   "source": [
    "# Working notebooks"
   ]
  },
  {
   "cell_type": "code",
   "execution_count": null,
   "metadata": {},
   "outputs": [],
   "source": [
    "cek.openNotebook()"
   ]
  },
  {
   "cell_type": "code",
   "execution_count": null,
   "metadata": {},
   "outputs": [],
   "source": [
    "cek.convertNotebook()"
   ]
  },
  {
   "cell_type": "code",
   "execution_count": null,
   "metadata": {},
   "outputs": [],
   "source": [
    "import pandas as pd\n",
    "import matplotlib.pyplot as plt\n",
    "data=pd.read_csv(\"results.csv\")\n",
    "fix,ax=plt.subplots()\n",
    "ax.plot(data.iloc[:,0],data.iloc[:,1])\n",
    "plt.show()"
   ]
  }
 ],
 "metadata": {
  "kernelspec": {
   "display_name": "Python 3 (ipykernel)",
   "language": "python",
   "name": "python3"
  },
  "language_info": {
   "codemirror_mode": {
    "name": "ipython",
    "version": 3
   },
   "file_extension": ".py",
   "mimetype": "text/x-python",
   "name": "python",
   "nbconvert_exporter": "python",
   "pygments_lexer": "ipython3",
   "version": "3.11.7"
  }
 },
 "nbformat": 4,
 "nbformat_minor": 4
}
