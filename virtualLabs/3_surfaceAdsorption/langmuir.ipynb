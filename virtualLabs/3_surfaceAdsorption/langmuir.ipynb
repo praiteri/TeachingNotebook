{
 "cells": [
  {
   "cell_type": "code",
   "execution_count": null,
   "metadata": {},
   "outputs": [],
   "source": [
    "import cekComputerLabs as cek\n",
    "cek.checkGitRepo()"
   ]
  },
  {
   "cell_type": "markdown",
   "metadata": {},
   "source": [
    "Copyright **Paolo Raiteri**, 2023\n",
    "\n",
    "# Langmuir isotherm virtual lab\n",
    "\n",
    "The Langmuir isotherm is one of the simplest models that can be used to describe the adsorption of molecules on surfaces, either in the gas phase or in solutions. \n",
    "It is based on 5 key assumptions:\n",
    "1. The surface is flat\n",
    "2. The adsorbate is immobile on the surface\n",
    "3. All adsorption sites are equivalent\n",
    "4. There are no interactions between adsorbate molecules on adjacent sites\n",
    "5. One one molecule can adsorb in a site (monolayer coverage)\n",
    "\n",
    "The fundamental equation of the Langmuir adsorption isotherm can be derived using either thermodynamic or kinetic arguments.\n",
    "Here we will follow the thermodynamic route.\n",
    "The surface adsorption process can be regarded as an equilibrium problem, where the adsorbate molecules, $A$, on the surface are in dynamic equilibrium with those in solution\n",
    "\n",
    "\\begin{equation}\n",
    "A + S \\leftrightharpoons SA \\tag{1} \n",
    "\\end{equation}\n",
    "\n",
    "where $A$ are the free molecules in solution (or in the gas phase), $S$ are the available adsorption sites and $SA$ are the filled adsorption sites.\n",
    "The equilibrium constant for this chemical reaction is\n",
    "\n",
    "\\begin{equation}\n",
    "K = \\frac{[SA]}{[A][S]} \\tag{2} \n",
    "\\end{equation}\n",
    "\n",
    "Although, the concentrations of free/occupied adsorption sites are somewhat ill-defined quantities, it is easy to see how their \"concentration\" would be related to the surface coverage.\n",
    "If we define the coverage, $\\theta$ as the fraction of occupied surface sites, \n",
    "\n",
    "\\begin{equation}\n",
    "[SA] \\propto \\theta \\tag{3} \n",
    "\\end{equation}\n",
    "\\begin{equation}\n",
    "[S]  \\propto (1-\\theta) \\tag{4}\n",
    "\\end{equation}\n",
    "\\begin{equation}\n",
    "[A] = c_{sol} \\tag{5} \n",
    "\\end{equation}\n",
    "\n",
    "where we have introduced a slight change of notation by calling the $c_{sol}$ the equilibrium concentration of the adsorbate in solution. We can then rewrite the equilibrium constant as\n",
    "\n",
    "\\begin{equation} \n",
    "K_L = \\frac{\\theta}{(1-\\theta)c_{sol}} \\tag{6} \n",
    "\\end{equation}\n",
    "\n",
    "where $K_L$ is the Langmuir constant, which contains all the unknown proportionality constant that connect the coverage with the \"concentrations\" that are in the definition of the equilibrium constant. This equation can then be rewritten to obtain the famous Langmuir isotherm equation\n",
    "\n",
    "\\begin{equation}\n",
    "\\theta = \\frac{K_Lc_{sol}}{1+K_Lc_{sol}} \\tag{7} \n",
    "\\end{equation}\n",
    "\n",
    "where $\\theta$ is the fraction of adsorption sites that are occupied, $K_L$ is the Langmuir equilibrium constant, and $c_{sol}$ is the equilibrium concentration of the adsorbate in solution.\n",
    "Because it is not possible to directly measure the fraction of occupied surface sites, a more practical version of that equation is\n",
    "\n",
    "\\begin{equation}\n",
    "c_{surf} = \\frac{QK_Lc_{sol}}{1+K_Lc_{sol}} \\tag{8} \n",
    "\\end{equation}\n",
    "\n",
    "where $c_{surf}$ is the concentration of the adsorbate that is on the surface, _i.e._ out of the solution, and the new parameter $Q$ corresponds to the _monolayer_ coverage, _i.e._ the maximum concentration of molecules that can adsorb on the substrate. The linear form of the above equation, which uses the inverse of the concentrtions, is more convenient for the fitting;\n",
    "\n",
    "\\begin{equation}\n",
    "\\frac{1}{c_{surf}} = \\frac{1}{QK_L} \\frac{1}{c_{sol}} + \\frac{1}{Q}  \\tag{9} \n",
    "\\end{equation}\n",
    "\n",
    "The name _isotherm_ stems from the fact that the experiments are performed at constant temperature and in principle both the Langmuir equilibrium constant, $K_L$, and the _monolayer_ coverage, $Q$, can have a temperature dependence.\n",
    "Similarly to normal chemical reactions, by performing a series of experiments at different conditions it is possible to determine the enthalpy and entropy of the adsorption process using the van't Hoff equation.\n",
    "\n",
    "In the virtual laboratory below, you will be looking at the adsorption of the dye Acid Blue 158 on chitin in water. Perform a series of experiments at different conditions to determine the enthalpy of adsorption of the dye on the substrate. The molar mass of Acid Blue 158 is 584.91 g/mol."
   ]
  },
  {
   "cell_type": "markdown",
   "metadata": {},
   "source": [
    "### Instructions\n",
    "* Select the temperature and amount on water for your experiments\n",
    "* Select an appropriate minimum and maximum amounts of acid Blue 158 to use in the experiments; this has to cover a large enough range to allow for a proper fit of the curve.\n",
    "* Select how many experiments you want to perform ($N$)\n",
    "\n",
    "<img src=\"LANGMUIR.png\" alt=\"Adsorption Experiment\" class=\"bg-primary mb-1\" width=\"600px\"> \n",
    "<p style=\"text-align: center;\"> Figure 1: Schematic representation of the adsorption virtual experiment. </p>\n",
    "\n",
    "\n",
    "\n",
    "Each _experiment_ consists of adding a certain amount of dye, $c_{tot}$, to the chosen volume of DI water with  a fixed amount of chitin and measuring the concentration of the dye that is left in solution at equilibrium, $c_{sol}$.\n",
    "\n",
    "\\begin{equation}\n",
    "c_{tot}=c_{surf}+c_{sol} \\tag{10} \n",
    "\\end{equation}\n",
    "\n",
    "When you click the *Perform experiment* button, you will obtain $N$ observations at the selected temperature, where the amount of dye that is added to the chosen amount of water is varied between the minimum and maximum values that you have chosen, in equally spaced intervals.\n",
    "\n",
    "Every time you click *Perform experiment* $N$ new observations will be generated and appended to the output file.\n",
    "\n",
    "If you click *Reset experiments* all observations will be deleted.\n",
    "This will be useful to generate a clean set of data after you have done a few tests to find what is an appropriate range for the amount of dye to use in the virtual experiment.\n",
    "\n",
    "You can download all the observations in CSV format and import them directly into excel, or you can use a jupyter notebook to read and analyse the data, and produce the figures for the report."
   ]
  },
  {
   "cell_type": "markdown",
   "metadata": {},
   "source": [
    "## Discussion\n",
    "1. What is the Langmuir constant at a minimum of 5 different temperatures?\n",
    "2. What is the monolayer coverage at those temperatures?\n",
    "3. What are the enthalpy and entropy of adsorption?"
   ]
  },
  {
   "cell_type": "markdown",
   "metadata": {},
   "source": [
    "[Launch surface adsorption laboratory](./virtualExperiment.ipynb)"
   ]
  }
 ],
 "metadata": {
  "kernelspec": {
   "display_name": "Python 3 (ipykernel)",
   "language": "python",
   "name": "python3"
  },
  "language_info": {
   "codemirror_mode": {
    "name": "ipython",
    "version": 3
   },
   "file_extension": ".py",
   "mimetype": "text/x-python",
   "name": "python",
   "nbconvert_exporter": "python",
   "pygments_lexer": "ipython3",
   "version": "3.11.7"
  },
  "widgets": {
   "application/vnd.jupyter.widget-state+json": {
    "state": {},
    "version_major": 2,
    "version_minor": 0
   }
  }
 },
 "nbformat": 4,
 "nbformat_minor": 4
}
