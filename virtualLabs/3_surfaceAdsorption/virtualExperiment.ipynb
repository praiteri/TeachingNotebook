{
 "cells": [
  {
   "cell_type": "markdown",
   "metadata": {},
   "source": [
    "# Langmuir isotherm virtual laboratory"
   ]
  },
  {
   "cell_type": "code",
   "execution_count": null,
   "metadata": {},
   "outputs": [],
   "source": [
    "import cekComputerLabs as cek\n",
    "cek.checkGitRepo()"
   ]
  },
  {
   "cell_type": "markdown",
   "metadata": {},
   "source": [
    "# Working notebooks"
   ]
  },
  {
   "cell_type": "code",
   "execution_count": null,
   "metadata": {},
   "outputs": [],
   "source": [
    "cek.openNotebook()\n",
    "cek.convertNotebook()"
   ]
  },
  {
   "cell_type": "markdown",
   "metadata": {},
   "source": [
    "# Lab notes\n",
    "\n",
    "Each _experiment_ consists of adding a certain amount of dye, $c_{tot}$, to the chosen volume of DI water with  a fixed amount of chitin and measuring the concentration of the dye that is left in solution at equilibrium, $c_{sol}$.\n",
    "\n",
    "\\begin{equation}\n",
    "c_{tot}=c_{surf}+c_{sol} \\tag{10} \n",
    "\\end{equation}\n",
    "\n",
    "When you click the *Perform experiment* button, you will obtain $N$ observations at the selected temperature, where the amount of dye that is added to the chosen amount of water is varied between the minimum and maximum values that you have chosen, in equally spaced intervals.\n",
    "\n",
    "Every time you click *Perform experiment* $N$ new observations will be generated and appended to the output file.\n",
    "\n",
    "If you click *Reset experiments* all observations will be deleted.\n",
    "This will be useful to generate a clean set of data after you have done a few tests to find what is an appropriate range for the amount of dye to use in the virtual experiment.\n",
    "\n",
    "You can download all the observations in CSV format and import them directly into excel, or you can use a jupyter notebook to read and analyse the data, and produce the figures for the report."
   ]
  },
  {
   "cell_type": "code",
   "execution_count": null,
   "metadata": {},
   "outputs": [],
   "source": [
    "from IPython.display import Image\n",
    "Image(filename=\"LANGMUIR.png\",width=600)"
   ]
  },
  {
   "cell_type": "markdown",
   "metadata": {},
   "source": [
    "## To do\n",
    "\n",
    "1. Select the temperature and amount on water for your experiments\n",
    "2. Select an appropriate minimum and maximum amounts of acid Blue 158 to use in the experiments; this has to cover a large enough range to allow for a proper fit of the curve.\n",
    "3. Select how many experiments you want to perform ($N$)\n",
    "\n",
    "## Discussion\n",
    "1. Report the Langmuir constant at a minimum of 5 different temperatures?\n",
    "2. Report the monolayer coverage at those temperatures?\n",
    "3. Compute are the enthalpy and entropy of adsorption?"
   ]
  },
  {
   "cell_type": "code",
   "execution_count": null,
   "metadata": {},
   "outputs": [],
   "source": [
    "cek.surfaceAdsorptionLab()"
   ]
  }
 ],
 "metadata": {
  "kernelspec": {
   "display_name": "Python 3 (ipykernel)",
   "language": "python",
   "name": "python3"
  },
  "language_info": {
   "codemirror_mode": {
    "name": "ipython",
    "version": 3
   },
   "file_extension": ".py",
   "mimetype": "text/x-python",
   "name": "python",
   "nbconvert_exporter": "python",
   "pygments_lexer": "ipython3",
   "version": "3.11.6"
  }
 },
 "nbformat": 4,
 "nbformat_minor": 4
}
