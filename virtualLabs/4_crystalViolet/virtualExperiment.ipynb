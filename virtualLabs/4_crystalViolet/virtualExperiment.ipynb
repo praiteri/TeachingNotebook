{
 "cells": [
  {
   "cell_type": "markdown",
   "metadata": {},
   "source": [
    "# Crystal violet virtual experiment"
   ]
  },
  {
   "cell_type": "code",
   "execution_count": null,
   "metadata": {},
   "outputs": [],
   "source": [
    "import cekComputerLabs as cek\n",
    "cek.checkGitRepo()"
   ]
  },
  {
   "cell_type": "markdown",
   "metadata": {},
   "source": [
    "# Working notebooks"
   ]
  },
  {
   "cell_type": "code",
   "execution_count": null,
   "metadata": {},
   "outputs": [],
   "source": [
    "cek.openNotebook()\n",
    "cek.convertNotebook()"
   ]
  },
  {
   "cell_type": "markdown",
   "metadata": {},
   "source": [
    "# Lab notes"
   ]
  },
  {
   "cell_type": "code",
   "execution_count": null,
   "metadata": {},
   "outputs": [],
   "source": [
    "from IPython.display import Image\n",
    "Image(filename=\"cv.png\",width=500)"
   ]
  },
  {
   "cell_type": "markdown",
   "metadata": {},
   "source": [
    "1. Prepare a solution for the virtual spectroscopy experiment by adding\n",
    "    1. $X$ mL taken from the CV stock solution (2.5$\\times 10^{-5}$ M)\n",
    "    2. $Y$ mL taken from thee OH$^-$ stock solution (0.5 M)\n",
    "    3. $Z$ mL of DI water \n",
    "4. Choose the temperature of the experiment\n",
    "5. Generate the data"
   ]
  },
  {
   "cell_type": "markdown",
   "metadata": {},
   "source": [
    "## To do\n",
    "1. Perform a set of experiment with fixed **initial** concentration of OH$^-$ and temperature\n",
    "    1. Plot Absorbivity _vs_ time, Log Abs. _vs_ time and 1/Abs. _vs_ time to find the order with respect to [CV]\n",
    "\n",
    "2. Perform a set of experiment with fixed **initial** concentration of CV and temperature, and varying values of [OH$^-$]\n",
    "    1. Use these data to determine the order of the reaction with respect to OH$^-$ by plotting log of $k_r^\\dagger$ _vs_ log [OH$^-$]\n",
    "    2. Combine the results above to determine the rate law and rate constant   \n",
    "\n",
    "3. Perform a set of experiment with fixed **initial** concentration of CV and OH but different temperatures\n",
    "    1. Use these data to determine the activation energy of the reaction\n",
    "    \n",
    "##  Discussion\n",
    "1. Write the full rate law for the reaction between Crystal Violet and hydroxide ?\n",
    "    1. what is the order of the reaction with respect to [CV$^+$] ?\n",
    "    2. what is the order of the reaction with respect to [OH$^-$] ?\n",
    "    3. what is the rate constant at 326 K\n",
    "2. What is the activation energy for the reaction ?\n",
    "3. Compare your results for the rate law and activation energy for the reaction between crystal violet and hydroxide with the experimental values (search and reference literature values).\n",
    "4. Comment on the differences between the plots of the absorbance _vs_ time obtained at constant [CV] and constant [OH]."
   ]
  },
  {
   "cell_type": "code",
   "execution_count": null,
   "metadata": {},
   "outputs": [],
   "source": [
    "cek.crystalVioletLab()"
   ]
  }
 ],
 "metadata": {
  "kernelspec": {
   "display_name": "Python 3 (ipykernel)",
   "language": "python",
   "name": "python3"
  },
  "language_info": {
   "codemirror_mode": {
    "name": "ipython",
    "version": 3
   },
   "file_extension": ".py",
   "mimetype": "text/x-python",
   "name": "python",
   "nbconvert_exporter": "python",
   "pygments_lexer": "ipython3",
   "version": "3.11.6"
  }
 },
 "nbformat": 4,
 "nbformat_minor": 4
}
