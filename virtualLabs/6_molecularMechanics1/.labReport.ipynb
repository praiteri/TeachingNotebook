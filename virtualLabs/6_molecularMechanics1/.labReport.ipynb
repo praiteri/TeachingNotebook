{
 "cells": [
  {
   "cell_type": "markdown",
   "id": "bd90b46a-618c-4fdb-9223-13ad86c67e48",
   "metadata": {},
   "source": [
    "# Lab report for Molecular Mechanics\n",
    "\n",
    "## Student Name: _______________\n",
    "\n",
    "## Student ID: _______________"
   ]
  },
  {
   "cell_type": "markdown",
   "id": "a5872a23-6f95-4f5f-b2a0-32507c9dbf8c",
   "metadata": {},
   "source": [
    "# Introduction\n",
    "\n",
    "Introduction to molecular mechanics and forcefields (1-2 paragraphs).\n",
    "\n",
    "## Section 1 - Molecular modelling\n",
    "\n",
    "### Section 1.1 - Molecular representations\n",
    "\n",
    "**Task 1** - Choose a molecule with >10 atoms (no not choose caffeine) and plot show differnt representations (Ball and stick, Rings, Stick, van der Waals Spheres, wireframes. Explain the pros and cons for each representations."
   ]
  },
  {
   "cell_type": "markdown",
   "id": "8e547593-6d4c-4d36-a73d-75ae1b3edef9",
   "metadata": {},
   "source": [
    "### Section 1.2 - Intramolecular interactions\n",
    "\n",
    "**Task 2** - Build water and optimise the geometry using the MMFF forcefield. Measure the bond angle and bond length."
   ]
  },
  {
   "cell_type": "markdown",
   "id": "055db1ae-73bf-4260-8c20-3a93ec940c2d",
   "metadata": {},
   "source": [
    "**Task 3** - Build flat and bent geometry for ammonia. Compute the energy for the inversion barrier using the MMFF forcefield and compare with high quality calculations (CCSD(T)/aug-cc-pVQZ=22.333 kJ/mol and experiment=22.546 kJ/mol."
   ]
  },
  {
   "cell_type": "markdown",
   "id": "05196b5d-cdf0-406f-b124-c9f0eb35f00a",
   "metadata": {},
   "source": [
    "### Section 1.3 - Intermolecular interactions\n",
    "\n",
    "**Task 4** - Build molecular dimers and compute binding energy."
   ]
  },
  {
   "cell_type": "markdown",
   "id": "53757ca9-f2e9-4fdd-9632-741d9eadad65",
   "metadata": {},
   "source": [
    "**Task 5** - Compute the electrostatic potential surfaces and use them to explain the interactions between the dimers."
   ]
  },
  {
   "cell_type": "markdown",
   "id": "71041a90-7da4-48bd-af11-ce31c58f8992",
   "metadata": {},
   "source": [
    "**Task 6** - Build water dimer and water ring by optimising the structure using MMFF. Build an ice crystal"
   ]
  },
  {
   "cell_type": "markdown",
   "id": "f6b93632-592f-4888-9b72-825d8766cc05",
   "metadata": {},
   "source": [
    "### Section 1.4 - Biomolecular models\n",
    "\n",
    "**Task 7** - Build DNA and show figure of the hydrogen bonding between the base pairs."
   ]
  },
  {
   "cell_type": "markdown",
   "id": "27f041dd-3ec4-4550-a5fd-3d7c39736bd7",
   "metadata": {},
   "source": [
    "**Task 8** - Build a peptide chain and show as ball and stick model and ribbon model."
   ]
  },
  {
   "cell_type": "markdown",
   "id": "be95b378-60d2-4b7b-b5be-23f457262e98",
   "metadata": {},
   "source": [
    "**Task 9** - Show the 3AGN protein from the protein database with ball and sticks, ribbon and cartoon model. Show the hydrogen bonding in the alpha helices and beta sheets."
   ]
  },
  {
   "cell_type": "markdown",
   "id": "7539bda7-3328-4313-b970-a8efa680c1e4",
   "metadata": {},
   "source": [
    "### Section 1.5 - Nanocarbon models\n",
    "\n",
    "**Task 10** - Build a ball and stick model of diamond, graphite, linsdaleite, graphene, nanotube and C60 fullerene."
   ]
  },
  {
   "cell_type": "markdown",
   "id": "3a614dd8-5160-4460-a91d-57dba9e3c9d6",
   "metadata": {},
   "source": [
    "## Section 2 - Molecular dynamics\n",
    "(no introduction needed)\n",
    "\n",
    "### Section 2.1 - Potential energy surface for a bond vibration\n",
    "\n",
    "**Task 1** - Plot the harmonic and morse potential by writing the functions U_harm and U_morse."
   ]
  },
  {
   "cell_type": "markdown",
   "id": "ebc4b385-1168-4942-94ee-48a4dbb7a94d",
   "metadata": {},
   "source": [
    "**Task 2** - Plot the bottom of the well and talk about when the harmonic approximation is appropriate."
   ]
  },
  {
   "cell_type": "markdown",
   "id": "70bb4de5-bfb7-448b-a9ee-7f5ecee1f7ab",
   "metadata": {},
   "source": [
    "**Task 3** - Explain what each parameter does to the potential energy surface for the two functions."
   ]
  },
  {
   "cell_type": "markdown",
   "id": "c8987196-246d-4e5d-be0e-65823b0ee086",
   "metadata": {},
   "source": [
    "### Section 2.2 - Classical forces\n",
    "\n",
    "**Task 4** - Write two more functions force_harm and force_morse and plot the force as well as the energy on the same plot."
   ]
  },
  {
   "cell_type": "markdown",
   "id": "1eb12c2d-356f-4e88-bddb-aab0f6c0cd68",
   "metadata": {},
   "source": [
    "**Task 5** - On which side of the morse potential is the force greater?"
   ]
  },
  {
   "cell_type": "markdown",
   "id": "b3653dee-f485-431c-86e2-8c252bc21368",
   "metadata": {},
   "source": [
    "### Section 2.3 - Classical molecular dynamics\n",
    "\n",
    "**Task 6** -  Plot the position of the particle as it oscillates over time in the harmonic well."
   ]
  },
  {
   "cell_type": "markdown",
   "id": "0b68b53b-334a-48a1-bf75-f69d0e59ab34",
   "metadata": {},
   "source": [
    "**Task 7** -  Determine the dynamics of a molecule in the morse potential and compare them with the harmonic potential."
   ]
  },
  {
   "cell_type": "markdown",
   "id": "0e288f25-bc88-41fc-bb1a-9b495a09365d",
   "metadata": {},
   "source": [
    "**Task 8** - Change the maximum simulation time to `t_max=100`, a small displacement `x_=1.1`, and `m_=1200` compare the period of the oscillation, $T$, with the value determined from the spring constant. Discuss how accurately does the harmonic approximation works for the morse potential near equilbrium."
   ]
  },
  {
   "cell_type": "markdown",
   "id": "e42a37c7-e97f-4320-9b13-414a8dd9045a",
   "metadata": {},
   "source": [
    "**Task 9** - Set up another simulation with a larger initial displacement Change the maximum simulation time `t_max=100`, a larger initial displacement `x_=2.0`, and `m_=1200` change the t_max to be a period."
   ]
  },
  {
   "cell_type": "markdown",
   "id": "c814a3ea-7bc7-4070-ac00-34d93463ac17",
   "metadata": {},
   "source": [
    "## Section 3 - Molecular dynamics simulations of water\n",
    "\n",
    "### Section 3.1 - Introduction\n",
    "\n",
    "**Task 1** - Describe the scope of the laboratory"
   ]
  },
  {
   "cell_type": "markdown",
   "id": "6be1123a-a93b-4e6d-b258-58fa1c613a32",
   "metadata": {},
   "source": [
    "**Task 2** - Describe the water model that you have chosen"
   ]
  },
  {
   "cell_type": "markdown",
   "id": "b7cae7ff-6b38-4ce0-9487-36f1af181cb1",
   "metadata": {},
   "source": [
    "**Task 3** - Describe The set of temperatures that you have chosen"
   ]
  },
  {
   "cell_type": "markdown",
   "id": "3c89c956-a15f-4326-a811-c12b8ac4db19",
   "metadata": {},
   "source": [
    "**Task 4** - Detail the length of the simulations you chose.\n",
    "\n",
    "### Section 3.1 - Results"
   ]
  },
  {
   "cell_type": "markdown",
   "id": "fa8cbe1f-9cd0-438d-8329-4463dde4226f",
   "metadata": {},
   "source": [
    "**Task 5** - How you computed the average, standard error and standard deviation of the volume/density"
   ]
  },
  {
   "cell_type": "markdown",
   "id": "0ab92483-e45c-4edb-8114-31eac4d73af0",
   "metadata": {},
   "source": [
    "**Task 6** - A table with the average (molar) volumes and densities"
   ]
  },
  {
   "cell_type": "markdown",
   "id": "96efb810-e4e8-4bdc-9e41-e7723e8c7e64",
   "metadata": {},
   "source": [
    "**Task 7** - A plot of $\\ln V$ _vs_ T and the polynomial fitting function"
   ]
  },
  {
   "cell_type": "markdown",
   "id": "00c535e5-8049-4dd6-8aa1-311b535123d9",
   "metadata": {},
   "source": [
    "**Task 8** - The volumetric thermal expansion coefficient of water at 20$^\\circ$C and 50$^\\circ$C"
   ]
  },
  {
   "cell_type": "markdown",
   "id": "9861f32f-a5b5-46a5-bd27-b4692d81c171",
   "metadata": {},
   "source": [
    "### Section 3.1 - Discussion\n",
    "\n",
    "**Task 9** - A comparison between your values for the density and the thermal expansion coefficient with literature values for \"real\" water and obtained from other simulations with the same water model."
   ]
  }
 ],
 "metadata": {
  "kernelspec": {
   "display_name": "Python 3 (ipykernel)",
   "language": "python",
   "name": "python3"
  },
  "language_info": {
   "codemirror_mode": {
    "name": "ipython",
    "version": 3
   },
   "file_extension": ".py",
   "mimetype": "text/x-python",
   "name": "python",
   "nbconvert_exporter": "python",
   "pygments_lexer": "ipython3",
   "version": "3.11.7"
  }
 },
 "nbformat": 4,
 "nbformat_minor": 5
}
