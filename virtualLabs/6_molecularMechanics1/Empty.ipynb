{
 "cells": [
  {
   "cell_type": "markdown",
   "id": "c5ec90ea",
   "metadata": {},
   "source": [
    "# Start coding"
   ]
  },
  {
   "cell_type": "code",
   "execution_count": null,
   "id": "65bb3c1f",
   "metadata": {},
   "outputs": [],
   "source": [
    "# python packages\n",
    "import pandas as pd # Dataframes and reading CSV files\n",
    "import numpy as np # Numerical libraries\n",
    "import matplotlib.pyplot as plt # Plotting library\n",
    "from lmfit import Model # Least squares fitting library\n",
    "from scipy.optimize import curve_fit # Alternative curve fittting library"
   ]
  }
 ],
 "metadata": {},
 "nbformat": 4,
 "nbformat_minor": 5
}
