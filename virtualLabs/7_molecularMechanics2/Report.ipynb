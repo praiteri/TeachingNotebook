{
 "cells": [
  {
   "cell_type": "markdown",
   "id": "9da83ddc",
   "metadata": {},
   "source": [
    "# Report for Water Density (MD)\n",
    "\n",
    "## Student Name: _______________\n",
    "\n",
    "## Student ID: _______________"
   ]
  },
  {
   "cell_type": "code",
   "execution_count": null,
   "id": "49fb3e30",
   "metadata": {},
   "outputs": [],
   "source": [
    "# Import the required python packages here\n",
    "import pandas as pd                  # Dataframes and reading CSV files\n",
    "import numpy as np                   # Numerical libraries\n",
    "import matplotlib.pyplot as plt      # Plotting library\n",
    "from lmfit import Model              # Curve fitting library\n",
    "from IPython.display import Image"
   ]
  },
  {
   "cell_type": "markdown",
   "id": "abbfb5ee",
   "metadata": {},
   "source": [
    "# Introduction\n",
    "\n",
    "**Task 1** - Describe the scope of the laboratory\n",
    "\n",
    "**Task 2** - Describe the water model that you have chosen\n",
    "\n",
    "**Task 3** - Describe the set of temperatures that you have chosen\n",
    "\n",
    "**Task 4** - Detail the length of the simulations you chose.\n",
    "\n",
    "# Results\n",
    "**this paragraph can be removed**\\\n",
    "In this section you have to report and discuss your results.\n",
    "Write short paragraphs to complete the tasks below.\n",
    "Split the cell and add as many python/markdown cells you need\n",
    "\n",
    "**Task 5** - Plot the time evolution of temperature and density (separately for the lowest and highest temperature you simulated)\n",
    "\n",
    "**Task 6** - Discuss how you computed the average, standard error and standard deviation of the volume/density. Note that there is an induction time and the simulations and it may take a while to reach an equilibrium condition.\n",
    "\n",
    "**Task 7** - Make a table with the average (molar) volumes and densities\n",
    "\n",
    "**Task 8** - Make plot of $\\ln V$ _vs_ T and the polynomial fitting function\n",
    "\n",
    "**Task 9** - Report the volumetric thermal expansion coefficient of water at 20$^\\circ$C and 50$^\\circ$C\n",
    "\n",
    "# Section 3.1 - Discussion\n",
    "\n",
    "**Task 9** - Compare your values for the density and the thermal expansion coefficient with literature values for \"real\" water and obtained from other simulations with the same water model. Write a short discussion."
   ]
  }
 ],
 "metadata": {
  "kernelspec": {
   "display_name": "Python 3 (ipykernel)",
   "language": "python",
   "name": "python3"
  },
  "language_info": {
   "codemirror_mode": {
    "name": "ipython",
    "version": 3
   },
   "file_extension": ".py",
   "mimetype": "text/x-python",
   "name": "python",
   "nbconvert_exporter": "python",
   "pygments_lexer": "ipython3",
   "version": "3.9.15"
  }
 },
 "nbformat": 4,
 "nbformat_minor": 5
}
