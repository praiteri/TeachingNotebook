{
 "cells": [
  {
   "cell_type": "markdown",
   "id": "9ba2a5be-a70d-41f9-b6a4-07d014625b2a",
   "metadata": {},
   "source": [
    "# Lab report for Quantum Mechanics\n",
    "\n",
    "## Student Name: _______________\n",
    "\n",
    "## Student ID: _______________"
   ]
  },
  {
   "cell_type": "markdown",
   "id": "d20ed16b-4701-4cea-9834-461bc2dbabd1",
   "metadata": {},
   "source": [
    "## Introduction\n",
    "\n",
    "Briefly introduce the Schrodinger equation ($-\\frac{\\hbar}{2m}\\frac{d^2}{dx^2}\\Psi+V(x)\\Psi=E\\Psi$) and how it can be used in chemistry to describe bonds vibrate and electrons interact (2 paragraphs)."
   ]
  },
  {
   "cell_type": "markdown",
   "id": "64d38c4f-a858-4b86-9e76-adb213f82324",
   "metadata": {},
   "source": [
    "## Section 1 - Quantum confinement\n",
    "\n",
    "For the first section on quantum confinement complete the following tasks using screenshots of the simulated plot to aid your answers.\n",
    "\n",
    "**Task 1** - Plot the wavefunctions for the harmonic oscillator for k=0.5 and D=2.0. Comment on the quantisation of the vibrations compared to classical vibrations."
   ]
  },
  {
   "cell_type": "markdown",
   "id": "8d4a7bb3-c221-4920-a668-add9370ffc13",
   "metadata": {},
   "source": [
    "**Task 2** - The exact energy solutions to the quantum harmonic oscillator in atomic units ($\\hbar=1,\\; m=1$) are\n",
    "\n",
    "\\begin{equation}\n",
    "E_n=\\omega\\left(n+\\frac{1}{2}\\right)\n",
    "\\end{equation}\n",
    "\n",
    "where $\\omega=\\sqrt{\\frac{k}{m}}$\n",
    "\n",
    "Compare the energies computed using the numerical approach and the exact approach."
   ]
  },
  {
   "cell_type": "markdown",
   "id": "f47df16d-4e69-479b-9bcd-6449a1d737d9",
   "metadata": {},
   "source": [
    "**Task 3** - Change the spring constant from 0.25 to 1.35. How does the zero point energy change (lowest energy level)? Comment on how this demonstrates the uncertainty principle. Describe what the zero point energy is."
   ]
  },
  {
   "cell_type": "markdown",
   "id": "7d8ef8f3-9bb6-4f38-8b56-0350254a2b0b",
   "metadata": {},
   "source": [
    "**Task 4** - How much energy is absorbed when the system is excited from the n=0 to n=1 energy level? How does this compare with the energy that is absorbed by a driven classical harmonic oscillator?"
   ]
  },
  {
   "cell_type": "markdown",
   "id": "dc7ed881-082f-4315-9cb5-ca1d572ded98",
   "metadata": {},
   "source": [
    "**Task 5** - Plot the morse potential wavefunctions for k=0.5, D=2.0. How many bound states are there compared to the harmonic oscillator? How do the energies of the lowest energy states compare with the harmonic oscillator? How does the interstate energy change for the morse potential?"
   ]
  },
  {
   "cell_type": "markdown",
   "id": "deaf9674-1d7e-4775-949f-582279875809",
   "metadata": {},
   "source": [
    "**Task 6** - Plot the probabiliy for k=0.8 and D=4.0. How does this compare with the classical probability of finding the particle in the well? For the morse potential which side of the potential does it spend the most amount of time."
   ]
  },
  {
   "cell_type": "markdown",
   "id": "736195d0-7c30-463e-89ea-ae6bcacc1bbc",
   "metadata": {},
   "source": [
    "## Section 2 - Quantum interference\n",
    "\n",
    "For the second section on quantum interference complete the following tasks using screenshots of the simulated plot to aid your answers.\n",
    "\n",
    "**Task 1** - Plot the single well solution by setting D1=0.0, W2=0.5 and D2=200. Compare this solution to the harmonic oscillator from last weeks lab."
   ]
  },
  {
   "cell_type": "markdown",
   "id": "e9004bbd-fce1-4ef7-9fe4-7cbd3188cbcb",
   "metadata": {},
   "source": [
    "**Task 2** - Plot the probability for the solution in Task 1 (this can take some time). The probability of finding a particle is outside of the potential energy surface a classically forbidden region. This is called tunneling where the wavefunction decays exponentially in the barrier. How does tunneling compare between the lowest energy bound state and the highest energy bound state?"
   ]
  },
  {
   "cell_type": "markdown",
   "id": "b09f0384-8289-461e-af26-9714d79d978c",
   "metadata": {},
   "source": [
    "**Task 3** - To further explore tunneling we are going to look at two mismatched quantum systems W1=0.5, D1=50.0, W2=0.5, D2=100. Plot the wells far from each other B=2.0. Compare this system with the wells close together B=0.4. Which states can tunnel into the other well? How much does the energy decrease with this tunneling?"
   ]
  },
  {
   "cell_type": "markdown",
   "id": "3b11f59b-34aa-432e-ab78-0b968bc60635",
   "metadata": {},
   "source": [
    "**Task 4** - Let's now compare a matched double well to look at interference W1=0.5, D1=100, W2=0.5, D2=100. Plot the results far away B=2.0. You will see that the energy levels are degenerate (the same). However, one is out of phase with the other. These are non-interacting systems. Plot the results for B=0.5. The top two states will be constructively and destructively interfering (one state gets high, less stable, and the other lower in energy, more stable). "
   ]
  },
  {
   "cell_type": "markdown",
   "id": "d158ad4b-8e80-4dd7-9985-dba85c7ae29e",
   "metadata": {},
   "source": [
    "**Task 5** - Plot the probability of the Task 4 system. Which state has a higher probability of being in between the wells and is constructively interfering? Explain how this constructive interference holds the nuclei together in a bond. "
   ]
  }
 ],
 "metadata": {
  "kernelspec": {
   "display_name": "Python 3 (ipykernel)",
   "language": "python",
   "name": "python3"
  },
  "language_info": {
   "codemirror_mode": {
    "name": "ipython",
    "version": 3
   },
   "file_extension": ".py",
   "mimetype": "text/x-python",
   "name": "python",
   "nbconvert_exporter": "python",
   "pygments_lexer": "ipython3",
   "version": "3.11.7"
  }
 },
 "nbformat": 4,
 "nbformat_minor": 5
}
