{
 "cells": [
  {
   "cell_type": "code",
   "execution_count": null,
   "metadata": {},
   "outputs": [],
   "source": [
    "import cekComputerLabs as cek\n",
    "cek.checkGitRepo()"
   ]
  },
  {
   "cell_type": "code",
   "execution_count": null,
   "metadata": {},
   "outputs": [],
   "source": [
    "cek.openNotebook()\n",
    "cek.convertNotebook()"
   ]
  },
  {
   "cell_type": "markdown",
   "metadata": {},
   "source": [
    "# Quantum mechanics 1 - Vibrations\n",
    "\n",
    "In this laboratory you will be solving the Schrodinger equation on simple systems to enable you to gain a **quantum intuition**. \n",
    "\n",
    "This lab will focus on quantum vibrations that will introduce you to the principle of quantisation and confinement.\n",
    "- quantisation - only discrete energy levels are allowed\n",
    "- confinement - as the position becomes more defined the energy/momentum becomes less well defined\n",
    "\n",
    "The widget has been constructed based on a recent code developed by by Matthew Srnec and Shiv Upadhyay. You can use the sliders to set the values and then click run and wait for the simulation to be done and a plot will be generated.\n",
    "\n",
    "**Make sure you close the figure before running the next simulation**\n",
    "\n",
    "The tasks to complete with this simulations are below the app."
   ]
  },
  {
   "cell_type": "markdown",
   "metadata": {},
   "source": [
    "## Note about units\n",
    "We will be using atomic units throughout that makes the Schrodinger equation "
   ]
  },
  {
   "cell_type": "code",
   "execution_count": null,
   "metadata": {},
   "outputs": [],
   "source": [
    "#Importing the important libraries\n",
    "%matplotlib notebook\n",
    "#The Schrodinger solver by Matthew Srnec and Shiv Upadhyay will be used\n",
    "from utils3 import * #This is another file with functions in it to clean up the plotting.\n",
    "import numpy as np\n",
    "from IPython.display import clear_output\n",
    "import ipywidgets as widgets\n",
    "# atomic units\n",
    "hbar=1.0\n",
    "m=1.0\n",
    "#set precision of numerical approximation\n",
    "steps=2000"
   ]
  },
  {
   "cell_type": "code",
   "execution_count": null,
   "metadata": {},
   "outputs": [],
   "source": [
    "# atomic units\n",
    "hbar=1.0\n",
    "m=1.0\n",
    "#set precision of numerical approximation\n",
    "steps=2000"
   ]
  },
  {
   "cell_type": "code",
   "execution_count": null,
   "metadata": {},
   "outputs": [],
   "source": [
    "#The Schrodinger solver by Matthew Srnec and Shiv Upadhyay will be used\n",
    "from utils3 import * #This is another file with functions in it to clean up the plotting.\n",
    "\n",
    "# set force constant and depth of harmonic well/morse potential\n",
    "k = widgets.FloatSlider(value=0.25,min=0.25,max=1.4,step=0.05, description=\"k\")\n",
    "D = widgets.FloatSlider(value=4,min=1,max=5,step=1.0, description=\"D\")\n",
    "Case = widgets.Dropdown(\n",
    "    options=[('Harmonic', 5), ('Morse', 6)],\n",
    "    value=5,\n",
    "    description='Potential:',\n",
    ")\n",
    "\n",
    "@debounce(0.1) #https://ipywidgets.readthedocs.io/en/latest/examples/Widget%20Events.html#Debouncing\n",
    "def handle_slider_change_1(change):\n",
    "    \n",
    "    clear_output()\n",
    "    \n",
    "    if Case.value==5:\n",
    "        # divide by two so a well from -W to W is of input width\n",
    "        W=np.sqrt(np.abs(2.0*-D.value)/(k.value**2))\n",
    "        # set length variable for xvec\n",
    "        A=W*2.0\n",
    "        # create x-vector from -A to A\n",
    "        xvec=np.linspace(-A,A,steps,dtype=np.float_)\n",
    "        # get step size\n",
    "        h=xvec[1]-xvec[0]\n",
    "        # create the potential from harmonic potential function\n",
    "        U=harmonic_potential(xvec,k.value,-D.value)\n",
    "    if Case.value==6:\n",
    "        # create the potential from morse potential function\n",
    "        xvec,h,U=morse_potential(k.value,D.value,steps)\n",
    "        \n",
    "    \n",
    "    \n",
    "    # create Laplacian via 3-point finite-difference method\n",
    "    Laplacian=(-2.0*np.diag(np.ones(steps))+np.diag(np.ones(steps-1),1)\\\n",
    "        +np.diag(np.ones(steps-1),-1))/(float)(h**2)\n",
    "    # 'create the Hamiltonian'\n",
    "    Hamiltonian=np.zeros((steps,steps))\n",
    "    [i,j] = np.indices(Hamiltonian.shape)\n",
    "    Hamiltonian[i==j]=U\n",
    "    Hamiltonian+=(-0.5)*((hbar**2)/m)*Laplacian\n",
    "    # diagonalize the Hamiltonian yielding the wavefunctions and energies\n",
    "    E,V=diagonalize_hamiltonian(Hamiltonian)\n",
    "    # determine theoretical number of energy levels (n)\n",
    "    n=0\n",
    "    while E[n]<0:\n",
    "        n+=1\n",
    "    # print output\n",
    "    #output(Case,['Force Constant','Depth'],[omega,D],E,n)\n",
    "    # create plot\n",
    "    display(Case,k,D,squared_1,button_1)\n",
    "    finite_well_plot(E,V,xvec,steps,n,Case,U,param=[k,D],ask_squared=squared_1.value)\n",
    "    plt.xlim((-20,20))\n",
    "    \n",
    "\n",
    "case = widgets.Dropdown(options=\"\", value=None, description='State:')\n",
    "\n",
    "button_1 = widgets.Button(description=\"Run\")\n",
    "\n",
    "squared_1 = widgets.Checkbox(value=False,description=\"Probability\")\n",
    "\n",
    "button_1.on_click(handle_slider_change_1)\n",
    "\n",
    "display(Case,k,D,squared_1,button_1)"
   ]
  },
  {
   "cell_type": "markdown",
   "metadata": {},
   "source": [
    "# Tasks for the lab report, section 1:\n",
    " \n",
    "## Introduction\n",
    "\n",
    "Briefly introduce the Schrodinger equation ($-\\frac{\\hbar}{2m}\\frac{d^2}{dx^2}\\Psi+V(x)\\Psi=E\\Psi$) and how it can be used in chemistry to describe bonds vibrate and electrons interact (2 paragraphs).\n",
    "\n",
    "## Section 1 - Quantum confinement\n",
    "\n",
    "For the first section on quantum confinement complete the following tasks using screenshots of the simulated plot to aid your answers.\n",
    "\n",
    "**Task 1** - Plot the wavefunctions for the harmonic oscillator for k=0.5 and D=2.0. Comment on the quantisation of the vibrations compared to classical vibrations.\n",
    "\n",
    "**Task 2** - The exact energy solutions to the quantum harmonic oscillator in atomic units ($\\hbar=1,\\; m=1$) are\n",
    "\n",
    "\\begin{equation}\n",
    "E_n=\\omega\\left(n+\\frac{1}{2}\\right)\n",
    "\\end{equation}\n",
    "\n",
    "where $\\omega=\\sqrt{\\frac{k}{m}}$\n",
    "\n",
    "Compare the energies computed using the numerical approach and the exact approach.\n",
    "\n",
    "**Task 3** - Change the spring constant from 0.25 to 1.35. How does the zero point energy change (lowest energy level)? Comment on how this demonstrates the uncertainty principle. Describe what the zero point energy is.\n",
    "\n",
    "**Task 4** - How much energy is absorbed when the system is excited from the n=0 to n=1 energy level? How does this compare with the energy that is absorbed by a driven classical harmonic oscillator?\n",
    "\n",
    "**Task 5** - Plot the morse potential wavefunctions for k=0.5, D=2.0. How many bound states are there compared to the harmonic oscillator? How do the energies of the lowest energy states compare with the harmonic oscillator? How does the interstate energy change for the morse potential?\n",
    "\n",
    "**Task 6** - Plot the probabiliy for k=0.8 and D=4.0. How does this compare with the classical probability of finding the particle in the well? For the morse potential which side of the potential does it spend the most amount of time."
   ]
  }
 ],
 "metadata": {
  "kernelspec": {
   "display_name": "Python 3 (ipykernel)",
   "language": "python",
   "name": "python3"
  },
  "language_info": {
   "codemirror_mode": {
    "name": "ipython",
    "version": 3
   },
   "file_extension": ".py",
   "mimetype": "text/x-python",
   "name": "python",
   "nbconvert_exporter": "python",
   "pygments_lexer": "ipython3",
   "version": "3.11.6"
  }
 },
 "nbformat": 4,
 "nbformat_minor": 4
}
