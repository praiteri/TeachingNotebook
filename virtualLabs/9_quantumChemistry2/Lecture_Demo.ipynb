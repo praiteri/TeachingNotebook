{
 "cells": [
  {
   "cell_type": "code",
   "execution_count": null,
   "metadata": {},
   "outputs": [],
   "source": [
    "import cekComputerLabs as cek\n",
    "cek.checkGitRepo()"
   ]
  },
  {
   "cell_type": "code",
   "execution_count": null,
   "metadata": {},
   "outputs": [],
   "source": [
    "#Importing the important libraries\n",
    "%matplotlib notebook\n",
    "#The Schrodinger solver by Matthew Srnec and Shiv Upadhyay will be used\n",
    "from utils3 import * #This is another file with functions in it to clean up the plotting.\n",
    "import numpy as np\n",
    "from IPython.display import clear_output\n",
    "import ipywidgets as widgets\n",
    "# atomic units\n",
    "hbar=1.0\n",
    "m=1.0"
   ]
  },
  {
   "cell_type": "markdown",
   "metadata": {},
   "source": [
    "## Atomic potential\n",
    "\n",
    "\n",
    "The potential for an atom is the coulomb potential is\n",
    "\n",
    "\\begin{equation}\n",
    "U_{atom} = -\\frac{e^2}{4\\pi\\epsilon_0 r}\n",
    "\\end{equation}\n",
    "\n",
    "in atomic units it is even easier\n",
    "\n",
    "\\begin{equation}\n",
    "U_{atom} = -\\frac{1}{r}\n",
    "\\end{equation}\n",
    "\n",
    "The solutions to the coulomb potential in atomic units are\n",
    "\n",
    "\\begin{equation}\n",
    "E_n = -\\frac{1}{2n^2}\n",
    "\\end{equation}\n",
    "\n",
    "with the radial wavefunctions\n",
    "\n",
    "\\begin{eqnarray}\n",
    "\\psi_{1s,\\; l=0}=&2e^{-r} \\\\\n",
    "\\psi_{2s,\\; l=0}=&\\frac{1}{2\\sqrt{2}}(2-r)e^{-r/2} \\\\\n",
    "\\psi_{2s,\\; l=1}=&\\frac{1}{2\\sqrt{2}}e^{-r/2} \\\\\n",
    "\\psi_{3s,\\; l=0}=&\\frac{2}{81\\sqrt{3}}(27-18r+2r^2)e^{-r/3} \\\\\n",
    "\\psi_{3s,\\; l=1}=&\\frac{4}{81\\sqrt{6}}r(6-r)e^{-r/3} \\\\\n",
    "\\psi_{3s,\\; l=2}=&\\frac{4}{81\\sqrt{30}}r^2e^{-r/2}\n",
    "\\end{eqnarray}"
   ]
  },
  {
   "cell_type": "code",
   "execution_count": null,
   "metadata": {},
   "outputs": [],
   "source": [
    "x = np.linspace(-50,50,num=1000)\n",
    "r = abs(x)\n",
    "scale=0.15\n",
    "\n",
    "U_atom = -1/r\n",
    "\n",
    "plt.figure(figsize=(4,3))\n",
    "plt.plot(x,U_atom,'k-')\n",
    "plt.axhline(-1/2/1**2,linestyle='dashed')\n",
    "plt.plot(x,scale*2*np.exp(-r)-(1/2/1**2))\n",
    "plt.axhline(-1/2/2**2,linestyle='dashed')\n",
    "plt.plot(x,scale*1/2/np.sqrt(2)*(2-r)*np.exp(-r/2)-(1/2/2**2))\n",
    "plt.axhline(-1/2/3**2,linestyle='dashed')\n",
    "plt.plot(x,scale*2/81/np.sqrt(3)*(27-18*r+2*r**2)*np.exp(-r/3)-(1/2/3**2))\n",
    "plt.ylim(-1,0.2)\n",
    "plt.show()"
   ]
  },
  {
   "cell_type": "markdown",
   "metadata": {},
   "source": [
    "## Quantum interference\n",
    "\n",
    "Let's consider two atoms interacting with each other separted by one bohr radius"
   ]
  },
  {
   "cell_type": "code",
   "execution_count": null,
   "metadata": {},
   "outputs": [],
   "source": [
    "x = np.linspace(-20,20,num=1000)\n",
    "shift = 1\n",
    "\n",
    "r = abs(x-shift)\n",
    "U_atom_1 = -1/r\n",
    "\n",
    "zeta = 1.0\n",
    "\n",
    "psi_1 = (1/np.pi)**(0.5)*np.exp(-r)\n",
    "\n",
    "shift = -1\n",
    "r = abs(x-shift)\n",
    "U_atom_2 = -1/r\n",
    "\n",
    "psi_2 = (1/np.pi)**(0.5)*np.exp(-r)\n",
    "\n",
    "plt.figure(figsize=(4,3))\n",
    "plt.axhline(-1/2/1**2,linestyle='dashed')\n",
    "plt.plot(x,psi_1+psi_2-(1/2/1**2))\n",
    "#plt.plot(x,psi_STO_1**2+psi_STO_2**2-(1/2/1**2))\n",
    "plt.plot(x,U_atom_1+U_atom_2)\n",
    "plt.ylim(-3,0.2)"
   ]
  },
  {
   "cell_type": "markdown",
   "metadata": {},
   "source": [
    "Let's compare the classical case of two charge densities interacting psi_1$^2$+psi_2$^2$ and the quantum case of constructively interfering and destructively interfering, (psi_1+psi_2)$^2$ and (psi_1-psi_2)$^2$."
   ]
  },
  {
   "cell_type": "code",
   "execution_count": null,
   "metadata": {},
   "outputs": [],
   "source": [
    "plt.figure(figsize=(6,3))\n",
    "plt.plot(x,psi_1**2+psi_2**2,'k',label=\"Classical\")\n",
    "plt.plot(x,(psi_1+psi_2)**2,'b',label=\"Quantum +ve\")\n",
    "plt.plot(x,(psi_1-psi_2)**2,'r',label=\"Quantum -ve\")\n",
    "plt.legend()\n",
    "plt.xlim((-5,5))\n",
    "plt.show()"
   ]
  },
  {
   "cell_type": "markdown",
   "metadata": {},
   "source": [
    "Let's expand the equation for the constructive interfering case (psi_1+psi_2)$^2$ and explain how the equation gives the classical terms and interference term. Discuss how the increase in charge density in between the atomic nuclei enables bonding between the positively charged nuclei.\n",
    "\n",
    "\n",
    "\\begin{equation}\n",
    "\\psi_{tot} = N(\\psi_1+\\psi_2)^2\n",
    "\\end{equation}\n",
    "\n",
    "\\begin{equation}\n",
    "\\psi_{tot} = N(\\psi_1+\\psi_2)(\\psi_1+\\psi_2)\n",
    "\\end{equation}\n",
    "\n",
    "\n",
    "\\begin{equation}\n",
    "\\psi_{tot} = N(\\psi_1\\psi_1+\\psi_2\\psi_2+2\\psi_1\\psi_2)\n",
    "\\end{equation}\n",
    "\n",
    "\\begin{equation}\n",
    "\\psi_{tot} = N(\\psi_1^2+\\psi_2^2+2\\psi_1\\psi_2)\n",
    "\\end{equation}\n",
    "\n",
    "The first two terms are the classical charge densities they are what you expectt if no quantum effects are occuring. The $2\\psi_1\\psi_2$ is the quantum interference term and means an increase in the electron density between the atoms."
   ]
  },
  {
   "cell_type": "code",
   "execution_count": null,
   "metadata": {},
   "outputs": [],
   "source": []
  }
 ],
 "metadata": {
  "kernelspec": {
   "display_name": "Python 3 (ipykernel)",
   "language": "python",
   "name": "python3"
  },
  "language_info": {
   "codemirror_mode": {
    "name": "ipython",
    "version": 3
   },
   "file_extension": ".py",
   "mimetype": "text/x-python",
   "name": "python",
   "nbconvert_exporter": "python",
   "pygments_lexer": "ipython3",
   "version": "3.9.15"
  }
 },
 "nbformat": 4,
 "nbformat_minor": 4
}
