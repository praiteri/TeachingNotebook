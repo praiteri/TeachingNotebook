{
 "cells": [
  {
   "cell_type": "code",
   "execution_count": 9,
   "id": "monetary-dialogue",
   "metadata": {},
   "outputs": [],
   "source": [
    "from sys import stdout\n",
    "from openmm.app import *\n",
    "from openmm import *\n",
    "from simtk.unit import *\n",
    "\n",
    "import openmmtools as tools\n",
    "import MDAnalysis as md\n",
    "import nglview as ng\n",
    "import pandas as pd\n",
    "import numpy as np\n",
    "\n",
    "import matplotlib.pyplot as plt\n",
    "%matplotlib inline "
   ]
  },
  {
   "cell_type": "code",
   "execution_count": 10,
   "id": "frequent-russell",
   "metadata": {},
   "outputs": [],
   "source": [
    "### 1. Choose a water model\n",
    "h2o = \"spce\"\n",
    "# h2o = \"tip3p\"\n",
    "# h2o = \"tip4p\"\n",
    "# h2o = \"tip4pew\"\n",
    "# h2o = \"tip5p\"\n",
    "\n",
    "### 2. Create initial coordinates and system\n",
    "water = tools.testsystems.WaterBox(model=h2o,\n",
    "                                  box_edge=2.5*nanometers)\n",
    "\n",
    "### 2a. Save initial coordinates to file\n",
    "output = open('water.pdb', 'w')\n",
    "PDBFile.writeFile(water.topology, water.positions, output)\n",
    "output.flush()"
   ]
  },
  {
   "cell_type": "code",
   "execution_count": 11,
   "id": "breeding-crowd",
   "metadata": {},
   "outputs": [],
   "source": [
    "### 3. Choose parameters of the experiment: temperature, pressure and length\n",
    "temperature = 320*kelvin\n",
    "pressure = 1*atmosphere\n",
    "simulationTime = 5*picosecond\n",
    "\n",
    "### 3a. Simulation timestep, total number of steps and thermostat/barostat parameters\n",
    "timeStep = 0.002*picoseconds\n",
    "totalSteps = simulationTime / timeStep\n",
    "frictionCoeff = 1/picosecond\n",
    "nupdt = 25\n",
    "\n",
    "### 4. Choose an integrator\n",
    "integrator = LangevinIntegrator( temperature, frictionCoeff, timeStep )\n",
    "water.system.addForce(MonteCarloBarostat( pressure , temperature , nupdt ) )\n",
    "\n",
    "### 5 Create a simulation object\n",
    "simulation = Simulation(water.topology, water.system, integrator)\n",
    "simulation.context.setPositions(water.positions)\n",
    "simulation.context. setVelocitiesToTemperature(temperature, 12345)\n",
    "\n",
    "### 6. Set output for trajectory and thermodynamics data\n",
    "simulation.reporters.append(DCDReporter('traj.dcd', 100))\n",
    "\n",
    "### 7. Set output for thermodynamics data\n",
    "simulation.reporters.append(StateDataReporter( \"thermo.csv\"\n",
    "                                             , 10\n",
    "                                             , step            = True\n",
    "                                             , time            = True\n",
    "                                             , potentialEnergy = True\n",
    "                                             , temperature     = True\n",
    "                                             , density         = True\n",
    "                                             , volume          = True\n",
    "                                             , separator       = \",\"\n",
    "                                             ))\n",
    "\n",
    "\n",
    "### 7a. Set screen output to monitor the simulation progress\n",
    "simulation.reporters.append(StateDataReporter( stdout\n",
    "                                             , int(totalSteps/10)\n",
    "                                             , step            = True\n",
    "                                             , progress        = True\n",
    "                                             , remainingTime   = True\n",
    "                                             , elapsedTime     = True\n",
    "                                             , separator       = \" \"\n",
    "                                             , totalSteps      = totalSteps\n",
    "                                             ))\n"
   ]
  },
  {
   "cell_type": "code",
   "execution_count": 12,
   "id": "happy-crystal",
   "metadata": {},
   "outputs": [
    {
     "name": "stdout",
     "output_type": "stream",
     "text": [
      "#\"Progress (%)\" \"Step\" \"Elapsed Time (s)\" \"Time Remaining\"\n",
      "10.0% 250 4.6253204345703125e-05 --\n",
      "20.0% 500 3.4581124782562256 0:27\n",
      "30.0% 750 6.981318235397339 0:24\n",
      "40.0% 1000 10.449214458465576 0:20\n",
      "50.0% 1250 13.749690055847168 0:17\n",
      "60.0% 1500 17.153161764144897 0:13\n",
      "70.0% 1750 20.482667922973633 0:10\n",
      "80.0% 2000 23.880424976348877 0:06\n",
      "90.0% 2250 27.27147603034973 0:03\n",
      "100.0% 2500 30.779780387878418 0:00\n"
     ]
    }
   ],
   "source": [
    "### 8. Run MD\n",
    "simulation.step(totalSteps)"
   ]
  },
  {
   "cell_type": "code",
   "execution_count": 13,
   "id": "considered-brazilian",
   "metadata": {},
   "outputs": [
    {
     "data": {
      "application/vnd.jupyter.widget-view+json": {
       "model_id": "e3bf0111d2854d5e8aefade8db2f62c1",
       "version_major": 2,
       "version_minor": 0
      },
      "text/plain": [
       "NGLWidget(max_frame=24)"
      ]
     },
     "metadata": {},
     "output_type": "display_data"
    },
    {
     "data": {
      "application/vnd.jupyter.widget-view+json": {
       "model_id": "efcef3aa408d46c08f9f531b25d5ce28",
       "version_major": 2,
       "version_minor": 0
      },
      "text/plain": [
       "Tab(children=(Box(children=(Box(children=(Box(children=(Label(value='step'), IntSlider(value=1, min=-100)), la…"
      ]
     },
     "metadata": {},
     "output_type": "display_data"
    }
   ],
   "source": [
    "### 9. Visualization\n",
    "sys = md.Universe(\"water.pdb\", 'traj.dcd')\n",
    "ng.show_mdanalysis(sys, gui=True)"
   ]
  },
  {
   "cell_type": "code",
   "execution_count": 14,
   "id": "reasonable-gather",
   "metadata": {},
   "outputs": [
    {
     "name": "stdout",
     "output_type": "stream",
     "text": [
      "   #\"Step\"  Time (ps)  Potential Energy (kJ/mole)  Temperature (K)  \\\n",
      "0       10       0.02               -17783.534230      1225.613995   \n",
      "1       20       0.04               -17708.083555      1180.506950   \n",
      "2       30       0.06               -17080.726192      1097.187048   \n",
      "3       40       0.08               -16633.966228      1034.186229   \n",
      "4       50       0.10               -16773.478110      1012.412426   \n",
      "\n",
      "   Box Volume (nm^3)  Density (g/mL)  \n",
      "0          15.625000        0.984089  \n",
      "1          15.625000        0.984089  \n",
      "2          15.625000        0.984089  \n",
      "3          15.625000        0.984089  \n",
      "4          15.777909        0.974552  \n",
      "     #\"Step\"  Time (ps)  Potential Energy (kJ/mole)  Temperature (K)  \\\n",
      "245     2460       4.92               -22995.403604       339.990995   \n",
      "246     2470       4.94               -22851.765985       327.207282   \n",
      "247     2480       4.96               -22860.018163       329.966548   \n",
      "248     2490       4.98               -22825.880684       327.065594   \n",
      "249     2500       5.00               -22772.683497       319.367469   \n",
      "\n",
      "     Box Volume (nm^3)  Density (g/mL)  \n",
      "245          15.421783        0.997056  \n",
      "246          15.421783        0.997056  \n",
      "247          15.458534        0.994686  \n",
      "248          15.458534        0.994686  \n",
      "249          15.458534        0.994686  \n"
     ]
    }
   ],
   "source": [
    "### 10. Load the thermodynamic data in a dataframe\n",
    "data = pd.read_csv(\"thermo.csv\")\n",
    "print(data.head())\n",
    "print(data.tail())"
   ]
  },
  {
   "cell_type": "code",
   "execution_count": 15,
   "id": "enclosed-irrigation",
   "metadata": {},
   "outputs": [
    {
     "name": "stdout",
     "output_type": "stream",
     "text": [
      "Slope              : 0.007185018100884931\n",
      "Intercept          : 0.9430483715264623\n"
     ]
    },
    {
     "data": {
      "image/png": "[encoded data removed]",
      "text/plain": [
       "<Figure size 432x288 with 1 Axes>"
      ]
     },
     "metadata": {
      "needs_background": "light"
     },
     "output_type": "display_data"
    }
   ],
   "source": [
    "x = data[\"Time (ps)\"]\n",
    "y = data[\"Density (g/mL)\"]\n",
    "plt.scatter(x,y)\n",
    "\n",
    "xmin = np.min(x)\n",
    "xmax = np.max(x)\n",
    "fit = np.polyfit(x,y,1)\n",
    "print(\"Slope              :\",fit[0])\n",
    "print(\"Intercept          :\",fit[1])\n",
    "# print(\"Drift              :\",fit[0]*(xmax-xmin))"
   ]
  },
  {
   "cell_type": "code",
   "execution_count": 16,
   "id": "aquatic-essex",
   "metadata": {},
   "outputs": [
    {
     "name": "stdout",
     "output_type": "stream",
     "text": [
      "0.9610827669596828 0.0009728149213491968\n"
     ]
    }
   ],
   "source": [
    "average = np.mean(data[\"Density (g/mL)\"])\n",
    "stderr = np.std(data[\"Density (g/mL)\"]) / np.sqrt(np.size(data[\"Density (g/mL)\"]))\n",
    "print(average,stderr)"
   ]
  },
  {
   "cell_type": "code",
   "execution_count": null,
   "id": "primary-inquiry",
   "metadata": {},
   "outputs": [],
   "source": []
  }
 ],
 "metadata": {
  "kernelspec": {
   "display_name": "Python 3 (ipykernel)",
   "language": "python",
   "name": "python3"
  },
  "language_info": {
   "codemirror_mode": {
    "name": "ipython",
    "version": 3
   },
   "file_extension": ".py",
   "mimetype": "text/x-python",
   "name": "python",
   "nbconvert_exporter": "python",
   "pygments_lexer": "ipython3",
   "version": "3.9.7"
  }
 },
 "nbformat": 4,
 "nbformat_minor": 5
}
