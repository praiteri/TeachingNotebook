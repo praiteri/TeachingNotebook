{
 "cells": [
  {
   "cell_type": "code",
   "execution_count": null,
   "id": "monetary-dialogue",
   "metadata": {},
   "outputs": [],
   "source": [
    "from sys import stdout\n",
    "from openmm.app import *\n",
    "from openmm import *\n",
    "from simtk.unit import *\n",
    "\n",
    "import openmmtools as tools\n",
    "import MDAnalysis as md\n",
    "import nglview as ng\n",
    "import pandas as pd\n",
    "import numpy as np\n",
    "\n",
    "import matplotlib.pyplot as plt\n",
    "%matplotlib inline "
   ]
  },
  {
   "cell_type": "code",
   "execution_count": null,
   "id": "frequent-russell",
   "metadata": {},
   "outputs": [],
   "source": [
    "### 1. Choose a water model\n",
    "h2o = \"spce\"\n",
    "# h2o = \"tip3p\"\n",
    "# h2o = \"tip4p\"\n",
    "# h2o = \"tip4pew\"\n",
    "# h2o = \"tip5p\"\n",
    "\n",
    "### 2. Create initial coordinates and system\n",
    "water = tools.testsystems.WaterBox(model=h2o,\n",
    "                                  box_edge=2.5*nanometers)\n",
    "\n",
    "### 2a. Save initial coordinates to file\n",
    "output = open('water.pdb', 'w')\n",
    "PDBFile.writeFile(water.topology, water.positions, output)\n",
    "output.flush()"
   ]
  },
  {
   "cell_type": "code",
   "execution_count": null,
   "id": "breeding-crowd",
   "metadata": {},
   "outputs": [],
   "source": [
    "### 3. Choose parameters of the experiment: temperature, pressure and length\n",
    "temperature = 320*kelvin\n",
    "pressure = 1*atmosphere\n",
    "simulationTime = 5*picosecond\n",
    "\n",
    "### 3a. Simulation timestep, total number of steps and thermostat/barostat parameters\n",
    "timeStep = 0.002*picoseconds\n",
    "totalSteps = simulationTime / timeStep\n",
    "frictionCoeff = 1/picosecond\n",
    "nupdt = 25\n",
    "\n",
    "### 4. Choose an integrator\n",
    "integrator = LangevinIntegrator( temperature, frictionCoeff, timeStep )\n",
    "water.system.addForce(MonteCarloBarostat( pressure , temperature , nupdt ) )\n",
    "\n",
    "### 5 Create a simulation object\n",
    "simulation = Simulation(water.topology, water.system, integrator)\n",
    "simulation.context.setPositions(water.positions)\n",
    "simulation.context. setVelocitiesToTemperature(temperature, 12345)\n",
    "\n",
    "### 6. Set output for trajectory and thermodynamics data\n",
    "simulation.reporters.append(DCDReporter('traj.dcd', 100))\n",
    "\n",
    "### 7. Set output for thermodynamics data\n",
    "simulation.reporters.append(StateDataReporter( \"thermo.csv\"\n",
    "                                             , 10\n",
    "                                             , step            = True\n",
    "                                             , time            = True\n",
    "                                             , potentialEnergy = True\n",
    "                                             , temperature     = True\n",
    "                                             , density         = True\n",
    "                                             , volume          = True\n",
    "                                             , separator       = \",\"\n",
    "                                             ))\n",
    "\n",
    "\n",
    "### 7a. Set screen output to monitor the simulation progress\n",
    "simulation.reporters.append(StateDataReporter( stdout\n",
    "                                             , int(totalSteps/10)\n",
    "                                             , step            = True\n",
    "                                             , progress        = True\n",
    "                                             , remainingTime   = True\n",
    "                                             , elapsedTime     = True\n",
    "                                             , separator       = \" \"\n",
    "                                             , totalSteps      = totalSteps\n",
    "                                             ))\n"
   ]
  },
  {
   "cell_type": "code",
   "execution_count": null,
   "id": "happy-crystal",
   "metadata": {},
   "outputs": [],
   "source": [
    "### 8. Run MD\n",
    "simulation.step(totalSteps)"
   ]
  },
  {
   "cell_type": "code",
   "execution_count": null,
   "id": "considered-brazilian",
   "metadata": {},
   "outputs": [],
   "source": [
    "### 9. Visualization\n",
    "sys = md.Universe(\"water.pdb\", 'traj.dcd')\n",
    "view = ng.show_mdanalysis(sys, gui=True)\n",
    "view.center()\n",
    "view.representations = [\n",
    "    {\"type\": \"ball+stick\", \"params\": {\"sele\": \"all\"}}\n",
    "]\n",
    "view"
   ]
  },
  {
   "cell_type": "code",
   "execution_count": null,
   "id": "reasonable-gather",
   "metadata": {},
   "outputs": [],
   "source": [
    "### 10. Load the thermodynamic data in a dataframe\n",
    "data = pd.read_csv(\"thermo.csv\")\n",
    "print(data.head())\n",
    "print(data.tail())"
   ]
  },
  {
   "cell_type": "code",
   "execution_count": null,
   "id": "enclosed-irrigation",
   "metadata": {},
   "outputs": [],
   "source": [
    "x = data[\"Time (ps)\"]\n",
    "y = data[\"Density (g/mL)\"]\n",
    "plt.scatter(x,y)\n",
    "\n",
    "xmin = np.min(x)\n",
    "xmax = np.max(x)\n",
    "fit = np.polyfit(x,y,1)\n",
    "print(\"Slope              :\",fit[0])\n",
    "print(\"Intercept          :\",fit[1])\n",
    "# print(\"Drift              :\",fit[0]*(xmax-xmin))"
   ]
  },
  {
   "cell_type": "code",
   "execution_count": null,
   "id": "aquatic-essex",
   "metadata": {},
   "outputs": [],
   "source": [
    "average = np.mean(data[\"Density (g/mL)\"])\n",
    "stderr = np.std(data[\"Density (g/mL)\"]) / np.sqrt(np.size(data[\"Density (g/mL)\"]))\n",
    "print(average,stderr)"
   ]
  },
  {
   "cell_type": "code",
   "execution_count": null,
   "id": "primary-inquiry",
   "metadata": {},
   "outputs": [],
   "source": []
  }
 ],
 "metadata": {
  "kernelspec": {
   "display_name": "Python 3 (ipykernel)",
   "language": "python",
   "name": "python3"
  },
  "language_info": {
   "codemirror_mode": {
    "name": "ipython",
    "version": 3
   },
   "file_extension": ".py",
   "mimetype": "text/x-python",
   "name": "python",
   "nbconvert_exporter": "python",
   "pygments_lexer": "ipython3",
   "version": "3.9.7"
  }
 },
 "nbformat": 4,
 "nbformat_minor": 5
}
