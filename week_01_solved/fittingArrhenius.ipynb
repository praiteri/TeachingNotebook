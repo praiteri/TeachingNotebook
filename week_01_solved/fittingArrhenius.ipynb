{
 "cells": [
  {
   "cell_type": "markdown",
   "id": "6b1cd77c",
   "metadata": {},
   "source": [
    "# Click \"Edit App\" to see the code"
   ]
  },
  {
   "cell_type": "code",
   "execution_count": null,
   "id": "abd0d495",
   "metadata": {},
   "outputs": [],
   "source": [
    "# python packages\n",
    "from sys import stdout\n",
    "import pandas as pd # Dataframes and reading CSV files\n",
    "import numpy as np # Numerical libraries\n",
    "import matplotlib.pyplot as plt # Plotting library\n",
    "# %matplotlib notebook\n",
    "from lmfit import Model # Least squares fitting library"
   ]
  },
  {
   "cell_type": "markdown",
   "id": "6a6fdb3a",
   "metadata": {},
   "source": [
    "As always let's start with importing the file in a dataframe and renaming the columns"
   ]
  },
  {
   "cell_type": "code",
   "execution_count": null,
   "id": "616f0935",
   "metadata": {},
   "outputs": [],
   "source": [
    "data = pd.read_csv(\"arrhenius.csv\")\n",
    "data.columns = (\"T\",\"Kr\")\n",
    "print(data)"
   ]
  },
  {
   "cell_type": "markdown",
   "id": "c65d705d",
   "metadata": {},
   "source": [
    "The temperatures are not in order; we can sort them to make a nice plot later"
   ]
  },
  {
   "cell_type": "code",
   "execution_count": null,
   "id": "c721cac9",
   "metadata": {},
   "outputs": [],
   "source": [
    "data = data.sort_values(\"T\")\n",
    "print(data)"
   ]
  },
  {
   "cell_type": "markdown",
   "id": "4687ac02",
   "metadata": {},
   "source": [
    "We may also want to reset the row indices, just in case"
   ]
  },
  {
   "cell_type": "code",
   "execution_count": null,
   "id": "01b4a7f0",
   "metadata": {},
   "outputs": [],
   "source": [
    "data.reset_index(drop=True, inplace=True)\n",
    "print(data)"
   ]
  },
  {
   "cell_type": "markdown",
   "id": "36c0e806",
   "metadata": {},
   "source": [
    "The Arrhenius equation can be written in exponential\n",
    "\\begin{equation}\n",
    "k_r = A\\exp\\bigg[-\\frac{E_a}{RT}\\bigg] \\tag{1}\n",
    "\\end{equation}\n",
    "or in a linear form ($y=mx+q$)\n",
    "\\begin{equation}\n",
    "\\ln\\big[k_r\\big] = \\ln A -\\frac{E_a}{R}\\frac{1}{T} \\tag{1}\n",
    "\\end{equation}\n",
    "where $y=\\ln[k_r]$ and $x=1/T$.\n",
    "\n",
    "As an illustrative example of how the fitting works, we'll fit both functions using the lmfit library.\n",
    "Although there are pre-built models, we assume that we are fitting a generic user-defined function. \n",
    "Hence, we ca start by defining two functions to solve the two equations"
   ]
  },
  {
   "cell_type": "code",
   "execution_count": null,
   "id": "20fa3087",
   "metadata": {},
   "outputs": [],
   "source": [
    "R = 8.314 # ideal gas constant in J/mol/K\n",
    "def arrExp(x,A,Ea):\n",
    "    return A * np.exp(-Ea/R/x)\n",
    "\n",
    "def arrLin(x,lnA,Ea):\n",
    "    return lnA - Ea/R * (1/x)"
   ]
  },
  {
   "cell_type": "markdown",
   "id": "cacfa9c1",
   "metadata": {},
   "source": [
    "We then have to create two _Models_ using the *lmfit* library for the two independet fits"
   ]
  },
  {
   "cell_type": "code",
   "execution_count": null,
   "id": "d09f218d",
   "metadata": {},
   "outputs": [],
   "source": [
    "modExp = Model(arrExp)\n",
    "modLin = Model(arrLin)"
   ]
  },
  {
   "cell_type": "markdown",
   "id": "d7828c0c",
   "metadata": {},
   "source": [
    "Like all fitting procedures, *lmfit* requires a starting set of parameters to operate, that can be set by the user. The closer the parameters are to the correct ones the better the library will work. Typically the frequency factor is of the order of $10^{12}-10^{15}\\ Hz$ and the activation energy for a slow-ish reaction is in the $1-100\\ kJ/mol$ range."
   ]
  },
  {
   "cell_type": "code",
   "execution_count": null,
   "id": "1ae3f777",
   "metadata": {},
   "outputs": [],
   "source": [
    "paramsExp = modExp.make_params(A=1e13 , Ea=5)\n",
    "paramsLin = modLin.make_params(lnA=np.log(1e13) , Ea=5)"
   ]
  },
  {
   "cell_type": "markdown",
   "id": "2bddaded",
   "metadata": {},
   "source": [
    "We can now fit the data. The _fit_ function takes three main arguments, $y$, the initial parameters and the $x$ of the funtion to fit. Note how for the linear fit we passed the log of the rate not NOT the inverse of the temperature to the _lmfit_ function. This is because of the way we defined the **arrLin** function"
   ]
  },
  {
   "cell_type": "code",
   "execution_count": null,
   "id": "c8d10152",
   "metadata": {},
   "outputs": [],
   "source": [
    "fitExp = modExp.fit(data[\"Kr\"], paramsExp, x=data[\"T\"])\n",
    "fitLin = modLin.fit(np.log(data[\"Kr\"]), paramsLin, x=data[\"T\"])"
   ]
  },
  {
   "cell_type": "markdown",
   "id": "46968d54",
   "metadata": {},
   "source": [
    "## Results for the exponential fit"
   ]
  },
  {
   "cell_type": "code",
   "execution_count": null,
   "id": "45146e97",
   "metadata": {},
   "outputs": [],
   "source": [
    "fitExp.result"
   ]
  },
  {
   "cell_type": "markdown",
   "id": "7acc3cf8",
   "metadata": {},
   "source": [
    "## Results for the linear fit"
   ]
  },
  {
   "cell_type": "code",
   "execution_count": null,
   "id": "7d5f5004",
   "metadata": {},
   "outputs": [],
   "source": [
    "fitLin.result"
   ]
  },
  {
   "cell_type": "markdown",
   "id": "39b102c6",
   "metadata": {},
   "source": [
    "Note how much smaller the error on the activation energy is when using a linear fit."
   ]
  },
  {
   "cell_type": "markdown",
   "id": "4b5740bd",
   "metadata": {},
   "source": [
    "_lmfit_ does not compute the $R^2$, but we can easily do that using its definition.\n",
    "\\begin{equation}\n",
    "R^2 = 1 - \\frac{\\sum_i (y_i-f_i)}{\\sum_i(y_i-\\langle y \\rangle)^2}\n",
    "\\end{equation}\n",
    "where the numerator is the sum of the residuals and the denominator is the variance, _i.e._ the standard deviation squared.\n",
    "The sum of the residuals is already computed by _lmfit_ and we can obtain the variance from NumPy.\n",
    "The R squared confirms that the linear fit it better."
   ]
  },
  {
   "cell_type": "code",
   "execution_count": null,
   "id": "11c8e0ff",
   "metadata": {},
   "outputs": [],
   "source": [
    "expR2 = 1 - fitExp.residual.var() / np.var(data[\"Kr\"])\n",
    "linR2 = 1 - fitLin.residual.var() / np.var(data[\"Kr\"])\n",
    "\n",
    "print(\"Rsquared for the Exponential fit :\",expR2)\n",
    "print(\"Rsquared for the Linear fit      :\",linR2)"
   ]
  },
  {
   "cell_type": "markdown",
   "id": "f7952057",
   "metadata": {},
   "source": [
    "Let's now see how the two fits compare with the input data graphically by plotting the data and fit functions.\n",
    "_lmfit_ has already computed the values of best fit, so there's nothing for us to do.\n",
    "Note that for the linear fit we took the exponential of the data."
   ]
  },
  {
   "cell_type": "code",
   "execution_count": null,
   "id": "302409a5",
   "metadata": {},
   "outputs": [],
   "source": [
    "fig , ax = plt.subplots(figsize=(10,6))\n",
    "\n",
    "ax.scatter(data[\"T\"],data[\"Kr\"],label=\"Data\")\n",
    "ax.plot(data[\"T\"],fitExp.best_fit,label=\"ExpFit\",color='red')\n",
    "ax.plot(data[\"T\"],np.exp(fitLin.best_fit),label=\"LinFit\",color='green')\n",
    "\n",
    "\n",
    "ax.set(xlabel=\"Temperature (K)\")\n",
    "ax.set(ylabel=\"Rate constant\")\n",
    "\n",
    "ax.legend()\n",
    "plt.show()"
   ]
  },
  {
   "cell_type": "markdown",
   "id": "731726f9",
   "metadata": {},
   "source": [
    "Both fits seem pretty good, but let's now replot the data as the logarithm of the rate vs the inverse of the temperature."
   ]
  },
  {
   "cell_type": "code",
   "execution_count": null,
   "id": "fbc7d430",
   "metadata": {},
   "outputs": [],
   "source": [
    "ig , ax = plt.subplots(figsize=(10,6))\n",
    "\n",
    "ax.scatter(1/data[\"T\"],np.log(data[\"Kr\"]),label=\"Data\")\n",
    "ax.plot(1/data[\"T\"],np.log(fitExp.best_fit),label=\"ExpFit\",color='red')\n",
    "ax.plot(1/data[\"T\"],fitLin.best_fit,label=\"LinFit\",color='green')\n",
    "\n",
    "\n",
    "ax.set(xlabel=\"1/Temperature (1/K)\")\n",
    "ax.set(ylabel=\"ln[Rate constant]\")\n",
    "\n",
    "ax.legend()\n",
    "plt.show()"
   ]
  },
  {
   "cell_type": "markdown",
   "id": "cb98d90f",
   "metadata": {},
   "source": [
    "Clearly the linear fit is much better at reproducing the data.\n",
    "This is due to fact that the fitting function minimises the residuals, so in the exponential form the tail of the function is _less_ important than the part with large numbers."
   ]
  }
 ],
 "metadata": {
  "kernelspec": {
   "display_name": "Python 3 (ipykernel)",
   "language": "python",
   "name": "python3"
  },
  "language_info": {
   "codemirror_mode": {
    "name": "ipython",
    "version": 3
   },
   "file_extension": ".py",
   "mimetype": "text/x-python",
   "name": "python",
   "nbconvert_exporter": "python",
   "pygments_lexer": "ipython3",
   "version": "3.9.7"
  }
 },
 "nbformat": 4,
 "nbformat_minor": 5
}
