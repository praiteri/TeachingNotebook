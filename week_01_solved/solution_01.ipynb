{
 "cells": [
  {
   "cell_type": "markdown",
   "id": "adc4010a",
   "metadata": {},
   "source": [
    "# Click \"Edit App\" to see the code"
   ]
  },
  {
   "cell_type": "code",
   "execution_count": null,
   "id": "00ea48f4",
   "metadata": {},
   "outputs": [],
   "source": [
    "# python packages\n",
    "from sys import stdout\n",
    "import pandas as pd # Dataframes and reading CSV files\n",
    "import numpy as np # Numerical libraries\n",
    "import matplotlib.pyplot as plt # Plotting library\n",
    "#%matplotlib notebook\n",
    "from lmfit import Model # Least squares fitting library"
   ]
  },
  {
   "cell_type": "code",
   "execution_count": null,
   "id": "b4ab13cb",
   "metadata": {},
   "outputs": [],
   "source": [
    "%%javascript\n",
    "IPython.OutputArea.prototype._should_scroll = function(lines) {\n",
    "   return false;\n",
    "}"
   ]
  },
  {
   "cell_type": "markdown",
   "id": "2d11751d",
   "metadata": {},
   "source": [
    "Let's start by creating a pandas dataframe that contains the data we generated.\n",
    "From the activity page created two files, to compare the distribution from the first and second random number generator.\n",
    "We can use the pandas' function read_csv to store the file and store its content in a dataframe."
   ]
  },
  {
   "cell_type": "code",
   "execution_count": null,
   "id": "7c87db01",
   "metadata": {},
   "outputs": [],
   "source": [
    "# data = pd.read_csv(\"random1.csv\")\n",
    "data = pd.read_csv(\"random2.csv\")"
   ]
  },
  {
   "cell_type": "markdown",
   "id": "edecdf24",
   "metadata": {},
   "source": [
    "We can then print the dataframe to see what it contains"
   ]
  },
  {
   "cell_type": "code",
   "execution_count": null,
   "id": "9a40bc40",
   "metadata": {},
   "outputs": [],
   "source": [
    "print(data)"
   ]
  },
  {
   "cell_type": "markdown",
   "id": "e0b0e539",
   "metadata": {},
   "source": [
    "We can also change the names of the columns of the dataframe.\n",
    "This could be useful for referencing the content of the data frame later."
   ]
  },
  {
   "cell_type": "code",
   "execution_count": null,
   "id": "87e09438",
   "metadata": {},
   "outputs": [],
   "source": [
    "data.columns = (\"X\",\"Y\")\n",
    "print(data)"
   ]
  },
  {
   "cell_type": "markdown",
   "id": "db49e8b1",
   "metadata": {},
   "source": [
    "Ther first thing we can do with the dataframe is to count the number of lines, i.e. of data we have."
   ]
  },
  {
   "cell_type": "code",
   "execution_count": null,
   "id": "cd00f539",
   "metadata": {},
   "outputs": [],
   "source": [
    "nval = len(data[\"Y\"].index)\n",
    "print(\"Number of data points :\",nval)"
   ]
  },
  {
   "cell_type": "markdown",
   "id": "ded4d8ea",
   "metadata": {},
   "source": [
    "We can then compute the average of the data in the second column.\n",
    "The first column is just an index. The simplest way to do this is to use the NumPy function _mean_.\n",
    "There are multiple ways of selecting the data in the second column of the dataframe.\n",
    "Here we use the *name* of the column"
   ]
  },
  {
   "cell_type": "code",
   "execution_count": null,
   "id": "11354f3c",
   "metadata": {},
   "outputs": [],
   "source": [
    "avg = np.mean(data[\"Y\"])\n",
    "print(\"Average, method #1 :\",avg)"
   ]
  },
  {
   "cell_type": "markdown",
   "id": "f015885d",
   "metadata": {},
   "source": [
    "Here we use the *iloc* function, to specify the address in the dataframe.\n",
    "Note that python starts counting from zero and that the upper limit of the range is not included."
   ]
  },
  {
   "cell_type": "code",
   "execution_count": null,
   "id": "c28777c6",
   "metadata": {},
   "outputs": [],
   "source": [
    "avg1 = np.mean(data.iloc[0:nval,1])\n",
    "print(\"Average, method #2 :\",avg1)"
   ]
  },
  {
   "cell_type": "markdown",
   "id": "cd59ebbd",
   "metadata": {},
   "source": [
    "Alternatively we can write a simple loop to compute the average.\n",
    "All three methods should give the same results, bar rounding errors for large datasets"
   ]
  },
  {
   "cell_type": "code",
   "execution_count": null,
   "id": "e8e29bcc",
   "metadata": {},
   "outputs": [],
   "source": [
    "avg2 = 0\n",
    "for val in data.iloc[0:nval,1]:\n",
    "    avg2 = avg2 + val\n",
    "avg2 = avg2 / nval\n",
    "print(\"Average, method #3 :\",avg2)"
   ]
  },
  {
   "cell_type": "markdown",
   "id": "a63246aa",
   "metadata": {},
   "source": [
    "We can then compute the standard deviation using the NumPy function _std_"
   ]
  },
  {
   "cell_type": "code",
   "execution_count": null,
   "id": "0f62dfcb",
   "metadata": {},
   "outputs": [],
   "source": [
    "stdev = np.std(data[\"Y\"])\n",
    "print(\"Standard deviation :\",stdev)"
   ]
  },
  {
   "cell_type": "markdown",
   "id": "2f9b9e9b",
   "metadata": {},
   "source": [
    "There is no NumPy function for the standard error, so we have to use the definition\n",
    "\\begin{equation}\n",
    "StdErr = \\frac{\\sigma}{\\sqrt{N}}\n",
    "\\end{equation}\n",
    "where $\\sigma$ is the standard deviation and $N$ is the total number of data points."
   ]
  },
  {
   "cell_type": "code",
   "execution_count": null,
   "id": "406efdac",
   "metadata": {},
   "outputs": [],
   "source": [
    "stder = np.std(data[\"Y\"])  / np.sqrt(len(data.index))\n",
    "print(\"Standard error\",stder)"
   ]
  },
  {
   "cell_type": "markdown",
   "id": "5dbd9422",
   "metadata": {},
   "source": [
    "We can then compute the histogram of the data, and compare it with the \"normal\" distribution that we have seen in statistics. If our data obey the normal distribution, the \"normalised\" hystogram should resemble a gaussian function centred on the average of the data, whose width is given by the standerd deviation.\n",
    "\n",
    "In order to compute the hystogram we can use the function \"histogram\" in NumPy.\n",
    "This function produces two arrays in output, one with the position of the bins\n",
    "and one with the hight of the bar of the histogram.\n",
    "In the example below we compute the histogram of the data in the column labelled \"Y\"\n",
    "in out dataframe and we use 50 bins\n",
    "Try changing the number of bins to see how your plot would change."
   ]
  },
  {
   "cell_type": "code",
   "execution_count": null,
   "id": "a7aff3cc",
   "metadata": {},
   "outputs": [],
   "source": [
    "histogram , bins = np.histogram(data[\"Y\"],bins=50)"
   ]
  },
  {
   "cell_type": "markdown",
   "id": "6a2f6030",
   "metadata": {},
   "source": [
    "The histogram that numpy generates is just a count, it is not a probability.\n",
    "This is because the sum of the hystogram gives you the number of points you have in the dataframe,\n",
    "while a probaility requires the area under the hystogram to be 1.\n",
    "You can verify that we can use the numpy function \"sum\" to add all \n",
    "elements in the array _histogram_"
   ]
  },
  {
   "cell_type": "code",
   "execution_count": null,
   "id": "abd71784",
   "metadata": {},
   "outputs": [],
   "source": [
    "print(\"Sum of the heights of the histogram bars :\",np.sum(histogram))"
   ]
  },
  {
   "cell_type": "markdown",
   "id": "8598fda3",
   "metadata": {},
   "source": [
    "The area under the each bar of the histogram is then simply the heigh og the bar times its width\n",
    "delta is the width of each bar, which can be computed as the difference between the \n",
    "position of two successive bins"
   ]
  },
  {
   "cell_type": "code",
   "execution_count": null,
   "id": "07b49877",
   "metadata": {},
   "outputs": [],
   "source": [
    "delta = bins[1]-bins[0]\n",
    "totalArea = delta * np.sum(histogram)"
   ]
  },
  {
   "cell_type": "markdown",
   "id": "6fc9c1f4",
   "metadata": {},
   "source": [
    "We can now normalise the histogram"
   ]
  },
  {
   "cell_type": "code",
   "execution_count": null,
   "id": "9d56b306",
   "metadata": {},
   "outputs": [],
   "source": [
    "histogram = histogram / totalArea\n",
    "print(\"Area under the histogram :\",np.sum(histogram)*delta)"
   ]
  },
  {
   "cell_type": "markdown",
   "id": "bd44e8b6",
   "metadata": {},
   "source": [
    "We can then define a function to generate data that correspond to the _normal_ distribution for the average and standard deviation that we have computed beforeat the same values as the histogram bars. We can do this by creating a function."
   ]
  },
  {
   "cell_type": "code",
   "execution_count": null,
   "id": "5a934d9d",
   "metadata": {},
   "outputs": [],
   "source": [
    "def gaussian(x,x0,std):\n",
    "    return np.exp(-0.5*(x-x0)**2 / std**2) / (std * np.sqrt(2*np.pi))"
   ]
  },
  {
   "cell_type": "markdown",
   "id": "32b44b7b",
   "metadata": {},
   "source": [
    "Then we can evaluate the function at the positions of the _bins_.\n",
    "Note that because of the way NumPy created the array _bins_, we have to specify the range aa [:-1]"
   ]
  },
  {
   "cell_type": "code",
   "execution_count": null,
   "id": "23c0ba5c",
   "metadata": {},
   "outputs": [],
   "source": [
    "func = gaussian(bins[:-1],avg,stdev)"
   ]
  },
  {
   "cell_type": "markdown",
   "id": "cfe8ac49",
   "metadata": {},
   "source": [
    "Let's now make a plot of the histogram of the data, and compare it with the \"normal\" distribution \n",
    "that we have seen in statistics. If our data obey the normal distribution, the \"normalised\" hystogram \n",
    "should resemble a gaussian function centred on the average of the data, whose width is given \n",
    "by the standerd deviation.\n",
    "\n",
    "We first have to create an object for the figure and its axes\n",
    "This method will allow us to add more lines to the same graph\n",
    "(6,4) is the size of the figure that is produced\n",
    "\n",
    "We then have to add our normalised histogram to the figure that we have create using \n",
    "the axes (_ax_) and the \"bar\" style\n",
    "The label is what will appear as a legend in the plot.\n",
    "\n",
    "We then add the _normal_ distribution to the same axes, and colour it in red.\n",
    "\n",
    "We can now prettify our figure by adding labels to the axes and the legend.\n",
    "\n",
    "Finally we can show the graph and save is as an image"
   ]
  },
  {
   "cell_type": "code",
   "execution_count": null,
   "id": "fd933b60",
   "metadata": {},
   "outputs": [],
   "source": [
    "fig1 , ax = plt.subplots(figsize=(6,4))\n",
    "\n",
    "ax.bar(bins[:-1],histogram,width=0.1, label=\"BAR\")\n",
    "fig1.show()\n",
    "\n",
    "ax.plot(bins[:-1],func, label=\"Gauss\",color='red')\n",
    "\n",
    "ax.set(xlabel=\"Values\")\n",
    "ax.set(ylabel=\"Probability\")\n",
    "\n",
    "ax.legend()\n",
    "\n",
    "fig1.show()\n",
    "fig1.savefig(\"fig.png\")"
   ]
  }
 ],
 "metadata": {
  "kernelspec": {
   "display_name": "Python 3 (ipykernel)",
   "language": "python",
   "name": "python3"
  },
  "language_info": {
   "codemirror_mode": {
    "name": "ipython",
    "version": 3
   },
   "file_extension": ".py",
   "mimetype": "text/x-python",
   "name": "python",
   "nbconvert_exporter": "python",
   "pygments_lexer": "ipython3",
   "version": "3.9.7"
  }
 },
 "nbformat": 4,
 "nbformat_minor": 5
}
