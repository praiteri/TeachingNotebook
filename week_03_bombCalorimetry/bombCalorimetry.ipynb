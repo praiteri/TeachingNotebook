{
 "cells": [
  {
   "cell_type": "code",
   "execution_count": null,
   "metadata": {},
   "outputs": [],
   "source": [
    "%%javascript\n",
    "$('#appmode-leave').hide();\n",
    "$('#copy-binder-link').hide();\n",
    "$('#visit-repo-link').hide();"
   ]
  },
  {
   "cell_type": "markdown",
   "metadata": {},
   "source": [
    "# Bomb Calorimetry\n",
    "\n",
    "### Video credit: Chris Ambidge - University of Toronto."
   ]
  },
  {
   "cell_type": "code",
   "execution_count": null,
   "metadata": {},
   "outputs": [],
   "source": [
    "from IPython.display import YouTubeVideo\n",
    "# Video credit: Chris Ambidge - University of Toronto.\n",
    "YouTubeVideo('bm3Tn6DXJrI')"
   ]
  },
  {
   "cell_type": "markdown",
   "metadata": {},
   "source": [
    "\n",
    "## Introduction to the experiment\n",
    "\n",
    "**Calorimetry** derives from the Latin word _calor_ meaning heat, and the Greek _metry_ meaning to measure. Thus, it is the science of measuring amounts of heat. \n",
    "All calorimetric techniques are based on the measurement of heat generated or consumed by a sample, depending on whether exothermic or endothermic processes are involved.\n",
    "A calorimeter can be a simple Styrofoam cup, because it is a container with insulated walls that prevents heat exchange with the environment, or more a complicated device such as a bomb calorimeter \n",
    "\n",
    "<img src=\"bombCalorimetry.jpeg\" alt=\"Bomb calorimeter\" class=\"bg-primary mb-1\" width=\"400px\"> \n",
    "<p style=\"text-align: center;\"> Figure 1: Schematic representation of a bomb calorimeter (Image taken taken from chem.libretexts.org) </p>\n",
    "\n",
    "In the simplest version of this experiment, in order to measure heats of reactions, we enclose the reactants in a calorimeter, allow the reaction to proceed, and measure the temperature change ($\\Delta$T). Then the heat released or adsorbed in the reaction can be calculated.\n",
    "A calorimeter may be used under constant pressure (atmospheric), or constant volume.\n",
    "Regardless of the setup, the calorimeter adsorbs some of the released heat and its heat capacity must be measured to calibrate the instrument, which is usually done just before or after the actual measurement of the heats of reaction. \n",
    "This is done by transferring a known amount of heat into the calorimeter and measuring its temperature increase. \n",
    "Because the temperature differences are often very small, sensitive thermometers are preferred for these measurements."
   ]
  },
  {
   "cell_type": "markdown",
   "metadata": {},
   "source": [
    "## Theory\n",
    "Conventionally, in thermodynamics we use two fundamental definitions: the system and the surroundings. \n",
    "The system is what is being measured, observed and investigated while the surroundings are everything else.\n",
    "An isolated system is referred to as adiabatic, which means that there is no exchange of matter or energy between the system and its surroundings. \n",
    "The energy considerations of a reaction include heat (denoted $q$), which is the energy absorbed by the system, and the work done on the system (denoted $w$).\n",
    "As heat is transferred into or out of a system this leads to a change in temperature, and the quantity of energy that causes a temperature change is determined with this equation\n",
    "\n",
    "\\begin{equation}\n",
    "q = \\sum c(T_f-T_i) \\tag{1}\n",
    "\\end{equation}\n",
    "\n",
    "Where $q$ is the heat of the process, $c$ is the heat capacity of the system, $T_f$ is the final temperature and $T_i$ is the initial temperature. \n",
    "Recalling the physical chemistry lectures, the heat capacity is the amount of heat required to raise the temperature of a substance (or of the entire calorimeter) by 1 K."
   ]
  },
  {
   "cell_type": "markdown",
   "metadata": {
    "tags": []
   },
   "source": [
    "### Obtaining an Isothermal Enthalpy\n",
    "The enthalpy of any process is the heat absorbed by the system at constant pressure.\n",
    "The enthalpy of a reaction under isothermal conditions can be determined by conducting the experiment adiabatically, and then measuring the temperature change that occurs in the reaction vessel.\n",
    "The isothermal reaction at temperature $T_i$ can be expressed as follows:\n",
    "\n",
    "\\begin{equation}\n",
    "\\mathrm{A(T_i)} + \\mathrm{B(T_i)} \\xrightarrow{\\Delta H} \\mathrm{C(T_i)} + \\mathrm{D(T_i)} \\tag{2}\n",
    "\\end{equation}\n",
    "\n",
    "Where $\\Delta H$ is the enthalpy of the isothermal reaction for each mole of reaction as written.\n",
    "In a calorimeter the system is insulated, and therefore no energy is lost to the surroundings.\n",
    "This is known as an adiabatic system and therefore in the calorimeter the energy of the\n",
    "reaction is used to heat the system with no loss.\n",
    "The adiabatic reaction can be expressed as follows:\n",
    "\n",
    "\\begin{equation}\n",
    "\\mathrm{A(T_i)} + \\mathrm{B(T_i)} + \\mathrm{S(T_i)}\\xrightarrow{\\Delta H_I} \\mathrm{C(T_f)} + \\mathrm{D(T_f)} + \\mathrm{S(T_f)} \\tag{3}\n",
    "\\end{equation}\n",
    "\n",
    "Where $\\Delta H_I$ is the enthalpy of the adiabatic reaction. \n",
    "A, B, C and D continue to be the reactants and products respectively and S is the parts of the system (thermometer, solvent, reaction vessel walls etc.) that maintain the same temperature as the reactants and products because of the insulated system.\n",
    "Enthalpy however is a state function, and therefore independent of the steps taken to get to the final stage. Thus, the enthalpy of the isothermal reaction will be the sum of the enthalpy of any steps that start and finish in the same state.\n",
    "Therefore in order to finish the adiabatic reaction under the same conditions as the isothermal reaction, the system merely needs to be cooled to the initial temperature.\n",
    "\n",
    "\\begin{equation}\n",
    "\\mathrm{A(T_f)} + \\mathrm{B(T_f)} + \\mathrm{S(T_f)}\\xrightarrow{\\Delta H_{II}} \\mathrm{C(T_i)} + \\mathrm{D(T_i)} + \\mathrm{S(T_i)} \\tag{4}\n",
    "\\end{equation}\n",
    "\n",
    "$\\Delta H_{I}$ and $\\Delta H_{II}$ are the enthalpies of the alternate steps taken to go from the initial stage to the final stage of the isothermal reaction, and therefore, as shown in the figure below, the enthalpy of the isothermal reaction is the sum of these two values.\n",
    "\n",
    "\\begin{equation}\n",
    "\\Delta H = \\Delta H_{I} + \\Delta H_{II} \\tag{5}\n",
    "\\end{equation}"
   ]
  },
  {
   "cell_type": "markdown",
   "metadata": {},
   "source": [
    "<img src=\"Figure_1.png\" alt=\"fishy\" class=\"bg-primary mb-1\" width=\"400px\">\n",
    "<p style=\"text-align: center;\"> Figure 2 </p>"
   ]
  },
  {
   "cell_type": "markdown",
   "metadata": {},
   "source": [
    "As stated previously an adiabatic reaction is a reaction contained in an isolated system, i.e. no energy (heat) is transferred out of the system. \n",
    "This means that for the first step in Figure 2, $\\mathrm{d}q$=0 and $\\Delta H=0$ adiabatic step is 0, and therefore $\\Delta H_{I}$ is also 0. \n",
    "The cooling step indicated in Figure 1 need not be performed, but rather the heat of Step II can be calculated as\n",
    "\n",
    "\\begin{equation}\n",
    "\\Delta H_{II} = \\sum C_V (T_f − T_i ) \\tag{6}\n",
    "\\end{equation}"
   ]
  },
  {
   "cell_type": "markdown",
   "metadata": {},
   "source": [
    "### Reaction Enthalpy Under Standard Conditions\n",
    "Just as the isothermal enthalpy can be calculated from results that take a different series of steps, the enthalpy of a reaction under standard conditions can be determined from any isothermal energy of that reaction.\n",
    "An alternative series of steps for the standard reaction to occur is: i) changing the system temperature from standard conditions to the experimental temperature, ii) proceeding with the reaction, iii) changing the temperature back to standard temperature.\n",
    "As these three steps start with the reactants under standard conditions and finish with the products under standard conditions the sum of the enthalpies of these steps is equivalent to the enthalpy of the reaction proceeding under standard conditions. This is presented as"
   ]
  },
  {
   "cell_type": "markdown",
   "metadata": {},
   "source": [
    "<img src=\"Figure_2.png\" alt=\"fishy\" class=\"bg-primary mb-1\" width=\"400px\">\n",
    "<p style=\"text-align: center;\"> Figure 3 </p>"
   ]
  },
  {
   "cell_type": "markdown",
   "metadata": {},
   "source": [
    "## Bomb calorimetry, the experiment\n",
    "In this *virtual* experiment you will calibrate the calorimeter using benzoic acid and determine the enthalpy of combustion of sucrose and napthalene.\n",
    "\n",
    "An adiabatic bomb calorimeter provides a constant volume environment for the measurement of the heat of combustion of compounds. \n",
    "This corresponds to the first step in Figure 2.\n",
    "\n",
    "As mentioned before, and important step in any calorimetry experiment is to calibrate the instrument, in order to achieve that you will perform a first experiment with benzoic acid, for which you are given its enthalpy of combustion ($\\Delta H_c=-3228\\ \\mathrm{kJ/mol}$).\n",
    " \n",
    "This reaction proceeds as follows within the calorimeter:\n",
    "\n",
    "\\begin{equation}\n",
    "\\mathrm{C_6H_5COOH} + \\frac{15}{2}\\mathrm{O_2(excess)} \\xrightarrow{20\\ atm} \\mathrm{7CO_2(g)} + \\mathrm{3H_2O(l)} \\tag{8}\n",
    "\\end{equation}\n",
    "\n",
    "The process is carried out under 20 atm of excess oxygen in order to ensure complete and rapid combustion. "
   ]
  },
  {
   "cell_type": "markdown",
   "metadata": {},
   "source": [
    "These conditions are not exactly standard temperature nor pressure, and therefore the energy change measured is not the standard heat of reaction. \n",
    "Corrections would need to be made to convert to standard conditions, however the experimental uncertainty in this lab accounts for the errors introduced by the non-standard conditions.\n",
    "The change in internal energy of the system is defined in the following fashion:\n",
    "\n",
    "\\begin{eqnarray}\n",
    "dU = dq - P\\Delta V \\tag{9}\n",
    "\\end{eqnarray}\n",
    "\n",
    "However, because the experiment is performed a constant volume this becomes\n",
    "\n",
    "\\begin{eqnarray}\n",
    "dU = dq_V \\tag{10}\n",
    "\\end{eqnarray}\n",
    "\n",
    "Therefore, by using the calorimeter to measure the change in temperature you can measure the change in internal energy of the system\n",
    "\n",
    "\\begin{equation}\n",
    "dU = dq_V = \\sum C_V(T_f-T_i) \\tag{11}\n",
    "\\end{equation}\n",
    "\n",
    "Where $C_V$ is the heat capacity of the entire system at constant volume.\n",
    "Using the definition of enthalpy\n",
    "\n",
    "\\begin{equation}\n",
    "H = U + PV \\tag{12}\n",
    "\\end{equation}\n",
    "\n",
    "we can then write the combustion enthalpy change for a reaction as\n",
    "\n",
    "\\begin{equation}\n",
    "\\Delta H_c = \\Delta U + \\Delta (PV) = \\Delta U + V\\Delta P + P\\Delta V \\tag{13}\n",
    "\\end{equation}\n",
    "\n",
    "At constant volume, because $P\\Delta V=0$, this becomes\n",
    "\n",
    "\\begin{equation}\n",
    "\\Delta H_c = \\Delta U + \\Delta (nRT) \\tag{14}\n",
    "\\end{equation}\n",
    "\n",
    "where we have assumed that the gas is ideal and $V\\Delta P=\\Delta (nRT)$.\n",
    "Where $P$ is the pressure in kPa, $V$ is the volume in litres, $\\Delta n$ is the change in the number of moles of gas particles during the reaction, $R$ is the universal gas constant and $T$ is the isothermal temperature.\n",
    "\n",
    "The enthalpy of the combustion reaction in the bomb calorimeter can then be calculated using change of internal energy ($\\Delta U=C_v\\Delta T$) and from the gas stoichiometry of the equation.\n",
    "\n",
    "The enthalpy of combustion can also be determined from the formation enthapies of reactants and products\n",
    "\n",
    "\\begin{equation}\n",
    "\\Delta H_c = \\sum \\Delta H_f^{products} - \\sum \\Delta H_f^{reactants} \\tag{15} \n",
    "\\end{equation}"
   ]
  },
  {
   "cell_type": "markdown",
   "metadata": {},
   "source": [
    "### Experimental Factors\n",
    "No experimental configuration is truly adiabatic, and in this case the stirrer adds energy to the system while the thermometer and non-ideal insulation allows heat to escape from the system. These factors produce fairly linear changes in temperature before and after the reaction occurs. In order to accurately account for these effects, the temperature must be measured for a period of time before the reactants are combined and for a period of time after the reaction has proceeded. Plotting this data and recording the relative time the reactants were combined allows the change in temperature to be more accurately determined as shown in the figure below."
   ]
  },
  {
   "cell_type": "markdown",
   "metadata": {},
   "source": [
    "<img src=\"Figure_3.png\" alt=\"hess\" class=\"bg-primary mb-1\" width=\"600px\">\n",
    "<p style=\"text-align: center;\"> Figure 4 </p>"
   ]
  },
  {
   "cell_type": "markdown",
   "metadata": {},
   "source": [
    "<!-- #### Real experiment procedure \n",
    "1. Listen to the laboratory technician. The operation of the calorimeter and the powder press will be explained.\n",
    "2. \tProduce a compressed tablet of benzoic acid, using the powder-press as directed.\n",
    "3. \tAccurately weigh the tablet. Place it in the bomb cup.\n",
    "4. \tMeasure out exactly 10 cm of ignition wire, cut to length. Wind each end of the piece of wire around the ignition poles. Secure the wire as demonstrated. Record the energy of combustion of the wire.\n",
    "5. \tBend the centre of the ignition wire into the form of an inverted omega ($\\Omega$). Ensure the wire presses on the benzoic acid tablet.\n",
    "6. \tSet the ignition cup in the bomb. Seal the bomb, taking care to avoid cross-threading the bomb lid.\n",
    "7. \tConnect the bomb inlet to the oxygen cylinder. Fill the bomb with 20 atmospheres of oxygen from the cylinder. Ensure the gas inlet is connected to the proper valve.\n",
    "8.\tPlace 2.00 L of water in the calorimeter pail. The calorimeter contains an accurate water dispenser; its operation will be demonstrated.\n",
    "9. \tPlace the pail in the body of the calorimeter. Use the tongs provided to position the bomb in the pail. Ensure it is correctly seated on the plateau.\n",
    "10. \tConnect the spark leads to the bomb.\n",
    "11.\t Close the calorimeter body. Fire the bomb.\n",
    "12. \tRecord the change in temperature of the bomb.\n",
    "13. \tMake a compressed tablet of sucrose, using the powder-press.\n",
    "14. \tAccurately weigh the tablet.\n",
    "15.\tPrepare the calorimeter as before. Fire the sucrose tablet.\n",
    "16. \tRecord the change in temperature of the bomb.\n",
    "17. \tMake a compressed tablet of naphthalene.\n",
    "18.\tPrepare the calorimeter as before. Fire the naphthalene tablet.\n",
    "19. \tRecord the change in temperature of the bomb.\n",
    "20. \tRepeat for each substance. If time permits, a third repetition for each substance is advisable. -->"
   ]
  },
  {
   "cell_type": "markdown",
   "metadata": {},
   "source": [
    "### Virtual experiment procedure\n",
    "In this virtual lab instead you will have to\n",
    "1. Choose your sample (Benzoic acid)\n",
    "2. Create a tablet for you sample \n",
    "3. \"Perform\" the experiment (obtain temperature inside the bomb calorimeter vs time)\n",
    "4. Fit the temperature profile before and after the experiment to obtain the temperature change\n",
    "5. Determine the calorimeter heat capacity of the bomb calorimeter to calibrate the instrument\n",
    "6. Repeat 1 to 5 to obtain an average value for the heat capacity of the bomb calorimeter\n",
    "7. Repeat 1 to 4 for sucrose and naphtalene\n",
    "8. Determine the combustion enthalpy and formation enthalpy of Sucrose and Napthalene\n",
    "\n",
    "#### Assume the wire described in the video releases a negligible amount of heat"
   ]
  },
  {
   "cell_type": "markdown",
   "metadata": {},
   "source": [
    "## Numerical skills \n",
    "\n",
    "1. fitting of portions of data\n",
    "2. error analysis"
   ]
  },
  {
   "cell_type": "markdown",
   "metadata": {},
   "source": [
    "## Pre-lab\n",
    "\n",
    "1. Obtain from literature the standard enthalpies of formation of $O_2$, $H_2O$, $CO_2$, sucrose and naphtalene.\n",
    "2. Write the balances combustion reactions for benzoic acid, sucrose and naphtalene\n",
    "3. Calculate the expected combustion enthalpy of sucrose and naphtalene\n",
    "\n",
    "## Post-lab\n",
    "3. Use the given combustion enthalpy of benzoic acid to \"calibrate the instrument\"; what is the heat capacity of the bomb calorimeter?\n",
    "\n",
    "4. Calculate the combustion and formation enthalpies ($\\Delta H_c$ \\& $\\Delta H_f$) of sucrose and naphtalene. Compare with the literature values obtained in the pre lab.\n",
    "\n"
   ]
  },
  {
   "cell_type": "markdown",
   "metadata": {},
   "source": [
    "## Launch virtual experiment\n",
    "- [Bomb Calorimetry virtual lab](virtualExperiment.ipynb)"
   ]
  }
 ],
 "metadata": {
  "kernelspec": {
   "display_name": "Python 3 (ipykernel)",
   "language": "python",
   "name": "python3"
  },
  "language_info": {
   "codemirror_mode": {
    "name": "ipython",
    "version": 3
   },
   "file_extension": ".py",
   "mimetype": "text/x-python",
   "name": "python",
   "nbconvert_exporter": "python",
   "pygments_lexer": "ipython3",
   "version": "3.9.7"
  },
  "widgets": {
   "application/vnd.jupyter.widget-state+json": {
    "state": {},
    "version_major": 2,
    "version_minor": 0
   }
  }
 },
 "nbformat": 4,
 "nbformat_minor": 4
}
