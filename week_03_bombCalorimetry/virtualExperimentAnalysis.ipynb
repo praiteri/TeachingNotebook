{
 "cells": [
  {
   "cell_type": "code",
   "execution_count": null,
   "metadata": {},
   "outputs": [],
   "source": [
    "import pandas as pd\n",
    "import math\n",
    "import numpy as np\n",
    "import matplotlib.pyplot as plt\n",
    "\n",
    "%matplotlib notebook"
   ]
  },
  {
   "cell_type": "code",
   "execution_count": null,
   "metadata": {},
   "outputs": [],
   "source": [
    "data = pd.read_csv(\"results.csv\", sep=\",\")\n",
    "\n",
    "x = data.iloc[:, 0]\n",
    "y = data.iloc[:, 1]\n",
    "# print(data)\n",
    "plt.xlabel(\"time (s)\")\n",
    "plt.ylabel(\"temperature (K)\")\n",
    "plt.plot(y)\n",
    "plt.savefig(\"output.png\")"
   ]
  },
  {
   "cell_type": "code",
   "execution_count": null,
   "metadata": {},
   "outputs": [],
   "source": [
    "fig = plt.figure(figsize=(5, 5))\n",
    "ax = fig.gca()\n",
    "ax.plot(x,y)\n",
    "\n",
    "i0 = 0\n",
    "i1 = 15\n",
    "i2 = 30\n",
    "i3 = len(data)-1\n",
    "\n",
    "print(i0,i1,i2,i3)\n",
    "fit1 = np.polyfit(x[i0:i1],y[i0:i1],1)\n",
    "line1 = np.poly1d(fit1)\n",
    "y1 = line1(x)\n",
    "\n",
    "fit2 = np.polyfit(x[i2:i3],y[i2:i3],1)\n",
    "line2 = np.poly1d(fit2)\n",
    "y2 = line2(x)\n",
    "\n",
    "ax.plot(x,y1,c='red')\n",
    "ax.plot(x,y2,c='green')\n",
    "\n",
    "plt.show()\n",
    "\n",
    "print(fit1)\n",
    "print(fit2)"
   ]
  },
  {
   "cell_type": "code",
   "execution_count": null,
   "metadata": {},
   "outputs": [],
   "source": [
    "ti = line1(2.5)\n",
    "tf = line2(2.5)\n",
    "print(ti,tf,tf-ti)"
   ]
  },
  {
   "cell_type": "code",
   "execution_count": null,
   "metadata": {},
   "outputs": [],
   "source": []
  }
 ],
 "metadata": {
  "kernelspec": {
   "display_name": "Python 3 (ipykernel)",
   "language": "python",
   "name": "python3"
  },
  "language_info": {
   "codemirror_mode": {
    "name": "ipython",
    "version": 3
   },
   "file_extension": ".py",
   "mimetype": "text/x-python",
   "name": "python",
   "nbconvert_exporter": "python",
   "pygments_lexer": "ipython3",
   "version": "3.9.7"
  }
 },
 "nbformat": 4,
 "nbformat_minor": 4
}
