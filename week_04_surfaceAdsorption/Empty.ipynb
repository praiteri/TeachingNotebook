{
 "cells": [
  {
   "cell_type": "markdown",
   "id": "adc4010a",
   "metadata": {},
   "source": [
    "# Click \"Edit App\" to start coding"
   ]
  },
  {
   "cell_type": "code",
   "execution_count": null,
   "id": "00ea48f4",
   "metadata": {},
   "outputs": [],
   "source": [
    "# python packages\n",
    "import pandas as pd # Dataframes and reading CSV files\n",
    "import numpy as np # Numerical libraries\n",
    "import matplotlib.pyplot as plt # Plotting library\n",
    "#%matplotlib notebook\n",
    "from lmfit import Model # Least squares fitting library"
   ]
  }
 ],
 "metadata": {
  "kernelspec": {
   "display_name": "Python 3 (ipykernel)",
   "language": "python",
   "name": "python3"
  },
  "language_info": {
   "codemirror_mode": {
    "name": "ipython",
    "version": 3
   },
   "file_extension": ".py",
   "mimetype": "text/x-python",
   "name": "python",
   "nbconvert_exporter": "python",
   "pygments_lexer": "ipython3",
   "version": "3.9.7"
  }
 },
 "nbformat": 4,
 "nbformat_minor": 5
}
