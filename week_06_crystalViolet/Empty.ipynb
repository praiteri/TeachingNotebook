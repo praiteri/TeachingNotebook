{
 "cells": [
  {
   "cell_type": "markdown",
   "id": "ffa62c01",
   "metadata": {},
   "source": [
    "# Click \"Edit App\" to start coding"
   ]
  },
  {
   "cell_type": "code",
   "execution_count": null,
   "id": "00ea48f4",
   "metadata": {},
   "outputs": [],
   "source": [
    "# python packages\n",
    "from sys import stdout\n",
    "import pandas as pd # allows us to use dataframes\n",
    "import numpy as np\n",
    "import math\n",
    "import matplotlib.pyplot as plt # allows us to make graphs\n",
    "# below prevents warnings from outdated Pandas append command clogging output\n",
    "import warnings\n",
    "warnings.simplefilter(action='ignore', category=FutureWarning)\n",
    "%matplotlib notebook"
   ]
  },
  {
   "cell_type": "code",
   "execution_count": null,
   "id": "b4ab13cb",
   "metadata": {},
   "outputs": [],
   "source": [
    "%%javascript\n",
    "IPython.OutputArea.prototype._should_scroll = function(lines) {\n",
    "   return false;\n",
    "}"
   ]
  }
 ],
 "metadata": {
  "kernelspec": {
   "display_name": "Python 3 (ipykernel)",
   "language": "python",
   "name": "python3"
  },
  "language_info": {
   "codemirror_mode": {
    "name": "ipython",
    "version": 3
   },
   "file_extension": ".py",
   "mimetype": "text/x-python",
   "name": "python",
   "nbconvert_exporter": "python",
   "pygments_lexer": "ipython3",
   "version": "3.9.7"
  }
 },
 "nbformat": 4,
 "nbformat_minor": 5
}
