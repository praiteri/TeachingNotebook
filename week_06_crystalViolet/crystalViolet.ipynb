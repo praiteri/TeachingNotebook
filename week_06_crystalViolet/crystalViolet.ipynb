{
 "cells": [
  {
   "cell_type": "code",
   "execution_count": null,
   "metadata": {},
   "outputs": [],
   "source": [
    "%%javascript\n",
    "$('#appmode-leave').hide();\n",
    "$('#copy-binder-link').hide();\n",
    "$('#visit-repo-link').hide();"
   ]
  },
  {
   "cell_type": "markdown",
   "metadata": {},
   "source": [
    "# Crystal Violet - numerical lab\n",
    "\n",
    "### Video credit:  Creative Studios at The University of Texas at El Paso"
   ]
  },
  {
   "cell_type": "code",
   "execution_count": null,
   "metadata": {},
   "outputs": [],
   "source": [
    "# Crystal Violet - numerical lab\n",
    "from IPython.display import YouTubeVideo\n",
    "# Video credit:  Creative Studios at The University of Texas at El Paso\n",
    "YouTubeVideo('tcv5Xk9ZXpg')"
   ]
  },
  {
   "cell_type": "markdown",
   "metadata": {},
   "source": [
    "## Introduction to the experiment\n",
    "In this experiment a UV-Vis spectrophotometer will be used to measure the absorbance as the reaction\n",
    "between crystal violet and hydroxide proceeds. \n",
    "The absorbance versus time data will be used to determine the rate of the reaction with respect to both crystal violet and hydroxide ions.\n",
    "Crystal violet has many uses, which include its use as a dye, as a constituent in inks for printing, as an antibacterial and antifungal, to treat mouth ulcers and for the development of fingerprints in forensics.\n",
    "The dye has problems; the process requires the colour to be set in a highly basic washing soda and it has found that the dye looses it’s colour over time during this process. \n",
    "The goal of this experiment is to investigate the decolourisation of the dye by studying the role of sodium hydroxide in the kinetics of crystal violet decolourisation."
   ]
  },
  {
   "cell_type": "markdown",
   "metadata": {},
   "source": [
    "## Theory\n",
    "The rate (or velocity) $\\nu\\ [mol L^{-1} s{-1}]$ of a chemical reaction can be expressed in terms of the loss of reactants or the formation of products. For the reaction:\n",
    "\n",
    "\\begin{equation}\n",
    "n_aA + n_bB + \\dots \\to n_xX + n_yY + \\dots\n",
    "\\end{equation}\n",
    "\n",
    "the rate can be written as\n",
    "\n",
    "\\begin{equation}\n",
    "\\nu = -\\frac{1}{n_a}\\frac{\\mathrm{d[A]}}{\\mathrm{d}t} = -\\frac{1}{n_b}\\frac{\\mathrm{d[B]}}{\\mathrm{d}t} = \\frac{1}{n_x}\\frac{\\mathrm{d[X]}}{\\mathrm{d}t} = \\frac{1}{n_y}\\frac{\\mathrm{d[Y]}}{\\mathrm{d}t} = \\dots\n",
    "\\end{equation}\n",
    "\n",
    "where $n_a$, $n_b$, $n_x$ and $n_y$, and [A], [B], [X] and [Y] are the stoichiometric coefficients and molar concentrations of the reactants and products.\n",
    "Note that the rate is always a positive quantity, hence the equation have different sign to account for the \\emph{loss} of reactants, or the \\emph{formation} of products.\n",
    "\n",
    "The rate, $\\nu$, of a chemical reaction is frequently found to be proportional to the concentrations of the reacting species.\n",
    "\n",
    "\\begin{equation}\n",
    "\\nu = k_r \\mathrm{[A]}^a \\mathrm{[B]}^b \\mathrm{[C]}^c\n",
    "\\end{equation}\n",
    "\n",
    "Where $k_r$ is the rate constant and $a$, $b$, and $c$ denote the order of the reaction with\n",
    "respect to reactants A, B and C.\n",
    "The sum of the individual orders of the reactants is the overall order of the reaction. \n",
    "Most reactions are a complicated series of elementary reactions, and the measured rate is generally the rate of the slowest step. \n",
    "Therefore knowledge of the order of each reactant with respect to the overall reaction often allows the specific reaction mechanisms to be theorized.\n",
    "The rate of any reaction can vary with time, and therefore it is impossible to define a general rate of a reaction. \n",
    "Rather an instantaneous rate can be determined for any particular time. \n",
    "If one can determine the concentation of a reactant (or product) as a function of time, this instantaneous rate will be given by the tangent of the time-concentration curve.\n",
    "\n",
    "The time-concentration curve corresponds to the \\emph{integrated} rate law and it is often more useful that the instantaneous rate.\n",
    "\n",
    "| Reaction Order <img width=150/>   | Differential form <img width=150/>| Intergrated form  <img width=150/>|\n",
    "|:------------------|:-----------------:|------------------:|\n",
    "| Zeroth order   | $\\nu=k_r\\mathrm{[A]}^0$ | $\\mathrm{[A]} = \\mathrm{[A]}_0 - k_r t$ |\n",
    "| First order    | $\\nu=k_r\\mathrm{[A]}^1$ | $\\ln\\mathrm{[A]} = \\ln\\mathrm{[A]}_0 - k_r t$ |\n",
    "| Second order   | $\\nu=k_r\\mathrm{[A]}^2$ | $\\frac{1}{\\mathrm{[A]}} = \\frac{1}{\\mathrm{[A]}_0} + k_r t$ |\n",
    "\n",
    "where the subscript 0 denoted the initial concentration and $t$ is the time of when the concentration, [A], is measured.\n",
    "\n",
    "For a **zeroth order** reaction the rate is constant and independent of the concentration of the reactant, [A]. Therefore a plot of the concentration of the reactant vs. time will be linear with a negative slope. The slope can be used to find the rate constant $k_r$, which will have units of (concentration/time).\n",
    "\n",
    "For a **first order** reaction the rate is directly proportional to the concentration of the reactant, [A]. Therefore a plot of the natural log of the concentration of the reactant vs. time will be linear with a negative slope. The slope can be used to find the rate constant $k_r$, which will have units of (time)$^{-1}.\n",
    "\n",
    "For a **second order** reaction the rate is directly proportional to the square of the concentration of the reactant, [A]. Therefore a plot of the reciprocal of the concentration of the reactant vs. time will be linear with a positive slope. The slope can be used to find the rate constant $k_r$, which will have units of (concentration*time)$^{-1}.\n",
    "Second order reactions can arise when a reaction is first order in two separate reactants. The method of isolation described next, applies to this scenario."
   ]
  },
  {
   "cell_type": "markdown",
   "metadata": {},
   "source": [
    "### Isolation method\n",
    "When an elementary reaction involves more than one reactant, \n",
    "\n",
    "\\begin{equation}\n",
    "n_aA + n_bB + n_cC \\to n_xX + n_yY + \\dots\n",
    "\\end{equation}\n",
    "\n",
    "the most general form of the instantaneous rate equation includes the concentration of all these species\n",
    "\n",
    "\\begin{equation}\n",
    "\\nu = k_r \\mathrm{[A]}^a \\mathrm{[B]}^b \\mathrm{[C]}^c\n",
    "\\end{equation}\n",
    "\n",
    "It is then much more difficult to analyse the rate equation in a way similar to that described above for simple zero, first and second order processes. \n",
    "The analysis can be greatly simplified by **isolating** one reactant. \n",
    "In the isolation method, all concentrations the rate equation are kept (as much as possible to) constant, except for one. \n",
    "This is usually achieved by having all but one reactant present in large excess, so the concentration hardly changes during the reaction. \n",
    "In this case, the limiting reagent  (for example, A) is said to be isolated, and its concentration is measured as a function of time to determine the kinetics of the reaction. Then we can rewrite the rate equation as\n",
    "\n",
    "\\begin{equation}\n",
    "\\nu = k^\\dagger_r \\mathrm{[A]}^a\n",
    "\\end{equation}\n",
    "\n",
    "Where $k^\\dagger_r$ is a new “pseudo rate constant” incorporating the values of [B]$^b$ and [C]$^c$.\n",
    "Note that the value of $k^\\dagger_r$ depends on the chosen “constant” values of [B] and [C]..\n",
    "\n",
    "\\begin{equation}\n",
    "k^\\dagger_r = k_r \\mathrm{[B]}^b \\mathrm{[C]}^c\n",
    "\\end{equation}\n",
    "\n",
    "Now that A is **isolated**, we can apply the methods of analysis for a single reactant to\n",
    "any complicated reaction and determine the order of that reaction with respect to A and $k^\\dagger_r$ . \n",
    "This is done by plotting the relationships for zero, first and second orders, and choosing which plot fits best (*i.e.* which is the most linear). \n",
    "\n",
    "To find $b$, $c$ and $k_r$ we can look at a logarithmic form of the pseudo-rate constant\n",
    "\n",
    "\\begin{equation}\n",
    "\\log k^\\dagger_r = b \\log\\mathrm{[B]} + c \\log\\mathrm{[C]} + \\log k_r\n",
    "\\end{equation}\n",
    "\n",
    "This means that if $k^\\dagger_r$ is found for different values of [B] (while [C] is kept constant and the conditions are still met for isolation of A), then $b$ can be found from a plot\n",
    "of $\\log k^\\dagger_r$ versus $\\log\\mathrm{[B]}$. \n",
    "A near-integer value of slope can be rounded to the integer, as the order of reaction is expected to be an integer.\n",
    "Similarly, if $k^\\dagger_r$ is found for different values of [C] (while [B] is kept constant and the conditions are still met for isolation of A), then $c$ can be found from a plot of $\\log k^\\dagger_r$ versus $\\log\\mathrm{[C]}$. A near-integer value of slope can be rounded to the integer, as the order of reaction is expected to be an integer.\n",
    "Finally, now that $b$, and $c$ have been found, $k_r$ can be found using the intercepts of the $\\log–\\log$ plots."
   ]
  },
  {
   "cell_type": "markdown",
   "metadata": {},
   "source": [
    "## The Reaction between Crystal violet and hydroxide\n",
    "Crystal violet, CV, and hydroxide react according to the following reaction:\n",
    "\n",
    "\\begin{equation}\n",
    "\\mathrm{CV^+} + \\mathrm{OH^-} \\to \\mathrm{CVOH}\n",
    "\\end{equation}\n",
    "\n",
    "The reaction rate can therefore be expressed in the form:\n",
    "\n",
    "\\begin{equation}\n",
    "\\nu = k_r \\mathrm{[CV^+]}^a \\mathrm{[OH^-]}^b\n",
    "\\end{equation}\n",
    "\n",
    "The method of isolation is used by isolating crystal violet and using it to evaluate the order of the reaction with respect to the reactants separately. \n",
    "The rate of the reaction can therefore be written as:\n",
    "\n",
    "\\begin{equation}\n",
    "\\nu = k^\\dagger_r \\mathrm{[CV^+]}^a\n",
    "\\end{equation}\n",
    "\n",
    "where\n",
    "\n",
    "\\begin{equation}\n",
    "k^\\dagger_r = k_r \\mathrm{[OH^-]}^b\n",
    "\\end{equation}\n"
   ]
  },
  {
   "cell_type": "markdown",
   "metadata": {},
   "source": [
    "## Relating absorbance and concentration\n",
    "Since the absorbance, A, of the crystal violet is monitored as a function of time, it is not necessary to know the actual concentration of the crystal violet at any particular time. Beer’s law can be used to relate the absorbance, Ab and the crystal violet concentration, [CV+] by the equation:\n",
    "\n",
    "\\begin{equation}\n",
    "Ab = \\varepsilon\\ l\\ \\mathrm{[CV^+]}\n",
    "\\end{equation}\n",
    "\n",
    "Where $\\varepsilon$ is the molar absorptivity of crystal violet at the wavelength of the maximum absorption peak, $l$ is the length of the cuvette ($l$ = 1cm) and $\\mathrm{[CV+]}$ is the crystal violet concentration.\n",
    "The absorbance, $Ab$, may therefore be used as a proxy of the crystal violet concentration in all calculations.\n",
    "\n",
    "The integrated form equations for zero, first and second order can be rearranged and [CV+]o/[CV+]t substituted for Abo/Abt. This will give theoretical expressions that relate the absorbance values to time and to the rate constant kr’.\n",
    "\n",
    "### Refences\n",
    "\n",
    "Background information from:\n",
    "\n",
    "Atkins P & de Paula J, Atkins’ Physical Chemistry, ninth edition, Oxford University Press, Oxford\n",
    "\n",
    "Experiment:\n",
    "\n",
    "Randall J, Holmquist D & Volz D 2010, Chemistry with Vernier, American Chemical Society\n",
    "J. Chem. Educ. (2015), 92, pp 1692–1695. DOI: 10.1021/ed500876y"
   ]
  },
  {
   "cell_type": "markdown",
   "metadata": {},
   "source": [
    "## Aims\n",
    "1. Determine the rate law \n",
    "2. Determine the rate constant \n",
    "3. Determine the activation energy"
   ]
  },
  {
   "cell_type": "markdown",
   "metadata": {},
   "source": [
    "## Virtual experiment procedure\n",
    "1. Choose a weight for you samples (benzioc acid, Sucrose and naphthalene)\n",
    "2. Choose the amount of water in the calorimeter\n"
   ]
  },
  {
   "cell_type": "markdown",
   "metadata": {},
   "source": [
    "## Numerical skills \n",
    "\n",
    "1. fitting of portions of data\n",
    "2. error analysis"
   ]
  },
  {
   "cell_type": "markdown",
   "metadata": {},
   "source": [
    "## Pre-lab questions\n",
    "1. Rewrite the integrated form equations for zero, first and second order in terms of absorption.\n",
    "    1. What is the main consequence of using the absorbcance instead of the concentration in the calculations ?\n",
    "    2. would this affect the results for the reaction order and activation energy ?\n",
    "2. Find literature values for the rate law and activation energy for the reaction between crystal violet and hydroxide.\n",
    "3. In the **real** experiment the samples will be prepared by mixing comparable amounts of liquid taken from a $2.5\\times10^{-5}$ M stock solution of CV and a 0.25 M stock solution of NaOH. \n",
    "If you run two batches of experiments where you alternatively keep the amount of one of the two solutions constant, which species is **isolated** in the two sets?\n",
    "\n",
    "##  Questions to be answered in the lab report\n",
    "1. What is the rate law for the reaction between Crystal Violet and hydroxide ?\n",
    "    1. what is the order of the reaction with respect to [CV$^+$] ?\n",
    "    2. what is the order of the reaction with respect to [OH$^-$] ?\n",
    "2. What is the activation energy for the reaction ?\n",
    "3. How do your estimates compare with literature values ?\n"
   ]
  },
  {
   "cell_type": "markdown",
   "metadata": {},
   "source": [
    "## Launch virtual experiment\n",
    "- [Crystal Violet virtual lab](virtualExperiment.ipynb)"
   ]
  }
 ],
 "metadata": {
  "kernelspec": {
   "display_name": "Python 3 (ipykernel)",
   "language": "python",
   "name": "python3"
  },
  "language_info": {
   "codemirror_mode": {
    "name": "ipython",
    "version": 3
   },
   "file_extension": ".py",
   "mimetype": "text/x-python",
   "name": "python",
   "nbconvert_exporter": "python",
   "pygments_lexer": "ipython3",
   "version": "3.9.7"
  }
 },
 "nbformat": 4,
 "nbformat_minor": 4
}
