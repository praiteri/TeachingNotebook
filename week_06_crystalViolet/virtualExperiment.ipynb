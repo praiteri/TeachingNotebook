{
 "cells": [
  {
   "cell_type": "code",
   "execution_count": null,
   "metadata": {},
   "outputs": [],
   "source": [
    "%%javascript\n",
    "$('#appmode-leave').hide();\n",
    "$('#copy-binder-link').hide();\n",
    "$('#visit-repo-link').hide();"
   ]
  },
  {
   "cell_type": "markdown",
   "metadata": {},
   "source": [
    "# [Open empty notebook](empty.ipynb)\n",
    "\n",
    "# Crystal Violet Virtual Experiment"
   ]
  },
  {
   "cell_type": "code",
   "execution_count": null,
   "metadata": {},
   "outputs": [],
   "source": [
    "import ipywidgets as ipw\n",
    "import json\n",
    "import random\n",
    "import time\n",
    "import pandas as pd\n",
    "import os\n",
    "import webbrowser\n",
    "import math\n",
    "import numpy as np\n",
    "from IPython.display import display, Markdown, FileLink, clear_output"
   ]
  },
  {
   "cell_type": "code",
   "execution_count": null,
   "metadata": {},
   "outputs": [],
   "source": [
    "class StopExecution(Exception):\n",
    "    def _render_traceback_(self):\n",
    "        pass"
   ]
  },
  {
   "cell_type": "code",
   "execution_count": null,
   "metadata": {},
   "outputs": [],
   "source": [
    "%%javascript\n",
    "IPython.OutputArea.prototype._should_scroll = function(lines) {\n",
    "   return false;\n",
    "}"
   ]
  },
  {
   "cell_type": "code",
   "execution_count": null,
   "metadata": {},
   "outputs": [],
   "source": [
    "with open(\".lab.json\") as infile:\n",
    "    jsdata = json.load(infile)\n",
    "\n",
    "params = jsdata[\"cv\"]"
   ]
  },
  {
   "cell_type": "code",
   "execution_count": null,
   "metadata": {},
   "outputs": [],
   "source": [
    "t = int( time.time() * 1000.0 )\n",
    "random.seed( ((t & 0xff000000) >> 24) +\n",
    "             ((t & 0x00ff0000) >>  8) +\n",
    "             ((t & 0x0000ff00) <<  8) +\n",
    "             ((t & 0x000000ff) << 24)   )\n",
    "\n",
    "params[\"NaOH\"] = 0.5 * random.gauss(1,params[\"error\"])\n",
    "params[\"CV\"] = 2.5e-5 * random.gauss(1,params[\"error\"])"
   ]
  },
  {
   "cell_type": "code",
   "execution_count": null,
   "metadata": {},
   "outputs": [],
   "source": [
    "def run_experiment():\n",
    "\n",
    "    tt = random.gauss(T.value,params[\"et\"])\n",
    "    x0 = v0.value + random.gauss(0,params[\"ev\"])\n",
    "    x1 = v1.value + random.gauss(0,params[\"ev\"])\n",
    "    x2 = v2.value + random.gauss(0,params[\"ev\"])\n",
    "\n",
    "    lnk = params[\"A\"] - params[\"B\"]/params[\"R\"]/(tt+273.15)\n",
    "    kr = math.exp(lnk)\n",
    "    \n",
    "    vt = x0 + x1 + x2\n",
    "    coh = params[\"NaOH\"] * x0 / vt\n",
    "    ccv = params[\"CV\"] * x1 / vt\n",
    "    \n",
    "    kd = kr * math.pow(coh,params[\"beta\"])\n",
    "\n",
    "    Abs = params[\"A0\"]*ccv\n",
    "        \n",
    "    res = pd.DataFrame(columns=[\"#Time [s]\" , \"Absorbance\"])\n",
    "    for i in range(2, params[\"nTime\"]):\n",
    "        var_list = []\n",
    "        var_list.append(i)\n",
    "            \n",
    "        expVal = Abs * math.exp(-kr*i) + abs(random.gauss(0,params[\"error\"]) + 0.008)\n",
    "        var_list.append(expVal)\n",
    "        res.loc[len(res)] = var_list\n",
    "    \n",
    "    res.to_csv(respath.value, index=False)\n",
    "    local_file = FileLink(respath.value, result_html_prefix=\"Click here to download: \")\n",
    "    with out_P:\n",
    "        display(local_file)\n",
    "        display(res.tail(params[\"nTime\"]))\n"
   ]
  },
  {
   "cell_type": "code",
   "execution_count": null,
   "metadata": {},
   "outputs": [],
   "source": [
    "out_Error = ipw.Output()\n",
    "out_P = ipw.Output()\n",
    "\n",
    "# output filename\n",
    "fileName = \"results.csv\"\n",
    "respath = ipw.Text(fileName)\n",
    "\n",
    "v0 = ipw.FloatSlider(value=10, min=0, max=20)\n",
    "v1 = ipw.FloatSlider(value=10, min=0, max=20)\n",
    "v2 = ipw.FloatSlider(value=10, min=0, max=20)\n",
    "T  = ipw.FloatSlider(value=25, min=10, max=40)\n",
    "\n",
    "def reset(btn):\n",
    "    if os.path.exists(respath.value):\n",
    "        os.remove(respath.value)\n",
    "    \n",
    "    with out_Error:\n",
    "        out_Error.clear_output()\n",
    "        \n",
    "    with out_P:\n",
    "        out_P.clear_output()\n",
    "        \n",
    "    clear_output()\n",
    "    create_ipw()\n",
    "\n",
    "def calc(btn):\n",
    "    out_P.clear_output()\n",
    "    run_experiment()\n",
    "\n",
    "# interactive buttons ---\n",
    "btn_calc = ipw.Button(description=\"Perform Experiment\", layout=ipw.Layout(width=\"150px\"))\n",
    "btn_calc.on_click(calc)\n",
    "\n",
    "btn_reset = ipw.Button(description=\"Reset Experiment\", layout=ipw.Layout(width=\"150px\"))\n",
    "btn_reset.on_click(reset)\n",
    "\n",
    "# -- output widgets\n",
    "def create_ipw():\n",
    "    rows = []\n",
    "\n",
    "    label_layout = ipw.Layout(width='300px')\n",
    "\n",
    "    rows.append(ipw.HBox([ipw.Label('Output filename : ',layout=label_layout),respath]))\n",
    "    rows.append(ipw.HBox([ipw.Label(value=\"2.5x10$^{-5}$M stock solution of CV (ml)\",layout=label_layout),v0]))\n",
    "    rows.append(ipw.HBox([ipw.Label(value=\"0.5 M stock solution of NaOH (ml)\",layout=label_layout),v1]))\n",
    "    rows.append(ipw.HBox([ipw.Label(value=\"Deionised water (ml)\",layout=label_layout),v2]))\n",
    "    rows.append(ipw.HBox([ipw.Label(value=\"Temperature ($^\\circ$C)\",layout=label_layout),T]))\n",
    "\n",
    "    rows.append(ipw.HBox([btn_reset,btn_calc]))\n",
    "    rows.append(ipw.HBox([out_Error]))\n",
    "    rows.append(ipw.HBox([out_P]))\n",
    "    display(ipw.VBox(rows))\n",
    "\n",
    "create_ipw()\n"
   ]
  },
  {
   "cell_type": "code",
   "execution_count": null,
   "metadata": {},
   "outputs": [],
   "source": []
  }
 ],
 "metadata": {
  "kernelspec": {
   "display_name": "Python 3 (ipykernel)",
   "language": "python",
   "name": "python3"
  },
  "language_info": {
   "codemirror_mode": {
    "name": "ipython",
    "version": 3
   },
   "file_extension": ".py",
   "mimetype": "text/x-python",
   "name": "python",
   "nbconvert_exporter": "python",
   "pygments_lexer": "ipython3",
   "version": "3.9.7"
  }
 },
 "nbformat": 4,
 "nbformat_minor": 4
}
