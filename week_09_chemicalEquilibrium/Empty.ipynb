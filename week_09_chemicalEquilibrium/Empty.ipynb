{
 "cells": [
  {
   "cell_type": "markdown",
   "id": "8d0a0df2",
   "metadata": {},
   "source": [
    "# Click \"Edit App\" to start coding"
   ]
  },
  {
   "cell_type": "code",
   "execution_count": null,
   "id": "b3fe561a",
   "metadata": {},
   "outputs": [],
   "source": [
    "# python packages\n",
    "from sys import stdout\n",
    "import pandas as pd # allows us to use dataframes\n",
    "import numpy as np\n",
    "import math\n",
    "import matplotlib.pyplot as plt # allows us to make graphs\n",
    "# below prevents warnings from outdated Pandas append command clogging output\n",
    "import warnings\n",
    "warnings.simplefilter(action='ignore', category=FutureWarning)\n",
    "%matplotlib notebook"
   ]
  },
  {
   "cell_type": "code",
   "execution_count": null,
   "id": "65e78821",
   "metadata": {},
   "outputs": [],
   "source": [
    "# Cell below fixes scrolling issues for long outputs"
   ]
  },
  {
   "cell_type": "code",
   "execution_count": null,
   "id": "88b93dfe",
   "metadata": {},
   "outputs": [],
   "source": [
    "%%javascript\n",
    "IPython.OutputArea.prototype._should_scroll = function(lines) {\n",
    "   return false;\n",
    "}"
   ]
  },
  {
   "cell_type": "code",
   "execution_count": null,
   "id": "515605a1",
   "metadata": {},
   "outputs": [],
   "source": [
    "# initial conditions\n",
    "RT = 8.314 * 298.15\n",
    "Keq = 0.156\n",
    "\n",
    "# adjustable parameter dc\n",
    "dc = 1e-7\n",
    "\n",
    "# initial concentrations and stoichiometric coefficient\n",
    "concA = 0.15 ; nuA = -1\n",
    "concB = 0.05 ; nuB = 1\n",
    "\n",
    "# create a data frame for plotting\n",
    "Data = {'Cycle': [0],\n",
    "        '[A]': [concA],\n",
    "        '[B]': [concB],\n",
    "       }\n",
    "df = pd.DataFrame(Data, columns=['Cycle','[A]','[B]'])\n",
    "\n",
    "# print the data header\n",
    "print(\"{:<30}{:<12}{:<12}{:<12}{:<12}\".format(\"\",\"[A]\",\"[B]\", \"Q\", \"Keq\"))\n",
    "\n",
    "# reaction quotient ...\n",
    "Q = concB / (concA*concA)\n",
    "# print the first set of data\n",
    "print(\"{:<30}{:<12}{:<12}{:<12}{:<12}\".format(\"Initial conditions\",\n",
    "                                              \"{:.5f}\".format(concA),\n",
    "                                              \"{:.5f}\".format(concB), \n",
    "                                              \"{:.5f}\".format(Q), Keq))"
   ]
  }
 ],
 "metadata": {
  "kernelspec": {
   "display_name": "Python 3 (ipykernel)",
   "language": "python",
   "name": "python3"
  },
  "language_info": {
   "codemirror_mode": {
    "name": "ipython",
    "version": 3
   },
   "file_extension": ".py",
   "mimetype": "text/x-python",
   "name": "python",
   "nbconvert_exporter": "python",
   "pygments_lexer": "ipython3",
   "version": "3.9.7"
  }
 },
 "nbformat": 4,
 "nbformat_minor": 5
}
