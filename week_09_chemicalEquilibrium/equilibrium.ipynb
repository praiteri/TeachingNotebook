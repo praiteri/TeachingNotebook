{
 "cells": [
  {
   "cell_type": "markdown",
   "metadata": {},
   "source": [
    "Copyright **Paolo Raiteri**, January 2022\n",
    "\n",
    "# Numerical solution of equilibrium problems\n",
    "\n",
    "Let's consider a generic chemical reaction \n",
    "\n",
    "\\begin{equation}\n",
    "aA + bB + \\dots \\leftrightharpoons xX + yY + \\dots\n",
    "\\end{equation}\n",
    "\n",
    "if the concentrations of the species are not the equilibrium ones, the reaction will progress (either forward or backwards) to reach the equilibrium conditions, and the free energy of the system will decrease.\n",
    "\n",
    "An infinitesimal change of the system's free energy can then be written in terms of the chemical potential, $\\mu$, of all the species involved in the reaction.\n",
    "\n",
    "\\begin{equation}\n",
    "\\mathrm{d}G = \\sum_i \\mu_i \\mathrm{d}n_i\n",
    "\\end{equation}\n",
    "\n",
    "Because the concentrations of reactants and products are coupled through the reaction equation, they cannot change independently, _i.e._ if any products are formed, some reactants must be consumed.\n",
    "We can therefore define a unique parameter, $\\xi$, as the _progress of the reaction_ \n",
    "\n",
    "\\begin{equation}\n",
    "\\mathrm{d}\\xi = \\frac{\\mathrm{d}n_i}{ \\nu_i }\n",
    "\\end{equation}\n",
    "\n",
    "where $\\nu_i$ is the stoichiometric coefficient of the species $i$ taken as a positive number for products (formed) and as a negative number for reactants (consumed), and $\\mathrm{d}n_i$ is an infinitesimal change in the concentration of species $i$.\n",
    "Thus, the free energy change due to the progress of the reaction (in any direction) becomes\n",
    "\n",
    "\\begin{equation}\n",
    "\\mathrm{d}G = \\sum_i \\nu_i \\mu_i \\mathrm{d}\\xi\n",
    "\\end{equation}"
   ]
  },
  {
   "cell_type": "markdown",
   "metadata": {},
   "source": [
    "At equilibrium, the concentrations of all species are constant, $\\mathrm{d}n_i=0$, and the reaction is not _progressing_ anymore, $\\mathrm{d}\\xi=0$, hence the free energy is not changing anymore.\n",
    "On the other hand, if the system is out of equilibrium, there is a driving force that pushes the system towards equilibrium. \n",
    "A force can always be obtained as the negative of the derivative of the energy with respect to some coordinate.\n",
    "In this case, the driving force that pushes the reaction towards equilibrium can be written as\n",
    "\n",
    "\\begin{equation}\n",
    "\\frac{\\mathrm{d}G}{\\mathrm{d}\\xi} = \\sum_i \\nu_i \\mu_i = -force\n",
    "\\end{equation}\n",
    "\n",
    "If we then substitute the definition of the chemical potential, $\\mu=\\mu^0+RT\\ln x$, where $x$ is the molar fraction of the species, we obtain\n",
    "\n",
    "\\begin{eqnarray}\n",
    "\\frac{\\mathrm{d} G}{\\mathrm{d}\\xi} &=& \\sum_i\\nu_i\\mu_i\\\\\n",
    "&=& \\sum_i\\nu_i \\big[\\mu_i^0 +RT\\ln x_i\\big]\\\\\n",
    "&=& \\sum_i\\nu_i\\mu_i^0 +RT\\sum_i\\nu_i\\ln x_i\\\\\n",
    "&=& \\Delta_r G^0 +RT\\sum_i\\ln x_i^{\\nu_i}\\\\\n",
    "&=& \\Delta_r G^0 +RT\\ln \\prod_i x_i^{\\nu_i}\\\\\n",
    "&=& \\Delta_r G^0 +RT\\ln Q\\\\\n",
    "\\end{eqnarray}\n",
    "\n",
    "here $Q$ is the reaction quotient. By remembering the definition of equilibrium constant, $-RT\\ln K_{eq}=\\Delta_r G^0$ we get\n",
    "\n",
    "\\begin{equation}\n",
    "force = -\\frac{\\mathrm{d} G}{\\mathrm{d}\\xi} = RT\\ln K_{eq} - RT\\ln Q = RT\\ln\\ \\frac{K_{eq}}{Q}\n",
    "\\end{equation}"
   ]
  },
  {
   "cell_type": "markdown",
   "metadata": {},
   "source": [
    "This equation provides us with a conceptual framework to solve *numerically* any equilibrium problem.\n",
    "Because the above equations are differential, they are valid only for infinitesimal changes in the conditions.\n",
    "Hence each a small change in the concentrations, $\\nu_i\\mathrm{d}c$ the driving force may change significantly.\n",
    "\n",
    "Therefore we need to set up an iterative procedure where we compute the driving force, change the concentrations, compute the driving force\\dots until the equilibrium is reached.\n",
    "\n",
    "Given the concentration of all species, we can compute the driving force using the equation above and alter the concentrations of all species using\n",
    "\n",
    "\\begin{equation}\n",
    "\\mathrm{d}n_i \\approx \\nu_i \\times force \\times \\mathrm{d}c \n",
    "\\end{equation}\n",
    "\n",
    "where $\\nu_i$ are the stoichiometric coefficients of the species and $\\mathrm{d}c$ is an adjustable parameter.\n",
    "$\\mathrm{d}c$ must be small enough to maintain the validity of the approximation abover but not too small to allow for a quick convergence of the procedure.\n"
   ]
  },
  {
   "cell_type": "markdown",
   "metadata": {},
   "source": [
    "## Example: Dimerisation reaction\n",
    "In order to elucidate how that procedure works we can take a model dimerisation reaction\n",
    "\n",
    "\\begin{equation}\n",
    "2A \\leftrightharpoons B\n",
    "\\end{equation}\n",
    "\n",
    "whose equilibrium constant can be written as\n",
    "\\begin{equation}\n",
    "K_{eq} = \\frac{[B]}{[A]^2} = 0.156\n",
    "\\end{equation}\n",
    "\n",
    "We now want to calculate the equilibrium concentrations of $[A]_{eq}$ and $[B]_{eq}$ given their initial concentrations $[A]_{0}$ and $[B]_{0}$.\n",
    "Although this is a simple problem that can be solved analytically, in this workshop we will learn how we can use an iterative method to numerically solve it.\n",
    "We will use a relatively simple minimisation procedure that can be applied to a large number of problems, for which it is not possible or it is too complicated to get an analytic solution.\n",
    "\n",
    "Imagine mixing the reagents and then to be able to monitor the concentration of all the species in the system at very short discrete time intervals (*timesteps*). What you will see is that the concentrations will change and tend to the equilibrium value. As you have learnt in first year, the reaction quotient, $Q$, can be used to decided which way to reaction will proceed, and that at equilibrium the reaction quotient is equal to the equilibrium constant. Hence, as we have discussed in class, the reaction quotient and the equilibrium constant can be use to define a *driving force* that pulls the system towards equilibrium.\n",
    "\n",
    "This *driving force* can then be used in conjunction with an *ICE* table to numerically compute the equilibrium concentration of reactant and products.\n"
   ]
  },
  {
   "cell_type": "markdown",
   "metadata": {},
   "source": [
    "The working principle of the minimisation procedure that we will employ is\n",
    "\n",
    "1. compute the reaction quotient\n",
    "\\begin{equation}\n",
    "Q = \\dfrac{\\mathrm{[B]}_0}{\\mathrm{[A]}^2_0}\n",
    "\\end{equation}\n",
    "\n",
    "2. compute the driving force\n",
    "\n",
    "\\begin{equation}\n",
    "F = RT \\ln\\bigg[\\frac{K_{eq}}{Q}\\bigg]\n",
    "\\end{equation}\n",
    "\n",
    "3. evolve the concentrations using the ICE table\n",
    "\n",
    "|    <img width=50/>  | [A]  <img width=150/>      | [B]<img width=150/>\n",
    "| :---: | :--------: |:---------:\n",
    "| *I*  | [A]$_0$    | [B]$_0$\n",
    "| *C*  | -2$F\\delta c$        | +$F\\delta c$\n",
    "| *E*  | [A]$_0$-2$F\\delta c$ | [B]$_0$+$F\\delta c$\n",
    "\n",
    "4. Repeat until the solution does not change "
   ]
  },
  {
   "cell_type": "code",
   "execution_count": null,
   "metadata": {},
   "outputs": [],
   "source": [
    "# python packages\n",
    "from sys import stdout\n",
    "import pandas as pd # allows us to use dataframes\n",
    "import numpy as np\n",
    "import math\n",
    "import matplotlib.pyplot as plt # allows us to make graphs\n",
    "# below prevents warnings from outdated Pandas append command clogging output\n",
    "import warnings\n",
    "warnings.simplefilter(action='ignore', category=FutureWarning)\n",
    "%matplotlib notebook"
   ]
  },
  {
   "cell_type": "code",
   "execution_count": null,
   "metadata": {},
   "outputs": [],
   "source": [
    "# Cell below fixes scrolling issues for long outputs"
   ]
  },
  {
   "cell_type": "code",
   "execution_count": null,
   "metadata": {},
   "outputs": [],
   "source": [
    "%%javascript\n",
    "IPython.OutputArea.prototype._should_scroll = function(lines) {\n",
    "   return false;\n",
    "}"
   ]
  },
  {
   "cell_type": "code",
   "execution_count": null,
   "metadata": {},
   "outputs": [],
   "source": [
    "# initial conditions\n",
    "RT = 8.314 * 298.15\n",
    "Keq = 0..561\n",
    "\n",
    "# adjustable parameter dc\n",
    "dc = 1e-7\n",
    "\n",
    "# initial concentrations and stoichiometric coefficient\n",
    "concA = 0.15 ; nuA = -1\n",
    "concB = 0.05 ; nuB = 1\n",
    "\n",
    "# create a data frame for plotting\n",
    "Data = {'Cycle': [0],\n",
    "        '[A]': [concA],\n",
    "        '[B]': [concB],\n",
    "       }\n",
    "df = pd.DataFrame(Data, columns=['Cycle','[A]','[B]'])\n",
    "\n",
    "# print the data header\n",
    "print(\"{:<30}{:<12}{:<12}{:<12}{:<12}\".format(\"\",\"[A]\",\"[B]\", \"Q\", \"Keq\"))\n",
    "\n",
    "# reaction quotient ...\n",
    "Q = concB / (concA*concA)\n",
    "# print the first set of data\n",
    "print(\"{:<30}{:<12}{:<12}{:<12}{:<12}\".format(\"FIRST REACTION QUOTIENT\",\"{:.5f}\".format(concA),\"{:.5f}\".format(concB), \"{:.5f}\".format(Q), Keq))\n"
   ]
  },
  {
   "cell_type": "code",
   "execution_count": null,
   "metadata": {},
   "outputs": [],
   "source": []
  },
  {
   "cell_type": "markdown",
   "metadata": {},
   "source": [
    "### Critical thinking questions\n",
    "1. Verify that the final equilibrium concentrations are independent of the starting conditions, provided that $[A]+[B]$ is constant\n",
    "2. What is the effect of changing the values of $dc$ or $nCycles$?\n",
    "3. Is the value of RT important?"
   ]
  },
  {
   "cell_type": "markdown",
   "metadata": {},
   "source": [
    "## Example dissociation of mono-protic acid\n",
    "As an exercise now try to calculate the final pH of a solution of a monoprotic acid, _e.g._ acetic acid, $pK_a=4.756$.\n",
    "\n",
    "The equilibrium constant for the reation\n",
    "\n",
    "\\begin{equation}\n",
    "AH \\leftrightharpoons A^- + H^+\n",
    "\\end{equation} \n",
    "\n",
    "is $K_{eq}=10^{-4.756}=1.75\\times10^{-5}$.\n",
    "\n",
    "1. Determine the pH of a solution where $[AH]+[A^-]$=0.15M\n",
    "2. What is the concentration of $[AH]$ if the pH is maintained at a value of 6 by external titration?"
   ]
  }
 ],
 "metadata": {
  "interpreter": {
   "hash": "b0fa6594d8f4cbf19f97940f81e996739fb7646882a419484c72d19e05852a7e"
  },
  "kernelspec": {
   "display_name": "Python 3 (ipykernel)",
   "language": "python",
   "name": "python3"
  },
  "language_info": {
   "codemirror_mode": {
    "name": "ipython",
    "version": 3
   },
   "file_extension": ".py",
   "mimetype": "text/x-python",
   "name": "python",
   "nbconvert_exporter": "python",
   "pygments_lexer": "ipython3",
   "version": "3.9.7"
  }
 },
 "nbformat": 4,
 "nbformat_minor": 4
}
