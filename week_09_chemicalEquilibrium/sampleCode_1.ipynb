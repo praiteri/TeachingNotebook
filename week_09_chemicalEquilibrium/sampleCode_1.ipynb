{
 "cells": [
  {
   "cell_type": "code",
   "execution_count": null,
   "metadata": {},
   "outputs": [],
   "source": [
    "# python packages\n",
    "from sys import stdout\n",
    "import pandas as pd # allows us to use dataframes\n",
    "import numpy as np\n",
    "import math\n",
    "import matplotlib.pyplot as plt # allows us to make graphs\n",
    "# below prevents warnings from outdated Pandas append command clogging output\n",
    "import warnings\n",
    "warnings.simplefilter(action='ignore', category=FutureWarning)\n",
    "%matplotlib notebook"
   ]
  },
  {
   "cell_type": "code",
   "execution_count": null,
   "metadata": {},
   "outputs": [],
   "source": [
    "# Cell below fixes scrolling issues for long outputs"
   ]
  },
  {
   "cell_type": "code",
   "execution_count": null,
   "metadata": {},
   "outputs": [],
   "source": [
    "%%javascript\n",
    "IPython.OutputArea.prototype._should_scroll = function(lines) {\n",
    "   return false;\n",
    "}"
   ]
  },
  {
   "cell_type": "code",
   "execution_count": null,
   "metadata": {},
   "outputs": [],
   "source": [
    "# initial conditions\n",
    "RT = 8.314 * 298.15\n",
    "Keq = 0.156\n",
    "\n",
    "# adjustable parameter dc\n",
    "dc = 1e-7\n",
    "\n",
    "# initial concentrations and stoichiometric coefficient\n",
    "concA = 0.15 ; nuA = -1\n",
    "concB = 0.05 ; nuB = 1\n",
    "\n",
    "# create a data frame for plotting\n",
    "Data = {'Cycle': [0],\n",
    "        '[A]': [concA],\n",
    "        '[B]': [concB],\n",
    "       }\n",
    "df = pd.DataFrame(Data, columns=['Cycle','[A]','[B]'])\n",
    "\n",
    "# print the data header\n",
    "print(\"{:<30}{:<12}{:<12}{:<12}{:<12}\".format(\"\",\"[A]\",\"[B]\", \"Q\", \"Keq\"))\n",
    "\n",
    "# reaction quotient ...\n",
    "Q = concB / (concA*concA)\n",
    "# print the first set of data\n",
    "print(\"{:<30}{:<12}{:<12}{:<12}{:<12}\".format(\"FIRST REACTION QUOTIENT\",\"{:.5f}\".format(concA),\"{:.5f}\".format(concB), \"{:.5f}\".format(Q), Keq))\n",
    "\n",
    "# ... and driving force\n",
    "force = RT * math.log(Keq / Q)\n",
    "\n",
    "# infinitesimal change of the concentrations\n",
    "# don't forget the stoichiometric coefficient\n",
    "dn = force * dc\n",
    "concA = concA + dn * nuA\n",
    "concB = concB + dn * nuB\n",
    "\n",
    "# NEW reaction quotient ...\n",
    "Q = concB / (concA*concA)\n",
    "# print the new set of data\n",
    "print(\"{:<30}{:<12}{:<12}{:<12}{:<12}\".format(\"NEW REACTION QUOTIENT\",\"{:.5f}\".format(concA),\"{:.5f}\".format(concB), \"{:.5f}\".format(Q), Keq))\n",
    "\n",
    "# let's now make 1000 cycles\n",
    "nCycles = 1000\n",
    "df = pd.DataFrame(Data, columns=['Cycle','[A]','[B]'])\n",
    "for icycle in range(0,nCycles):\n",
    "    force = RT * math.log(Keq / Q)\n",
    "    dn = force * dc\n",
    "    concA = concA + dn * nuA\n",
    "    concB = concB + dn * nuB\n",
    "    Q = concB / (concA*concA)\n",
    "\n",
    "    # write the concentrations on the screen\n",
    "    if icycle%100 == 0:\n",
    "        print(\"{:<30}{:<12}{:<12}{:<12}{:<12}\".format(\"Cycle \"+str(icycle),\"{:.5f}\".format(concA),\"{:.5f}\".format(concB), \"{:.5f}\".format(Q), Keq))\n",
    "        \n",
    "    # append data to dataframe for plotting\n",
    "    if icycle%10 == 0:\n",
    "        df = df.append({'Cycle' : icycle,\n",
    "                        '[A]' : concA,\n",
    "                        '[B]' : concB},\n",
    "                        ignore_index = True)\n",
    "        \n",
    "print(\"\",\"FULL DATAFRAME\",df,sep=\"\\n\")"
   ]
  },
  {
   "cell_type": "code",
   "execution_count": null,
   "metadata": {},
   "outputs": [],
   "source": [
    "# set the x variable as the \"Cycle\" column from the dataframe\n",
    "x = df[\"Cycle\"]\n",
    "# set the y1 variable as the \"[A]\" column from the dataframe\n",
    "y1 = df[\"[A]\"]\n",
    "# set the y2 variable as the \"[B]\" column from the dataframe\n",
    "y2 = df[\"[B]\"]\n",
    "\n",
    "plt.xlabel(\"Number of Cycles\")\n",
    "plt.ylabel(\"Concentration\")\n",
    "plt.plot(x,y1,label=\"[A]\")\n",
    "plt.plot(x,y2,label=\"[B]\")\n",
    "plt.legend()"
   ]
  },
  {
   "cell_type": "markdown",
   "metadata": {},
   "source": [
    "### Critical thinking questions\n",
    "1. Verify that the final equilibrium concentrations are independent of the starting conditions, provided that $[A]+[B]$ is constant\n",
    "2. What is the effect of changing the values of $dc$ or $nCycles$?\n",
    "3. Is the value of RT important?"
   ]
  }
 ],
 "metadata": {
  "interpreter": {
   "hash": "b0fa6594d8f4cbf19f97940f81e996739fb7646882a419484c72d19e05852a7e"
  },
  "kernelspec": {
   "display_name": "Python 3 (ipykernel)",
   "language": "python",
   "name": "python3"
  },
  "language_info": {
   "codemirror_mode": {
    "name": "ipython",
    "version": 3
   },
   "file_extension": ".py",
   "mimetype": "text/x-python",
   "name": "python",
   "nbconvert_exporter": "python",
   "pygments_lexer": "ipython3",
   "version": "3.9.7"
  }
 },
 "nbformat": 4,
 "nbformat_minor": 4
}
