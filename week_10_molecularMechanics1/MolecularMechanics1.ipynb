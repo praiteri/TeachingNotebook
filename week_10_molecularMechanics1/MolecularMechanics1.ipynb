{
 "cells": [
  {
   "cell_type": "markdown",
   "metadata": {},
   "source": [
    "# Molecular mechanics 1\n",
    "\n",
    "The first approach to modelling molecular systems is to consider them as classical systems of masses connected via springs. \n",
    "\n",
    "During this lab we will build molecules and perform geometry optimisations in Avogadro using forcefields.\n",
    "\n",
    "In the week 11 labs we will use these forcefields to perform dynamic simulations. "
   ]
  },
  {
   "cell_type": "markdown",
   "metadata": {},
   "source": [
    "### Lab report\n",
    "\n",
    "There is a combined lab report between week 10 and 11 on molecular mechanics. The first section that we will do this week is on molecular modelling and the second will be on molecular dynamics. \n",
    "\n",
    "More details on what we want you to include in the next weeks lab. Make sure you save all of the figures for each task in a document or folder.\n",
    "\n",
    "#### Section 1 - Molecular modelling\n",
    "\n",
    "##### Section 1.1 - Molecular representations\n",
    "\n",
    "**Task 1** - Choose a molecule with >10 atoms (no not choose caffeine) and plot show differnt representations (Ball and stick, Rings, Stick, van der Waals Spheres, wireframes. Explain the pros and cons for each representations.\n",
    "\n",
    "##### Section 1.2 - Intramolecular interactions\n",
    "\n",
    "**Task 2** - Build water and optimise the geometry using the MMFF forcefield. Measure the bond angle and bond length.\n",
    "\n",
    "**Task 3** - Build flat and bent geometry for ammonia. Compute the energy for the inversion barrier using the MMFF forcefield and compare with high quality calculations ([CCSD(T)/aug-cc-pVQZ](https://aip.scitation.org/doi/pdf/10.1063/1.1379752)=22.333 kJ/mol and [experiment](https://www.sciencedirect.com/science/article/abs/pii/0022285289901963)=22.546 kJ/mol.\n",
    "\n",
    "##### Section 1.3 - Intermolecular interactions\n",
    "\n",
    "**Task 4** - Build molecular dimers and compute binding energy.\n",
    "\n",
    "**Task 5** - Compute the electrostatic potential surfaces and use them to explain the interactions between the dimers.\n",
    "\n",
    "**Task 6** - Build water dimer and water ring by optimising the structure using MMFF. Build an ice crystal\n",
    "\n",
    "##### Section 1.4 - Biomolecular models\n",
    "\n",
    "**Task 7** - Build DNA and show figure of the hydrogen bonding between the base pairs.\n",
    "\n",
    "**Task 8** - Build a peptide chain and show as ball and stick model and ribbon model.\n",
    "\n",
    "**Task 9** - Show the 3AGN protein from the protein database with ball and sticks, ribbon and cartoon model. Show the hydrogen bonding in the alpha helices and beta sheets.\n",
    "\n",
    "##### Section 1.5 - Nanocarbon models\n",
    "\n",
    "**Task 10** - Build a ball and stick model of diamond, graphite, linsdaleite, graphene, nanotube and C60 fullerene."
   ]
  },
  {
   "cell_type": "markdown",
   "metadata": {},
   "source": [
    "## Molecular modelling\n",
    "\n",
    "[You will need to install Avogadro on your computer from this website](https://www.dropbox.com/s/2gonb18fzpr2233/AvogadroOrca4.2.1.current.exe?dl=0)\n",
    "\n",
    "The instructions for building the molecules can be found on the slides that are embedded below.\n"
   ]
  },
  {
   "cell_type": "code",
   "execution_count": 37,
   "metadata": {},
   "outputs": [
    {
     "data": {
      "text/html": [
       "\n",
       "        <iframe\n",
       "            width=\"960\"\n",
       "            height=\"749\"\n",
       "            src=\"https://docs.google.com/presentation/d/e/2PACX-1vRKSBMTA6bUahJ0gVuVyEbwBOjLwcWptqigtPYY048NdRzxtWkwUdTmMPmulwFDrqfy3KpW2lmyGyo_/embed?start=false&loop=false&delayms=3000&slide=id.g1a302ee54e_1_26\"\n",
       "            frameborder=\"0\"\n",
       "            allowfullscreen\n",
       "        ></iframe>\n",
       "        "
      ],
      "text/plain": [
       "<IPython.lib.display.IFrame at 0x14ae17f4490>"
      ]
     },
     "execution_count": 37,
     "metadata": {},
     "output_type": "execute_result"
    }
   ],
   "source": [
    "from IPython.display import IFrame\n",
    "IFrame(\"https://docs.google.com/presentation/d/e/2PACX-1vRKSBMTA6bUahJ0gVuVyEbwBOjLwcWptqigtPYY048NdRzxtWkwUdTmMPmulwFDrqfy3KpW2lmyGyo_/embed?start=false&loop=false&delayms=3000&slide=id.g1a302ee54e_1_26\",width=960,height=749)"
   ]
  },
  {
   "cell_type": "code",
   "execution_count": null,
   "metadata": {},
   "outputs": [],
   "source": []
  }
 ],
 "metadata": {
  "anaconda-cloud": {},
  "kernelspec": {
   "display_name": "Python 3",
   "language": "python",
   "name": "python3"
  },
  "language_info": {
   "codemirror_mode": {
    "name": "ipython",
    "version": 3
   },
   "file_extension": ".py",
   "mimetype": "text/x-python",
   "name": "python",
   "nbconvert_exporter": "python",
   "pygments_lexer": "ipython3",
   "version": "3.8.3"
  }
 },
 "nbformat": 4,
 "nbformat_minor": 1
}
