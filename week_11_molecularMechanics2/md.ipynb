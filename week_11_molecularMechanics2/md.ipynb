{
 "cells": [
  {
   "cell_type": "markdown",
   "id": "4015b65f",
   "metadata": {},
   "source": [
    "# My first molecular dynamics simulation"
   ]
  },
  {
   "cell_type": "code",
   "execution_count": 1,
   "id": "3df9cf90",
   "metadata": {},
   "outputs": [
    {
     "name": "stderr",
     "output_type": "stream",
     "text": [
      "Warning: importing 'simtk.openmm' is deprecated.  Import 'openmm' instead.\n"
     ]
    },
    {
     "data": {
      "application/vnd.jupyter.widget-view+json": {
       "model_id": "81e292fb450c4c779d9ca6f2ee256013",
       "version_major": 2,
       "version_minor": 0
      },
      "text/plain": []
     },
     "metadata": {},
     "output_type": "display_data"
    }
   ],
   "source": [
    "import time\n",
    "import random\n",
    "\n",
    "import sys\n",
    "\n",
    "from io import StringIO\n",
    "from IPython import get_ipython\n",
    "\n",
    "from openmm.app import *\n",
    "from openmm import *\n",
    "from simtk.unit import *\n",
    "\n",
    "import openmmtools as tools\n",
    "import MDAnalysis as md\n",
    "import nglview as ng\n",
    "import pandas as pd\n",
    "import numpy as np\n",
    "\n",
    "# below prevents warnings from outdated Pandas append command clogging output\n",
    "import warnings\n",
    "warnings.simplefilter(action='ignore', category=FutureWarning)\n",
    "\n",
    "import matplotlib.pyplot as plt\n",
    "\n",
    "t = int( time.time() * 1000.0 )\n",
    "random.seed( ((t & 0xff000000) >> 24) +\n",
    "             ((t & 0x00ff0000) >>  8) +\n",
    "             ((t & 0x0000ff00) <<  8) +\n",
    "             ((t & 0x000000ff) << 24)   )\n"
   ]
  },
  {
   "cell_type": "code",
   "execution_count": 2,
   "id": "7a5b41c6",
   "metadata": {},
   "outputs": [],
   "source": [
    "class IpyExit(SystemExit):\n",
    "    \"\"\"Exit Exception for IPython.\n",
    "\n",
    "    Exception temporarily redirects stderr to buffer.\n",
    "    \"\"\"\n",
    "    def __init__(self):\n",
    "        print(\"Water model undefined\")  # optionally print some message to stdout, too\n",
    "        sys.stderr = StringIO()\n",
    "\n",
    "    def __del__(self):\n",
    "        sys.stderr.close()\n",
    "        sys.stderr = sys.__stderr__  # restore from backup\n"
   ]
  },
  {
   "cell_type": "code",
   "execution_count": 5,
   "id": "51e120b3",
   "metadata": {},
   "outputs": [],
   "source": [
    "### 1. Choose a water model\n",
    "# h2o = \"NONE\"\n",
    "# h2o = \"spce\"\n",
    "# h2o = \"tip3p\"\n",
    "# h2o = \"tip4pew\"\n",
    "# h2o = \"tip5p\"\n",
    "\n",
    "if h2o ==\"NONE\":\n",
    "    raise IpyExit\n",
    "\n",
    "### 2. Create initial coordinates and system\n",
    "water = tools.testsystems.WaterBox(model=h2o,\n",
    "                                   box_edge=2.1*nanometers,\n",
    "                                   ewaldErrorTolerance=1e-04)\n",
    "\n",
    "### 2a. Save initial coordinates to file\n",
    "output = open('water.pdb', 'w')\n",
    "PDBFile.writeFile(water.topology, water.positions, output)\n",
    "output.flush()"
   ]
  },
  {
   "cell_type": "code",
   "execution_count": 6,
   "id": "d37069ac",
   "metadata": {},
   "outputs": [],
   "source": [
    "### 3. Choose parameters of the experiment: temperature, pressure and length\n",
    "temperature = 288*kelvin\n",
    "pressure = 1*atmosphere\n",
    "simulationTime = 10*picosecond\n",
    "\n",
    "### 3a. Simulation timestep, total number of steps and thermostat/barostat parameters\n",
    "timeStep = 0.002*picoseconds\n",
    "totalSteps = simulationTime / timeStep\n",
    "frictionCoeff = 0.1/picosecond\n",
    "nupdt = 20\n",
    "\n",
    "### 4. Choose an integrator\n",
    "integrator = LangevinIntegrator( temperature, frictionCoeff, timeStep )\n",
    "water.system.addForce(MonteCarloBarostat( pressure , temperature , nupdt ) )\n",
    "\n",
    "### 5 Create a simulation object\n",
    "simulation = Simulation(water.topology, water.system, integrator)\n",
    "simulation.context.setPositions(water.positions)\n",
    "simulation.context. setVelocitiesToTemperature(temperature, random.randrange(99999))\n",
    "\n",
    "### 6. Set output for trajectory and thermodynamics data\n",
    "simulation.reporters.append(DCDReporter('traj.dcd', 10))\n",
    "\n",
    "### 7. Set output for thermodynamics data\n",
    "simulation.reporters.append(StateDataReporter( \"thermo.csv\"\n",
    "                                             , 10\n",
    "                                             , step            = True\n",
    "                                             , time            = True\n",
    "                                             , potentialEnergy = True\n",
    "                                             , temperature     = True\n",
    "                                             , density         = True\n",
    "                                             , volume          = True\n",
    "                                             , separator       = \",\"\n",
    "                                             ))\n",
    "\n",
    "### 7a. Set screen output to monitor the simulation progress\n",
    "simulation.reporters.append(StateDataReporter( sys.stdout\n",
    "                                             , int(totalSteps/20)\n",
    "                                             , step            = True\n",
    "                                             , progress        = True\n",
    "                                             , remainingTime   = True\n",
    "                                             , elapsedTime     = True\n",
    "                                             , separator       = \" \"\n",
    "                                             , totalSteps      = totalSteps\n",
    "                                             ))\n"
   ]
  },
  {
   "cell_type": "code",
   "execution_count": 7,
   "id": "c65b3e8a",
   "metadata": {},
   "outputs": [
    {
     "name": "stdout",
     "output_type": "stream",
     "text": [
      "#\"Progress (%)\" \"Step\" \"Elapsed Time (s)\" \"Time Remaining\"\n",
      "5.0% 250 2.9802322387695312e-05 --\n",
      "10.0% 500 0.9248077869415283 0:16\n",
      "15.0% 750 1.8320038318634033 0:15\n",
      "20.0% 1000 2.725062847137451 0:14\n",
      "25.0% 1250 3.585536003112793 0:13\n",
      "30.0% 1500 4.437191963195801 0:12\n",
      "35.0% 1750 5.252994775772095 0:11\n",
      "40.0% 2000 6.087436676025391 0:10\n",
      "45.0% 2250 6.934940814971924 0:09\n",
      "50.0% 2500 7.833104848861694 0:08\n",
      "55.0% 2750 8.645012855529785 0:07\n",
      "60.0% 3000 9.472530841827393 0:06\n",
      "65.0% 3250 10.268924951553345 0:05\n",
      "70.0% 3500 11.07167673110962 0:05\n",
      "75.0% 3750 11.888775825500488 0:04\n",
      "80.0% 4000 12.674637794494629 0:03\n",
      "85.0% 4250 13.461643695831299 0:02\n",
      "90.0% 4500 14.255128860473633 0:01\n",
      "95.0% 4750 15.076814651489258 0:00\n",
      "100.0% 5000 15.866933822631836 0:00\n"
     ]
    }
   ],
   "source": [
    "### 8. Run MD\n",
    "simulation.step(totalSteps)"
   ]
  },
  {
   "cell_type": "code",
   "execution_count": 8,
   "id": "7effcfab",
   "metadata": {},
   "outputs": [
    {
     "name": "stderr",
     "output_type": "stream",
     "text": [
      "/Users/paolo/opt/miniconda3/envs/work/lib/python3.9/site-packages/MDAnalysis/topology/PDBParser.py:334: UserWarning: Unknown element EP found for some atoms. These have been given an empty element record. If needed they can be guessed using MDAnalysis.topology.guessers.\n",
      "  warnings.warn(wmsg)\n",
      "/Users/paolo/opt/miniconda3/envs/work/lib/python3.9/site-packages/MDAnalysis/topology/guessers.py:146: UserWarning: Failed to guess the mass for the following atom types: EP\n",
      "  warnings.warn(\"Failed to guess the mass for the following atom types: {}\".format(atom_type))\n"
     ]
    },
    {
     "data": {
      "application/vnd.jupyter.widget-view+json": {
       "model_id": "579ecdcb1173424ea62f2c0a3df829ab",
       "version_major": 2,
       "version_minor": 0
      },
      "text/plain": [
       "NGLWidget(max_frame=499)"
      ]
     },
     "metadata": {},
     "output_type": "display_data"
    },
    {
     "data": {
      "application/vnd.jupyter.widget-view+json": {
       "model_id": "c93ff910192e437fbf68b0544581f48e",
       "version_major": 2,
       "version_minor": 0
      },
      "text/plain": [
       "Tab(children=(Box(children=(Box(children=(Box(children=(Label(value='step'), IntSlider(value=1, min=-100)), la…"
      ]
     },
     "metadata": {},
     "output_type": "display_data"
    }
   ],
   "source": [
    "### 9. Visualization\n",
    "sys = md.Universe(\"water.pdb\", 'traj.dcd')\n",
    "view = ng.show_mdanalysis(sys, gui=True)\n",
    "view.center()\n",
    "view.representations = [\n",
    "    {\"type\": \"ball+stick\", \"params\": {\"sele\": \"all\"}}\n",
    "]\n",
    "view"
   ]
  },
  {
   "cell_type": "code",
   "execution_count": 10,
   "id": "2cfbd685",
   "metadata": {},
   "outputs": [
    {
     "name": "stdout",
     "output_type": "stream",
     "text": [
      "     #\"Step\"  Time (ps)  Potential Energy (kJ/mole)  Temperature (K)  \\\n",
      "495     4960       9.92                -6110.804236       618.713532   \n",
      "496     4970       9.94                -6022.051693       605.678315   \n",
      "497     4980       9.96                -6149.933455       621.774572   \n",
      "498     4990       9.98                -6108.264316       615.065500   \n",
      "499     5000      10.00                -6096.783683       612.272757   \n",
      "\n",
      "     Box Volume (nm^3)  Density (g/mL)  \n",
      "495          14.559868        0.597897  \n",
      "496          14.559868        0.597897  \n",
      "497          14.555736        0.598067  \n",
      "498          14.555736        0.598067  \n",
      "499          14.618682        0.595492  \n"
     ]
    }
   ],
   "source": [
    "### 10. Load the thermodynamic data in a dataframe\n",
    "data = pd.read_csv(\"thermo.csv\")\n",
    "# print(data.head())\n",
    "print(data.tail())"
   ]
  },
  {
   "cell_type": "code",
   "execution_count": 11,
   "id": "eb22e4aa",
   "metadata": {},
   "outputs": [
    {
     "data": {
      "image/png": "[encoded data removed]",
      "text/plain": [
       "<Figure size 432x288 with 1 Axes>"
      ]
     },
     "metadata": {
      "needs_background": "light"
     },
     "output_type": "display_data"
    }
   ],
   "source": [
    "x = data[\"Time (ps)\"]\n",
    "y = data[\"Box Volume (nm^3)\"]\n",
    "plt.plot(x,y)\n",
    "plt.show()"
   ]
  },
  {
   "cell_type": "code",
   "execution_count": null,
   "id": "aa6349b2",
   "metadata": {},
   "outputs": [],
   "source": []
  }
 ],
 "metadata": {
  "kernelspec": {
   "display_name": "Python 3 (ipykernel)",
   "language": "python",
   "name": "python3"
  },
  "language_info": {
   "codemirror_mode": {
    "name": "ipython",
    "version": 3
   },
   "file_extension": ".py",
   "mimetype": "text/x-python",
   "name": "python",
   "nbconvert_exporter": "python",
   "pygments_lexer": "ipython3",
   "version": "3.9.7"
  }
 },
 "nbformat": 4,
 "nbformat_minor": 5
}
