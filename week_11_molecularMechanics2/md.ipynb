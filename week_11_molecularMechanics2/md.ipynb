{
 "cells": [
  {
   "cell_type": "markdown",
   "metadata": {},
   "source": [
    "# My first molecular dynamics program\n",
    "## Click \"Edit App\" to start coding"
   ]
  },
  {
   "cell_type": "code",
   "execution_count": null,
   "metadata": {},
   "outputs": [],
   "source": [
    "import sys\n",
    "from io import StringIO\n",
    "from IPython import get_ipython\n",
    "\n",
    "from openmm.app import *\n",
    "from openmm import *\n",
    "from simtk.unit import *\n",
    "\n",
    "import openmmtools as tools\n",
    "import MDAnalysis as md\n",
    "import nglview as ng\n",
    "import pandas as pd\n",
    "import numpy as np\n",
    "\n",
    "# below prevents warnings from outdated Pandas append command clogging output\n",
    "import warnings\n",
    "warnings.simplefilter(action='ignore', category=FutureWarning)\n",
    "\n",
    "import matplotlib.pyplot as plt\n",
    "%matplotlib notebook "
   ]
  },
  {
   "cell_type": "code",
   "execution_count": null,
   "metadata": {},
   "outputs": [],
   "source": [
    "class IpyExit(SystemExit):\n",
    "    \"\"\"Exit Exception for IPython.\n",
    "\n",
    "    Exception temporarily redirects stderr to buffer.\n",
    "    \"\"\"\n",
    "    def __init__(self):\n",
    "        print(\"Water model undefined\")  # optionally print some message to stdout, too\n",
    "        sys.stderr = StringIO()\n",
    "\n",
    "    def __del__(self):\n",
    "        sys.stderr.close()\n",
    "        sys.stderr = sys.__stderr__  # restore from backup\n"
   ]
  },
  {
   "cell_type": "code",
   "execution_count": null,
   "metadata": {},
   "outputs": [],
   "source": [
    "### 1. Choose a water model\n",
    "h2o = \"NONE\"\n",
    "#h2o = \"spce\"\n",
    "\n",
    "\n",
    "if h2o ==\"NONE\":\n",
    "    raise IpyExit\n",
    "\n",
    "### 2. Create initial coordinates and system\n",
    "water = tools.testsystems.WaterBox(model=h2o,\n",
    "                                   box_edge=2.2*nanometers,\n",
    "                                   ewaldErrorTolerance=1e-05)\n",
    "\n",
    "### 2a. Save initial coordinates to file\n",
    "output = open('water.pdb', 'w')\n",
    "PDBFile.writeFile(water.topology, water.positions, output)\n",
    "output.flush()"
   ]
  },
  {
   "cell_type": "code",
   "execution_count": null,
   "metadata": {},
   "outputs": [],
   "source": [
    "### 3. Choose parameters of the experiment: temperature, pressure and length\n",
    "temperature = 288*kelvin\n",
    "pressure = 1*atmosphere\n",
    "simulationTime = 100*picosecond\n",
    "\n",
    "### 3a. Simulation timestep, total number of steps and thermostat/barostat parameters\n",
    "timeStep = 0.002*picoseconds\n",
    "totalSteps = simulationTime / timeStep\n",
    "frictionCoeff = 0.1/picosecond\n",
    "nupdt = 20\n",
    "\n",
    "\n",
    "### 4. Choose an integrator\n",
    "integrator = LangevinIntegrator( temperature, frictionCoeff, timeStep )\n",
    "water.system.addForce(MonteCarloBarostat( pressure , temperature , nupdt ) )\n",
    "\n",
    "### 5 Create a simulation object\n",
    "simulation = Simulation(water.topology, water.system, integrator)\n",
    "simulation.context.setPositions(water.positions)\n",
    "simulation.context. setVelocitiesToTemperature(temperature, 12345)\n",
    "\n",
    "### 6. Set output for trajectory and thermodynamics data\n",
    "simulation.reporters.append(DCDReporter('traj.dcd', 100))\n",
    "\n",
    "### 7. Set output for thermodynamics data\n",
    "simulation.reporters.append(StateDataReporter( \"thermo.csv\"\n",
    "                                             , 10\n",
    "                                             , step            = True\n",
    "                                             , time            = True\n",
    "                                             , potentialEnergy = True\n",
    "                                             , temperature     = True\n",
    "                                             , density         = True\n",
    "                                             , volume          = True\n",
    "                                             , separator       = \",\"\n",
    "                                             ))\n",
    "\n",
    "\n",
    "### 7a. Set screen output to monitor the simulation progress\n",
    "simulation.reporters.append(StateDataReporter( stdout\n",
    "                                             , int(totalSteps/20)\n",
    "                                             , step            = True\n",
    "                                             , progress        = True\n",
    "                                             , remainingTime   = True\n",
    "                                             , elapsedTime     = True\n",
    "                                             , separator       = \" \"\n",
    "                                             , totalSteps      = totalSteps\n",
    "                                             ))\n"
   ]
  },
  {
   "cell_type": "code",
   "execution_count": null,
   "metadata": {},
   "outputs": [],
   "source": [
    "### 8. Run MD\n",
    "simulation.step(totalSteps)"
   ]
  },
  {
   "cell_type": "code",
   "execution_count": null,
   "metadata": {},
   "outputs": [],
   "source": [
    "### 9. Visualization\n",
    "sys = md.Universe(\"water.pdb\", 'traj.dcd')\n",
    "view = ng.show_mdanalysis(sys, gui=True)\n",
    "view.center()\n",
    "view.representations = [\n",
    "    {\"type\": \"ball+stick\", \"params\": {\"sele\": \"all\"}}\n",
    "]\n",
    "view"
   ]
  },
  {
   "cell_type": "code",
   "execution_count": null,
   "metadata": {},
   "outputs": [],
   "source": [
    "### 10. Load the thermodynamic data in a dataframe\n",
    "data = pd.read_csv(\"thermo.csv\")\n",
    "print(data.head())\n",
    "print(data.tail())"
   ]
  },
  {
   "cell_type": "code",
   "execution_count": null,
   "metadata": {},
   "outputs": [],
   "source": [
    "x = data[\"Time (ps)\"]\n",
    "y = data[\"Density (g/mL)\"]\n",
    "plt.plot(x,y)\n"
   ]
  },
  {
   "cell_type": "code",
   "execution_count": null,
   "metadata": {},
   "outputs": [],
   "source": [
    "val = y[2000:5000]\n",
    "\n",
    "average = np.mean(val)\n",
    "stderr = np.std(val) / np.sqrt(np.size(val))\n",
    "print(average,stderr)"
   ]
  },
  {
   "cell_type": "code",
   "execution_count": null,
   "metadata": {},
   "outputs": [],
   "source": []
  }
 ],
 "metadata": {
  "kernelspec": {
   "display_name": "Python 3",
   "language": "python",
   "name": "python3"
  },
  "language_info": {
   "codemirror_mode": {
    "name": "ipython",
    "version": 3
   },
   "file_extension": ".py",
   "mimetype": "text/x-python",
   "name": "python",
   "nbconvert_exporter": "python",
   "pygments_lexer": "ipython3",
   "version": "3.8.3"
  }
 },
 "nbformat": 4,
 "nbformat_minor": 5
}
