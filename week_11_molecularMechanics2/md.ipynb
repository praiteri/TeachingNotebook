{
 "cells": [
  {
   "cell_type": "markdown",
   "id": "4015b65f",
   "metadata": {},
   "source": [
    "# My first molecular dynamics program"
   ]
  },
  {
   "cell_type": "code",
   "execution_count": 1,
   "id": "3df9cf90",
   "metadata": {},
   "outputs": [
    {
     "name": "stderr",
     "output_type": "stream",
     "text": [
      "Warning: importing 'simtk.openmm' is deprecated.  Import 'openmm' instead.\n"
     ]
    },
    {
     "data": {
      "application/vnd.jupyter.widget-view+json": {
       "model_id": "037126617de74adf9a9c25a26eac5e79",
       "version_major": 2,
       "version_minor": 0
      },
      "text/plain": []
     },
     "metadata": {},
     "output_type": "display_data"
    }
   ],
   "source": [
    "import time\n",
    "import random\n",
    "\n",
    "import sys\n",
    "\n",
    "from io import StringIO\n",
    "from IPython import get_ipython\n",
    "\n",
    "from openmm.app import *\n",
    "from openmm import *\n",
    "from simtk.unit import *\n",
    "\n",
    "import openmmtools as tools\n",
    "import MDAnalysis as md\n",
    "import nglview as ng\n",
    "import pandas as pd\n",
    "import numpy as np\n",
    "\n",
    "# below prevents warnings from outdated Pandas append command clogging output\n",
    "import warnings\n",
    "warnings.simplefilter(action='ignore', category=FutureWarning)\n",
    "\n",
    "import matplotlib.pyplot as plt\n",
    "\n",
    "t = int( time.time() * 1000.0 )\n",
    "random.seed( ((t & 0xff000000) >> 24) +\n",
    "             ((t & 0x00ff0000) >>  8) +\n",
    "             ((t & 0x0000ff00) <<  8) +\n",
    "             ((t & 0x000000ff) << 24)   )\n"
   ]
  },
  {
   "cell_type": "code",
   "execution_count": 2,
   "id": "7a5b41c6",
   "metadata": {},
   "outputs": [],
   "source": [
    "class IpyExit(SystemExit):\n",
    "    \"\"\"Exit Exception for IPython.\n",
    "\n",
    "    Exception temporarily redirects stderr to buffer.\n",
    "    \"\"\"\n",
    "    def __init__(self):\n",
    "        print(\"Water model undefined\")  # optionally print some message to stdout, too\n",
    "        sys.stderr = StringIO()\n",
    "\n",
    "    def __del__(self):\n",
    "        sys.stderr.close()\n",
    "        sys.stderr = sys.__stderr__  # restore from backup\n"
   ]
  },
  {
   "cell_type": "code",
   "execution_count": 3,
   "id": "51e120b3",
   "metadata": {},
   "outputs": [],
   "source": [
    "### 1. Choose a water model\n",
    "# h2o = \"tip4pew\"\n",
    "h2o = \"spce\"\n",
    "\n",
    "if h2o ==\"NONE\":\n",
    "    raise IpyExit\n",
    "\n",
    "### 2. Create initial coordinates and system\n",
    "water = tools.testsystems.WaterBox(model=h2o,\n",
    "                                   box_edge=2.1*nanometers,\n",
    "                                   ewaldErrorTolerance=1e-04)\n",
    "\n",
    "### 2a. Save initial coordinates to file\n",
    "output = open('water.pdb', 'w')\n",
    "PDBFile.writeFile(water.topology, water.positions, output)\n",
    "output.flush()"
   ]
  },
  {
   "cell_type": "code",
   "execution_count": 4,
   "id": "d37069ac",
   "metadata": {},
   "outputs": [],
   "source": [
    "### 3. Choose parameters of the experiment: temperature, pressure and length\n",
    "temperature = 288*kelvin\n",
    "pressure = 1*atmosphere\n",
    "simulationTime = 10*picosecond\n",
    "\n",
    "### 3a. Simulation timestep, total number of steps and thermostat/barostat parameters\n",
    "timeStep = 0.002*picoseconds\n",
    "totalSteps = simulationTime / timeStep\n",
    "frictionCoeff = 0.1/picosecond\n",
    "nupdt = 20\n",
    "\n",
    "\n",
    "### 4. Choose an integrator\n",
    "integrator = LangevinIntegrator( temperature, frictionCoeff, timeStep )\n",
    "water.system.addForce(MonteCarloBarostat( pressure , temperature , nupdt ) )\n",
    "\n",
    "### 5 Create a simulation object\n",
    "simulation = Simulation(water.topology, water.system, integrator)\n",
    "simulation.context.setPositions(water.positions)\n",
    "simulation.context. setVelocitiesToTemperature(temperature, random.randrange(99999))\n",
    "\n",
    "### 6. Set output for trajectory and thermodynamics data\n",
    "simulation.reporters.append(DCDReporter('traj.dcd', 10))\n",
    "\n",
    "### 7. Set output for thermodynamics data\n",
    "simulation.reporters.append(StateDataReporter( \"thermo.csv\"\n",
    "                                             , 10\n",
    "                                             , step            = True\n",
    "                                             , time            = True\n",
    "                                             , potentialEnergy = True\n",
    "                                             , temperature     = True\n",
    "                                             , density         = True\n",
    "                                             , volume          = True\n",
    "                                             , separator       = \",\"\n",
    "                                             ))\n",
    "\n",
    "\n",
    "### 7a. Set screen output to monitor the simulation progress\n",
    "simulation.reporters.append(StateDataReporter( sys.stdout\n",
    "                                             , int(totalSteps/20)\n",
    "                                             , step            = True\n",
    "                                             , progress        = True\n",
    "                                             , remainingTime   = True\n",
    "                                             , elapsedTime     = True\n",
    "                                             , separator       = \" \"\n",
    "                                             , totalSteps      = totalSteps\n",
    "                                             ))\n"
   ]
  },
  {
   "cell_type": "code",
   "execution_count": 5,
   "id": "c65b3e8a",
   "metadata": {},
   "outputs": [
    {
     "name": "stdout",
     "output_type": "stream",
     "text": [
      "#\"Progress (%)\" \"Step\" \"Elapsed Time (s)\" \"Time Remaining\"\n",
      "5.0% 250 3.3855438232421875e-05 --\n",
      "10.0% 500 0.7399368286132812 0:13\n",
      "15.0% 750 1.3746929168701172 0:11\n",
      "20.0% 1000 2.0195116996765137 0:10\n",
      "25.0% 1250 2.654378890991211 0:09\n",
      "30.0% 1500 3.294260025024414 0:09\n",
      "35.0% 1750 3.9299159049987793 0:08\n",
      "40.0% 2000 4.569931745529175 0:07\n",
      "45.0% 2250 5.203723669052124 0:07\n",
      "50.0% 2500 5.844226837158203 0:06\n",
      "55.0% 2750 6.491922855377197 0:05\n",
      "60.0% 3000 7.129396915435791 0:05\n",
      "65.0% 3250 7.763193845748901 0:04\n",
      "70.0% 3500 8.402748823165894 0:03\n",
      "75.0% 3750 9.031781911849976 0:03\n",
      "80.0% 4000 9.670560836791992 0:02\n",
      "85.0% 4250 10.303680896759033 0:01\n",
      "90.0% 4500 10.940226793289185 0:01\n",
      "95.0% 4750 11.571038007736206 0:00\n",
      "100.0% 5000 12.208492755889893 0:00\n"
     ]
    }
   ],
   "source": [
    "### 8. Run MD\n",
    "simulation.step(totalSteps)"
   ]
  },
  {
   "cell_type": "code",
   "execution_count": 6,
   "id": "7effcfab",
   "metadata": {},
   "outputs": [
    {
     "data": {
      "application/vnd.jupyter.widget-view+json": {
       "model_id": "60e7b65fd62b4648ad697555e671cb89",
       "version_major": 2,
       "version_minor": 0
      },
      "text/plain": [
       "NGLWidget(max_frame=499)"
      ]
     },
     "metadata": {},
     "output_type": "display_data"
    },
    {
     "data": {
      "application/vnd.jupyter.widget-view+json": {
       "model_id": "5183e38313ec4540b4d78a28d5529bc1",
       "version_major": 2,
       "version_minor": 0
      },
      "text/plain": [
       "Tab(children=(Box(children=(Box(children=(Box(children=(Label(value='step'), IntSlider(value=1, min=-100)), la…"
      ]
     },
     "metadata": {},
     "output_type": "display_data"
    }
   ],
   "source": [
    "### 9. Visualization\n",
    "sys = md.Universe(\"water.pdb\", 'traj.dcd')\n",
    "view = ng.show_mdanalysis(sys, gui=True)\n",
    "view.center()\n",
    "view.representations = [\n",
    "    {\"type\": \"ball+stick\", \"params\": {\"sele\": \"all\"}}\n",
    "]\n",
    "view"
   ]
  },
  {
   "cell_type": "code",
   "execution_count": 7,
   "id": "2cfbd685",
   "metadata": {},
   "outputs": [
    {
     "name": "stdout",
     "output_type": "stream",
     "text": [
      "   #\"Step\"  Time (ps)  Potential Energy (kJ/mole)  Temperature (K)  \\\n",
      "0       10       0.02               -10001.713926      1378.834284   \n",
      "1       20       0.04                -9270.096739      1275.514724   \n",
      "2       30       0.06                -9250.784239      1265.561308   \n",
      "3       40       0.08                -9027.460020      1232.180927   \n",
      "4       50       0.10                -9000.042051      1224.659897   \n",
      "\n",
      "   Box Volume (nm^3)  Density (g/mL)  \n",
      "0              9.261        0.959378  \n",
      "1              9.261        0.959378  \n",
      "2              9.261        0.959378  \n",
      "3              9.261        0.959378  \n",
      "4              9.261        0.959378  \n",
      "     #\"Step\"  Time (ps)  Potential Energy (kJ/mole)  Temperature (K)  \\\n",
      "495     4960       9.92               -10195.369528       534.580930   \n",
      "496     4970       9.94                -9981.908590       504.348745   \n",
      "497     4980       9.96               -10084.052970       516.922261   \n",
      "498     4990       9.98               -10204.181876       530.765739   \n",
      "499     5000      10.00               -10249.799601       534.267256   \n",
      "\n",
      "     Box Volume (nm^3)  Density (g/mL)  \n",
      "495          10.617229        0.836828  \n",
      "496          10.617229        0.836828  \n",
      "497          10.614394        0.837052  \n",
      "498          10.614394        0.837052  \n",
      "499          10.531952        0.843604  \n"
     ]
    }
   ],
   "source": [
    "### 10. Load the thermodynamic data in a dataframe\n",
    "data = pd.read_csv(\"thermo.csv\")\n",
    "print(data.head())\n",
    "print(data.tail())"
   ]
  },
  {
   "cell_type": "code",
   "execution_count": 11,
   "id": "eb22e4aa",
   "metadata": {},
   "outputs": [
    {
     "data": {
      "image/png": "[encoded data removed]",
      "text/plain": [
       "<Figure size 432x288 with 1 Axes>"
      ]
     },
     "metadata": {
      "needs_background": "light"
     },
     "output_type": "display_data"
    }
   ],
   "source": [
    "x = data[\"Time (ps)\"]\n",
    "y = data[\"Box Volume (nm^3)\"]\n",
    "plt.plot(x,y)\n",
    "plt.show()"
   ]
  }
 ],
 "metadata": {
  "kernelspec": {
   "display_name": "Python 3 (ipykernel)",
   "language": "python",
   "name": "python3"
  },
  "language_info": {
   "codemirror_mode": {
    "name": "ipython",
    "version": 3
   },
   "file_extension": ".py",
   "mimetype": "text/x-python",
   "name": "python",
   "nbconvert_exporter": "python",
   "pygments_lexer": "ipython3",
   "version": "3.9.7"
  }
 },
 "nbformat": 4,
 "nbformat_minor": 5
}
